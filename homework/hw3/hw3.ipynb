{
 "cells": [
  {
   "cell_type": "markdown",
   "metadata": {},
   "source": [
    "# Homework 3: Functional file parsing"
   ]
  },
  {
   "cell_type": "markdown",
   "metadata": {},
   "source": [
    "---\n",
    "## Topic areas\n",
    "* Functions\n",
    "* I/O operations\n",
    "* String operations\n",
    "* Data structures"
   ]
  },
  {
   "cell_type": "markdown",
   "metadata": {},
   "source": [
    "---\n",
    "## Background"
   ]
  },
  {
   "cell_type": "markdown",
   "metadata": {},
   "source": [
    "[ClinVar][1] is a freely accessible, public archive of reports of the relationships among human variations and phenotypes, with supporting evidence.\n",
    "\n",
    "For this assignment, you will be working with a Variant Call Format (VCF) file. Below are the necessary details regarding this assignment, but consider looking [here][2] for a more detailed description of the file format. The purpose of the VCF format is to store gene sequence variations in a plain-text form.\n",
    "\n",
    "The data you will be working with (`clinvar_20190923_short.vcf`) contains several allele frequencies from different databases. The one to look for in this assignment is from ExAC database. More information about the database can be found [here][3].\n",
    "\n",
    "\n",
    "### The file format\n",
    "The beginning of every VCF file contains various sets of information:\n",
    "* Meta-information (details about the experiment or configuration) lines start with **`##`**\n",
    "    * These lines are helpful in understanding specialized keys found in the `INFO` column. It is in these sections that one can find:\n",
    "        * The description of the key\n",
    "        * The data type of the values\n",
    "        * The default value of the values\n",
    "* Header lines (column names) start with **`#`**\n",
    "\n",
    "From there on, each line is made up of tab (`\\t`) separated values that make up eight (8) columns. Those columns are:\n",
    "1. CHROM (chromosome)\n",
    "2. POS (base pair position of the variant)\n",
    "3. ID (identifier if applicable; `.` if not applicable/missing)\n",
    "4. REF (reference base)\n",
    "5. ALT (alternate base(s): comma (`,`) separated if applicable)\n",
    "6. QUAL (Phred-scaled quality score; `.` if not applicable/missing)\n",
    "7. FILTER (filter status; `.` if not applicable/missing)\n",
    "8. INFO (any additional information about the variant)\n",
    "    * Semi-colon (`;`) separated key-value pairs\n",
    "    * Key-value pairs are equal sign (`=`) separated (key on the left, value on the right)\n",
    "    * If a key has multiple values, the values are comma (`,`) separated\n",
    "\n",
    "#### Homework specific information\n",
    "The given data (`clinvar_20190923_short.vcf`) is a specialized form of the VCF file. As such, there are some additional details to consider when parsing for this assignment. You will be expected to consider two (2) special types of keys:\n",
    "1. The `AF_EXAC` key that describes the allele frequencies from the ExAC database\n",
    "    > `##INFO=<ID=AF_EXAC,Number=1,Type=Float,Description=\"allele frequencies from ExAC\">`\n",
    "    * The data included are `float`ing point numbers\n",
    "2. The `CLNDN` key that gives all the names the given variant is associated with\n",
    "    > `##INFO=<ID=CLNDN,Number=.,Type=String,Description=\"ClinVar's preferred disease name for the concept specified by disease identifiers in CLNDISDB\">`\n",
    "    * The data are`str`ings. **However**, if there are multiple diseases associated with a given variant, the diseases are pipe (`|`) separated (there are 178 instances of this case) \n",
    "\n",
    "---\n",
    "[1]: https://www.ncbi.nlm.nih.gov/clinvar/intro/\n",
    "[2]: https://samtools.github.io/hts-specs/VCFv4.3.pdf\n",
    "[3]: http://exac.broadinstitute.org"
   ]
  },
  {
   "cell_type": "markdown",
   "metadata": {},
   "source": [
    "## Instructions"
   ]
  },
  {
   "cell_type": "markdown",
   "metadata": {},
   "source": [
    "It is safe to assume that this homework will take a considerable amount of string operations to complete. But, it is important to note that this skill is _incredibly_ powerful in bioinformatics. Many dense, plain-text files exist in the bioinformatic domain, and mastering the ability to parse them is integral to many people's research. While the format we see here has a very clinical use case, other formats exist that you will likely encounter: CSV, TSV, SAM, GFF3, etc.\n",
    "\n",
    "Therefore, we <u>***STRONGLY ENCOURAGE***</u> you to:\n",
    "* Come to office hours \n",
    "* Schedule one-on-one meetings\n",
    "* Post to GitHub\n",
    "* Ask a friend \n",
    "\n",
    "Ensure you _truly_ understand the concepts therein. The concepts here are not esoteric, but very practical. Also, **ask early, ask often**.\n",
    "\n",
    "That said, on to the instructions for the assignment.\n",
    "\n",
    "### Expectations\n",
    "You are expected to:\n",
    "1. Move the `clinvar_20190923_short.vcf` to the same folder as this notebook\n",
    "1. Write a function called `parse_line` that:\n",
    "    1. Takes a `str`ing as an argument\n",
    "    2. Extract the `AF_EXAC` data to determine the rarity of the variant\n",
    "        1. If the disease is rare:\n",
    "            * `return` an a `list` of associated diseases\n",
    "        2. If the disease is not rare:\n",
    "            * `return` an empty `list`\n",
    "2. Write another function called `read_file` that:\n",
    "    1. Takes a `str`ing as an argument representing the file to be opened\n",
    "    2. Open the file\n",
    "    3. Read the file _line by line_.\n",
    "        * **Note**: You are expected to do this one line at a time. The reasoning is that if the file is sufficiently large, you may not have the memory available to hold it. So, **do not** use `readlines()`! \n",
    "           * If you do, your grade will be reduced\n",
    "    4. Passes the line to `parse_line`\n",
    "    5. Use a dictionary to count the results given by `parse_line` to keep a running tally (or count) of the number of times a specific disease is observed\n",
    "    6. `return` that dictionary\n",
    "3. `print` the results from `read_file` when it is complete\n",
    "4. Each function must have its own cell\n",
    "5. The code to run all of your functions must have its own cell"
   ]
  },
  {
   "cell_type": "markdown",
   "metadata": {},
   "source": [
    "---\n",
    "## Academic Honor Code\n",
    "In accordance with Rackham's Academic Misconduct Policy; upon submission of your assignment, you (the student) are indicating acceptance of the following statement:\n",
    "\n",
    "> “I pledge that this submission is solely my own work.”\n",
    "\n",
    "As such, the instructors reserve the right to process any and all source code therein contained within the submitted notebooks with source code plagiarism detection software.\n",
    "\n",
    "Any violations of the this agreement will result in swift, sure, and significant punishment."
   ]
  },
  {
   "cell_type": "markdown",
   "metadata": {},
   "source": [
    "---\n",
    "## Due date\n",
    "This assignment is due **October 7th, 2019 by Noon (12 PM)**"
   ]
  },
  {
   "cell_type": "markdown",
   "metadata": {},
   "source": [
    "---\n",
    "## Submission\n",
    "> `<uniqname>_hw3.ipynb`\n",
    "\n",
    "### Example\n",
    "> `mdsherm_hw3.ipynb`\n",
    "\n",
    "We will *only* grade the most recent submission of your exam."
   ]
  },
  {
   "cell_type": "markdown",
   "metadata": {},
   "source": [
    "---\n",
    "## Late Policy\n",
    "Each submission will receive a **10%** penalty per day (up to three days) that the assignment is late.\n",
    "\n",
    "After that, the student will receive a **0** for your homework."
   ]
  },
  {
   "cell_type": "markdown",
   "metadata": {},
   "source": [
    "---\n",
    "## Good luck and code responsibly!\n",
    "\n",
    "---"
   ]
  },
  {
   "cell_type": "code",
   "execution_count": null,
   "metadata": {},
   "outputs": [],
   "source": [
    "# Define your parse_line function here\n"
   ]
  },
  {
   "cell_type": "code",
   "execution_count": null,
   "metadata": {},
   "outputs": [],
   "source": [
    "# Define your read_file function here\n"
   ]
  },
  {
   "cell_type": "markdown",
   "metadata": {},
   "source": [
    "---"
   ]
  },
  {
   "cell_type": "code",
   "execution_count": null,
   "metadata": {},
   "outputs": [],
   "source": [
    "# DO NOT MODIFY THIS CELL!\n",
    "# If your code works as expected, this cell should print the results\n",
    "from pprint import pprint\n",
    "pprint(read_file('clinvar_20190923_short.vcf'))"
   ]
  }
 ],
 "metadata": {
  "kernelspec": {
   "display_name": "Python 3",
   "language": "python",
   "name": "python3"
  },
  "language_info": {
   "codemirror_mode": {
    "name": "ipython",
    "version": 3
   },
   "file_extension": ".py",
   "mimetype": "text/x-python",
   "name": "python",
   "nbconvert_exporter": "python",
   "pygments_lexer": "ipython3",
   "version": "3.7.3"
  }
 },
 "nbformat": 4,
 "nbformat_minor": 4
}
