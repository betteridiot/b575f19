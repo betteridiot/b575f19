{
 "cells": [
  {
   "cell_type": "markdown",
   "metadata": {},
   "source": [
    "# Homework 7: Class Code Review\n",
    "\n",
    "---\n",
    "## Topic Areas\n",
    "* Code review\n",
    "* Object-oriented understanding"
   ]
  },
  {
   "cell_type": "markdown",
   "metadata": {},
   "source": [
    "---\n",
    "# Introduction\n",
    "Code review is often a highly misunderstood skill. This is because code review requires the ability to put yourself in the position of someone else and think like they thought. As a reader, you have to make assumptions about what the code is doing and why it was doing it.\n",
    "\n",
    "Code review requires a fair bit of problem solving skills and even more understanding about the code. It is also through code review that we begin to develop our skillsets for creating informative variable names, meaningful inline comments and docstrings, and more organized code. This is because we often wish that the code we have read had these kinds of features.\n",
    "\n",
    "It is good to code review."
   ]
  },
  {
   "cell_type": "markdown",
   "metadata": {},
   "source": [
    "---\n",
    "# Instructions\n",
    "This homework is much more straight forward than others in that it does not have a strict programmatic task. However, it is also vague in that it will require creative thinking and problem solving skills.\n",
    "\n",
    "You are required to identify **one** <u>Python package that is used in your domain</u> (e.g. genomics, transcriptomics, proteomics, epidemiology, etc). There are lot of places to look, so here are a couple to get you started:\n",
    "* [PyPI](https://pypi.org/) (Python Package Index, pronounced \"Pi Pee Eye\")\n",
    "* [conda-forge](https://conda-forge.org/feedstocks/)\n",
    "* [Anaconda](https://anaconda.org/anaconda)\n",
    "* [Bioconda](https://anaconda.org/bioconda/)"
   ]
  },
  {
   "cell_type": "markdown",
   "metadata": {},
   "source": [
    "With this package that _you identify_, you must report the following items:\n",
    "1. What the package is?\n",
    "1. What is URL to your identified package's code base?\n",
    "1. Why did you select this package?\n",
    "1. What version(s) of Python does it support?\n",
    "1. What operating system(s) does it support?\n",
    "1. What are the package's dependencies? That is, what other packages does your identified package require to work?\n",
    "1. Identify a _single_ `class` object\n",
    "    1. Where is it in the code base? (What file is it found in and what line number does it start)\n",
    "    1. What are the ways it can be instantiated? That is, what do you have to do to use it?\n",
    "    1. Does it inherit from anything? If so, what?\n",
    "    1. In <u>your own words</u> (not code), what does the object do or what is its purpose?\n",
    "    1. What functionality would you add to this object that you would need specifically for your own research?\n",
    "        * You **cannot** write \"nothing\" or \"none\", you _must_ write something meaningful here"
   ]
  },
  {
   "cell_type": "markdown",
   "metadata": {},
   "source": [
    "---\n",
    "## Academic Honor Code\n",
    "In accordance with Rackham's Academic Misconduct Policy; upon submission of your assignment, you (the student) are indicating acceptance of the following statement:\n",
    "\n",
    "> “I pledge that this submission is solely my own work.”\n",
    "\n",
    "As such, the instructors reserve the right to process any and all source code therein contained within the submitted notebooks with source code plagiarism detection software.\n",
    "\n",
    "Any violations of the this agreement will result in swift, sure, and significant punishment."
   ]
  },
  {
   "cell_type": "markdown",
   "metadata": {},
   "source": [
    "---\n",
    "## Due date\n",
    "This assignment is due **October 11th, 2019 by Noon (12 PM)**"
   ]
  },
  {
   "cell_type": "markdown",
   "metadata": {},
   "source": [
    "---\n",
    "## Submission\n",
    "> `<uniqname>_hw7.ipynb`\n",
    "\n",
    "### Example\n",
    "> `mdsherm_hw7.ipynb`\n",
    "\n",
    "We will *only* grade the most recent submission of your homework."
   ]
  },
  {
   "cell_type": "markdown",
   "metadata": {},
   "source": [
    "---\n",
    "## Late Policy\n",
    "Each submission will receive a **10%** penalty per day (up to three days) that the assignment is late.\n",
    "\n",
    "After that, the student will receive a **0** for the exam."
   ]
  },
  {
   "cell_type": "markdown",
   "metadata": {},
   "source": [
    "---\n",
    "## Good luck and code responsibly!\n",
    "\n",
    "---"
   ]
  },
  {
   "cell_type": "markdown",
   "metadata": {},
   "source": [
    "# Use the following Markdown cells to report your results"
   ]
  },
  {
   "cell_type": "markdown",
   "metadata": {},
   "source": [
    "## What is your identified package?"
   ]
  },
  {
   "cell_type": "markdown",
   "metadata": {},
   "source": [
    "_\\<Double-click here and write your answer>_"
   ]
  },
  {
   "cell_type": "markdown",
   "metadata": {},
   "source": [
    "---\n",
    "## What is URL to your identified package's code base?"
   ]
  },
  {
   "cell_type": "markdown",
   "metadata": {},
   "source": [
    "_\\<Double-click here and write your answer>_"
   ]
  },
  {
   "cell_type": "markdown",
   "metadata": {},
   "source": [
    "---\n",
    "## Why did you select this package?"
   ]
  },
  {
   "cell_type": "markdown",
   "metadata": {},
   "source": [
    "_\\<Double-click here and write your answer>_"
   ]
  },
  {
   "cell_type": "markdown",
   "metadata": {},
   "source": [
    "---\n",
    "## What version(s) of Python does this package support?"
   ]
  },
  {
   "cell_type": "markdown",
   "metadata": {},
   "source": [
    "_\\<Double-click here and write your answer>_"
   ]
  },
  {
   "cell_type": "markdown",
   "metadata": {},
   "source": [
    "---\n",
    "## What operating system(s) does it support? "
   ]
  },
  {
   "cell_type": "markdown",
   "metadata": {},
   "source": [
    "_\\<Double-click here and write your answer>_"
   ]
  },
  {
   "cell_type": "markdown",
   "metadata": {},
   "source": [
    "---\n",
    "## What are the package's dependencies?"
   ]
  },
  {
   "cell_type": "markdown",
   "metadata": {},
   "source": [
    "_\\<Double-click here and write your answer>_"
   ]
  },
  {
   "cell_type": "markdown",
   "metadata": {},
   "source": [
    "---\n",
    "## What is the `class` object that you identified?"
   ]
  },
  {
   "cell_type": "markdown",
   "metadata": {},
   "source": [
    "_\\<Double-click here and write your answer>_"
   ]
  },
  {
   "cell_type": "markdown",
   "metadata": {},
   "source": [
    "### Where is this object found in the code base?\n",
    "1. What file is it found in?\n",
    "1. what line number does it start?"
   ]
  },
  {
   "cell_type": "markdown",
   "metadata": {},
   "source": [
    "_\\<Double-click here and write your answer>_"
   ]
  },
  {
   "cell_type": "markdown",
   "metadata": {},
   "source": [
    "### What are the ways it can be instantiated?"
   ]
  },
  {
   "cell_type": "markdown",
   "metadata": {},
   "source": [
    "_\\<Double-click here and write your answer>_"
   ]
  },
  {
   "cell_type": "markdown",
   "metadata": {},
   "source": [
    "### Does it inherit from anything? If so, what?"
   ]
  },
  {
   "cell_type": "markdown",
   "metadata": {},
   "source": [
    "_\\<Double-click here and write your answer>_"
   ]
  },
  {
   "cell_type": "markdown",
   "metadata": {},
   "source": [
    "### In your own words, what does the object do or what is its purpose?"
   ]
  },
  {
   "cell_type": "markdown",
   "metadata": {},
   "source": [
    "_\\<Double-click here and write your answer>_"
   ]
  },
  {
   "cell_type": "markdown",
   "metadata": {},
   "source": [
    "### What functionality would you add to this object?\n",
    "You **cannot** write \"nothing\" or \"None\". You _must_ write something meaningful here."
   ]
  },
  {
   "cell_type": "markdown",
   "metadata": {},
   "source": [
    "_\\<Double-click here and write your answer>_"
   ]
  }
 ],
 "metadata": {
  "kernelspec": {
   "display_name": "Python 3",
   "language": "python",
   "name": "python3"
  },
  "language_info": {
   "codemirror_mode": {
    "name": "ipython",
    "version": 3
   },
   "file_extension": ".py",
   "mimetype": "text/x-python",
   "name": "python",
   "nbconvert_exporter": "python",
   "pygments_lexer": "ipython3",
   "version": "3.7.3"
  }
 },
 "nbformat": 4,
 "nbformat_minor": 4
}
