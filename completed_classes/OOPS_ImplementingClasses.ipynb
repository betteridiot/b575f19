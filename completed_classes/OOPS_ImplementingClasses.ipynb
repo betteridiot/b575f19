{
 "cells": [
  {
   "cell_type": "markdown",
   "metadata": {},
   "source": [
    "# Warm-up\n",
    "1. Review this code for 1 minute and try to hypothesize the following 3 things:\n",
    "    1. The function of `__len__`\n",
    "    1. The function of `__getitem__`\n",
    "    1. The reason for naming its internal attribute `_cards` as such\n",
    "1. Attempt to come to a consensus with someone else"
   ]
  },
  {
   "cell_type": "markdown",
   "metadata": {},
   "source": [
    "<img src='../assets/FrenchDeck.png' width=700 align='left'/>"
   ]
  },
  {
   "cell_type": "markdown",
   "metadata": {},
   "source": [
    "---\n",
    "# Learning Objectives\n",
    "1. Students will be able to compose a list of \"pros\" and \"cons\" for private attributes\n",
    "1. Students will be able to create an object interface\n",
    "1. Students will be able to be expand the implementation of `class`es by defining \"dunder\" methods"
   ]
  },
  {
   "cell_type": "markdown",
   "metadata": {},
   "source": [
    "---\n",
    "# Object-Oriented Programming Seminar: Implementing Classes"
   ]
  },
  {
   "cell_type": "markdown",
   "metadata": {},
   "source": [
    "Today we will learn how to sculpt/design the basic `class`es we learned how to make last class into a more fully featured object with a _well-defined_ **interface**."
   ]
  },
  {
   "cell_type": "markdown",
   "metadata": {},
   "source": [
    "---\n",
    "# Last Class\n",
    "For a quick reminder of where we left off last class"
   ]
  },
  {
   "cell_type": "code",
   "execution_count": 1,
   "metadata": {
    "hidePrompt": true
   },
   "outputs": [],
   "source": [
    "from collections import Counter\n",
    "\n",
    "# Pileup Object\n",
    "class Pileup:\n",
    "    def __init__(self):\n",
    "        self.depth = 0\n",
    "        self.counts = Counter()\n",
    "    \n",
    "    def consensus(self):\n",
    "        return self.counts.most_common(1)[0]"
   ]
  },
  {
   "cell_type": "code",
   "execution_count": 2,
   "metadata": {},
   "outputs": [],
   "source": [
    "# Create a PileUp object\n",
    "pu = Pileup()"
   ]
  },
  {
   "cell_type": "code",
   "execution_count": 3,
   "metadata": {},
   "outputs": [],
   "source": [
    "# Update the depths and counts of the object\n",
    "pu.depth += 1\n",
    "pu.counts.update('HALLOWEEN')"
   ]
  },
  {
   "cell_type": "code",
   "execution_count": 5,
   "metadata": {},
   "outputs": [
    {
     "name": "stdout",
     "output_type": "stream",
     "text": [
      "1 Counter({'L': 2, 'E': 2, 'H': 1, 'A': 1, 'O': 1, 'W': 1, 'N': 1}) ('L', 2)\n"
     ]
    }
   ],
   "source": [
    "# Let's see what we have\n",
    "print(pu.depth, pu.counts, pu.consensus())"
   ]
  },
  {
   "cell_type": "code",
   "execution_count": 6,
   "metadata": {},
   "outputs": [
    {
     "name": "stdout",
     "output_type": "stream",
     "text": [
      "<__main__.Pileup object at 0x7fbdccedfb70>\n"
     ]
    }
   ],
   "source": [
    "print(pu)"
   ]
  },
  {
   "cell_type": "markdown",
   "metadata": {},
   "source": [
    "---\n",
    "# Private variables/attributes"
   ]
  },
  {
   "cell_type": "markdown",
   "metadata": {},
   "source": [
    "<img src='../assets/dayne-topkin-0FOOcD63bek-unsplash.jpg' width=700 />"
   ]
  },
  {
   "cell_type": "markdown",
   "metadata": {},
   "source": [
    "In Python, we can do just about anything to anything and get away with it. Case in point: \n",
    "> Can we overwrite the meaning of `print`, `str`, or `sum`?\n",
    "\n",
    "Now, while we _can_ do whatever we want, _should_ we do it?\n",
    "\n",
    "Sometimes, as developers (yes, that is what you are now), we may want to hide or restrict what our end-users can do. \n",
    "This can be for many reasons, but chief among them are to _abstract_ the details for clarity and to prevent them from\n",
    "_easily_ corrupting data.\n",
    "\n",
    "This is where **Private Variables** come into play"
   ]
  },
  {
   "cell_type": "code",
   "execution_count": 14,
   "metadata": {
    "hidePrompt": true
   },
   "outputs": [],
   "source": [
    "from class_demo import Pileup\n",
    "\n",
    "# Now use Pileup\n",
    "pu2 = Pileup()"
   ]
  },
  {
   "cell_type": "code",
   "execution_count": 15,
   "metadata": {},
   "outputs": [
    {
     "data": {
      "text/plain": [
       "['consensus', 'counts', 'depth', 'depth_offset', 'maf', 'to_dict', 'update']"
      ]
     },
     "execution_count": 15,
     "metadata": {},
     "output_type": "execute_result"
    }
   ],
   "source": [
    "dir(pu2)"
   ]
  },
  {
   "cell_type": "code",
   "execution_count": 16,
   "metadata": {
    "scrolled": true
   },
   "outputs": [
    {
     "name": "stdout",
     "output_type": "stream",
     "text": [
      "Help on Pileup in module class_demo object:\n",
      "\n",
      "class Pileup(builtins.object)\n",
      " |  Pileup(depth_offset=0, counts=None)\n",
      " |  \n",
      " |  An object that represents the observed bases and their counts at a specific position\n",
      " |  \n",
      " |  Attributes:\n",
      " |      depth_offset (int): how depth should be offset for normalization (default: 0)\n",
      " |      counts (collections.Counter): Observed bases and their number of occurrences (default: None)\n",
      " |      depth (int): Sum of all observed base counts\n",
      " |      consensus (collections.namedtuple or None): The most common base and its number of occurrences\n",
      " |      maf (float or None): the mean allele frequency of the consensus base versus depth\n",
      " |  \n",
      " |  Methods defined here:\n",
      " |  \n",
      " |  __eq__(self, other)\n",
      " |      Return self==value.\n",
      " |  \n",
      " |  __init__(self, depth_offset=0, counts=None)\n",
      " |      Initialize self.  See help(type(self)) for accurate signature.\n",
      " |  \n",
      " |  __len__(self)\n",
      " |  \n",
      " |  __repr__(self)\n",
      " |      Return repr(self).\n",
      " |  \n",
      " |  __str__(self)\n",
      " |      Return str(self).\n",
      " |  \n",
      " |  to_dict(self)\n",
      " |  \n",
      " |  update(self, observation)\n",
      " |      Update the observed base counts\n",
      " |      \n",
      " |      Args:\n",
      " |          observation (str): the observed base at the given position\n",
      " |      \n",
      " |      Usage:\n",
      " |          >>> pile = Pileup()\n",
      " |          >>> pile.update('A')\n",
      " |  \n",
      " |  ----------------------------------------------------------------------\n",
      " |  Class methods defined here:\n",
      " |  \n",
      " |  __dir__() from builtins.type\n",
      " |      Default dir() implementation.\n",
      " |  \n",
      " |  ----------------------------------------------------------------------\n",
      " |  Data descriptors defined here:\n",
      " |  \n",
      " |  consensus\n",
      " |      Read-only\n",
      " |  \n",
      " |  counts\n",
      " |      Read-only\n",
      " |  \n",
      " |  depth\n",
      " |  \n",
      " |  depth_offset\n",
      " |  \n",
      " |  maf\n",
      " |      Read-only\n",
      " |  \n",
      " |  ----------------------------------------------------------------------\n",
      " |  Data and other attributes defined here:\n",
      " |  \n",
      " |  __hash__ = None\n",
      "\n"
     ]
    }
   ],
   "source": [
    "help(pu2)"
   ]
  },
  {
   "cell_type": "code",
   "execution_count": 11,
   "metadata": {},
   "outputs": [
    {
     "ename": "AttributeError",
     "evalue": "can't set attribute",
     "output_type": "error",
     "traceback": [
      "\u001b[0;31m---------------------------------------------------------------------------\u001b[0m",
      "\u001b[0;31mAttributeError\u001b[0m                            Traceback (most recent call last)",
      "\u001b[0;32m<ipython-input-11-19b22f7bef95>\u001b[0m in \u001b[0;36m<module>\u001b[0;34m\u001b[0m\n\u001b[0;32m----> 1\u001b[0;31m \u001b[0mpu2\u001b[0m\u001b[0;34m.\u001b[0m\u001b[0mdepth\u001b[0m \u001b[0;34m+=\u001b[0m \u001b[0;36m1\u001b[0m\u001b[0;34m\u001b[0m\u001b[0;34m\u001b[0m\u001b[0m\n\u001b[0m",
      "\u001b[0;31mAttributeError\u001b[0m: can't set attribute"
     ]
    }
   ],
   "source": [
    "pu2.depth += 1"
   ]
  },
  {
   "cell_type": "code",
   "execution_count": 4,
   "metadata": {},
   "outputs": [
    {
     "data": {
      "text/plain": [
       "\u001b[0;32mclass\u001b[0m \u001b[0mPileup\u001b[0m\u001b[0;34m:\u001b[0m\u001b[0;34m\u001b[0m\n",
       "\u001b[0;34m\u001b[0m    \u001b[0;34m\"\"\"An object that represents the observed bases and their counts at a specific position\u001b[0m\n",
       "\u001b[0;34m    \u001b[0m\n",
       "\u001b[0;34m    Attributes:\u001b[0m\n",
       "\u001b[0;34m        depth_offset (int): how depth should be offset for normalization (default: 0)\u001b[0m\n",
       "\u001b[0;34m        counts (collections.Counter): Observed bases and their number of occurrences (default: None)\u001b[0m\n",
       "\u001b[0;34m        depth (int): Sum of all observed base counts\u001b[0m\n",
       "\u001b[0;34m        consensus (collections.namedtuple or None): The most common base and its number of occurrences\u001b[0m\n",
       "\u001b[0;34m        maf (float or None): the mean allele frequency of the consensus base versus depth\u001b[0m\n",
       "\u001b[0;34m    \"\"\"\u001b[0m\u001b[0;34m\u001b[0m\n",
       "\u001b[0;34m\u001b[0m    \u001b[0;34m\u001b[0m\n",
       "\u001b[0;34m\u001b[0m    \u001b[0m__slots__\u001b[0m \u001b[0;34m=\u001b[0m \u001b[0;34m'depth_offset _counts'\u001b[0m\u001b[0;34m.\u001b[0m\u001b[0msplit\u001b[0m\u001b[0;34m(\u001b[0m\u001b[0;34m)\u001b[0m\u001b[0;34m\u001b[0m\n",
       "\u001b[0;34m\u001b[0m    \u001b[0;34m\u001b[0m\n",
       "\u001b[0;34m\u001b[0m    \u001b[0;32mdef\u001b[0m \u001b[0m__init__\u001b[0m\u001b[0;34m(\u001b[0m\u001b[0mself\u001b[0m\u001b[0;34m,\u001b[0m \u001b[0mdepth_offset\u001b[0m \u001b[0;34m=\u001b[0m \u001b[0;36m0\u001b[0m\u001b[0;34m,\u001b[0m \u001b[0mcounts\u001b[0m \u001b[0;34m=\u001b[0m \u001b[0;32mNone\u001b[0m\u001b[0;34m)\u001b[0m\u001b[0;34m:\u001b[0m\u001b[0;34m\u001b[0m\n",
       "\u001b[0;34m\u001b[0m        \u001b[0mself\u001b[0m\u001b[0;34m.\u001b[0m\u001b[0mdepth_offset\u001b[0m \u001b[0;34m=\u001b[0m \u001b[0mdepth_offset\u001b[0m\u001b[0;34m\u001b[0m\n",
       "\u001b[0;34m\u001b[0m        \u001b[0;32mif\u001b[0m \u001b[0mcounts\u001b[0m \u001b[0;32mis\u001b[0m \u001b[0;32mNone\u001b[0m\u001b[0;34m:\u001b[0m\u001b[0;34m\u001b[0m\n",
       "\u001b[0;34m\u001b[0m            \u001b[0mself\u001b[0m\u001b[0;34m.\u001b[0m\u001b[0m_counts\u001b[0m \u001b[0;34m=\u001b[0m \u001b[0mCounter\u001b[0m\u001b[0;34m(\u001b[0m\u001b[0;34m)\u001b[0m\u001b[0;34m\u001b[0m\n",
       "\u001b[0;34m\u001b[0m        \u001b[0;32melse\u001b[0m\u001b[0;34m:\u001b[0m\u001b[0;34m\u001b[0m\n",
       "\u001b[0;34m\u001b[0m            \u001b[0;32mif\u001b[0m \u001b[0misinstance\u001b[0m\u001b[0;34m(\u001b[0m\u001b[0mcounts\u001b[0m\u001b[0;34m,\u001b[0m \u001b[0mCounter\u001b[0m\u001b[0;34m)\u001b[0m\u001b[0;34m:\u001b[0m\u001b[0;34m\u001b[0m\n",
       "\u001b[0;34m\u001b[0m                \u001b[0mself\u001b[0m\u001b[0;34m.\u001b[0m\u001b[0m_counts\u001b[0m \u001b[0;34m=\u001b[0m \u001b[0mcounts\u001b[0m\u001b[0;34m\u001b[0m\n",
       "\u001b[0;34m\u001b[0m            \u001b[0;32melse\u001b[0m\u001b[0;34m:\u001b[0m\u001b[0;34m\u001b[0m\n",
       "\u001b[0;34m\u001b[0m                \u001b[0;32mraise\u001b[0m \u001b[0mValueError\u001b[0m\u001b[0;34m(\u001b[0m\u001b[0;34m'counts must be a collections.Counter'\u001b[0m\u001b[0;34m)\u001b[0m\u001b[0;34m\u001b[0m\n",
       "\u001b[0;34m\u001b[0m    \u001b[0;34m\u001b[0m\n",
       "\u001b[0;34m\u001b[0m    \u001b[0;34m@\u001b[0m\u001b[0mproperty\u001b[0m\u001b[0;34m\u001b[0m\n",
       "\u001b[0;34m\u001b[0m    \u001b[0;32mdef\u001b[0m \u001b[0mdepth\u001b[0m\u001b[0;34m(\u001b[0m\u001b[0mself\u001b[0m\u001b[0;34m)\u001b[0m\u001b[0;34m:\u001b[0m\u001b[0;34m\u001b[0m\n",
       "\u001b[0;34m\u001b[0m        \u001b[0;32mreturn\u001b[0m \u001b[0msum\u001b[0m\u001b[0;34m(\u001b[0m\u001b[0mself\u001b[0m\u001b[0;34m.\u001b[0m\u001b[0m_counts\u001b[0m\u001b[0;34m.\u001b[0m\u001b[0mvalues\u001b[0m\u001b[0;34m(\u001b[0m\u001b[0;34m)\u001b[0m\u001b[0;34m)\u001b[0m \u001b[0;34m+\u001b[0m \u001b[0mself\u001b[0m\u001b[0;34m.\u001b[0m\u001b[0mdepth_offset\u001b[0m\u001b[0;34m\u001b[0m\n",
       "\u001b[0;34m\u001b[0m    \u001b[0;34m\u001b[0m\n",
       "\u001b[0;34m\u001b[0m    \u001b[0;34m@\u001b[0m\u001b[0mproperty\u001b[0m\u001b[0;34m\u001b[0m\n",
       "\u001b[0;34m\u001b[0m    \u001b[0;32mdef\u001b[0m \u001b[0mconsensus\u001b[0m\u001b[0;34m(\u001b[0m\u001b[0mself\u001b[0m\u001b[0;34m)\u001b[0m\u001b[0;34m:\u001b[0m\u001b[0;34m\u001b[0m\n",
       "\u001b[0;34m\u001b[0m        \u001b[0;34m\"\"\"Read-only\"\"\"\u001b[0m\u001b[0;34m\u001b[0m\n",
       "\u001b[0;34m\u001b[0m        \u001b[0mconsensus\u001b[0m \u001b[0;34m=\u001b[0m \u001b[0mself\u001b[0m\u001b[0;34m.\u001b[0m\u001b[0m_counts\u001b[0m\u001b[0;34m.\u001b[0m\u001b[0mmost_common\u001b[0m\u001b[0;34m(\u001b[0m\u001b[0;36m1\u001b[0m\u001b[0;34m)\u001b[0m\u001b[0;34m\u001b[0m\n",
       "\u001b[0;34m\u001b[0m        \u001b[0;32mreturn\u001b[0m \u001b[0mConsensus\u001b[0m\u001b[0;34m(\u001b[0m\u001b[0;34m*\u001b[0m\u001b[0mconsensus\u001b[0m\u001b[0;34m[\u001b[0m\u001b[0;36m0\u001b[0m\u001b[0;34m]\u001b[0m\u001b[0;34m)\u001b[0m \u001b[0;32mif\u001b[0m \u001b[0mconsensus\u001b[0m \u001b[0;32melse\u001b[0m \u001b[0;32mNone\u001b[0m\u001b[0;34m\u001b[0m\n",
       "\u001b[0;34m\u001b[0m    \u001b[0;34m\u001b[0m\n",
       "\u001b[0;34m\u001b[0m    \u001b[0;34m@\u001b[0m\u001b[0mproperty\u001b[0m\u001b[0;34m\u001b[0m\n",
       "\u001b[0;34m\u001b[0m    \u001b[0;32mdef\u001b[0m \u001b[0mcounts\u001b[0m\u001b[0;34m(\u001b[0m\u001b[0mself\u001b[0m\u001b[0;34m)\u001b[0m\u001b[0;34m:\u001b[0m\u001b[0;34m\u001b[0m\n",
       "\u001b[0;34m\u001b[0m        \u001b[0;34m\"\"\"Read-only\"\"\"\u001b[0m\u001b[0;34m\u001b[0m\n",
       "\u001b[0;34m\u001b[0m        \u001b[0;32mreturn\u001b[0m \u001b[0mself\u001b[0m\u001b[0;34m.\u001b[0m\u001b[0m_counts\u001b[0m\u001b[0;34m\u001b[0m\n",
       "\u001b[0;34m\u001b[0m\u001b[0;34m\u001b[0m\n",
       "\u001b[0;34m\u001b[0m    \u001b[0;34m@\u001b[0m\u001b[0mproperty\u001b[0m\u001b[0;34m\u001b[0m\n",
       "\u001b[0;34m\u001b[0m    \u001b[0;32mdef\u001b[0m \u001b[0mmaf\u001b[0m\u001b[0;34m(\u001b[0m\u001b[0mself\u001b[0m\u001b[0;34m)\u001b[0m\u001b[0;34m:\u001b[0m\u001b[0;34m\u001b[0m\n",
       "\u001b[0;34m\u001b[0m        \u001b[0;34m\"\"\"Read-only\"\"\"\u001b[0m\u001b[0;34m\u001b[0m\n",
       "\u001b[0;34m\u001b[0m        \u001b[0;32mif\u001b[0m \u001b[0mself\u001b[0m\u001b[0;34m.\u001b[0m\u001b[0mconsensus\u001b[0m\u001b[0;34m:\u001b[0m\u001b[0;34m\u001b[0m\n",
       "\u001b[0;34m\u001b[0m            \u001b[0;32mreturn\u001b[0m \u001b[0mself\u001b[0m\u001b[0;34m.\u001b[0m\u001b[0mconsensus\u001b[0m\u001b[0;34m.\u001b[0m\u001b[0mcount\u001b[0m \u001b[0;34m/\u001b[0m \u001b[0mself\u001b[0m\u001b[0;34m.\u001b[0m\u001b[0mdepth\u001b[0m\u001b[0;34m\u001b[0m\n",
       "\u001b[0;34m\u001b[0m\u001b[0;34m\u001b[0m\n",
       "\u001b[0;34m\u001b[0m    \u001b[0;32mdef\u001b[0m \u001b[0mupdate\u001b[0m\u001b[0;34m(\u001b[0m\u001b[0mself\u001b[0m\u001b[0;34m,\u001b[0m \u001b[0mobservation\u001b[0m\u001b[0;34m)\u001b[0m\u001b[0;34m:\u001b[0m\u001b[0;34m\u001b[0m\n",
       "\u001b[0;34m\u001b[0m        \u001b[0;34m\"\"\"Update the observed base counts\u001b[0m\n",
       "\u001b[0;34m        \u001b[0m\n",
       "\u001b[0;34m        Args:\u001b[0m\n",
       "\u001b[0;34m            observation (str): the observed base at the given position\u001b[0m\n",
       "\u001b[0;34m        \u001b[0m\n",
       "\u001b[0;34m        Usage:\u001b[0m\n",
       "\u001b[0;34m            >>> pile = Pileup()\u001b[0m\n",
       "\u001b[0;34m            >>> pile.update('A')\u001b[0m\n",
       "\u001b[0;34m        \"\"\"\u001b[0m\u001b[0;34m\u001b[0m\n",
       "\u001b[0;34m\u001b[0m        \u001b[0mself\u001b[0m\u001b[0;34m.\u001b[0m\u001b[0m_counts\u001b[0m\u001b[0;34m.\u001b[0m\u001b[0mupdate\u001b[0m\u001b[0;34m(\u001b[0m\u001b[0mobservation\u001b[0m\u001b[0;34m)\u001b[0m\u001b[0;34m\u001b[0m\n",
       "\u001b[0;34m\u001b[0m    \u001b[0;34m\u001b[0m\n",
       "\u001b[0;34m\u001b[0m    \u001b[0;32mdef\u001b[0m \u001b[0m__str__\u001b[0m\u001b[0;34m(\u001b[0m\u001b[0mself\u001b[0m\u001b[0;34m)\u001b[0m\u001b[0;34m:\u001b[0m\u001b[0;34m\u001b[0m\n",
       "\u001b[0;34m\u001b[0m        \u001b[0;32mreturn\u001b[0m \u001b[0;34mf'Pileup(depth = {self.depth + self.depth_offset}, counts = {self.counts}, consensus = {self.consensus}, maf = {self.maf})'\u001b[0m\u001b[0;34m\u001b[0m\n",
       "\u001b[0;34m\u001b[0m    \u001b[0;34m\u001b[0m\n",
       "\u001b[0;34m\u001b[0m    \u001b[0;32mdef\u001b[0m \u001b[0m__repr__\u001b[0m\u001b[0;34m(\u001b[0m\u001b[0mself\u001b[0m\u001b[0;34m)\u001b[0m\u001b[0;34m:\u001b[0m\u001b[0;34m\u001b[0m\n",
       "\u001b[0;34m\u001b[0m        \u001b[0;32mreturn\u001b[0m \u001b[0;34mf'Pileup({\"depth_offset = \" + str(self.depth_offset) + \", \" if self.depth_offset else \"\"}counts = {self.counts})'\u001b[0m\u001b[0;34m\u001b[0m\n",
       "\u001b[0;34m\u001b[0m    \u001b[0;34m\u001b[0m\n",
       "\u001b[0;34m\u001b[0m    \u001b[0;32mdef\u001b[0m \u001b[0m__eq__\u001b[0m\u001b[0;34m(\u001b[0m\u001b[0mself\u001b[0m\u001b[0;34m,\u001b[0m \u001b[0mother\u001b[0m\u001b[0;34m)\u001b[0m\u001b[0;34m:\u001b[0m\u001b[0;34m\u001b[0m\n",
       "\u001b[0;34m\u001b[0m        \u001b[0;32mif\u001b[0m \u001b[0misinstance\u001b[0m\u001b[0;34m(\u001b[0m\u001b[0mother\u001b[0m\u001b[0;34m,\u001b[0m \u001b[0mPileup\u001b[0m\u001b[0;34m)\u001b[0m\u001b[0;34m:\u001b[0m\u001b[0;34m\u001b[0m\n",
       "\u001b[0;34m\u001b[0m            \u001b[0;32mreturn\u001b[0m \u001b[0mself\u001b[0m\u001b[0;34m.\u001b[0m\u001b[0mconsensus\u001b[0m\u001b[0;34m.\u001b[0m\u001b[0mbase\u001b[0m \u001b[0;34m==\u001b[0m \u001b[0mother\u001b[0m\u001b[0;34m.\u001b[0m\u001b[0mconsensus\u001b[0m\u001b[0;34m.\u001b[0m\u001b[0mbase\u001b[0m\u001b[0;34m\u001b[0m\n",
       "\u001b[0;34m\u001b[0m    \u001b[0;34m\u001b[0m\n",
       "\u001b[0;34m\u001b[0m    \u001b[0;32mdef\u001b[0m \u001b[0m__len__\u001b[0m\u001b[0;34m(\u001b[0m\u001b[0mself\u001b[0m\u001b[0;34m)\u001b[0m\u001b[0;34m:\u001b[0m\u001b[0;34m\u001b[0m\n",
       "\u001b[0;34m\u001b[0m        \u001b[0;32mreturn\u001b[0m \u001b[0mlen\u001b[0m\u001b[0;34m(\u001b[0m\u001b[0mself\u001b[0m\u001b[0;34m.\u001b[0m\u001b[0mcounts\u001b[0m\u001b[0;34m.\u001b[0m\u001b[0mkeys\u001b[0m\u001b[0;34m(\u001b[0m\u001b[0;34m)\u001b[0m\u001b[0;34m)\u001b[0m\u001b[0;34m\u001b[0m\n",
       "\u001b[0;34m\u001b[0m    \u001b[0;34m\u001b[0m\n",
       "\u001b[0;34m\u001b[0m    \u001b[0;34m@\u001b[0m\u001b[0mclassmethod\u001b[0m\u001b[0;34m\u001b[0m\n",
       "\u001b[0;34m\u001b[0m    \u001b[0;32mdef\u001b[0m \u001b[0m__dir__\u001b[0m\u001b[0;34m(\u001b[0m\u001b[0mcls\u001b[0m\u001b[0;34m)\u001b[0m\u001b[0;34m:\u001b[0m\u001b[0;34m\u001b[0m\n",
       "\u001b[0;34m\u001b[0m        \u001b[0;32mreturn\u001b[0m \u001b[0;34m[\u001b[0m\u001b[0mstuff\u001b[0m \u001b[0;32mfor\u001b[0m \u001b[0mstuff\u001b[0m \u001b[0;32min\u001b[0m \u001b[0mdir\u001b[0m\u001b[0;34m(\u001b[0m\u001b[0mcls\u001b[0m\u001b[0;34m)\u001b[0m \u001b[0;32mif\u001b[0m \u001b[0;32mnot\u001b[0m \u001b[0mstuff\u001b[0m\u001b[0;34m.\u001b[0m\u001b[0mstartswith\u001b[0m\u001b[0;34m(\u001b[0m\u001b[0;34m'_'\u001b[0m\u001b[0;34m)\u001b[0m\u001b[0;34m]\u001b[0m\u001b[0;34m\u001b[0m\n",
       "\u001b[0;34m\u001b[0m    \u001b[0;34m\u001b[0m\n",
       "\u001b[0;34m\u001b[0m    \u001b[0;32mdef\u001b[0m \u001b[0mto_dict\u001b[0m\u001b[0;34m(\u001b[0m\u001b[0mself\u001b[0m\u001b[0;34m)\u001b[0m\u001b[0;34m:\u001b[0m\u001b[0;34m\u001b[0m\n",
       "\u001b[0;34m\u001b[0m        \u001b[0;32mreturn\u001b[0m \u001b[0;34m{\u001b[0m\u001b[0;34m\u001b[0m\n",
       "\u001b[0;34m\u001b[0m            \u001b[0;34m'depth'\u001b[0m\u001b[0;34m:\u001b[0m \u001b[0mself\u001b[0m\u001b[0;34m.\u001b[0m\u001b[0mdepth\u001b[0m\u001b[0;34m,\u001b[0m\u001b[0;34m\u001b[0m\n",
       "\u001b[0;34m\u001b[0m            \u001b[0;34m'counts'\u001b[0m\u001b[0;34m:\u001b[0m \u001b[0mself\u001b[0m\u001b[0;34m.\u001b[0m\u001b[0mcounts\u001b[0m\u001b[0;34m,\u001b[0m\u001b[0;34m\u001b[0m\n",
       "\u001b[0;34m\u001b[0m            \u001b[0;34m'consensus'\u001b[0m\u001b[0;34m:\u001b[0m \u001b[0mtuple\u001b[0m\u001b[0;34m(\u001b[0m\u001b[0mself\u001b[0m\u001b[0;34m.\u001b[0m\u001b[0mconsensus\u001b[0m\u001b[0;34m)\u001b[0m\u001b[0;34m\u001b[0m\n",
       "\u001b[0;34m\u001b[0m        \u001b[0;34m}\u001b[0m\u001b[0;34m\u001b[0m\u001b[0;34m\u001b[0m\u001b[0m\n"
      ]
     },
     "metadata": {},
     "output_type": "display_data"
    }
   ],
   "source": [
    "%psource Pileup"
   ]
  },
  {
   "cell_type": "code",
   "execution_count": 18,
   "metadata": {},
   "outputs": [
    {
     "name": "stdout",
     "output_type": "stream",
     "text": [
      "Pileup(depth = 0, counts = Counter(), consensus = None, maf = None)\n"
     ]
    }
   ],
   "source": [
    "print(pu2)"
   ]
  },
  {
   "cell_type": "markdown",
   "metadata": {},
   "source": [
    "---\n",
    "# Exercise\n",
    "Now, take a moment and _really_ think about private variables and then we will do an exercise:\n",
    "1. Take 1 minute to write down the \"Pros\" of using private variables\n",
    "1. Take 1 minute to write down the \"Cons\" of using private variables\n",
    "1. In groups of 3-4, discuss your lists. Specifically highlight the _differences_ between your lists\n",
    "    * One person acts as the \"scribe\" for the group and records a complete list of the things discussed"
   ]
  },
  {
   "cell_type": "markdown",
   "metadata": {},
   "source": [
    "<img src='../assets/kate-kalvach-YUyueCkd7Tk-unsplash.jpg' width=700 />"
   ]
  },
  {
   "cell_type": "markdown",
   "metadata": {},
   "source": [
    "---"
   ]
  },
  {
   "cell_type": "markdown",
   "metadata": {},
   "source": [
    "# Magic Methods"
   ]
  },
  {
   "cell_type": "markdown",
   "metadata": {},
   "source": [
    "When we use the term \"interface\" we mean how our objects _behave_. We can do this through the use of what are called \"dunder\" methods. \n",
    "They are called \"dunder\" for the leading/trailing double underscores that surround their names.\n",
    "Dunder methods can also be called \"special\" methods and/or \"magic\". In this lesson, these names will be used interchangeably.\n",
    "\n",
    "## The Big Idea\n",
    "An astute student may ask:\n",
    "> \"Why should I care about dunder methods?\"\n",
    "\n",
    "Dunder methods control how objects behave. That is, they define what the object does when we ask for its `len()`, what we get when we `['index']` them, and what happens when I `+` or `-` them.\n",
    "Probably the most useful dunder method for early students is the one that defines how the object is `print`ed out."
   ]
  },
  {
   "cell_type": "markdown",
   "metadata": {},
   "source": [
    "<img src='../assets/almos-bechtold-AJ_Mou1FUS8-unsplash.jpg' width=700/>"
   ]
  },
  {
   "cell_type": "markdown",
   "metadata": {},
   "source": [
    "There are a **_lot_** of \"Magic/double underscore/dunder\" methods. Take a moment and try to <u>identify 3 dunder methods</u> that look \"interesting\"\n",
    "\n",
    "|dunder|dunder|dunder|dunder|\n",
    "|:---|:---|:---|:---|\n",
    "|`__abs__`|`__add__`|`__aenter__`|`__aexit__`|\n",
    "|`__aiter__`|`__and__`|`__anext__`|`__await__`|\n",
    "|`__bool__`|`__bytes__`|`__call__`|`__ceil__`|\n",
    "|`__class__`|`__complex__`|`__contains__`|`__del__`|\n",
    "|`__delattr__`|`__delete__`|`__delitem__`|`__dict__`|\n",
    "|`__dir__`|`__divmod__`|`__enter__`|`__eq__`|\n",
    "|`__exit__`|`__float__`|`__floor__`|`__floordiv__`|\n",
    "|`__format__`|`__ge__`|`__get__`|`__getattr__`|\n",
    "|`__getattribute__`|`__getitem__`|`__gt__`|`__hash__`|\n",
    "|`__iadd__`|`__iand__`|`__ifloordiv__`|`__ilshift__`|\n",
    "|`__imatmul__`|`__imod__`|`__imul__`|`__index__`|\n",
    "|`__init__`|`__init_subclass__`|`__instancecheck__`|`__int__`|\n",
    "|`__invert__`|`__ior__`|`__ipow__`|`__irshift__`|\n",
    "|`__isub__`|`__iter__`|`__itruediv__`|`__ixor__`|\n",
    "|`__le__`|`__len__`|`__length_hint__`|`__lshift__`|\n",
    "|`__lt__`|`__matmul__`|`__missing__`|`__mod__`|\n",
    "|`__mul__`|`__name__`|`__ne__`|`__neg__`|\n",
    "|`__new__`|`__or__`|`__pos__`|`__pow__`|\n",
    "|`__prepare__`|`__radd__`|`__rand__`|`__rdivmod__`|\n",
    "|`__repr__`|`__reversed__`|`__rfloordiv__`|`__rlshift__`|\n",
    "|`__rmatmul__`|`__rmod__`|`__rmul__`|`__ror__`|\n",
    "|`__round__`|`__rpow__`|`__rrshift__`|`__rshift__`|\n",
    "|`__rsub__`|`__rtruediv__`|`__rxor__`|`__set__`|\n",
    "|`__set_name__`|`__setattr__`|`__setitem__`|`__slots__`|\n",
    "|`__str__`|`__sub__`|`__subclasscheck__`|`__truediv__`|\n",
    "|`__trunc__`|`__xor__`| | |"
   ]
  },
  {
   "cell_type": "markdown",
   "metadata": {
    "slideshow": {
     "slide_type": "slide"
    }
   },
   "source": [
    "## The `__str__` method"
   ]
  },
  {
   "cell_type": "markdown",
   "metadata": {
    "slideshow": {
     "slide_type": "fragment"
    }
   },
   "source": [
    "The `__str__` method is a dunder that controls how your object prints out when `print()` is used on it."
   ]
  },
  {
   "cell_type": "code",
   "execution_count": 22,
   "metadata": {},
   "outputs": [
    {
     "name": "stdout",
     "output_type": "stream",
     "text": [
      "<__main__.Pileup object at 0x7f53a83ee198>\n"
     ]
    }
   ],
   "source": [
    "# Printing without __str__\n",
    "pu1 = Pileup()\n",
    "print(pu1)"
   ]
  },
  {
   "cell_type": "code",
   "execution_count": 23,
   "metadata": {
    "hidePrompt": true
   },
   "outputs": [],
   "source": [
    "from collections import Counter\n",
    "\n",
    "# Pileup Object\n",
    "class Pileup:\n",
    "    def __init__(self):\n",
    "        self.depth = 0\n",
    "        self.counts = Counter()\n",
    "    \n",
    "    def consensus(self):\n",
    "        return self.counts.most_common(1)[0]\n",
    "    \n",
    "    def __str__(self):\n",
    "        return f'Pileup(depth={self.depth}, counts={self.counts}, consensus={self.consensus()})'"
   ]
  },
  {
   "cell_type": "code",
   "execution_count": 24,
   "metadata": {
    "hidePrompt": true
   },
   "outputs": [
    {
     "name": "stdout",
     "output_type": "stream",
     "text": [
      "Pileup(depth=0, counts=Counter({'L': 2, 'E': 2, 'H': 1, 'A': 1, 'O': 1, 'W': 1, 'N': 1}), consensus=('L', 2))\n"
     ]
    }
   ],
   "source": [
    "# Printing with __str__\n",
    "pu2 = Pileup()\n",
    "pu2.counts.update('HALLOWEEN')\n",
    "print(pu2)"
   ]
  },
  {
   "cell_type": "markdown",
   "metadata": {
    "slideshow": {
     "slide_type": "slide"
    }
   },
   "source": [
    "## The `__repr__` method"
   ]
  },
  {
   "cell_type": "markdown",
   "metadata": {
    "slideshow": {
     "slide_type": "fragment"
    }
   },
   "source": [
    "The `__repr__` method is similar to `__str__`, but is called when the `repr()` function is used on it. A `repr()` should represent the complete data structure succinctly."
   ]
  },
  {
   "cell_type": "code",
   "execution_count": 26,
   "metadata": {},
   "outputs": [
    {
     "data": {
      "text/plain": [
       "'<__main__.Pileup object at 0x7f53a83ee860>'"
      ]
     },
     "execution_count": 26,
     "metadata": {},
     "output_type": "execute_result"
    }
   ],
   "source": [
    "# Before __repr__\n",
    "repr(pu2)"
   ]
  },
  {
   "cell_type": "code",
   "execution_count": 31,
   "metadata": {
    "hidePrompt": true
   },
   "outputs": [],
   "source": [
    "# Pileup Object\n",
    "class Pileup:\n",
    "    def __init__(self, depth = 0, counts = None):\n",
    "        self.depth = depth\n",
    "        if counts is None:\n",
    "            self.counts = Counter()\n",
    "        else:\n",
    "            if isinstance(counts, Counter):\n",
    "                self.counts = counts\n",
    "            else:\n",
    "                raise ValueError('give us a Counter')\n",
    "    \n",
    "    def consensus(self):\n",
    "        return self.counts.most_common(1)[0]\n",
    "    \n",
    "    def __str__(self):\n",
    "        return f'Pileup(depth={self.depth}, counts={self.counts}, consensus={self.consensus()})'\n",
    "    \n",
    "    def __repr__(self):\n",
    "        return f'Pileup(depth={self.depth}, counts={self.counts})'"
   ]
  },
  {
   "cell_type": "code",
   "execution_count": 32,
   "metadata": {},
   "outputs": [],
   "source": [
    "pu3 = Pileup(depth = 10, counts = Counter('HALLOWEEN'))"
   ]
  },
  {
   "cell_type": "code",
   "execution_count": 34,
   "metadata": {},
   "outputs": [
    {
     "data": {
      "text/plain": [
       "Pileup(depth=10, counts=Counter({'L': 2, 'E': 2, 'H': 1, 'A': 1, 'O': 1, 'W': 1, 'N': 1}))"
      ]
     },
     "execution_count": 34,
     "metadata": {},
     "output_type": "execute_result"
    }
   ],
   "source": [
    "# After __repr__\n",
    "pu3"
   ]
  },
  {
   "cell_type": "code",
   "execution_count": null,
   "metadata": {
    "hidePrompt": true
   },
   "outputs": [],
   "source": [
    "# Using the repr function"
   ]
  },
  {
   "cell_type": "code",
   "execution_count": 35,
   "metadata": {
    "hidePrompt": true
   },
   "outputs": [],
   "source": [
    "# Copy & paste repr output to recreate Pileup \n",
    "pu4 = Pileup(depth=10, counts=Counter({'L': 2, 'E': 2, 'H': 1, 'A': 1, 'O': 1, 'W': 1, 'N': 1}))"
   ]
  },
  {
   "cell_type": "code",
   "execution_count": 36,
   "metadata": {},
   "outputs": [
    {
     "name": "stdout",
     "output_type": "stream",
     "text": [
      "Attributes: True\n",
      "IDs: False\n"
     ]
    }
   ],
   "source": [
    "# Same values, different objects\n",
    "print('Attributes:', pu3.depth == pu4.depth )\n",
    "print('IDs:', id(pu3) == id(pu4)  )"
   ]
  },
  {
   "cell_type": "markdown",
   "metadata": {
    "slideshow": {
     "slide_type": "slide"
    }
   },
   "source": [
    "## The `__len__` method"
   ]
  },
  {
   "cell_type": "markdown",
   "metadata": {
    "slideshow": {
     "slide_type": "fragment"
    }
   },
   "source": [
    "The `__len__` method controls what happens when the `len()` function is used on an object. While you can access any attribute directly, this acts a logical convenience function."
   ]
  },
  {
   "cell_type": "code",
   "execution_count": 37,
   "metadata": {},
   "outputs": [
    {
     "ename": "TypeError",
     "evalue": "object of type 'Pileup' has no len()",
     "output_type": "error",
     "traceback": [
      "\u001b[0;31m---------------------------------------------------------------------------\u001b[0m",
      "\u001b[0;31mTypeError\u001b[0m                                 Traceback (most recent call last)",
      "\u001b[0;32m<ipython-input-37-cf0d579c5e6d>\u001b[0m in \u001b[0;36m<module>\u001b[0;34m\u001b[0m\n\u001b[1;32m      1\u001b[0m \u001b[0;31m# Before __len__\u001b[0m\u001b[0;34m\u001b[0m\u001b[0;34m\u001b[0m\u001b[0;34m\u001b[0m\u001b[0m\n\u001b[0;32m----> 2\u001b[0;31m \u001b[0mlen\u001b[0m\u001b[0;34m(\u001b[0m\u001b[0mpu4\u001b[0m\u001b[0;34m)\u001b[0m\u001b[0;34m\u001b[0m\u001b[0;34m\u001b[0m\u001b[0m\n\u001b[0m",
      "\u001b[0;31mTypeError\u001b[0m: object of type 'Pileup' has no len()"
     ]
    }
   ],
   "source": [
    "# Before __len__\n",
    "len(pu4)"
   ]
  },
  {
   "cell_type": "code",
   "execution_count": 38,
   "metadata": {
    "hidePrompt": true
   },
   "outputs": [],
   "source": [
    "# Pileup Object\n",
    "class Pileup:\n",
    "    def __init__(self, depth = 0, counts = None):\n",
    "        self.depth = depth\n",
    "        if counts is None:\n",
    "            self.counts = Counter()\n",
    "        else:\n",
    "            if isinstance(counts, Counter):\n",
    "                self.counts = counts\n",
    "            else:\n",
    "                raise ValueError('give us a Counter')\n",
    "    \n",
    "    def consensus(self):\n",
    "        return self.counts.most_common(1)[0]\n",
    "    \n",
    "    def __str__(self):\n",
    "        return f'Pileup(depth={self.depth}, counts={self.counts}, consensus={self.consensus()})'\n",
    "    \n",
    "    def __repr__(self):\n",
    "        return f'Pileup(depth={self.depth}, counts={self.counts})'\n",
    "    \n",
    "    def __len__(self):\n",
    "        return self.depth"
   ]
  },
  {
   "cell_type": "code",
   "execution_count": 39,
   "metadata": {
    "hidePrompt": true,
    "slideshow": {
     "slide_type": "subslide"
    }
   },
   "outputs": [
    {
     "data": {
      "text/plain": [
       "10"
      ]
     },
     "execution_count": 39,
     "metadata": {},
     "output_type": "execute_result"
    }
   ],
   "source": [
    "# After __len__\n",
    "pu5 = Pileup(depth=10, counts = Counter('HALLOWEEN'))\n",
    "len(pu5)"
   ]
  },
  {
   "cell_type": "markdown",
   "metadata": {},
   "source": [
    "# Overloading Operators"
   ]
  },
  {
   "cell_type": "markdown",
   "metadata": {},
   "source": [
    "The dunder methods above are just scratching the surface of `class` customization, but hopefull you can see how\n",
    "powerful/helpful some of them are.\n",
    "\n",
    "**However**, besides maybe an argument for `__len__`, we have not done any real _computation_ yet. That is, we have not\n",
    "enhanced the computational power/useability of our objects."
   ]
  },
  {
   "cell_type": "markdown",
   "metadata": {},
   "source": [
    "## What are 3 things we might need to do to our `PileUp` object during our \"research\"?\n",
    "\n",
    "|Number|Operation|Reason|\n",
    "|:---|:---|:---|\n",
    "|1| `+` | concatenation |\n",
    "|2| `!=` | compare |\n",
    "|3| | |"
   ]
  },
  {
   "cell_type": "code",
   "execution_count": null,
   "metadata": {},
   "outputs": [],
   "source": [
    "# The people have spoken"
   ]
  },
  {
   "cell_type": "code",
   "execution_count": 62,
   "metadata": {},
   "outputs": [],
   "source": [
    "class Pileup:\n",
    "    def __init__(self, depth = 0, counts = None):\n",
    "        self.depth = depth\n",
    "        if counts is None:\n",
    "            self.counts = Counter()\n",
    "        else:\n",
    "            if isinstance(counts, Counter):\n",
    "                self.counts = counts\n",
    "            else:\n",
    "                raise ValueError('give us a Counter')\n",
    "    \n",
    "    @property\n",
    "    def consensus(self):\n",
    "        return self.counts.most_common(1)[0]\n",
    "    \n",
    "    def __str__(self):\n",
    "        return f'Pileup(depth={self.depth}, counts={self.counts}, consensus={self.consensus()})'\n",
    "    \n",
    "    def __repr__(self):\n",
    "        return f'Pileup(depth={self.depth}, counts={self.counts})'\n",
    "    \n",
    "    def __len__(self):\n",
    "        return self.depth\n",
    "    \n",
    "    def __eq__(self, other):\n",
    "        if isinstance(other, Pileup):\n",
    "            return self.consensus[0] == other.consensus[0]\n",
    "        else:\n",
    "            raise ValueError('other must be a Pileup object')\n",
    "    \n",
    "    def __add__(self, other):\n",
    "        if isinstance(other, Pileup):\n",
    "            self.counts.update(other.counts)\n",
    "        else:\n",
    "            raise ValueError('other must be a Pileup object')"
   ]
  },
  {
   "cell_type": "code",
   "execution_count": 50,
   "metadata": {},
   "outputs": [
    {
     "data": {
      "text/plain": [
       "True"
      ]
     },
     "execution_count": 50,
     "metadata": {},
     "output_type": "execute_result"
    }
   ],
   "source": [
    "pu_left = Pileup(10, Counter('Halloween'))\n",
    "pu_right = Pileup(10, Counter('HALLOWEEN'))\n",
    "pu_left == pu_right"
   ]
  },
  {
   "cell_type": "markdown",
   "metadata": {},
   "source": [
    "## Helpful decorators\n",
    "There are a lot of instances where the things we want to do are so common to Python that they have already _abstracted_ away the work for us.\n",
    "We can utilize some of these shortcuts by adding pre-defined _decorators_ to our method definitions. All a decorator does is take our code and\n",
    "add some functionality to it"
   ]
  },
  {
   "cell_type": "markdown",
   "metadata": {},
   "source": [
    "### Total ordering\n",
    "One such case is **comparison operators**"
   ]
  },
  {
   "cell_type": "code",
   "execution_count": null,
   "metadata": {},
   "outputs": [],
   "source": [
    "# Total ordering\n"
   ]
  },
  {
   "cell_type": "markdown",
   "metadata": {},
   "source": [
    "### Caching\n",
    "Another helpful decorator is for creating a _least recently used (LRU) cache_"
   ]
  },
  {
   "cell_type": "code",
   "execution_count": null,
   "metadata": {},
   "outputs": [],
   "source": [
    "# LRU cache\n"
   ]
  },
  {
   "cell_type": "markdown",
   "metadata": {},
   "source": [
    "### Dataclasses"
   ]
  },
  {
   "cell_type": "code",
   "execution_count": 9,
   "metadata": {},
   "outputs": [],
   "source": [
    "# Remove the boilerplate\n",
    "from dataclasses import dataclass\n",
    "\n",
    "@dataclass\n",
    "class Foo:\n",
    "    pumpkin: str\n",
    "    dance: list"
   ]
  },
  {
   "cell_type": "code",
   "execution_count": 6,
   "metadata": {},
   "outputs": [],
   "source": [
    "bar = Foo('42', [1,2,3])"
   ]
  },
  {
   "cell_type": "code",
   "execution_count": 7,
   "metadata": {},
   "outputs": [
    {
     "name": "stdout",
     "output_type": "stream",
     "text": [
      "Foo(pumpkin='42', dance=[1, 2, 3])\n"
     ]
    }
   ],
   "source": [
    "print(bar)"
   ]
  },
  {
   "cell_type": "code",
   "execution_count": 4,
   "metadata": {},
   "outputs": [
    {
     "data": {
      "text/plain": [
       "42"
      ]
     },
     "execution_count": 4,
     "metadata": {},
     "output_type": "execute_result"
    }
   ],
   "source": [
    "bar.pumpkin"
   ]
  },
  {
   "cell_type": "code",
   "execution_count": 5,
   "metadata": {},
   "outputs": [
    {
     "name": "stdout",
     "output_type": "stream",
     "text": [
      "Help on Foo in module __main__ object:\n",
      "\n",
      "class Foo(builtins.object)\n",
      " |  Foo(pumpkin: str, dance: list) -> None\n",
      " |  \n",
      " |  Foo(pumpkin: str, dance: list)\n",
      " |  \n",
      " |  Methods defined here:\n",
      " |  \n",
      " |  __eq__(self, other)\n",
      " |  \n",
      " |  __init__(self, pumpkin: str, dance: list) -> None\n",
      " |  \n",
      " |  __repr__(self)\n",
      " |  \n",
      " |  ----------------------------------------------------------------------\n",
      " |  Data descriptors defined here:\n",
      " |  \n",
      " |  __dict__\n",
      " |      dictionary for instance variables (if defined)\n",
      " |  \n",
      " |  __weakref__\n",
      " |      list of weak references to the object (if defined)\n",
      " |  \n",
      " |  ----------------------------------------------------------------------\n",
      " |  Data and other attributes defined here:\n",
      " |  \n",
      " |  __annotations__ = {'dance': <class 'list'>, 'pumpkin': <class 'str'>}\n",
      " |  \n",
      " |  __dataclass_fields__ = {'dance': Field(name='dance',type=<class 'list'...\n",
      " |  \n",
      " |  __dataclass_params__ = _DataclassParams(init=True,repr=True,eq=True,or...\n",
      " |  \n",
      " |  __hash__ = None\n",
      "\n"
     ]
    }
   ],
   "source": [
    "help(bar)"
   ]
  },
  {
   "cell_type": "code",
   "execution_count": null,
   "metadata": {},
   "outputs": [],
   "source": []
  }
 ],
 "metadata": {
  "kernelspec": {
   "display_name": "Python 3",
   "language": "python",
   "name": "python3"
  },
  "language_info": {
   "codemirror_mode": {
    "name": "ipython",
    "version": 3
   },
   "file_extension": ".py",
   "mimetype": "text/x-python",
   "name": "python",
   "nbconvert_exporter": "python",
   "pygments_lexer": "ipython3",
   "version": "3.7.3"
  }
 },
 "nbformat": 4,
 "nbformat_minor": 4
}
