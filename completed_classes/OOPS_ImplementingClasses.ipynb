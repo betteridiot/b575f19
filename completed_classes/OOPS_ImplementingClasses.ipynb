{
 "cells": [
  {
   "cell_type": "markdown",
   "metadata": {},
   "source": [
    "# Warm-up\n",
    "1. Review this code for 1 minute and try to hypothesize the following 3 things:\n",
    "    1. The function of `__len__`\n",
    "    1. The function of `__getitem__`\n",
    "    1. The reason for naming its internal attribute `_cards` as such\n",
    "1. Attempt to come to a consensus with someone else"
   ]
  },
  {
   "cell_type": "markdown",
   "metadata": {},
   "source": [
    "<img src='../assets/FrenchDeck.png' width=700 align='left'/>"
   ]
  },
  {
   "cell_type": "markdown",
   "metadata": {},
   "source": [
    "---\n",
    "# Learning Objectives\n",
    "1. Students will be able to create an object interface\n",
    "1. Students will be able to be expand the implementation of `class`es by defining \"dunder\" methods\n",
    "1. Students will be able to compose a list of \"pros\" and \"cons\" for private attributes"
   ]
  },
  {
   "cell_type": "markdown",
   "metadata": {},
   "source": [
    "---"
   ]
  },
  {
   "cell_type": "markdown",
   "metadata": {},
   "source": [
    "# Object-Oriented Programming Seminar: Implementing Classes\n",
    "Today we will learn how to sculpt/design the basic `class`es we learned how to make last class into a more fully featured object with a _well-defined_ **interface**.\n",
    "\n",
    "When we use the term \"interface\" we mean how our objects _behave_. We can do this through the use of what are called \"dunder\" methods. \n",
    "They are called \"dunder\" for the leading/trailing double underscores that surround their names.\n",
    "Dunder methods can also be called \"special\" methods and/or \"magic\". In this lesson, these names will be used interchangeably.\n",
    "\n",
    "## The Big Idea\n",
    "An astute student may ask:\n",
    "> \"Why should I care about dunder methods?\"\n",
    "\n",
    "Dunder methods control how objects behave. That is, they define what the object does when we ask for its `len()`, what we get when we `['index']` them, and what happens when I `+` or `-` them.\n",
    "Probably the most useful dunder method for early students is the one that defines how the object is `print`ed out."
   ]
  },
  {
   "cell_type": "markdown",
   "metadata": {},
   "source": [
    "---\n",
    "# Last Class\n",
    "For a quick reminder of where we left off last class"
   ]
  },
  {
   "cell_type": "code",
   "execution_count": null,
   "metadata": {
    "hidePrompt": true
   },
   "outputs": [],
   "source": [
    "from collections import Counter\n",
    "\n",
    "# Pileup Object\n",
    "class Pileup:\n",
    "    def __init__(self):\n",
    "        self.depth = 0\n",
    "        self.counts = Counter()\n",
    "    \n",
    "    def consensus(self):\n",
    "        return self.counts.most_common(1)[0]"
   ]
  },
  {
   "cell_type": "code",
   "execution_count": null,
   "metadata": {},
   "outputs": [],
   "source": [
    "# Create a PileUp object"
   ]
  },
  {
   "cell_type": "code",
   "execution_count": null,
   "metadata": {},
   "outputs": [],
   "source": [
    "# Update the depths and counts of the object"
   ]
  },
  {
   "cell_type": "code",
   "execution_count": null,
   "metadata": {},
   "outputs": [],
   "source": [
    "# Let's see what we have"
   ]
  },
  {
   "cell_type": "markdown",
   "metadata": {},
   "source": [
    "---\n",
    "# Magic Methods\n",
    "<img src='../assets/almos-bechtold-AJ_Mou1FUS8-unsplash.jpg' width=700/>"
   ]
  },
  {
   "cell_type": "markdown",
   "metadata": {},
   "source": [
    "There are a **_lot_** of \"Magic/double underscore/dunder\" methods. Take a moment and try to <u>identify 3 dunder methods</u> that look \"interesting\"\n",
    "\n",
    "|dunder|dunder|dunder|dunder|\n",
    "|:---|:---|:---|:---|\n",
    "|`__new__`|`__dir__`|`__length_hint__`|`__rxor__`|\n",
    "|`__init__`|`__getattr__`|`__getitem__`|`__ror__`|\n",
    "|`__new__`|`__name__`|`__setitem__`|`__iadd__`|\n",
    "|`__del__`|`__setattr__`|`__delitem__`|`__isub__`|\n",
    "|`__del__`|`__name__`|`__missing__`|`__imul__`|\n",
    "|`__repr__`|`__get__`|`__iter__`|`__imatmul__`|\n",
    "|`__str__`|`__set__`|`__reversed__`|`__itruediv__`|\n",
    "|`__repr__`|`__delete__`|`__contains__`|`__ifloordiv__`|\n",
    "|`__repr__`|`__set_name__`|`__add__`|`__imod__`|\n",
    "|`__bytes__`|`__dict__`|`__sub__`|`__ipow__`|\n",
    "|`__format__`|`__dict__`|`__mul__`|`__ilshift__`|\n",
    "|`__format__`|`__get__`|`__matmul__`|`__irshift__`|\n",
    "|`__lt__`|`__dict__`|`__truediv__`|`__iand__`|\n",
    "|`__le__`|`__dict__`|`__floordiv__`|`__ixor__`|\n",
    "|`__eq__`|`__dict__`|`__mod__`|`__ior__`|\n",
    "|`__ne__`|`__dict__`|`__divmod__`|`__neg__`|\n",
    "|`__gt__`|`__class__`|`__pow__`|`__pos__`|\n",
    "|`__ge__`|`__class__`|`__lshift__`|`__abs__`|\n",
    "|`__lt__`|`__class__`|`__rshift__`|`__invert__`|\n",
    "|`__lt__`|`__class__`|`__and__`|`__complex__`|\n",
    "|`__lt__`|`__class__`|`__xor__`|`__int__`|\n",
    "|`__lt__`|`__slots__`|`__or__`|`__float__`|\n",
    "|`__lt__`|`__init_subclass__`|`__radd__`|`__index__`|\n",
    "|`__lt__`|`__init_subclass__`|`__rsub__`|`__round__`|\n",
    "|`__hash__`|`__init_subclass__`|`__rmul__`|`__trunc__`|\n",
    "|`__eq__`|`__prepare__`|`__rmatmul__`|`__floor__`|\n",
    "|`__eq__`|`__class__`|`__rtruediv__`|`__ceil__`|\n",
    "|`__bool__`|`__new__`|`__rfloordiv__`|`__enter__`|\n",
    "|`__getattr__`|`__new__`|`__rmod__`|`__exit__`|\n",
    "|`__getattribute__`|`__new__`|`__rdivmod__`|`__await__`|\n",
    "|`__getattr__`|`__instancecheck__`|`__rpow__`|`__aiter__`|\n",
    "|`__setattr__`|`__subclasscheck__`|`__rlshift__`|`__anext__`|\n",
    "|`__setattr__`|`__call__`|`__rrshift__`|`__aenter__`|\n",
    "|`__delattr__`|`__len__`|`__rand__`|`__aexit__`|\n"
   ]
  },
  {
   "cell_type": "markdown",
   "metadata": {
    "slideshow": {
     "slide_type": "slide"
    }
   },
   "source": [
    "## The `__str__` method"
   ]
  },
  {
   "cell_type": "markdown",
   "metadata": {
    "slideshow": {
     "slide_type": "fragment"
    }
   },
   "source": [
    "The `__str__` method is a dunder that controls how your object prints out when `print()` is used on it."
   ]
  },
  {
   "cell_type": "code",
   "execution_count": null,
   "metadata": {},
   "outputs": [],
   "source": [
    "# Printing without __str__"
   ]
  },
  {
   "cell_type": "code",
   "execution_count": null,
   "metadata": {
    "hidePrompt": true,
    "slideshow": {
     "slide_type": "subslide"
    }
   },
   "outputs": [],
   "source": [
    "# Pileup __str__"
   ]
  },
  {
   "cell_type": "code",
   "execution_count": null,
   "metadata": {
    "hidePrompt": true
   },
   "outputs": [],
   "source": [
    "# Printing with __str__"
   ]
  },
  {
   "cell_type": "markdown",
   "metadata": {
    "slideshow": {
     "slide_type": "slide"
    }
   },
   "source": [
    "## The `__repr__` method"
   ]
  },
  {
   "cell_type": "markdown",
   "metadata": {
    "slideshow": {
     "slide_type": "fragment"
    }
   },
   "source": [
    "The `__repr__` method is similar to `__str__`, but is called when the `repr()` function is used on it. A `repr()` should represent the complete data structure succinctly."
   ]
  },
  {
   "cell_type": "code",
   "execution_count": null,
   "metadata": {},
   "outputs": [],
   "source": [
    "# Before __repr__"
   ]
  },
  {
   "cell_type": "code",
   "execution_count": null,
   "metadata": {
    "hidePrompt": true,
    "slideshow": {
     "slide_type": "subslide"
    }
   },
   "outputs": [],
   "source": [
    "# Adding __repr__ to the class"
   ]
  },
  {
   "cell_type": "code",
   "execution_count": null,
   "metadata": {},
   "outputs": [],
   "source": [
    "# After __repr__"
   ]
  },
  {
   "cell_type": "code",
   "execution_count": null,
   "metadata": {
    "hidePrompt": true
   },
   "outputs": [],
   "source": [
    "# Using the repr function"
   ]
  },
  {
   "cell_type": "code",
   "execution_count": null,
   "metadata": {
    "hidePrompt": true
   },
   "outputs": [],
   "source": [
    "# Copy & paste repr output to recreate Pileup "
   ]
  },
  {
   "cell_type": "code",
   "execution_count": null,
   "metadata": {},
   "outputs": [],
   "source": [
    "# Same values, different objects\n",
    "print('Attributes:',  == )\n",
    "print('IDs:',  == )"
   ]
  },
  {
   "cell_type": "markdown",
   "metadata": {
    "slideshow": {
     "slide_type": "slide"
    }
   },
   "source": [
    "## The `__len__` method"
   ]
  },
  {
   "cell_type": "markdown",
   "metadata": {
    "slideshow": {
     "slide_type": "fragment"
    }
   },
   "source": [
    "The `__len__` method controls what happens when the `len()` function is used on an object. While you can access any attribute directly, this acts a logical convenience function."
   ]
  },
  {
   "cell_type": "code",
   "execution_count": null,
   "metadata": {},
   "outputs": [],
   "source": [
    "# Before __len__"
   ]
  },
  {
   "cell_type": "code",
   "execution_count": null,
   "metadata": {
    "hidePrompt": true,
    "slideshow": {
     "slide_type": "subslide"
    }
   },
   "outputs": [],
   "source": [
    "# Add __len__"
   ]
  },
  {
   "cell_type": "code",
   "execution_count": null,
   "metadata": {
    "hidePrompt": true,
    "slideshow": {
     "slide_type": "subslide"
    }
   },
   "outputs": [],
   "source": [
    "# After __len__"
   ]
  },
  {
   "cell_type": "markdown",
   "metadata": {},
   "source": [
    "# Overloading Operators"
   ]
  },
  {
   "cell_type": "markdown",
   "metadata": {},
   "source": [
    "The dunder methods above are just scratching the surface of `class` customization, but hopefull you can see how\n",
    "powerful/helpful some of them are.\n",
    "\n",
    "**However**, besides maybe an argument for `__len__`, we have not done any real _computation_ yet. That is, we have not\n",
    "enhanced the computational power/useability of our objects."
   ]
  },
  {
   "cell_type": "markdown",
   "metadata": {},
   "source": [
    "## What are 3 things we might need to do to our `PileUp` object during our \"research\"?\n",
    "\n",
    "|Number|Operation|Reason|\n",
    "|:---|:---|:---|\n",
    "|1| | |\n",
    "|2| | |\n",
    "|3| | |"
   ]
  },
  {
   "cell_type": "code",
   "execution_count": null,
   "metadata": {},
   "outputs": [],
   "source": [
    "# The people have spoken"
   ]
  },
  {
   "cell_type": "code",
   "execution_count": null,
   "metadata": {},
   "outputs": [],
   "source": []
  },
  {
   "cell_type": "markdown",
   "metadata": {},
   "source": [
    "## Helpful decorators\n",
    "There are a lot of instances where the things we want to do are so common to Python that they have already _abstracted_ away the work for us.\n",
    "We can utilize some of these shortcuts by adding pre-defined _decorators_ to our method definitions. All a decorator does is take our code and\n",
    "add some functionality to it"
   ]
  },
  {
   "cell_type": "markdown",
   "metadata": {},
   "source": [
    "### Total ordering\n",
    "One such case is **comparison operators**"
   ]
  },
  {
   "cell_type": "code",
   "execution_count": null,
   "metadata": {},
   "outputs": [],
   "source": [
    "# Total ordering"
   ]
  },
  {
   "cell_type": "markdown",
   "metadata": {},
   "source": [
    "### Caching\n",
    "Another helpful decorator is for creating a _least recently used (LRU) cache_"
   ]
  },
  {
   "cell_type": "code",
   "execution_count": null,
   "metadata": {},
   "outputs": [],
   "source": [
    "# LRU cache"
   ]
  },
  {
   "cell_type": "markdown",
   "metadata": {},
   "source": [
    "### Dataclasses"
   ]
  },
  {
   "cell_type": "code",
   "execution_count": null,
   "metadata": {},
   "outputs": [],
   "source": [
    "# Remove the boilerplate"
   ]
  },
  {
   "cell_type": "markdown",
   "metadata": {},
   "source": [
    "---\n",
    "# Private variables/attributes"
   ]
  },
  {
   "cell_type": "markdown",
   "metadata": {},
   "source": [
    "<img src='../assets/dayne-topkin-0FOOcD63bek-unsplash.jpg' width=700 />"
   ]
  },
  {
   "cell_type": "markdown",
   "metadata": {},
   "source": [
    "In Python, we can do just about anything to anything and get away with it. Case in point: \n",
    "> Can we overwrite the meaning of `print`, `str`, or `sum`?\n",
    "\n",
    "Now, while we _can_ do whatever we want, _should_ we do it?\n",
    "\n",
    "Sometimes, as developers (yes, that is what you are now), we may want to hide or restrict what our end-users can do. \n",
    "This can be for many reasons, but chief among them are to _abstract_ the details for clarity and to prevent them from\n",
    "_easily_ corrupting data.\n",
    "\n",
    "This is where **Private Variables** come into play"
   ]
  },
  {
   "cell_type": "code",
   "execution_count": null,
   "metadata": {},
   "outputs": [],
   "source": [
    "# Let's rework PileUp with \"privacy\" in mind"
   ]
  },
  {
   "cell_type": "code",
   "execution_count": null,
   "metadata": {},
   "outputs": [],
   "source": [
    "# Scratch pad\n"
   ]
  },
  {
   "cell_type": "markdown",
   "metadata": {},
   "source": [
    "---\n",
    "# Conclusion\n",
    "Now, take a moment and _really_ think about private variables and then we will do a final exercise:\n",
    "1. Take 1 minute to write down the \"Pros\" of using private variables\n",
    "1. Take 1 minute to write down the \"Cons\" of using private variables\n",
    "1. In groups of 3-4, discuss your lists. Specifically highlight the _differences_ between your lists\n",
    "    * One person acts as the \"scribe\" for the group and records a complete list of the things discussed"
   ]
  },
  {
   "cell_type": "markdown",
   "metadata": {},
   "source": [
    "<img src='../assets/kate-kalvach-YUyueCkd7Tk-unsplash.jpg' width=700 />"
   ]
  }
 ],
 "metadata": {
  "kernelspec": {
   "display_name": "Python 3",
   "language": "python",
   "name": "python3"
  },
  "language_info": {
   "codemirror_mode": {
    "name": "ipython",
    "version": 3
   },
   "file_extension": ".py",
   "mimetype": "text/x-python",
   "name": "python",
   "nbconvert_exporter": "python",
   "pygments_lexer": "ipython3",
   "version": "3.7.3"
  }
 },
 "nbformat": 4,
 "nbformat_minor": 4
}
