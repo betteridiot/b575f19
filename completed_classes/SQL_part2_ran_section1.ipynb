{
 "cells": [
  {
   "cell_type": "markdown",
   "metadata": {},
   "source": [
    "## SQL - part 2"
   ]
  },
  {
   "cell_type": "markdown",
   "metadata": {},
   "source": [
    "#### What is a database? \n",
    "*  A collection of data\n",
    "\n",
    "        * Dictionary\n",
    "            {\"EGFR\":6.8, \"MYC\": 4.5, \"WNT1\":11.7}\n",
    "\n",
    "        * Tab-separated text file, or pd.DataFrame\n",
    "\n",
    "\n",
    "| GeneID  | GeneSymbol  | ExpressionValue  |\n",
    "|---------|-------------|------------------|\n",
    "| 7471    | WNT1        |             11.7 |\n",
    "| 4609    | MYC         |              4.5 |\n",
    "| 1956    | EGFR        |              6.8 |\n",
    "\n",
    "\n",
    "#### Relational Database Management Systems\n",
    "* Software programs such as Oracle, MySQL, SQLServer, DB2, postgreSQL, SQLite \n",
    "* They handle the data storage, indexing, logging, tracking and security (access)  \n",
    "\n",
    "#### Why use databases and Relational Database Management Systems?\n",
    "* Easy, efficient, secure, collaborative management of data that maintains data integrity\n",
    "\n",
    "#### What is the Structured Query Language (SQL) ?\n",
    "* SQL is the standard language for relational database management systems\n",
    "* SQL is used to communicate with a database\n",
    "\n",
    "#### Why SQLite?\n",
    "SQLite is a C library that provides a lightweight disk-based database that doesn’t require a separate server process and allows accessing the database using a nonstandard variant of the SQL query language. Some applications can use SQLite for internal data storage. \n",
    "* SQLite is often the technology of choice for small applications, particularly those of embedded systems and devices like phones and tablets, smart appliances, and instruments.\n",
    "* It’s also possible to prototype an application using SQLite and then port the code to a larger database such as PostgreSQL or Oracle.\n",
    "\n",
    "#### sqlite3\n",
    "The sqlite3 module in the Python standard library provides a SQL interface to communicate with databases.<br>\n",
    "https://docs.python.org/3/library/sqlite3.html\n",
    "\n",
    "Once you have a `Connection`, you can create a `Cursor` object and call its execute() method to perform SQL commands.\n",
    "\n",
    "`Cursor` objects represent a database cursor, which is used to manage the context of a fetch/retrieval operation.\n",
    "A call to the `Cursor`'s execute() method is used to perform SQL commands."
   ]
  },
  {
   "cell_type": "code",
   "execution_count": 1,
   "metadata": {},
   "outputs": [],
   "source": [
    "from sqlite3 import connect\n",
    "\n",
    "'''    \n",
    "    Establish a connection to the database.\n",
    "    This statement creates the file iat the given path if it does not exist.\n",
    "    The file was provided so the statement should just establish the connection.\n",
    "'''\n",
    "connection = connect('../datasets/org.Hs.eg.sqlite')\n",
    "cursor = connection.cursor()\n"
   ]
  },
  {
   "cell_type": "code",
   "execution_count": 2,
   "metadata": {},
   "outputs": [
    {
     "name": "stdout",
     "output_type": "stream",
     "text": [
      "DataError\n",
      "DatabaseError\n",
      "Error\n",
      "IntegrityError\n",
      "InterfaceError\n",
      "InternalError\n",
      "NotSupportedError\n",
      "OperationalError\n",
      "ProgrammingError\n",
      "Warning\n",
      "backup\n",
      "close\n",
      "commit\n",
      "create_aggregate\n",
      "create_collation\n",
      "create_function\n",
      "cursor\n",
      "enable_load_extension\n",
      "execute\n",
      "executemany\n",
      "executescript\n",
      "in_transaction\n",
      "interrupt\n",
      "isolation_level\n",
      "iterdump\n",
      "load_extension\n",
      "rollback\n",
      "row_factory\n",
      "set_authorizer\n",
      "set_progress_handler\n",
      "set_trace_callback\n",
      "text_factory\n",
      "total_changes\n"
     ]
    }
   ],
   "source": [
    "for elem in dir(connection):\n",
    "    if not elem.startswith(\"__\"):\n",
    "        print(elem)"
   ]
  },
  {
   "cell_type": "code",
   "execution_count": 3,
   "metadata": {},
   "outputs": [
    {
     "name": "stdout",
     "output_type": "stream",
     "text": [
      "arraysize\n",
      "close\n",
      "connection\n",
      "description\n",
      "execute\n",
      "executemany\n",
      "executescript\n",
      "fetchall\n",
      "fetchmany\n",
      "fetchone\n",
      "lastrowid\n",
      "row_factory\n",
      "rowcount\n",
      "setinputsizes\n",
      "setoutputsize\n"
     ]
    }
   ],
   "source": [
    "for elem in dir(cursor):\n",
    "    if not elem.startswith(\"__\"):\n",
    "        print(elem)"
   ]
  },
  {
   "cell_type": "markdown",
   "metadata": {},
   "source": [
    "#### Major SQL commands: SELECT, INSERT, DELETE, UPDATE\n",
    "#### SELECT - Retrieves data from one or more tables and doesn’t change the data at all \n",
    "\n",
    "* SELECT  * (means all columns), or the comma separated names of the columns of data you wish to return\n",
    "    * Returns columns (left to right) in the order received. \n",
    "    * '*' selects ALL rows and ALL columns and returns them by column order and row_id\n",
    "* FROM is the table source or sources (comma separated)\n",
    "* WHERE (optional) is the predicate clause: conditions for the query\n",
    "    * Evaluates to True or False for each row\n",
    "    * This clause almost always includes Column-Value pairs.\n",
    "    * Omitting the Where clause returns ALL the records in that table.\n",
    "    * Note: the match is case sensitive\n",
    "* ORDER BY (optional) indicates a sort order for the output data \n",
    "    * default is row_id, which can be very non-intuitive  \n",
    "    * ASCending or DESCending can be appended to change the sort order.  (ASC is default)\n",
    "* GROUP BY (optional) groups by a column and creates summary data for a different column\n",
    "* HAVING (optional) allows restrictions on the rows selected\n",
    "    * a GROUP BY clause is required before HAVING\n",
    "* LIMIT (optional) reduces the number of rows retrieved to the number provided after this clause\n",
    "* In most SQL clients, the \";\" indicates the end of a statement and requests execution\n"
   ]
  },
  {
   "cell_type": "code",
   "execution_count": 8,
   "metadata": {},
   "outputs": [
    {
     "data": {
      "text/plain": [
       "(('type', None, None, None, None, None, None),\n",
       " ('name', None, None, None, None, None, None),\n",
       " ('tbl_name', None, None, None, None, None, None),\n",
       " ('rootpage', None, None, None, None, None, None),\n",
       " ('sql', None, None, None, None, None, None))"
      ]
     },
     "execution_count": 8,
     "metadata": {},
     "output_type": "execute_result"
    }
   ],
   "source": [
    "sql = '''SELECT *\n",
    "FROM sqlite_master \n",
    "LIMIT 5;'''\n",
    "cursor.execute(sql)\n",
    "cursor.description"
   ]
  },
  {
   "cell_type": "code",
   "execution_count": 9,
   "metadata": {},
   "outputs": [
    {
     "data": {
      "text/plain": [
       "<sqlite3.Cursor at 0x12236bb90>"
      ]
     },
     "execution_count": 9,
     "metadata": {},
     "output_type": "execute_result"
    }
   ],
   "source": [
    "# In every SQLite database, there is a special table: sqlite_master\n",
    "# sqlite_master -  describes the contents of the database\n",
    "\n",
    "sql = '''SELECT type, name \n",
    "FROM sqlite_master \n",
    "LIMIT 5;'''\n",
    "cursor.execute(sql)"
   ]
  },
  {
   "cell_type": "code",
   "execution_count": 10,
   "metadata": {},
   "outputs": [
    {
     "data": {
      "text/plain": [
       "(('type', None, None, None, None, None, None),\n",
       " ('name', None, None, None, None, None, None))"
      ]
     },
     "execution_count": 10,
     "metadata": {},
     "output_type": "execute_result"
    }
   ],
   "source": [
    "# See the result header\n",
    "\n",
    "cursor.description"
   ]
  },
  {
   "cell_type": "code",
   "execution_count": 11,
   "metadata": {},
   "outputs": [],
   "source": [
    "def get_header(cursor):\n",
    "    '''\n",
    "    Makes a tab delimited header row from the cursor description.\n",
    "    Arguments:\n",
    "        cursor: a cursor after a select query\n",
    "    Returns:\n",
    "        string: A string consisting of the column names separated by tabs, no new line\n",
    "    '''\n",
    "    return '\\t'.join([row[0] for row in cursor.description])\n"
   ]
  },
  {
   "cell_type": "markdown",
   "metadata": {},
   "source": [
    "#### Important for homework 8\n",
    "#### Different ways to retrieve results - observe the different data structures displayed"
   ]
  },
  {
   "cell_type": "code",
   "execution_count": 12,
   "metadata": {},
   "outputs": [
    {
     "name": "stdout",
     "output_type": "stream",
     "text": [
      "Iterate through the cursor:\n",
      "('table', 'metadata')\n",
      "('index', 'sqlite_autoindex_metadata_1')\n",
      "('table', 'map_metadata')\n",
      "('table', 'map_counts')\n",
      "('index', 'sqlite_autoindex_map_counts_1')\n",
      "\n",
      "Use the Cursor fetchall() method:\n"
     ]
    },
    {
     "data": {
      "text/plain": [
       "[('table', 'metadata'),\n",
       " ('index', 'sqlite_autoindex_metadata_1'),\n",
       " ('table', 'map_metadata'),\n",
       " ('table', 'map_counts'),\n",
       " ('index', 'sqlite_autoindex_map_counts_1')]"
      ]
     },
     "execution_count": 12,
     "metadata": {},
     "output_type": "execute_result"
    }
   ],
   "source": [
    "# See the result\n",
    "\n",
    "cursor.execute(sql)\n",
    "print(\"Iterate through the cursor:\")\n",
    "for row in cursor: \n",
    "    print(row)\n",
    "    \n",
    "print()\n",
    "\n",
    "cursor.execute(sql)\n",
    "print(\"Use the Cursor fetchall() method:\")\n",
    "cursor.fetchall()"
   ]
  },
  {
   "cell_type": "code",
   "execution_count": 13,
   "metadata": {},
   "outputs": [],
   "source": [
    "def get_results(cursor):\n",
    "    '''\n",
    "    Makes a tab delimited table from the cursor results.\n",
    "    Arguments:\n",
    "        cursor: a cursor after a select query\n",
    "    Returns:\n",
    "        string: A string consisting of the column names separated by tabs, no new line\n",
    "    ''' \n",
    "    res = list()\n",
    "    for row in cursor.fetchall():        \n",
    "        res.append('\\t'.join(list(map(str,row))))\n",
    "    return \"\\n\".join(res)"
   ]
  },
  {
   "cell_type": "code",
   "execution_count": 14,
   "metadata": {},
   "outputs": [
    {
     "name": "stdout",
     "output_type": "stream",
     "text": [
      "type\tname\n",
      "table\tmetadata\n",
      "index\tsqlite_autoindex_metadata_1\n",
      "table\tmap_metadata\n",
      "table\tmap_counts\n",
      "index\tsqlite_autoindex_map_counts_1\n"
     ]
    }
   ],
   "source": [
    "cursor.execute(sql)\n",
    "\n",
    "print(get_header(cursor))\n",
    "print(get_results(cursor))"
   ]
  },
  {
   "cell_type": "code",
   "execution_count": 15,
   "metadata": {},
   "outputs": [
    {
     "name": "stdout",
     "output_type": "stream",
     "text": [
      "name\n",
      "metadata\n",
      "map_metadata\n",
      "map_counts\n",
      "genes\n",
      "gene_info\n",
      "chromosomes\n",
      "accessions\n",
      "cytogenetic_locations\n",
      "omim\n",
      "refseq\n",
      "pubmed\n",
      "unigene\n",
      "chrlengths\n",
      "go_bp\n",
      "go_mf\n",
      "go_cc\n",
      "go_bp_all\n",
      "go_mf_all\n",
      "go_cc_all\n",
      "kegg\n",
      "ec\n",
      "chromosome_locations\n",
      "pfam\n",
      "prosite\n",
      "alias\n",
      "ensembl\n",
      "ensembl2ncbi\n",
      "ncbi2ensembl\n",
      "ensembl_prot\n",
      "ensembl_trans\n",
      "uniprot\n",
      "ucsc\n",
      "sqlite_stat1\n",
      "sqlite_stat4\n",
      "sqlite_sequence\n"
     ]
    }
   ],
   "source": [
    "# WHERE clause example (-- denotes comment)\n",
    "# more examples later\n",
    "\n",
    "sql = '''\n",
    "SELECT name\n",
    "FROM sqlite_master \n",
    "WHERE type= \"table\"; -- condition that allows the selection of specific rows\n",
    "'''\n",
    "cursor.execute(sql)\n",
    "print(get_header(cursor))\n",
    "print(get_results(cursor))"
   ]
  },
  {
   "cell_type": "code",
   "execution_count": 16,
   "metadata": {},
   "outputs": [
    {
     "name": "stdout",
     "output_type": "stream",
     "text": [
      "_id\tgo_id\tevidence\n",
      "1\tGO:0002576\tTAS\n",
      "1\tGO:0008150\tND\n",
      "1\tGO:0043312\tTAS\n",
      "2\tGO:0001869\tIDA\n",
      "2\tGO:0002576\tTAS\n",
      "2\tGO:0007597\tTAS\n",
      "2\tGO:0010951\tIEA\n",
      "2\tGO:0022617\tTAS\n",
      "2\tGO:0048863\tIEA\n",
      "2\tGO:0051056\tTAS\n"
     ]
    }
   ],
   "source": [
    "sql = '''\n",
    "SELECT *\n",
    "FROM go_bp LIMIT 10;\n",
    "'''\n",
    "cursor.execute(sql)\n",
    "print(get_header(cursor))\n",
    "print(get_results(cursor))"
   ]
  },
  {
   "cell_type": "markdown",
   "metadata": {},
   "source": [
    "Aliasing column names to make them easier to understand "
   ]
  },
  {
   "cell_type": "code",
   "execution_count": 17,
   "metadata": {},
   "outputs": [
    {
     "name": "stdout",
     "output_type": "stream",
     "text": [
      "Gene ID\tSymbol\tName\n",
      "1\tA1BG\talpha-1-B glycoprotein\n",
      "2\tA2M\talpha-2-macroglobulin\n",
      "3\tA2MP1\talpha-2-macroglobulin pseudogene 1\n",
      "4\tNAT1\tN-acetyltransferase 1\n",
      "5\tNAT2\tN-acetyltransferase 2\n"
     ]
    }
   ],
   "source": [
    "sql = '''\n",
    "SELECT _id \"Gene ID\", symbol Symbol, gene_name Name \n",
    "FROM gene_info LIMIT 5;\n",
    "'''\n",
    "cursor.execute(sql)\n",
    "print(get_header(cursor))\n",
    "print(get_results(cursor))"
   ]
  },
  {
   "cell_type": "code",
   "execution_count": 20,
   "metadata": {},
   "outputs": [
    {
     "name": "stdout",
     "output_type": "stream",
     "text": [
      "_id\tgo_id\tevidence\n",
      "1\tGO:0002576\tTAS\n",
      "1\tGO:0008150\tND\n",
      "1\tGO:0043312\tTAS\n",
      "2\tGO:0001869\tIDA\n",
      "2\tGO:0002576\tTAS\n"
     ]
    }
   ],
   "source": [
    "#select all from go_bp\n",
    "sql = '''\n",
    "SELECT *\n",
    "FROM go_bp\n",
    "LIMIT 5;\n",
    "'''\n",
    "cursor.execute(sql)\n",
    "print(get_header(cursor))\n",
    "print(get_results(cursor))\n",
    " "
   ]
  },
  {
   "cell_type": "markdown",
   "metadata": {},
   "source": [
    "http://geneontology.org/docs/guide-go-evidence-codes/\n",
    "* Inferred from Experiment (EXP)\n",
    "* Inferred from Direct Assay (IDA)\n",
    "* Inferred from Physical Interaction (IPI)\n",
    "* Inferred from Mutant Phenotype (IMP)\n",
    "* Inferred from Genetic Interaction (IGI)\n",
    "* Inferred from Expression Pattern (IEP)\n",
    "* Inferred from High Throughput Experiment (HTP)\n",
    "* Inferred from High Throughput Direct Assay (HDA)\n",
    "* Inferred from High Throughput Mutant Phenotype (HMP)\n",
    "* Inferred from High Throughput Genetic Interaction (HGI)\n",
    "* Inferred from High Throughput Expression Pattern (HEP)\n",
    "* Inferred from Biological aspect of Ancestor (IBA)\n",
    "* Inferred from Biological aspect of Descendant (IBD)\n",
    "* Inferred from Key Residues (IKR)\n",
    "* Inferred from Rapid Divergence (IRD)\n",
    "* Inferred from Sequence or structural Similarity (ISS)\n",
    "* Inferred from Sequence Orthology (ISO)\n",
    "* Inferred from Sequence Alignment (ISA)\n",
    "* Inferred from Sequence Model (ISM)\n",
    "* Inferred from Genomic Context (IGC)\n",
    "* Inferred from Reviewed Computational Analysis (RCA)\n",
    "* Traceable Author Statement (TAS)\n",
    "* Non-traceable Author Statement (NAS)\n",
    "* Inferred by Curator (IC)\n",
    "* No biological Data available (ND)\n",
    "* Inferred from Electronic Annotation (IEA)\n",
    "\n",
    "\n",
    "# COUNT returns a single number, which is the count of all rows in the table\n",
    "\n",
    "sql = '''\n",
    "SELECT count(*) FROM genes;\n",
    "'''\n",
    "cursor.execute(sql)\n",
    "print(get_header(cursor))\n",
    "print(get_results(cursor))"
   ]
  },
  {
   "cell_type": "code",
   "execution_count": 22,
   "metadata": {},
   "outputs": [
    {
     "name": "stdout",
     "output_type": "stream",
     "text": [
      "Number of genes\n",
      "61521\n"
     ]
    }
   ],
   "source": [
    "sql = '''\n",
    "SELECT count(_id) AS 'Number of genes' \n",
    "FROM genes;\n",
    "'''\n",
    "cursor.execute(sql)\n",
    "print(get_header(cursor))\n",
    "print(get_results(cursor))"
   ]
  },
  {
   "cell_type": "code",
   "execution_count": 23,
   "metadata": {},
   "outputs": [
    {
     "name": "stdout",
     "output_type": "stream",
     "text": [
      "Number of genes\n",
      "61521\n"
     ]
    }
   ],
   "source": [
    "sql = '''\n",
    "SELECT count(*) AS 'Number of genes' \n",
    "FROM genes;\n",
    "'''\n",
    "cursor.execute(sql)\n",
    "print(get_header(cursor))\n",
    "print(get_results(cursor))"
   ]
  },
  {
   "cell_type": "code",
   "execution_count": 24,
   "metadata": {},
   "outputs": [
    {
     "name": "stdout",
     "output_type": "stream",
     "text": [
      "_id\n",
      "1\n",
      "1\n",
      "1\n",
      "2\n",
      "2\n",
      "\n",
      "_id\n",
      "1\n",
      "2\n",
      "4\n",
      "5\n",
      "7\n"
     ]
    }
   ],
   "source": [
    "# DISTINCT selects  non-duplicated elements (rows)\n",
    "\n",
    "sql = '''\n",
    "SELECT _id FROM go_bp LIMIT 5;\n",
    "'''\n",
    "cursor.execute(sql)\n",
    "print(get_header(cursor))\n",
    "print(get_results(cursor))\n",
    "\n",
    "print()\n",
    "\n",
    "sql = '''\n",
    "SELECT DISTINCT _id FROM go_bp LIMIT 5;\n",
    "'''\n",
    "cursor.execute(sql)\n",
    "print(get_header(cursor))\n",
    "print(get_results(cursor))"
   ]
  },
  {
   "cell_type": "code",
   "execution_count": 25,
   "metadata": {},
   "outputs": [
    {
     "name": "stdout",
     "output_type": "stream",
     "text": [
      "Number of associations\n",
      "130884\n"
     ]
    }
   ],
   "source": [
    "# count the number of rows on go_bp\n",
    "sql = '''\n",
    "SELECT count(_id) AS 'Number of associations' \n",
    "FROM go_bp;\n",
    "'''\n",
    "cursor.execute(sql)\n",
    "print(get_header(cursor))\n",
    "print(get_results(cursor))\n"
   ]
  },
  {
   "cell_type": "code",
   "execution_count": 26,
   "metadata": {},
   "outputs": [
    {
     "name": "stdout",
     "output_type": "stream",
     "text": [
      "Number of associations\n",
      "130884\n"
     ]
    }
   ],
   "source": [
    "# count the number of distinct genes in go_bp\n",
    "sql = '''\n",
    "SELECT DISTINCT count(_id) AS 'Number of associations' \n",
    "FROM go_bp;\n",
    "'''\n",
    "cursor.execute(sql)\n",
    "print(get_header(cursor))\n",
    "print(get_results(cursor))\n"
   ]
  },
  {
   "cell_type": "code",
   "execution_count": 27,
   "metadata": {},
   "outputs": [
    {
     "name": "stdout",
     "output_type": "stream",
     "text": [
      "Number of associations\n",
      "17913\n"
     ]
    }
   ],
   "source": [
    "# count the number of distinct genes in go_bp\n",
    "sql = '''\n",
    "SELECT DISTINCT count(DISTINCT _id) AS 'Number of associations' \n",
    "FROM go_bp;\n",
    "'''\n",
    "cursor.execute(sql)\n",
    "print(get_header(cursor))\n",
    "print(get_results(cursor))"
   ]
  },
  {
   "cell_type": "markdown",
   "metadata": {},
   "source": [
    "#### WHERE clause operators\n",
    "https://www.sqlite.org/lang_expr.html\n",
    "\n",
    "<> ,  != \tinequality <br>\n",
    "<\t\t\tless than <br>\n",
    "<= \t\t\tless than or equal <br>\n",
    "=\t\t\tequal <br>\n",
    "'>\t\t\tgreater than <br>\n",
    "'>= \t\tgreater than or equal <br>\n",
    "BETWEEN v1 AND v2\ttests that a value to lies in a given range <br>\n",
    "EXISTS\t\ttest for existence of rows matching query <br>\n",
    "IN\t\t\ttests if a value falls within a given set or query <br>\n",
    "IS [ NOT ] NULL\tis or is not null <br>\n",
    "[ NOT ] LIKE\t\ttests value to see if like or not like another <br>\n",
    "\n",
    "% is the wildcard in SQL, used in conjunction with LIKE\n"
   ]
  },
  {
   "cell_type": "code",
   "execution_count": 28,
   "metadata": {},
   "outputs": [
    {
     "name": "stdout",
     "output_type": "stream",
     "text": [
      "_id\tgo_id\tevidence\n",
      "1\tGO:0002576\tTAS\n",
      "1\tGO:0008150\tND\n",
      "1\tGO:0043312\tTAS\n"
     ]
    }
   ],
   "source": [
    "sql = '''\n",
    "SELECT * FROM go_bp \n",
    "WHERE _id = '1';\n",
    "'''\n",
    "cursor.execute(sql)\n",
    "print(get_header(cursor))\n",
    "print(get_results(cursor))"
   ]
  },
  {
   "cell_type": "code",
   "execution_count": 30,
   "metadata": {},
   "outputs": [
    {
     "name": "stdout",
     "output_type": "stream",
     "text": [
      "_id\tgo_id\tevidence\n",
      "1\tGO:0002576\tTAS\n",
      "1\tGO:0008150\tND\n",
      "1\tGO:0043312\tTAS\n",
      "5\tGO:0006805\tTAS\n",
      "7\tGO:0002576\tTAS\n",
      "7\tGO:0006953\tIEA\n",
      "7\tGO:0006954\tNAS\n",
      "7\tGO:0019216\tNAS\n",
      "7\tGO:0030277\tNAS\n",
      "7\tGO:0043312\tTAS\n"
     ]
    }
   ],
   "source": [
    "gene_ids = (1,5,7)\n",
    "sql = f'''\n",
    "SELECT * FROM go_bp \n",
    "WHERE _id IN {gene_ids};\n",
    "'''\n",
    "cursor.execute(sql)\n",
    "print(get_header(cursor))\n",
    "print(get_results(cursor))"
   ]
  },
  {
   "cell_type": "code",
   "execution_count": 31,
   "metadata": {},
   "outputs": [
    {
     "name": "stdout",
     "output_type": "stream",
     "text": [
      "_id\tgo_id\tevidence\n",
      "1\tGO:0002576\tTAS\n",
      "1\tGO:0008150\tND\n",
      "1\tGO:0043312\tTAS\n",
      "5\tGO:0006805\tTAS\n",
      "7\tGO:0002576\tTAS\n",
      "7\tGO:0006953\tIEA\n",
      "7\tGO:0006954\tNAS\n",
      "7\tGO:0019216\tNAS\n",
      "7\tGO:0030277\tNAS\n",
      "7\tGO:0043312\tTAS\n"
     ]
    }
   ],
   "source": [
    "sql = '''\n",
    "SELECT * FROM go_bp \n",
    "WHERE _id IN (1,5,7);\n",
    "'''\n",
    "cursor.execute(sql)\n",
    "print(get_header(cursor))\n",
    "print(get_results(cursor))"
   ]
  },
  {
   "cell_type": "code",
   "execution_count": 33,
   "metadata": {},
   "outputs": [
    {
     "name": "stdout",
     "output_type": "stream",
     "text": [
      "_id\tgo_id\tevidence\n",
      "170\tGO:0008150\tND\n",
      "514\tGO:0008150\tND\n",
      "516\tGO:0008150\tND\n",
      "618\tGO:0008150\tND\n",
      "619\tGO:0008150\tND\n",
      "667\tGO:0008150\tND\n",
      "702\tGO:0008150\tND\n",
      "815\tGO:0008150\tND\n",
      "1153\tGO:0008150\tND\n",
      "1181\tGO:0008150\tND\n",
      "1253\tGO:0008150\tND\n",
      "1407\tGO:0008150\tND\n",
      "1575\tGO:0008150\tND\n",
      "1577\tGO:0008150\tND\n",
      "1688\tGO:0008150\tND\n",
      "1693\tGO:0008150\tND\n",
      "1708\tGO:0008150\tND\n",
      "1765\tGO:0008150\tND\n",
      "1773\tGO:0008150\tND\n",
      "1891\tGO:0008150\tND\n"
     ]
    }
   ],
   "source": [
    "sql = '''\n",
    "SELECT * FROM go_bp \n",
    "WHERE evidence = 'ND' AND _id BETWEEN 20 AND 2000 \n",
    "--LIMIT 10\n",
    "'''\n",
    "cursor.execute(sql)\n",
    "print(get_header(cursor))\n",
    "print(get_results(cursor))"
   ]
  },
  {
   "cell_type": "code",
   "execution_count": 34,
   "metadata": {},
   "outputs": [
    {
     "name": "stdout",
     "output_type": "stream",
     "text": [
      "_id\tgo_id\tevidence\n",
      "1\tGO:0008150\tND\n",
      "163\tGO:0008104\tIDA\n",
      "170\tGO:0008150\tND\n",
      "399\tGO:0060081\tIEA\n",
      "451\tGO:0008156\tIMP\n",
      "479\tGO:0008104\tISS\n",
      "487\tGO:2000811\tIMP\n",
      "495\tGO:0008104\tIEA\n",
      "514\tGO:0008150\tND\n",
      "516\tGO:0008150\tND\n"
     ]
    }
   ],
   "source": [
    "sql = '''\n",
    "SELECT * \n",
    "FROM go_bp\n",
    "WHERE go_id LIKE '%0081%' \n",
    "LIMIT 10;\n",
    "'''\n",
    "cursor.execute(sql)\n",
    "print(get_header(cursor))\n",
    "print(get_results(cursor))"
   ]
  },
  {
   "cell_type": "code",
   "execution_count": null,
   "metadata": {},
   "outputs": [],
   "source": [
    "# Retrieve rows from go_bp where the go_id is GO:0008104 and evidence is IEA or IDA"
   ]
  },
  {
   "cell_type": "code",
   "execution_count": 35,
   "metadata": {},
   "outputs": [
    {
     "name": "stdout",
     "output_type": "stream",
     "text": [
      "_id\tgo_id\tevidence\n",
      "163\tGO:0008104\tIDA\n",
      "495\tGO:0008104\tIEA\n",
      "807\tGO:0008104\tIDA\n",
      "1394\tGO:0008104\tIEA\n",
      "2279\tGO:0008104\tIEA\n",
      "3422\tGO:0008104\tIEA\n",
      "3802\tGO:0008104\tIEA\n",
      "3900\tGO:0008104\tIDA\n",
      "3922\tGO:0008104\tIEA\n",
      "5279\tGO:0008104\tIEA\n",
      "5819\tGO:0008104\tIDA\n",
      "7071\tGO:0008104\tIEA\n",
      "7722\tGO:0008104\tIDA\n",
      "8990\tGO:0008104\tIDA\n",
      "10012\tGO:0008104\tIDA\n",
      "10366\tGO:0008104\tIEA\n",
      "10395\tGO:0008104\tIEA\n",
      "11969\tGO:0008104\tIDA\n",
      "13897\tGO:0008104\tIEA\n",
      "13976\tGO:0008104\tIEA\n",
      "14535\tGO:0008104\tIEA\n",
      "16381\tGO:0008104\tIDA\n",
      "17218\tGO:0008104\tIDA\n",
      "19318\tGO:0008104\tIEA\n",
      "19647\tGO:0008104\tIDA\n",
      "26292\tGO:0008104\tIDA\n"
     ]
    }
   ],
   "source": [
    "sql = '''\n",
    "SELECT *\n",
    "FROM go_bp \n",
    "WHERE go_id = \"GO:0008104\" AND evidence IN (\"IEA\",\"IDA\") ;\n",
    "'''\n",
    "cursor.execute(sql)\n",
    "print(get_header(cursor))\n",
    "print(get_results(cursor))"
   ]
  },
  {
   "cell_type": "code",
   "execution_count": 36,
   "metadata": {},
   "outputs": [
    {
     "name": "stdout",
     "output_type": "stream",
     "text": [
      "_id\tgo_id\tevidence\n",
      "163\tGO:0008104\tIDA\n",
      "495\tGO:0008104\tIEA\n",
      "807\tGO:0008104\tIDA\n",
      "1394\tGO:0008104\tIEA\n",
      "2279\tGO:0008104\tIEA\n",
      "3422\tGO:0008104\tIEA\n",
      "3802\tGO:0008104\tIEA\n",
      "3900\tGO:0008104\tIDA\n",
      "3922\tGO:0008104\tIEA\n",
      "5279\tGO:0008104\tIEA\n",
      "5819\tGO:0008104\tIDA\n",
      "7071\tGO:0008104\tIEA\n",
      "7722\tGO:0008104\tIDA\n",
      "8990\tGO:0008104\tIDA\n",
      "10012\tGO:0008104\tIDA\n",
      "10366\tGO:0008104\tIEA\n",
      "10395\tGO:0008104\tIEA\n",
      "11969\tGO:0008104\tIDA\n",
      "13897\tGO:0008104\tIEA\n",
      "13976\tGO:0008104\tIEA\n",
      "14535\tGO:0008104\tIEA\n",
      "16381\tGO:0008104\tIDA\n",
      "17218\tGO:0008104\tIDA\n",
      "19318\tGO:0008104\tIEA\n",
      "19647\tGO:0008104\tIDA\n",
      "26292\tGO:0008104\tIDA\n"
     ]
    }
   ],
   "source": [
    "sql = '''\n",
    "SELECT *\n",
    "FROM go_bp \n",
    "WHERE go_id = \"GO:0008104\" AND (evidence = \"IEA\" OR evidence = \"IDA\") ;\n",
    "'''\n",
    "cursor.execute(sql)\n",
    "print(get_header(cursor))\n",
    "print(get_results(cursor))"
   ]
  },
  {
   "cell_type": "code",
   "execution_count": 37,
   "metadata": {},
   "outputs": [
    {
     "name": "stdout",
     "output_type": "stream",
     "text": [
      "_id\tgo_id\n",
      "37596\tGO:0008150\n",
      "37166\tGO:0008150\n",
      "36360\tGO:0008150\n",
      "33578\tGO:0008150\n",
      "30423\tGO:0008150\n",
      "29930\tGO:0008150\n",
      "29554\tGO:0008150\n",
      "29476\tGO:0008150\n",
      "28708\tGO:0008150\n",
      "28584\tGO:0008150\n",
      "28574\tGO:0008150\n",
      "28534\tGO:0008150\n",
      "28193\tGO:0008150\n",
      "28180\tGO:0008150\n",
      "28072\tGO:0008150\n",
      "27996\tGO:0008150\n",
      "27829\tGO:0008150\n",
      "27646\tGO:0008150\n",
      "27583\tGO:0008150\n",
      "27576\tGO:0008150\n"
     ]
    }
   ],
   "source": [
    "# ORDER BY (optional) - indicates a sort order for the output data: ASC or DESC\n",
    "\n",
    "sql = '''\n",
    "SELECT _id, go_id\n",
    "FROM go_bp \n",
    "WHERE evidence=\"ND\"\n",
    "ORDER BY _id  DESC\n",
    "LIMIT 20;\n",
    "'''\n",
    "cursor.execute(sql)\n",
    "print(get_header(cursor))\n",
    "print(get_results(cursor))"
   ]
  },
  {
   "cell_type": "code",
   "execution_count": 40,
   "metadata": {},
   "outputs": [
    {
     "data": {
      "text/plain": [
       "37596"
      ]
     },
     "execution_count": 40,
     "metadata": {},
     "output_type": "execute_result"
    }
   ],
   "source": [
    "sql = '''\n",
    "SELECT _id, go_id\n",
    "FROM go_bp \n",
    "WHERE evidence=\"ND\"\n",
    "ORDER BY _id  DESC\n",
    "LIMIT 20;\n",
    "'''\n",
    "cursor.execute(sql)\n",
    "cursor.fetchall()[0][0]\n"
   ]
  },
  {
   "cell_type": "markdown",
   "metadata": {},
   "source": [
    "Sqlite3 also has some PRAGMA methods <br>\n",
    "This is an SQL extension specific to SQLite that is used to modify the operation of the SQLite library or to query the SQLite library for internal (non-table) data <br>\n",
    "https://www.sqlite.org/pragma.html <br>\n",
    "The code below shows how to get the schema (columns and columns information)"
   ]
  },
  {
   "cell_type": "code",
   "execution_count": 41,
   "metadata": {},
   "outputs": [
    {
     "name": "stdout",
     "output_type": "stream",
     "text": [
      "cid\tname\ttype\tnotnull\tdflt_value\tpk\n",
      "0\t_id\tINTEGER\t1\tNone\t0\n",
      "1\tgo_id\tCHAR(10)\t1\tNone\t0\n",
      "2\tevidence\tCHAR(3)\t1\tNone\t0\n"
     ]
    }
   ],
   "source": [
    "sql = 'PRAGMA table_info(\"go_bp\")'\n",
    "cursor.execute(sql)\n",
    "print(get_header(cursor))\n",
    "print(get_results(cursor))"
   ]
  },
  {
   "cell_type": "code",
   "execution_count": 42,
   "metadata": {},
   "outputs": [
    {
     "name": "stdout",
     "output_type": "stream",
     "text": [
      "cid\tname\ttype\tnotnull\tdflt_value\tpk\n",
      "0\t_id\tINTEGER\t1\tNone\t0\n",
      "1\tgo_id\tCHAR(10)\t1\tNone\t0\n",
      "2\tevidence\tCHAR(3)\t1\tNone\t0\n"
     ]
    }
   ],
   "source": [
    "sql = '''SELECT * FROM pragma_table_info(\"go_bp\")  '''\n",
    "cursor.execute(sql)\n",
    "print(get_header(cursor))\n",
    "print(get_results(cursor))"
   ]
  },
  {
   "cell_type": "code",
   "execution_count": 43,
   "metadata": {},
   "outputs": [
    {
     "name": "stdout",
     "output_type": "stream",
     "text": [
      "_id\n",
      "163\n",
      "479\n",
      "495\n",
      "703\n",
      "705\n",
      "807\n",
      "1394\n",
      "1471\n",
      "1679\n",
      "2279\n",
      "3422\n",
      "3456\n",
      "3802\n",
      "3900\n",
      "3922\n",
      "3973\n",
      "5279\n",
      "5819\n",
      "5900\n",
      "6619\n",
      "6647\n",
      "7006\n",
      "7071\n",
      "7084\n",
      "7218\n",
      "7631\n",
      "7722\n",
      "7724\n",
      "8218\n",
      "8502\n",
      "8759\n",
      "8868\n",
      "8903\n",
      "8990\n",
      "9114\n",
      "9117\n",
      "9354\n",
      "9515\n",
      "9786\n",
      "10012\n",
      "10366\n",
      "10395\n",
      "11715\n",
      "11969\n",
      "13232\n",
      "13897\n",
      "13976\n",
      "14535\n",
      "15305\n",
      "16381\n",
      "16608\n",
      "16674\n",
      "17218\n",
      "18628\n",
      "18658\n",
      "19318\n",
      "19647\n",
      "24489\n",
      "26292\n"
     ]
    }
   ],
   "source": [
    "sql = '''\n",
    "    SELECT DISTINCT _id \n",
    "    FROM go_bp\n",
    "    WHERE go_id = 'GO:0008104'\n",
    "    '''\n",
    "cursor.execute(sql)\n",
    "print(get_header(cursor))\n",
    "print(get_results(cursor))"
   ]
  },
  {
   "cell_type": "code",
   "execution_count": 44,
   "metadata": {},
   "outputs": [
    {
     "name": "stdout",
     "output_type": "stream",
     "text": [
      "_id\tsymbol\tgene_name\n",
      "163\tNR0B1\tnuclear receptor subfamily 0 group B member 1\n",
      "479\tBBS2\tBardet-Biedl syndrome 2\n",
      "495\tBCL6\tBCL6 transcription repressor\n",
      "703\tCAV1\tcaveolin 1\n",
      "705\tCAV3\tcaveolin 3\n",
      "807\tCD81\tCD81 molecule\n",
      "1394\tDHCR24\t24-dehydrocholesterol reductase\n",
      "1471\tDRD2\tdopamine receptor D2\n",
      "1679\tERCC3\tERCC excision repair 3, TFIIH core complex helicase subunit\n",
      "2279\tGNGT1\tG protein subunit gamma transducin 1\n",
      "3422\tMECP2\tmethyl-CpG binding protein 2\n",
      "3456\tMGAT3\tmannosyl (beta-1,4-)-glycoprotein beta-1,4-N-acetylglucosaminyltransferase\n",
      "3802\tNEDD8\tNEDD8 ubiquitin like modifier\n",
      "3900\tNPM1\tnucleophosmin 1\n",
      "3922\tNRCAM\tneuronal cell adhesion molecule\n",
      "3973\tODF2\touter dense fiber of sperm tails 2\n",
      "5279\tSLC9A2\tsolute carrier family 9 member A2\n",
      "5819\tTP53\ttumor protein p53\n",
      "5900\tTSC2\tTSC complex subunit 2\n",
      "6619\tULK1\tunc-51 like autophagy activating kinase 1\n",
      "6647\tDOC2B\tdouble C2 domain beta\n",
      "7006\tSQSTM1\tsequestosome 1\n",
      "7071\tPLOD3\tprocollagen-lysine,2-oxoglutarate 5-dioxygenase 3\n",
      "7084\tHAP1\thuntingtin associated protein 1\n",
      "7218\tAP4M1\tadaptor related protein complex 4 subunit mu 1\n",
      "7631\tCROCC\tciliary rootlet coiled-coil, rootletin\n",
      "7722\tPHYHIP\tphytanoyl-CoA 2-hydroxylase interacting protein\n",
      "7724\tIST1\tIST1 factor associated with ESCRT-III\n",
      "8218\tCACNG3\tcalcium voltage-gated channel auxiliary subunit gamma 3\n",
      "8502\tAP4B1\tadaptor related protein complex 4 subunit beta 1\n",
      "8759\tRAB35\tRAB35, member RAS oncogene family\n",
      "8868\tAP4S1\tadaptor related protein complex 4 subunit sigma 1\n",
      "8903\tCEP250\tcentrosomal protein 250\n",
      "8990\tDDX42\tDEAD-box helicase 42\n",
      "9114\tMAPRE1\tmicrotubule associated protein RP/EB family member 1\n",
      "9117\tMAPRE3\tmicrotubule associated protein RP/EB family member 3\n",
      "9354\tVPS13A\tvacuolar protein sorting 13 homolog A\n",
      "9515\tAP4E1\tadaptor related protein complex 4 subunit epsilon 1\n",
      "9786\tCBY1\tchibby family member 1, beta catenin antagonist\n",
      "10012\tGGA1\tgolgi associated, gamma adaptin ear containing, ARF binding protein 1\n",
      "10366\tNBEA\tneurobeachin\n",
      "10395\tMLH3\tmutL homolog 3\n",
      "11715\tNIN\tninein\n",
      "11969\tCUTA\tcutA divalent cation tolerance homolog\n",
      "13232\tBIN3\tbridging integrator 3\n",
      "13897\tALS2\talsin Rho guanine nucleotide exchange factor ALS2\n",
      "13976\tCADM3\tcell adhesion molecule 3\n",
      "14535\tWNK4\tWNK lysine deficient protein kinase 4\n",
      "15305\tCCDC68\tcoiled-coil domain containing 68\n",
      "16381\tTNS4\ttensin 4\n",
      "16608\tCCDC120\tcoiled-coil domain containing 120\n",
      "16674\tDUOXA1\tdual oxidase maturation factor 1\n",
      "17218\tSTK11IP\tserine/threonine kinase 11 interacting protein\n",
      "18628\tCEP128\tcentrosomal protein 128\n",
      "18658\tCDAN1\tcodanin 1\n",
      "19318\tGRASP\tgeneral receptor for phosphoinositides 1 associated scaffold protein\n",
      "19647\tSPTSSA\tserine palmitoyltransferase small subunit A\n",
      "24489\tDUOXA2\tdual oxidase maturation factor 2\n",
      "26292\tAKAIN1\tA-kinase anchor inhibitor 1\n"
     ]
    }
   ],
   "source": [
    "# SUB-QUERY - we can have a query in a query\n",
    "\n",
    "sql = '''\n",
    "SELECT _id, symbol, gene_name \n",
    "FROM gene_info\n",
    "WHERE _id IN\n",
    "    (SELECT DISTINCT _id \n",
    "    FROM go_bp\n",
    "    WHERE go_id = 'GO:0008104'); \n",
    "'''\n",
    "cursor.execute(sql)\n",
    "print(get_header(cursor))\n",
    "print(get_results(cursor))"
   ]
  },
  {
   "cell_type": "code",
   "execution_count": 46,
   "metadata": {},
   "outputs": [
    {
     "name": "stdout",
     "output_type": "stream",
     "text": [
      "go_id\tcount(*)\n",
      "GO:0000002\t11\n",
      "GO:0000003\t1\n",
      "GO:0000012\t9\n",
      "GO:0000018\t6\n",
      "GO:0000019\t2\n",
      "GO:0000022\t2\n",
      "GO:0000023\t3\n",
      "GO:0000027\t7\n",
      "GO:0000028\t4\n",
      "GO:0000038\t13\n"
     ]
    }
   ],
   "source": [
    "# GROUP BY groups by a column and creates summary data for a different column\n",
    "# count entries for each GO term\n",
    "\n",
    "sql = '''\n",
    "SELECT go_id, count(*) \n",
    "FROM go_bp \n",
    "GROUP BY go_id \n",
    "LIMIT 10;\n",
    "'''\n",
    "cursor.execute(sql)\n",
    "print(get_header(cursor))\n",
    "print(get_results(cursor))"
   ]
  },
  {
   "cell_type": "code",
   "execution_count": 47,
   "metadata": {},
   "outputs": [
    {
     "name": "stdout",
     "output_type": "stream",
     "text": [
      "GO Term ID\tGene Number\n",
      "GO:0000002\t11\n",
      "GO:0000003\t1\n",
      "GO:0000012\t9\n",
      "GO:0000018\t6\n",
      "GO:0000019\t2\n",
      "GO:0000022\t2\n",
      "GO:0000023\t3\n",
      "GO:0000027\t7\n",
      "GO:0000028\t4\n",
      "GO:0000038\t13\n"
     ]
    }
   ],
   "source": [
    "# specify column in aggregate function and alias the name of the columns\n",
    "\n",
    "sql = '''\n",
    "SELECT go_id as \"GO Term ID\", count(_id) as \"Gene Number\" \n",
    "FROM go_bp \n",
    "GROUP BY go_id \n",
    "LIMIT 10;\n",
    "'''\n",
    "cursor.execute(sql)\n",
    "print(get_header(cursor))\n",
    "print(get_results(cursor))"
   ]
  },
  {
   "cell_type": "code",
   "execution_count": 50,
   "metadata": {},
   "outputs": [
    {
     "name": "stdout",
     "output_type": "stream",
     "text": [
      "go_id\tgene_no\n",
      "GO:0000122\t770\n",
      "GO:0006357\t924\n",
      "GO:0006396\t544\n",
      "GO:0006915\t547\n",
      "GO:0007165\t830\n",
      "GO:0007186\t942\n",
      "GO:0008150\t619\n",
      "GO:0008284\t525\n",
      "GO:0016567\t519\n",
      "GO:0035195\t854\n",
      "GO:0043066\t519\n",
      "GO:0045892\t542\n",
      "GO:0045893\t628\n",
      "GO:0045944\t1161\n",
      "GO:0055114\t507\n"
     ]
    }
   ],
   "source": [
    "# HAVING allows restrictions on the rows used or selected\n",
    "# a GROUP BY clause is required before HAVING\n",
    "\n",
    "sql = '''\n",
    "SELECT go_id, count(_id) as gene_no \n",
    "FROM go_bp \n",
    "GROUP BY go_id\n",
    "HAVING gene_no>500;\n",
    "'''\n",
    "cursor.execute(sql)\n",
    "print(get_header(cursor))\n",
    "print(get_results(cursor))"
   ]
  },
  {
   "cell_type": "code",
   "execution_count": 52,
   "metadata": {},
   "outputs": [
    {
     "name": "stdout",
     "output_type": "stream",
     "text": [
      "_id\tgo_term_no\n",
      "5710\t199\n",
      "534\t163\n",
      "5791\t159\n",
      "175\t152\n",
      "1229\t149\n",
      "5819\t148\n",
      "6084\t148\n",
      "5209\t144\n",
      "9499\t128\n",
      "4058\t121\n",
      "5382\t119\n",
      "487\t116\n",
      "294\t114\n",
      "4607\t112\n",
      "2137\t109\n",
      "1832\t108\n",
      "2021\t108\n",
      "5427\t108\n",
      "296\t106\n",
      "20\t105\n",
      "6042\t105\n",
      "17545\t105\n",
      "2906\t103\n",
      "5712\t103\n",
      "8982\t103\n",
      "1578\t102\n"
     ]
    }
   ],
   "source": [
    "# Select gene ids with more than 100 biological processes associated\n",
    "\n",
    "\n",
    "sql = '''\n",
    "SELECT _id, count(go_id) AS go_term_no \n",
    "FROM go_bp \n",
    "GROUP BY _id\n",
    "HAVING go_term_no>100\n",
    "ORDER BY go_term_no DESC;\n",
    "'''\n",
    "cursor.execute(sql)\n",
    "print(get_header(cursor))\n",
    "print(get_results(cursor))\n",
    "\n"
   ]
  },
  {
   "cell_type": "markdown",
   "metadata": {},
   "source": [
    "#### A `PRIMARY KEY` is a very important concept to understand.  \n",
    "* It is the designation for a column or a set of columns from a table.\n",
    "* It is recommended to be a serial value and not something related to the business needs of the data in the table.\n",
    "\n",
    "* A primary key is used to uniquely identify a row of data; combined with a column name, uniquely locates a data entry\n",
    "* A primary key by definition must be `UNIQUE` and `NOT NULL` \n",
    "* The primary key of a table, should be a (sequential) non-repeating and not null value  \n",
    "* Primary keys are generally identified at time of table creation  \n",
    "* A common method for generating a primary key, is to set the datatype to `INTEGER` and declare `AUTOINCREMENT` which will function when data is inserted into the table\n",
    "* Primary keys can be a composite of 2 or more columns that uniquely identify the data in the table\n",
    "\n"
   ]
  },
  {
   "cell_type": "markdown",
   "metadata": {},
   "source": [
    "#### A `FOREIGN KEY` is a column(s) that points to the `PRIMARY KEY` of another table \n",
    "\n",
    "* The purpose of the foreign key is to ensure referential integrity of the data. \n",
    "In other words, only values that are supposed to appear in the database are permitted.<br>\n",
    "Only the values that exist in the `PRIMARY KEY` column are allowed to be present in the FOREIGN KEY column.\n",
    "Example: A `gene` table has the `PRIMARY KEY` `gene_id`. The GO2_gene GO term is associated with a gene\n",
    "\n",
    "They are also the underpinning of how tables are joined and relationships portrayed in the database\n"
   ]
  },
  {
   "cell_type": "markdown",
   "metadata": {},
   "source": [
    "#### JOIN tables\n",
    "\n",
    "* Multiple tables contain different data that we want to retrieve from a single query\n",
    "* In order to assemble data as part of a query, a JOIN between tables is needed\n",
    "* This is a very common practice, since it’s rare for all the data you want to be in a single table\n",
    "\n",
    "\n",
    "* INNER JOIN - return only those rows where there is matching content in BOTH tables (is the default when JOIN is used)\n",
    "* OUTER JOIN - returns all rows from both tables even if one of the tables is blank\n",
    "* SELF JOIN - can be used to join a table to itself (through aliasing), to compare data internal to the table\n",
    "\n",
    "```sql\n",
    "SELECT ... FROM table1 [INNER] JOIN table2 ON conditional_expression\n",
    "```\n"
   ]
  },
  {
   "cell_type": "code",
   "execution_count": 53,
   "metadata": {},
   "outputs": [
    {
     "name": "stdout",
     "output_type": "stream",
     "text": [
      "symbol\tgo_id\tevidence\n",
      "A1BG\tGO:0008150\tND\n",
      "CRYBG1\tGO:0008150\tND\n",
      "BFSP1\tGO:0008150\tND\n",
      "BGN\tGO:0008150\tND\n",
      "TMEM50B\tGO:0008150\tND\n"
     ]
    }
   ],
   "source": [
    "sql = '''\n",
    "SELECT symbol,go_id, evidence\n",
    "FROM gene_info AS gi\n",
    "INNER JOIN go_bp AS go\n",
    "ON gi._id = go._id\n",
    "WHERE evidence = \"ND\"\n",
    "LIMIT 5;'''\n",
    "cursor.execute(sql)\n",
    "print(get_header(cursor))\n",
    "print(get_results(cursor))"
   ]
  },
  {
   "cell_type": "code",
   "execution_count": 54,
   "metadata": {},
   "outputs": [
    {
     "name": "stdout",
     "output_type": "stream",
     "text": [
      "_id\t_id\tsymbol\tgo_id\tevidence\n",
      "1\t1\tA1BG\tGO:0008150\tND\n",
      "170\t170\tCRYBG1\tGO:0008150\tND\n",
      "514\t514\tBFSP1\tGO:0008150\tND\n",
      "516\t516\tBGN\tGO:0008150\tND\n",
      "618\t618\tTMEM50B\tGO:0008150\tND\n"
     ]
    }
   ],
   "source": [
    "sql = '''\n",
    "SELECT gi._id, go._id, gi.symbol, go.go_id, go.evidence\n",
    "FROM gene_info AS gi\n",
    "INNER JOIN go_bp AS go\n",
    "ON gi._id = go._id\n",
    "WHERE evidence = \"ND\"\n",
    "LIMIT 5;'''\n",
    "cursor.execute(sql)\n",
    "print(get_header(cursor))\n",
    "print(get_results(cursor))"
   ]
  },
  {
   "cell_type": "code",
   "execution_count": 55,
   "metadata": {},
   "outputs": [
    {
     "name": "stdout",
     "output_type": "stream",
     "text": [
      "_id\tgene_name\tsymbol\t_id\tgo_id\tevidence\n",
      "1\talpha-1-B glycoprotein\tA1BG\t1\tGO:0008150\tND\n",
      "170\tcrystallin beta-gamma domain containing 1\tCRYBG1\t170\tGO:0008150\tND\n",
      "514\tbeaded filament structural protein 1\tBFSP1\t514\tGO:0008150\tND\n",
      "516\tbiglycan\tBGN\t516\tGO:0008150\tND\n",
      "618\ttransmembrane protein 50B\tTMEM50B\t618\tGO:0008150\tND\n"
     ]
    }
   ],
   "source": [
    "sql = '''\n",
    "SELECT *\n",
    "FROM gene_info AS gi\n",
    "INNER JOIN go_bp AS go\n",
    "ON gi._id = go._id\n",
    "WHERE evidence = \"ND\"\n",
    "LIMIT 5;'''\n",
    "cursor.execute(sql)\n",
    "print(get_header(cursor))\n",
    "print(get_results(cursor))"
   ]
  },
  {
   "cell_type": "markdown",
   "metadata": {},
   "source": [
    "#### See the create table statement"
   ]
  },
  {
   "cell_type": "code",
   "execution_count": 56,
   "metadata": {},
   "outputs": [
    {
     "name": "stdout",
     "output_type": "stream",
     "text": [
      "sql\n",
      "CREATE TABLE go_bp (\n",
      "      _id INTEGER NOT NULL,                         -- REFERENCES  genes \n",
      "      go_id CHAR(10) NOT NULL,                      -- GO ID\n",
      "      evidence CHAR(3) NOT NULL,                    -- GO evidence code\n",
      "      FOREIGN KEY (_id) REFERENCES  genes  (_id)\n",
      "    )\n"
     ]
    }
   ],
   "source": [
    "# sql column in the sqlite_master table\n",
    "\n",
    "sql = '''\n",
    "SELECT sql\n",
    "FROM sqlite_master \n",
    "WHERE type= \"table\" and name == \"go_bp\"\n",
    "LIMIT 2;\n",
    "'''\n",
    "cursor.execute(sql)\n",
    "print(get_header(cursor))\n",
    "print(get_results(cursor))"
   ]
  },
  {
   "cell_type": "markdown",
   "metadata": {},
   "source": [
    "```sql\n",
    "SELECT sql\n",
    "FROM sqlite_master \n",
    "WHERE type= \"table\" and name == \"go_bp\"\n",
    "LIMIT 2;\n",
    "```"
   ]
  },
  {
   "cell_type": "markdown",
   "metadata": {},
   "source": [
    "### CREATE TABLE  - statement\n",
    "https://www.sqlitetutorial.net/sqlite-create-table/\n",
    "\n",
    "```sql\n",
    "CREATE TABLE [IF NOT EXISTS] [schema_name].table_name (\n",
    "    column_1 data_type PRIMARY KEY,\n",
    "    column_2 data_type NOT NULL,\n",
    "    column_3 data_type DEFAULT 0,\n",
    "    table_constraints\n",
    ") [WITHOUT ROWID];\n",
    "```\n",
    "\n",
    "In this syntax:\n",
    "\n",
    "* First, specify the name of the table that you want to create after the CREATE TABLE keywords. The name of the table cannot start with sqlite_ because it is reserved for the internal use of SQLite.\n",
    "* Second, use `IF NOT EXISTS` option to create a new table if it does not exist. Attempting to create a table that already exists without using the IF NOT EXISTS option will result in an error.\n",
    "* Third, optionally specify the schema_name to which the new table belongs. The schema can be the main database, temp database or any attached database.\n",
    "* Fourth, specify the column list of the table. Each column has a name, data type, and the column constraint. SQLite supports `PRIMARY KEY, UNIQUE, NOT NULL`, and `CHECK` column constraints.\n",
    "* Fifth, specify the table constraints such as PRIMARY KEY, FOREIGN KEY, UNIQUE, and CHECK constraints.\n",
    "* Finally, optionally use the `WITHOUT ROWID` option. By default, a row in a table has an implicit column, which is referred to as the rowid, oid or _rowid_ column. The rowid column stores a 64-bit signed integer key that uniquely identifies the row inside the table. If you don’t want SQLite creates the rowid column, you specify the WITHOUT ROWID option. A table that contains the rowid column is known as a rowid table. Note that the WITHOUT ROWID option is only available in SQLite 3.8.2 or later."
   ]
  },
  {
   "cell_type": "markdown",
   "metadata": {},
   "source": [
    "https://www.sqlite.org/syntaxdiagrams.html#create-table-stmt\n",
    "\n",
    "<img src = \"https://www.sqlite.org/images/syntax/create-table-stmt.gif\" width=\"800\"/>"
   ]
  },
  {
   "cell_type": "markdown",
   "metadata": {},
   "source": [
    "Each value stored in an SQLite database (or manipulated by the database engine) has one of the following storage classes:\n",
    "https://www.sqlite.org/datatype3.html\n",
    "* `NULL`. The value is a NULL value.\n",
    "* `INTEGER`. The value is a signed integer, stored in 1, 2, 3, 4, 6, or 8 bytes depending on the magnitude of the value.\n",
    "* `REAL`. The value is a floating point value, stored as an 8-byte IEEE floating point number.\n",
    "* `TEXT`. The value is a text string, stored using the database encoding (UTF-8, UTF-16BE or UTF-16LE).\n",
    "* `BLOB`. The value is a blob of data, stored exactly as it was input."
   ]
  },
  {
   "cell_type": "markdown",
   "metadata": {},
   "source": [
    "#### A `PRIMARY KEY` is a very important concept to understand.  \n",
    "* It is the designation for a column or a set of columns from a table.\n",
    "* It is recommended to be a serial value and not something related to the business needs of the data in the table.\n",
    "\n",
    "* A primary key is used to uniquely identify a row of data; combined with a column name, uniquely locates a data entry\n",
    "* A primary key by definition must be `UNIQUE` and `NOT NULL` \n",
    "* The primary key of a table, should be a (sequential) non-repeating and not null value  \n",
    "* Primary keys are generally identified at time of table creation  \n",
    "* A common method for generating a primary key, is to set the datatype to `INTEGER` and declare `AUTOINCREMENT` which will function when data is inserted into the table\n",
    "* Primary keys can be a composite of 2 or more columns that uniquely identify the data in the table\n",
    "\n"
   ]
  },
  {
   "cell_type": "markdown",
   "metadata": {},
   "source": [
    "#### A `FOREIGN KEY` is a column(s) that points to the `PRIMARY KEY` of another table \n",
    "\n",
    "* The purpose of the foreign key is to ensure referential integrity of the data. \n",
    "In other words, only values that are supposed to appear in the database are permitted.<br>\n",
    "Only the values that exist in the `PRIMARY KEY` column are allowed to be present in the FOREIGN KEY column.\n",
    "Example: A `gene` table has the `PRIMARY KEY` `gene_id`. The GO2_gene GO term is associated with a gene\n",
    "\n",
    "They are also the underpinning of how tables are joined and relationships portrayed in the database\n"
   ]
  },
  {
   "cell_type": "markdown",
   "metadata": {},
   "source": [
    "The `sqlite_master` has the following create statement: \n",
    "```sql\n",
    "CREATE TABLE sqlite_master ( type TEXT, name TEXT, tbl_name TEXT, rootpage INTEGER, sql TEXT );\n",
    "```"
   ]
  },
  {
   "cell_type": "markdown",
   "metadata": {},
   "source": [
    "#### Create the table `go_bp_ALT`"
   ]
  },
  {
   "cell_type": "markdown",
   "metadata": {},
   "source": [
    "##### The `connection` object methods can be used to save or revert/reset the changes after a command that makes changes to the database\n",
    "##### `COMMIT` - save the changes \n",
    "##### `ROLLBACK` - revert the changes \n"
   ]
  },
  {
   "cell_type": "code",
   "execution_count": 57,
   "metadata": {},
   "outputs": [
    {
     "name": "stdout",
     "output_type": "stream",
     "text": [
      "done!\n"
     ]
    }
   ],
   "source": [
    "sql='''\n",
    "CREATE TABLE IF NOT EXISTS go_bp_ALT (\n",
    "      gene_go_id INTEGER PRIMARY KEY AUTOINCREMENT,\n",
    "      gene_id INTEGER NOT NULL,                     -- REFERENCES  genes _id \n",
    "      go_id CHAR(10) NOT NULL,                      -- GO ID\n",
    "      evidence CHAR(30) NOT NULL,                   -- GO evidence information\n",
    "      FOREIGN KEY (gene_id) REFERENCES  genes  (_id)\n",
    "    );\n",
    "'''\n",
    "try:\n",
    "    cursor.execute(sql)\n",
    "except connection.DatabaseError:\n",
    "    print(\"Creating the go_bp_ALT table resulted in a database error!\")\n",
    "    connection.rollback()\n",
    "    raise\n",
    "else:\n",
    "    connection.commit()\n",
    "finally:\n",
    "    print(\"done!\")\n",
    "    \n",
    "    "
   ]
  },
  {
   "cell_type": "markdown",
   "metadata": {},
   "source": [
    "##### Similar error handling, as seen above, can be when executing any statement that changes the database."
   ]
  },
  {
   "cell_type": "markdown",
   "metadata": {},
   "source": [
    "##### Check if the new table appears in the `sqlite_master` table "
   ]
  },
  {
   "cell_type": "code",
   "execution_count": 60,
   "metadata": {},
   "outputs": [
    {
     "name": "stdout",
     "output_type": "stream",
     "text": [
      "[('go_bp', 'CREATE TABLE go_bp (\\n      _id INTEGER NOT NULL,                         -- REFERENCES  genes \\n      go_id CHAR(10) NOT NULL,                      -- GO ID\\n      evidence CHAR(3) NOT NULL,                    -- GO evidence code\\n      FOREIGN KEY (_id) REFERENCES  genes  (_id)\\n    )'), ('go_bp_all', 'CREATE TABLE go_bp_all (\\n      _id INTEGER NOT NULL,                         -- REFERENCES  genes \\n      go_id CHAR(10) NOT NULL,                      -- GO ID\\n      evidence CHAR(3) NOT NULL,                    -- GO evidence code\\n      FOREIGN KEY (_id) REFERENCES  genes  (_id)\\n    )'), ('go_bp_ALT', 'CREATE TABLE go_bp_ALT (\\n      gene_go_id INTEGER PRIMARY KEY AUTOINCREMENT,\\n      gene_id INTEGER NOT NULL,                     -- REFERENCES  genes _id \\n      go_id CHAR(10) NOT NULL,                      -- GO ID\\n      evidence CHAR(30) NOT NULL,                   -- GO evidence information\\n      FOREIGN KEY (gene_id) REFERENCES  genes  (_id)\\n    )')]\n"
     ]
    }
   ],
   "source": [
    "sql = '''\n",
    "SELECT name, sql\n",
    "FROM sqlite_master \n",
    "WHERE name LIKE \"go_bp%\"\n",
    "LIMIT 4;\n",
    "'''\n",
    "cursor.execute(sql)\n",
    "print(cursor.fetchall())"
   ]
  },
  {
   "cell_type": "markdown",
   "metadata": {},
   "source": [
    "  \n",
    "<br><br> \n",
    "The `sqlite_sequence` table is created and initialized automatically whenever a regular table is created if it has a column with the `AUTOINCREMENT` option set.<br>\n",
    "https://www.sqlite.org/autoinc.html\n"
   ]
  },
  {
   "cell_type": "markdown",
   "metadata": {},
   "source": [
    "##### Check if the new table appears in the `sqlite_master` table "
   ]
  },
  {
   "cell_type": "markdown",
   "metadata": {},
   "source": [
    "### INDEXING\n",
    "\n",
    "Indexes are lookup tables, like the index of a book.\n",
    "They are usually created for columns that have unique/ or less redundant values and provide a way to quicky search \n",
    "the values.<br>\n",
    "Indexing creates a copy of the indexed columns together with a link to the location of the additional information.<br> \n",
    "The index data is stored in a data structure that allows for fast sorting. <br>\n",
    "E.g.: balanced-tree - every leaf is at most n nodes away from the root) that allows for fast sorting. <br>\n",
    "All queries (statements) regarding an indexed table are applied to the index\n",
    "\n",
    "\n",
    "* One important function in Relational Databases is to be able to create indexes on columns in tables  \n",
    "* These indexes are pre-calculated and stored in the database \n",
    "* Indexes should be created on columns that are used in queries and joins   \n",
    "* They will rapidly speed up query return rate and improve query performance\n",
    "\n",
    "To create an index use the following command:\n",
    "\n",
    "```sql\n",
    "CREATE INDEX indexName ON tableName (columnName)\n",
    "```"
   ]
  },
  {
   "cell_type": "code",
   "execution_count": 61,
   "metadata": {},
   "outputs": [],
   "source": [
    "sql = '''\n",
    "CREATE INDEX gene_go_idx \n",
    "ON go_bp_ALT (gene_go_id)\n",
    "'''\n",
    "cursor.execute(sql)\n",
    "connection.commit()\n"
   ]
  },
  {
   "cell_type": "markdown",
   "metadata": {},
   "source": [
    "##### Check if the new index appears in the `sqlite_master` table "
   ]
  },
  {
   "cell_type": "code",
   "execution_count": 63,
   "metadata": {},
   "outputs": [
    {
     "name": "stdout",
     "output_type": "stream",
     "text": [
      "name\tsql\n",
      "gene_go_idx\tCREATE INDEX gene_go_idx \n",
      "ON go_bp_ALT (gene_go_id)\n",
      "\n"
     ]
    }
   ],
   "source": [
    "sql = '''\n",
    "SELECT name, sql\n",
    "FROM sqlite_master \n",
    "WHERE type= \"index\" AND name = \"gene_go_idx\";\n",
    "'''\n",
    "cursor.execute(sql)\n",
    "print(get_header(cursor))\n",
    "print(get_results(cursor))"
   ]
  },
  {
   "cell_type": "markdown",
   "metadata": {},
   "source": [
    "#### Remove the index"
   ]
  },
  {
   "cell_type": "code",
   "execution_count": 64,
   "metadata": {},
   "outputs": [],
   "source": [
    "sql = '''\n",
    "DROP INDEX gene_go_idx \n",
    "'''\n",
    "cursor.execute(sql)\n",
    "connection.commit()\n"
   ]
  },
  {
   "cell_type": "markdown",
   "metadata": {},
   "source": [
    "##### Check if the index was removed from the `sqlite_master` table "
   ]
  },
  {
   "cell_type": "code",
   "execution_count": 65,
   "metadata": {},
   "outputs": [
    {
     "name": "stdout",
     "output_type": "stream",
     "text": [
      "name\tsql\n",
      "\n"
     ]
    }
   ],
   "source": [
    "sql = '''\n",
    "SELECT name, sql\n",
    "FROM sqlite_master \n",
    "WHERE type= \"index\" AND name = \"gene_go_idx\";\n",
    "'''\n",
    "cursor.execute(sql)\n",
    "print(get_header(cursor))\n",
    "print(get_results(cursor))"
   ]
  },
  {
   "cell_type": "markdown",
   "metadata": {},
   "source": [
    "### INSERT - statement\n",
    "\n",
    "Makes changes to the database table<br>\n",
    "Adds new data to a table (if the constraints are met)\n",
    "Constraint examples: \n",
    "* For one designated column or a group of columns that are designated as Primary Key the values are unique\n",
    "* The value inserted in a column that has a Foreign Key constraint should exist in the column that it refers to\n",
    "\n",
    "```sql\n",
    "INSERT INTO <tablename> (<column1>, <column2>, <column3>) VALUES (value1, value2, value3);\n",
    "```\n",
    "\n",
    "##### One simple INSERT command adds 1 row of data at a time into an existing table  \n",
    "\n",
    "##### Connection object allows us to:\n",
    "* ##### COMMIT - save the changes \n",
    "* ##### ROLLBACK - reverts/discards the changes"
   ]
  },
  {
   "cell_type": "markdown",
   "metadata": {},
   "source": [
    "<br>\n",
    "\n",
    "##### Let's see what is in the table (it should be nothing):"
   ]
  },
  {
   "cell_type": "code",
   "execution_count": null,
   "metadata": {},
   "outputs": [],
   "source": [
    "sql = '''\n",
    "SELECT *\n",
    "FROM go_bp_ALT;\n",
    "'''\n",
    "cursor.execute(sql)\n",
    "print(get_header(cursor))\n",
    "print(get_results(cursor))"
   ]
  },
  {
   "cell_type": "markdown",
   "metadata": {},
   "source": [
    "<br>\n",
    "\n",
    "##### Let's try an insert:\n",
    "```sql\n",
    "INSERT INTO <tablename> (<column1>, <column2>, <column3>) VALUES (value1, value2, value3);\n",
    "```"
   ]
  },
  {
   "cell_type": "code",
   "execution_count": null,
   "metadata": {},
   "outputs": [],
   "source": [
    "values_list = [1234,\"GO:1234\",\"CM_EV\"]\n",
    "\n",
    "sql = '''\n",
    "INSERT INTO go_bp_ALT (gene_id, go_id, evidence) \n",
    "VALUES (?,?,?);\n",
    "'''\n",
    "cursor.execute(sql,values_list)\n",
    "connection.commit()"
   ]
  },
  {
   "cell_type": "code",
   "execution_count": null,
   "metadata": {},
   "outputs": [],
   "source": [
    "# This command retrieves the identifier of the last row from the most current query\n",
    "# The gene_go_id\n",
    "\n",
    "id_value = cursor.lastrowid\n",
    "id_value"
   ]
  },
  {
   "cell_type": "markdown",
   "metadata": {},
   "source": [
    "<br>\n",
    "\n",
    "\n",
    "##### We have a row in the table!!! And the gene_go_id was automatically generated."
   ]
  },
  {
   "cell_type": "code",
   "execution_count": null,
   "metadata": {},
   "outputs": [],
   "source": [
    "sql = '''\n",
    "SELECT *\n",
    "FROM go_bp_ALT ;\n",
    "'''\n",
    "cursor.execute(sql)\n",
    "print(get_header(cursor))\n",
    "print(get_results(cursor))"
   ]
  },
  {
   "cell_type": "markdown",
   "metadata": {},
   "source": [
    "#### You can have a Python \"table\" structure (list of lists) of insert values and get them all inserted in one command, each sublist having the correct number of values.\n"
   ]
  },
  {
   "cell_type": "code",
   "execution_count": null,
   "metadata": {},
   "outputs": [],
   "source": [
    "values_tbl = [[1235,\"GO:1235\",\"CM_EV\"], [1236,\"GO:1236\",\"CM_EV\"], [1236,\"GO:1237\",\"CM_EV\"]]\n",
    "\n",
    "sql = '''\n",
    "INSERT INTO go_bp_ALT (gene_id, go_id, evidence) \n",
    "VALUES (?,?,?);\n",
    "'''\n",
    "cursor.executemany(sql,values_tbl)\n",
    "connection.commit()\n"
   ]
  },
  {
   "cell_type": "code",
   "execution_count": null,
   "metadata": {},
   "outputs": [],
   "source": [
    "sql = '''\n",
    "SELECT *\n",
    "FROM go_bp_ALT ;\n",
    "'''\n",
    "cursor.execute(sql)\n",
    "print(get_header(cursor))\n",
    "print(get_results(cursor))"
   ]
  },
  {
   "cell_type": "markdown",
   "metadata": {},
   "source": [
    "#### UPDATE - statement - changes the table rows\n",
    "\n"
   ]
  },
  {
   "cell_type": "markdown",
   "metadata": {},
   "source": [
    "Modifies data (already in a table)  in all rows matching the WHERE clause \n",
    "\n",
    "```sql\n",
    "UPDATE table_name \n",
    "SET column1 = value1, column2 = value2...., columnN = valueN\n",
    "WHERE [condition];\n",
    "```\n",
    "\n",
    "Update is generally a single row command, but use of the where clause can cause data to be updated in multiple rows <br>\n",
    "(whether you intended to or not !!!!)\n",
    "\n",
    "The following statement updates the evidence for all entries for all genes associated with the 2 biological processses "
   ]
  },
  {
   "cell_type": "markdown",
   "metadata": {},
   "source": [
    "#### DELETE - statement - deletes table rows\n",
    "\n",
    "* MAKES CHANGES TO THE DATA\n",
    "* Row level deletion – can’t delete less than this. \n",
    "\n",
    "```sql\n",
    "DELETE FROM <tablename> WHERE <column> = <value>\n",
    "```\n",
    "\n",
    "* The WHERE predicate is the same as for the SELECT statement, that is, it determines which rows will be deleted  \n",
    "\n"
   ]
  },
  {
   "cell_type": "code",
   "execution_count": null,
   "metadata": {},
   "outputs": [],
   "source": [
    "sql = '''\n",
    "DELETE FROM go_bp_ALT \n",
    "WHERE go_id IN (\"GO:1234\",\"GO:1236\");\n",
    "'''\n",
    "cursor.execute(sql)\n",
    "connection.commit()\n"
   ]
  },
  {
   "cell_type": "code",
   "execution_count": null,
   "metadata": {},
   "outputs": [],
   "source": [
    "sql = '''\n",
    "SELECT *\n",
    "FROM go_bp_ALT ;\n",
    "'''\n",
    "cursor.execute(sql)\n",
    "print(get_header(cursor))\n",
    "print(get_results(cursor))"
   ]
  },
  {
   "cell_type": "markdown",
   "metadata": {},
   "source": [
    "```sql\n",
    "DELETE FROM <tablename>; \n",
    "```\n",
    "\n",
    "* This would delete all rows of data from a table.\n",
    "* Preserves table structure (table still exists)\n",
    "* Optimized for speed in SQLite, no row-by-row execution.\n",
    "* EXISTS <table_name> still evaluates to True\n"
   ]
  },
  {
   "cell_type": "code",
   "execution_count": null,
   "metadata": {},
   "outputs": [],
   "source": [
    "sql = '''\n",
    "DELETE FROM go_bp_ALT;\n",
    "'''\n",
    "cursor.execute(sql)\n",
    "connection.commit()\n"
   ]
  },
  {
   "cell_type": "code",
   "execution_count": null,
   "metadata": {},
   "outputs": [],
   "source": [
    "sql = '''\n",
    "SELECT *\n",
    "FROM go_bp_ALT ;\n",
    "'''\n",
    "cursor.execute(sql)\n",
    "print(get_header(cursor))\n",
    "print(get_results(cursor))"
   ]
  },
  {
   "cell_type": "markdown",
   "metadata": {},
   "source": [
    "<br>\n",
    "\n",
    "#### `DROP TABLE` - statement - removes a table (permanently)"
   ]
  },
  {
   "cell_type": "code",
   "execution_count": null,
   "metadata": {},
   "outputs": [],
   "source": [
    "sql = '''\n",
    "DROP TABLE IF EXISTS go_bp_ALT;\n",
    "'''\n",
    "cursor.execute(sql)\n",
    "connection.commit()"
   ]
  },
  {
   "cell_type": "code",
   "execution_count": null,
   "metadata": {},
   "outputs": [],
   "source": [
    "sql = '''\n",
    "SELECT name AS \"TABLE NAME\"\n",
    "FROM sqlite_master \n",
    "WHERE name LIKE \"go_bp%\";\n",
    "'''\n",
    "cursor.execute(sql)\n",
    "print(get_header(cursor))\n",
    "print(get_results(cursor))"
   ]
  },
  {
   "cell_type": "code",
   "execution_count": null,
   "metadata": {},
   "outputs": [],
   "source": [
    "# And close()\n",
    "\n",
    "cursor.close()\n",
    "connection.close()"
   ]
  },
  {
   "cell_type": "markdown",
   "metadata": {},
   "source": [
    "#### To remove the database, delete the .sqlite file."
   ]
  },
  {
   "cell_type": "code",
   "execution_count": null,
   "metadata": {},
   "outputs": [],
   "source": []
  }
 ],
 "metadata": {
  "kernelspec": {
   "display_name": "Python 3",
   "language": "python",
   "name": "python3"
  },
  "language_info": {
   "codemirror_mode": {
    "name": "ipython",
    "version": 3
   },
   "file_extension": ".py",
   "mimetype": "text/x-python",
   "name": "python",
   "nbconvert_exporter": "python",
   "pygments_lexer": "ipython3",
   "version": "3.7.3"
  }
 },
 "nbformat": 4,
 "nbformat_minor": 2
}
