{
 "cells": [
  {
   "cell_type": "markdown",
   "metadata": {},
   "source": [
    "### Useful functions\n",
    "https://docs.python.org/3/library/functions.html"
   ]
  },
  {
   "cell_type": "markdown",
   "metadata": {},
   "source": [
    "`zip` - make an iterator that aggregates elements from each of the iterables.<br>\n",
    "https://docs.python.org/3/library/functions.html#zip\n",
    "\n",
    "\n",
    "`zip(*iterables)`\n",
    "\n",
    "Returns an iterator of tuples, where the i-th tuple contains the i-th element from each of the argument sequences or iterables. The iterator stops when the shortest input iterable is exhausted. With a single iterable argument, it returns an iterator of 1-tuples. With no arguments, it returns an empty iterator."
   ]
  },
  {
   "cell_type": "code",
   "execution_count": 1,
   "metadata": {},
   "outputs": [
    {
     "data": {
      "text/plain": [
       "<zip at 0x11b55f2c8>"
      ]
     },
     "execution_count": 1,
     "metadata": {},
     "output_type": "execute_result"
    }
   ],
   "source": [
    "combined_res = zip([1,2,3],[\"A\",\"B\",\"C\"],[True,False,True])\n",
    "combined_res"
   ]
  },
  {
   "cell_type": "code",
   "execution_count": 2,
   "metadata": {},
   "outputs": [
    {
     "data": {
      "text/plain": [
       "(1, 'A', True)"
      ]
     },
     "execution_count": 2,
     "metadata": {},
     "output_type": "execute_result"
    }
   ],
   "source": [
    "next(combined_res)"
   ]
  },
  {
   "cell_type": "code",
   "execution_count": 3,
   "metadata": {},
   "outputs": [
    {
     "data": {
      "text/plain": [
       "(2, 'B', False)"
      ]
     },
     "execution_count": 3,
     "metadata": {},
     "output_type": "execute_result"
    }
   ],
   "source": [
    "next(combined_res)"
   ]
  },
  {
   "cell_type": "code",
   "execution_count": 4,
   "metadata": {},
   "outputs": [
    {
     "data": {
      "text/plain": [
       "(3, 'C', True)"
      ]
     },
     "execution_count": 4,
     "metadata": {},
     "output_type": "execute_result"
    }
   ],
   "source": [
    "next(combined_res)"
   ]
  },
  {
   "cell_type": "code",
   "execution_count": 5,
   "metadata": {},
   "outputs": [
    {
     "ename": "StopIteration",
     "evalue": "",
     "output_type": "error",
     "traceback": [
      "\u001b[0;31m---------------------------------------------------------------------------\u001b[0m",
      "\u001b[0;31mStopIteration\u001b[0m                             Traceback (most recent call last)",
      "\u001b[0;32m<ipython-input-5-6d4c33750df4>\u001b[0m in \u001b[0;36m<module>\u001b[0;34m\u001b[0m\n\u001b[0;32m----> 1\u001b[0;31m \u001b[0mnext\u001b[0m\u001b[0;34m(\u001b[0m\u001b[0mcombined_res\u001b[0m\u001b[0;34m)\u001b[0m\u001b[0;34m\u001b[0m\u001b[0;34m\u001b[0m\u001b[0m\n\u001b[0m",
      "\u001b[0;31mStopIteration\u001b[0m: "
     ]
    }
   ],
   "source": [
    "next(combined_res)"
   ]
  },
  {
   "cell_type": "code",
   "execution_count": 6,
   "metadata": {},
   "outputs": [
    {
     "data": {
      "text/plain": [
       "[(1, 'A', True), (2, 'B', False), (3, 'C', True)]"
      ]
     },
     "execution_count": 6,
     "metadata": {},
     "output_type": "execute_result"
    }
   ],
   "source": [
    "combined_res = zip([1,2,3],[\"A\",\"B\",\"C\"],[True,False,True])\n",
    "list(combined_res)"
   ]
  },
  {
   "cell_type": "code",
   "execution_count": 7,
   "metadata": {},
   "outputs": [
    {
     "data": {
      "text/plain": [
       "{'Monday': (1, 2), 'Tuesday': (3, 4), 'Thursday': (5, 6, 7)}"
      ]
     },
     "execution_count": 7,
     "metadata": {},
     "output_type": "execute_result"
    }
   ],
   "source": [
    "dict(zip((\"Monday\",\"Tuesday\",\"Thursday\"),((1,2),(3,4),(5,6,7))))"
   ]
  },
  {
   "cell_type": "code",
   "execution_count": 8,
   "metadata": {},
   "outputs": [
    {
     "data": {
      "text/plain": [
       "((1, 'A'), (2, 'B'))"
      ]
     },
     "execution_count": 8,
     "metadata": {},
     "output_type": "execute_result"
    }
   ],
   "source": [
    "#For unequal sizes the smaller size will give the size of the result\n",
    "combined_res = zip([1,2,3],[\"A\",\"B\"])\n",
    "combined_res\n",
    "tuple(combined_res)\n"
   ]
  },
  {
   "cell_type": "code",
   "execution_count": 9,
   "metadata": {},
   "outputs": [
    {
     "name": "stdout",
     "output_type": "stream",
     "text": [
      "(1, 2) (4, 5)\n"
     ]
    }
   ],
   "source": [
    "# unzip (*)\n",
    "x, y = zip(*((1,4,6),(2,5)))\n",
    "print(x,y)"
   ]
  },
  {
   "cell_type": "markdown",
   "metadata": {},
   "source": [
    "`map` - apply funtion to every element of an iterable\n",
    "https://docs.python.org/3/library/functions.html#map\n",
    "\n",
    "\n",
    "`map(function, iterable, ...)`\n",
    "\n",
    "Return an iterator that applies function to every item of iterable, yielding the results. If additional iterable arguments are passed, function must take that many arguments and is applied to the items from all iterables in parallel. With multiple iterables, the iterator stops when the shortest iterable is exhausted."
   ]
  },
  {
   "cell_type": "code",
   "execution_count": 10,
   "metadata": {},
   "outputs": [
    {
     "data": {
      "text/plain": [
       "<map at 0x11b557588>"
      ]
     },
     "execution_count": 10,
     "metadata": {},
     "output_type": "execute_result"
    }
   ],
   "source": [
    "map_res = map(abs,[-2,3,-5,6,-7])\n",
    "map_res"
   ]
  },
  {
   "cell_type": "code",
   "execution_count": 13,
   "metadata": {},
   "outputs": [
    {
     "data": {
      "text/plain": [
       "5"
      ]
     },
     "execution_count": 13,
     "metadata": {},
     "output_type": "execute_result"
    }
   ],
   "source": [
    "next(map_res)"
   ]
  },
  {
   "cell_type": "code",
   "execution_count": 14,
   "metadata": {},
   "outputs": [
    {
     "data": {
      "text/plain": [
       "[6, 7]"
      ]
     },
     "execution_count": 14,
     "metadata": {},
     "output_type": "execute_result"
    }
   ],
   "source": [
    "list(map_res)"
   ]
  },
  {
   "cell_type": "markdown",
   "metadata": {},
   "source": [
    "https://www.geeksforgeeks.org/python-map-function/"
   ]
  },
  {
   "cell_type": "code",
   "execution_count": 16,
   "metadata": {},
   "outputs": [],
   "source": [
    "# If the element in numbers3 is divisible by 3 compute the sum of the \n",
    "# corresponding elements from all three lists, otherwise take the \n",
    "# absolute difference between the first two corresponding elements \n",
    "# and add the reminder of the divison by 3 of the third element.\n",
    "\n",
    "numbers1 = [1, 2, 3, 4, 5, 6] \n",
    "numbers2 = [7, 8, 9, 10, 11, 12] \n",
    "numbers3 = [13, 14, 15, 16, 17, 18]"
   ]
  },
  {
   "cell_type": "code",
   "execution_count": 17,
   "metadata": {},
   "outputs": [
    {
     "data": {
      "text/plain": [
       "[7, 8, 27, 7, 8, 36]"
      ]
     },
     "execution_count": 17,
     "metadata": {},
     "output_type": "execute_result"
    }
   ],
   "source": [
    "result = map(lambda x, y, z: x + y + z if z%3 ==0 else abs(x-y)+z%3, \\\n",
    "             numbers1, numbers2, numbers3) \n",
    "list(result)\n"
   ]
  },
  {
   "cell_type": "code",
   "execution_count": 18,
   "metadata": {},
   "outputs": [
    {
     "name": "stdout",
     "output_type": "stream",
     "text": [
      "{8, 27, 36, 7} (7, 8, 27, 7, 8, 36)\n"
     ]
    }
   ],
   "source": [
    "def compute_res(x,y,z):\n",
    "    res = None\n",
    "    if z%3 == 0:\n",
    "        res = x+y+z\n",
    "    else:\n",
    "        res = abs(x-y)+z%3\n",
    "    return res\n",
    "\n",
    "\n",
    "result = map(compute_res, numbers1, numbers2, numbers3) \n",
    "set_res = set(result)\n",
    "result = map(compute_res, numbers1, numbers2, numbers3) \n",
    "tuple_res = tuple(result)\n",
    "\n",
    "print(set_res, tuple_res)"
   ]
  },
  {
   "cell_type": "markdown",
   "metadata": {},
   "source": [
    "`filter` - apply funtion to every element of an iterable\n",
    "https://docs.python.org/3/library/functions.html#filter\n",
    "\n",
    "`filter(function, iterable)`\n",
    "\n",
    "Construct an iterator from those elements of iterable for which function returns true. iterable may be either a sequence, a container which supports iteration, or an iterator. If function is None, the identity function is assumed, that is, all elements of iterable that are false are removed."
   ]
  },
  {
   "cell_type": "code",
   "execution_count": 19,
   "metadata": {},
   "outputs": [
    {
     "data": {
      "text/plain": [
       "<filter at 0x10c0625f8>"
      ]
     },
     "execution_count": 19,
     "metadata": {},
     "output_type": "execute_result"
    }
   ],
   "source": [
    "test_list = [3,4,5,6,7]\n",
    "result = filter(lambda x: x>4, test_list)\n",
    "result"
   ]
  },
  {
   "cell_type": "code",
   "execution_count": 20,
   "metadata": {},
   "outputs": [
    {
     "data": {
      "text/plain": [
       "[5, 6, 7]"
      ]
     },
     "execution_count": 20,
     "metadata": {},
     "output_type": "execute_result"
    }
   ],
   "source": [
    "list(result)"
   ]
  },
  {
   "cell_type": "code",
   "execution_count": 21,
   "metadata": {},
   "outputs": [],
   "source": [
    "result = filter(lambda x: 6>=x>=4, test_list)"
   ]
  },
  {
   "cell_type": "code",
   "execution_count": 25,
   "metadata": {},
   "outputs": [
    {
     "ename": "StopIteration",
     "evalue": "",
     "output_type": "error",
     "traceback": [
      "\u001b[0;31m---------------------------------------------------------------------------\u001b[0m",
      "\u001b[0;31mStopIteration\u001b[0m                             Traceback (most recent call last)",
      "\u001b[0;32m<ipython-input-25-709396a5599b>\u001b[0m in \u001b[0;36m<module>\u001b[0;34m\u001b[0m\n\u001b[0;32m----> 1\u001b[0;31m \u001b[0mnext\u001b[0m\u001b[0;34m(\u001b[0m\u001b[0mresult\u001b[0m\u001b[0;34m)\u001b[0m\u001b[0;34m\u001b[0m\u001b[0;34m\u001b[0m\u001b[0m\n\u001b[0m",
      "\u001b[0;31mStopIteration\u001b[0m: "
     ]
    }
   ],
   "source": [
    "next(result)"
   ]
  },
  {
   "cell_type": "code",
   "execution_count": 26,
   "metadata": {},
   "outputs": [
    {
     "data": {
      "text/plain": [
       "[4, 5, 6]"
      ]
     },
     "execution_count": 26,
     "metadata": {},
     "output_type": "execute_result"
    }
   ],
   "source": [
    "result = filter(lambda x: 6>=x>=4, test_list)\n",
    "list(result)"
   ]
  },
  {
   "cell_type": "code",
   "execution_count": 27,
   "metadata": {},
   "outputs": [
    {
     "data": {
      "text/plain": [
       "['EGFR', 'EGR']"
      ]
     },
     "execution_count": 27,
     "metadata": {},
     "output_type": "execute_result"
    }
   ],
   "source": [
    "gene_list = [\"PIK3CA\", \"EGFR\",\"EGR\", \"ABL\", \"PTEN\"]\n",
    "\n",
    "result = filter(lambda x: x.startswith(\"E\"), gene_list)\n",
    "list(result)"
   ]
  },
  {
   "cell_type": "code",
   "execution_count": 28,
   "metadata": {},
   "outputs": [
    {
     "data": {
      "text/plain": [
       "['spear', 'spare', 'parse']"
      ]
     },
     "execution_count": 28,
     "metadata": {},
     "output_type": "execute_result"
    }
   ],
   "source": [
    "# Python Program to find all anagrams of str in  \n",
    "# a list of strings. \n",
    "from collections import Counter \n",
    "  \n",
    "word_list = [\"spear\", \"print\", \"spare\", \"practice\", \"parse\"] \n",
    "word = \"pears\"\n",
    "  \n",
    "# use anonymous function to filter anagrams of x. \n",
    "# Please refer below article for details of reversed \n",
    "# https://www.geeksforgeeks.org/anagram-checking-python-collections-counter/ \n",
    "\n",
    "result = list(filter(lambda x: (Counter(word) == Counter(x)), word_list))  \n",
    "result"
   ]
  },
  {
   "cell_type": "markdown",
   "metadata": {},
   "source": [
    "Return all the elemnts with a value divisible by 7 and a key that starts with A in the following dictionary."
   ]
  },
  {
   "cell_type": "code",
   "execution_count": 32,
   "metadata": {},
   "outputs": [
    {
     "name": "stdout",
     "output_type": "stream",
     "text": [
      "dict_items([('ACE', 21), ('BAC', 7), ('AML', 5), ('ABL', 14), ('MAP', 3)])\n"
     ]
    },
    {
     "data": {
      "text/plain": [
       "<filter at 0x11b67cb70>"
      ]
     },
     "execution_count": 32,
     "metadata": {},
     "output_type": "execute_result"
    }
   ],
   "source": [
    "d = {\"ACE\": 21, \"BAC\":7, \"AML\":5, \"ABL\":14, \"MAP\":3}\n",
    "print(d.items())\n",
    "\n",
    "result = filter(lambda x: x[0].startswith(\"A\") and x[1]%7==0, d.items())  \n",
    "result\n"
   ]
  },
  {
   "cell_type": "code",
   "execution_count": 33,
   "metadata": {},
   "outputs": [
    {
     "data": {
      "text/plain": [
       "[('ACE', 21), ('ABL', 14)]"
      ]
     },
     "execution_count": 33,
     "metadata": {},
     "output_type": "execute_result"
    }
   ],
   "source": [
    "list(result)"
   ]
  },
  {
   "cell_type": "markdown",
   "metadata": {},
   "source": [
    "`reduce` - apply funtion to every element of an iterable\n",
    "https://docs.python.org/3/library/functools.html#functools.reduce\n",
    "\n",
    "`functools.reduce(function, iterable[, initializer])`\n",
    "\n",
    "<b>Apply function of two arguments cumulatively to the items of iterable, from left to right, so as to reduce the iterable to a single value</b>. For example, reduce(lambda x, y: x+y, [1, 2, 3, 4, 5]) calculates ((((1+2)+3)+4)+5). The left argument, x, is the accumulated value and the right argument, y, is the update value from the iterable. If the optional initializer is present, it is placed before the items of the iterable in the calculation, and serves as a default when the iterable is empty. If initializer is not given and iterable contains only one item, the first item is returned."
   ]
  },
  {
   "cell_type": "code",
   "execution_count": 35,
   "metadata": {},
   "outputs": [],
   "source": [
    "from functools import reduce"
   ]
  },
  {
   "cell_type": "code",
   "execution_count": 36,
   "metadata": {},
   "outputs": [
    {
     "data": {
      "text/plain": [
       "113"
      ]
     },
     "execution_count": 36,
     "metadata": {},
     "output_type": "execute_result"
    }
   ],
   "source": [
    "reduce(lambda x,y: x+y, [47,11,42,13])"
   ]
  },
  {
   "cell_type": "markdown",
   "metadata": {},
   "source": [
    "<img src = https://www.python-course.eu/images/reduce_diagram.png width=300/>\n",
    "\n",
    "https://www.python-course.eu/lambda.php"
   ]
  },
  {
   "cell_type": "markdown",
   "metadata": {},
   "source": [
    "https://www.geeksforgeeks.org/reduce-in-python/\n",
    "https://www.tutorialsteacher.com/python/python-reduce-function"
   ]
  },
  {
   "cell_type": "code",
   "execution_count": 37,
   "metadata": {},
   "outputs": [
    {
     "data": {
      "text/plain": [
       "21"
      ]
     },
     "execution_count": 37,
     "metadata": {},
     "output_type": "execute_result"
    }
   ],
   "source": [
    "test_list = [1,2,3,4,5,6]\n",
    "reduce(lambda x,y: x+y, test_list)"
   ]
  },
  {
   "cell_type": "code",
   "execution_count": 38,
   "metadata": {},
   "outputs": [
    {
     "data": {
      "text/plain": [
       "120"
      ]
     },
     "execution_count": 38,
     "metadata": {},
     "output_type": "execute_result"
    }
   ],
   "source": [
    "# compute factorial of n\n",
    "n=5\n",
    "reduce(lambda x,y: x*y, range(1,n+1))"
   ]
  },
  {
   "cell_type": "code",
   "execution_count": 39,
   "metadata": {},
   "outputs": [
    {
     "data": {
      "text/plain": [
       "{3, 4, 5}"
      ]
     },
     "execution_count": 39,
     "metadata": {},
     "output_type": "execute_result"
    }
   ],
   "source": [
    "#intersection of multiple lists\n",
    "#https://stackoverflow.com/questions/15995/useful-code-which-uses-reduce\n",
    "    \n",
    "test_list = [[1, 2, 3, 4, 5], [2, 3, 4, 5, 6], [3, 4, 5, 6, 7]]\n",
    "\n",
    "result = reduce(set.intersection, map(set, test_list))\n",
    "result"
   ]
  },
  {
   "cell_type": "code",
   "execution_count": null,
   "metadata": {},
   "outputs": [],
   "source": []
  },
  {
   "cell_type": "markdown",
   "metadata": {},
   "source": [
    "### Tool example"
   ]
  },
  {
   "cell_type": "markdown",
   "metadata": {},
   "source": [
    "#### ***NOTE***: This was not tested on **Windows**"
   ]
  },
  {
   "cell_type": "markdown",
   "metadata": {},
   "source": [
    "https://docs.python-guide.org/scenarios/cli/"
   ]
  },
  {
   "cell_type": "code",
   "execution_count": 40,
   "metadata": {},
   "outputs": [
    {
     "name": "stdout",
     "output_type": "stream",
     "text": [
      "mkdir: ProjectCM: File exists\n"
     ]
    }
   ],
   "source": [
    "!mkdir ProjectCM"
   ]
  },
  {
   "cell_type": "markdown",
   "metadata": {},
   "source": [
    "Copy/move the folder demoCM into ProjectCM. <br>\n",
    "Create a file \\_\\_main\\_\\_.py in demoCM."
   ]
  },
  {
   "cell_type": "markdown",
   "metadata": {},
   "source": [
    "```python\n",
    "import sys\n",
    "\n",
    "def main(args=None):\n",
    "    \"\"\"The main routine.\"\"\"\n",
    "    if args is None:\n",
    "        args = sys.argv[1:]\n",
    "\n",
    "    print(\"This is the main routine.\")\n",
    "    print(f\"It should do something interesting with the arguments: {args}.\")\n",
    "\n",
    "    # Do argument parsing here (eg. with argparse) and anything else\n",
    "    # you want your project to do.\n",
    "\n",
    "if __name__ == \"__main__\":\n",
    "    main()\n",
    "```"
   ]
  },
  {
   "cell_type": "code",
   "execution_count": 49,
   "metadata": {},
   "outputs": [
    {
     "name": "stdout",
     "output_type": "stream",
     "text": [
      "/Users/mitrea/Documents/CLASSES/BIOINF 575 FA 2019\n",
      "This is the main routine.\n",
      "It should do something interesting with the arguments: [].\n"
     ]
    }
   ],
   "source": [
    "# The python interpreter has -m module option that will run package module as a script.\n",
    "# It will run the __main__.py module for a package.\n",
    "!pwd\n",
    "!python -m ProjectCM.demoCM"
   ]
  },
  {
   "cell_type": "code",
   "execution_count": 50,
   "metadata": {},
   "outputs": [
    {
     "name": "stdout",
     "output_type": "stream",
     "text": [
      "/Users/mitrea/anaconda3/bin/python: No module named demoCM\n"
     ]
    }
   ],
   "source": [
    "!python -m demoCM arg1 arg2 arg3"
   ]
  },
  {
   "cell_type": "markdown",
   "metadata": {},
   "source": [
    "Example from:<br>\n",
    "https://chriswarrick.com/blog/2014/09/15/python-apps-the-right-way-entry_points-and-scripts/\n"
   ]
  },
  {
   "cell_type": "markdown",
   "metadata": {},
   "source": [
    "Create setup.py in ProjectCM.\n",
    "\n",
    "`setup.py` is the build script for setuptools. \n",
    "It provides setuptools with parameters which contain information about the package (e.g. name and version).\n",
    "\n",
    "Entry points allow building commandline tools that run funtions from the package modules."
   ]
  },
  {
   "cell_type": "markdown",
   "metadata": {},
   "source": [
    "```python\n",
    "from setuptools import setup\n",
    "\n",
    "setup(name='demoCM',\n",
    "      version='0.1.0',\n",
    "      packages=['demoCM'],\n",
    "      entry_points={\n",
    "          'console_scripts': [\n",
    "              'test_CM = demoCM.test:main', \n",
    "              'another_module_CM = demoCM.another_module:main'              \n",
    "          ]\n",
    "      },\n",
    "      )\n",
    "```"
   ]
  },
  {
   "cell_type": "code",
   "execution_count": 51,
   "metadata": {},
   "outputs": [
    {
     "name": "stdout",
     "output_type": "stream",
     "text": [
      "/Users/mitrea/Documents/CLASSES/BIOINF 575 FA 2019/ProjectCM\n"
     ]
    }
   ],
   "source": [
    "cd ProjectCM"
   ]
  },
  {
   "cell_type": "code",
   "execution_count": 52,
   "metadata": {},
   "outputs": [
    {
     "name": "stdout",
     "output_type": "stream",
     "text": [
      "running install\n",
      "running bdist_egg\n",
      "running egg_info\n",
      "writing demoCM.egg-info/PKG-INFO\n",
      "writing dependency_links to demoCM.egg-info/dependency_links.txt\n",
      "writing entry points to demoCM.egg-info/entry_points.txt\n",
      "writing top-level names to demoCM.egg-info/top_level.txt\n",
      "reading manifest file 'demoCM.egg-info/SOURCES.txt'\n",
      "writing manifest file 'demoCM.egg-info/SOURCES.txt'\n",
      "installing library code to build/bdist.macosx-10.7-x86_64/egg\n",
      "running install_lib\n",
      "running build_py\n",
      "creating build/bdist.macosx-10.7-x86_64/egg\n",
      "creating build/bdist.macosx-10.7-x86_64/egg/demoCM\n",
      "copying build/lib/demoCM/example1.py -> build/bdist.macosx-10.7-x86_64/egg/demoCM\n",
      "copying build/lib/demoCM/base_shiny_type.py -> build/bdist.macosx-10.7-x86_64/egg/demoCM\n",
      "copying build/lib/demoCM/__init__.py -> build/bdist.macosx-10.7-x86_64/egg/demoCM\n",
      "copying build/lib/demoCM/test.py -> build/bdist.macosx-10.7-x86_64/egg/demoCM\n",
      "copying build/lib/demoCM/enhanced_shiny_type.py -> build/bdist.macosx-10.7-x86_64/egg/demoCM\n",
      "copying build/lib/demoCM/another_module.py -> build/bdist.macosx-10.7-x86_64/egg/demoCM\n",
      "copying build/lib/demoCM/__main__.py -> build/bdist.macosx-10.7-x86_64/egg/demoCM\n",
      "byte-compiling build/bdist.macosx-10.7-x86_64/egg/demoCM/example1.py to example1.cpython-37.pyc\n",
      "byte-compiling build/bdist.macosx-10.7-x86_64/egg/demoCM/base_shiny_type.py to base_shiny_type.cpython-37.pyc\n",
      "byte-compiling build/bdist.macosx-10.7-x86_64/egg/demoCM/__init__.py to __init__.cpython-37.pyc\n",
      "byte-compiling build/bdist.macosx-10.7-x86_64/egg/demoCM/test.py to test.cpython-37.pyc\n",
      "byte-compiling build/bdist.macosx-10.7-x86_64/egg/demoCM/enhanced_shiny_type.py to enhanced_shiny_type.cpython-37.pyc\n",
      "byte-compiling build/bdist.macosx-10.7-x86_64/egg/demoCM/another_module.py to another_module.cpython-37.pyc\n",
      "byte-compiling build/bdist.macosx-10.7-x86_64/egg/demoCM/__main__.py to __main__.cpython-37.pyc\n",
      "creating build/bdist.macosx-10.7-x86_64/egg/EGG-INFO\n",
      "copying demoCM.egg-info/PKG-INFO -> build/bdist.macosx-10.7-x86_64/egg/EGG-INFO\n",
      "copying demoCM.egg-info/SOURCES.txt -> build/bdist.macosx-10.7-x86_64/egg/EGG-INFO\n",
      "copying demoCM.egg-info/dependency_links.txt -> build/bdist.macosx-10.7-x86_64/egg/EGG-INFO\n",
      "copying demoCM.egg-info/entry_points.txt -> build/bdist.macosx-10.7-x86_64/egg/EGG-INFO\n",
      "copying demoCM.egg-info/top_level.txt -> build/bdist.macosx-10.7-x86_64/egg/EGG-INFO\n",
      "zip_safe flag not set; analyzing archive contents...\n",
      "creating 'dist/demoCM-0.1.0-py3.7.egg' and adding 'build/bdist.macosx-10.7-x86_64/egg' to it\n",
      "removing 'build/bdist.macosx-10.7-x86_64/egg' (and everything under it)\n",
      "Processing demoCM-0.1.0-py3.7.egg\n",
      "Copying demoCM-0.1.0-py3.7.egg to /Users/mitrea/anaconda3/lib/python3.7/site-packages\n",
      "Adding demoCM 0.1.0 to easy-install.pth file\n",
      "Installing another_module_CM script to /Users/mitrea/anaconda3/bin\n",
      "Installing test_CM script to /Users/mitrea/anaconda3/bin\n",
      "\n",
      "Installed /Users/mitrea/anaconda3/lib/python3.7/site-packages/demoCM-0.1.0-py3.7.egg\n",
      "Processing dependencies for demoCM==0.1.0\n",
      "Finished processing dependencies for demoCM==0.1.0\n"
     ]
    }
   ],
   "source": [
    "!python setup.py install"
   ]
  },
  {
   "cell_type": "code",
   "execution_count": 55,
   "metadata": {},
   "outputs": [
    {
     "name": "stdout",
     "output_type": "stream",
     "text": [
      "demoCM.test\n",
      "None\n",
      "The test variable value is 10\n"
     ]
    }
   ],
   "source": [
    "!test_CM"
   ]
  },
  {
   "cell_type": "code",
   "execution_count": 56,
   "metadata": {},
   "outputs": [
    {
     "name": "stdout",
     "output_type": "stream",
     "text": [
      "Traceback (most recent call last):\n",
      "  File \"/Users/mitrea/anaconda3/bin/another_module_CM\", line 11, in <module>\n",
      "    load_entry_point('demoCM==0.1.0', 'console_scripts', 'another_module_CM')()\n",
      "  File \"/Users/mitrea/anaconda3/lib/python3.7/site-packages/pkg_resources/__init__.py\", line 489, in load_entry_point\n",
      "    return get_distribution(dist).load_entry_point(group, name)\n",
      "  File \"/Users/mitrea/anaconda3/lib/python3.7/site-packages/pkg_resources/__init__.py\", line 2793, in load_entry_point\n",
      "    return ep.load()\n",
      "  File \"/Users/mitrea/anaconda3/lib/python3.7/site-packages/pkg_resources/__init__.py\", line 2411, in load\n",
      "    return self.resolve()\n",
      "  File \"/Users/mitrea/anaconda3/lib/python3.7/site-packages/pkg_resources/__init__.py\", line 2417, in resolve\n",
      "    module = __import__(self.module_name, fromlist=['__name__'], level=0)\n",
      "  File \"/Users/mitrea/anaconda3/lib/python3.7/site-packages/demoCM-0.1.0-py3.7.egg/demoCM/another_module.py\", line 3, in <module>\n",
      "ModuleNotFoundError: No module named 'enhanced_shiny_type'\n"
     ]
    }
   ],
   "source": [
    "!another_module_CM"
   ]
  },
  {
   "cell_type": "markdown",
   "metadata": {},
   "source": [
    "Fix import issue by adding package name: package_name.module_name"
   ]
  },
  {
   "cell_type": "code",
   "execution_count": 57,
   "metadata": {},
   "outputs": [
    {
     "name": "stdout",
     "output_type": "stream",
     "text": [
      "running install\n",
      "running bdist_egg\n",
      "running egg_info\n",
      "writing demoCM.egg-info/PKG-INFO\n",
      "writing dependency_links to demoCM.egg-info/dependency_links.txt\n",
      "writing entry points to demoCM.egg-info/entry_points.txt\n",
      "writing top-level names to demoCM.egg-info/top_level.txt\n",
      "reading manifest file 'demoCM.egg-info/SOURCES.txt'\n",
      "writing manifest file 'demoCM.egg-info/SOURCES.txt'\n",
      "installing library code to build/bdist.macosx-10.7-x86_64/egg\n",
      "running install_lib\n",
      "running build_py\n",
      "copying demoCM/another_module.py -> build/lib/demoCM\n",
      "creating build/bdist.macosx-10.7-x86_64/egg\n",
      "creating build/bdist.macosx-10.7-x86_64/egg/demoCM\n",
      "copying build/lib/demoCM/example1.py -> build/bdist.macosx-10.7-x86_64/egg/demoCM\n",
      "copying build/lib/demoCM/base_shiny_type.py -> build/bdist.macosx-10.7-x86_64/egg/demoCM\n",
      "copying build/lib/demoCM/__init__.py -> build/bdist.macosx-10.7-x86_64/egg/demoCM\n",
      "copying build/lib/demoCM/test.py -> build/bdist.macosx-10.7-x86_64/egg/demoCM\n",
      "copying build/lib/demoCM/enhanced_shiny_type.py -> build/bdist.macosx-10.7-x86_64/egg/demoCM\n",
      "copying build/lib/demoCM/another_module.py -> build/bdist.macosx-10.7-x86_64/egg/demoCM\n",
      "copying build/lib/demoCM/__main__.py -> build/bdist.macosx-10.7-x86_64/egg/demoCM\n",
      "byte-compiling build/bdist.macosx-10.7-x86_64/egg/demoCM/example1.py to example1.cpython-37.pyc\n",
      "byte-compiling build/bdist.macosx-10.7-x86_64/egg/demoCM/base_shiny_type.py to base_shiny_type.cpython-37.pyc\n",
      "byte-compiling build/bdist.macosx-10.7-x86_64/egg/demoCM/__init__.py to __init__.cpython-37.pyc\n",
      "byte-compiling build/bdist.macosx-10.7-x86_64/egg/demoCM/test.py to test.cpython-37.pyc\n",
      "byte-compiling build/bdist.macosx-10.7-x86_64/egg/demoCM/enhanced_shiny_type.py to enhanced_shiny_type.cpython-37.pyc\n",
      "byte-compiling build/bdist.macosx-10.7-x86_64/egg/demoCM/another_module.py to another_module.cpython-37.pyc\n",
      "byte-compiling build/bdist.macosx-10.7-x86_64/egg/demoCM/__main__.py to __main__.cpython-37.pyc\n",
      "creating build/bdist.macosx-10.7-x86_64/egg/EGG-INFO\n",
      "copying demoCM.egg-info/PKG-INFO -> build/bdist.macosx-10.7-x86_64/egg/EGG-INFO\n",
      "copying demoCM.egg-info/SOURCES.txt -> build/bdist.macosx-10.7-x86_64/egg/EGG-INFO\n",
      "copying demoCM.egg-info/dependency_links.txt -> build/bdist.macosx-10.7-x86_64/egg/EGG-INFO\n",
      "copying demoCM.egg-info/entry_points.txt -> build/bdist.macosx-10.7-x86_64/egg/EGG-INFO\n",
      "copying demoCM.egg-info/top_level.txt -> build/bdist.macosx-10.7-x86_64/egg/EGG-INFO\n",
      "zip_safe flag not set; analyzing archive contents...\n",
      "creating 'dist/demoCM-0.1.0-py3.7.egg' and adding 'build/bdist.macosx-10.7-x86_64/egg' to it\n",
      "removing 'build/bdist.macosx-10.7-x86_64/egg' (and everything under it)\n",
      "Processing demoCM-0.1.0-py3.7.egg\n",
      "Removing /Users/mitrea/anaconda3/lib/python3.7/site-packages/demoCM-0.1.0-py3.7.egg\n",
      "Copying demoCM-0.1.0-py3.7.egg to /Users/mitrea/anaconda3/lib/python3.7/site-packages\n",
      "demoCM 0.1.0 is already the active version in easy-install.pth\n",
      "Installing another_module_CM script to /Users/mitrea/anaconda3/bin\n",
      "Installing test_CM script to /Users/mitrea/anaconda3/bin\n",
      "\n",
      "Installed /Users/mitrea/anaconda3/lib/python3.7/site-packages/demoCM-0.1.0-py3.7.egg\n",
      "Processing dependencies for demoCM==0.1.0\n",
      "Finished processing dependencies for demoCM==0.1.0\n"
     ]
    }
   ],
   "source": [
    "!python setup.py install"
   ]
  },
  {
   "cell_type": "code",
   "execution_count": 58,
   "metadata": {},
   "outputs": [
    {
     "name": "stdout",
     "output_type": "stream",
     "text": [
      "this is another script\n",
      "['/Users/mitrea/anaconda3/bin/another_module_CM']\n"
     ]
    }
   ],
   "source": [
    "!another_module_CM"
   ]
  },
  {
   "cell_type": "code",
   "execution_count": 59,
   "metadata": {},
   "outputs": [
    {
     "name": "stdout",
     "output_type": "stream",
     "text": [
      "running install\n",
      "running bdist_egg\n",
      "running egg_info\n",
      "writing demoCM.egg-info/PKG-INFO\n",
      "writing dependency_links to demoCM.egg-info/dependency_links.txt\n",
      "writing entry points to demoCM.egg-info/entry_points.txt\n",
      "writing top-level names to demoCM.egg-info/top_level.txt\n",
      "reading manifest file 'demoCM.egg-info/SOURCES.txt'\n",
      "writing manifest file 'demoCM.egg-info/SOURCES.txt'\n",
      "installing library code to build/bdist.macosx-10.7-x86_64/egg\n",
      "running install_lib\n",
      "running build_py\n",
      "copying demoCM/test.py -> build/lib/demoCM\n",
      "creating build/bdist.macosx-10.7-x86_64/egg\n",
      "creating build/bdist.macosx-10.7-x86_64/egg/demoCM\n",
      "copying build/lib/demoCM/example1.py -> build/bdist.macosx-10.7-x86_64/egg/demoCM\n",
      "copying build/lib/demoCM/base_shiny_type.py -> build/bdist.macosx-10.7-x86_64/egg/demoCM\n",
      "copying build/lib/demoCM/__init__.py -> build/bdist.macosx-10.7-x86_64/egg/demoCM\n",
      "copying build/lib/demoCM/test.py -> build/bdist.macosx-10.7-x86_64/egg/demoCM\n",
      "copying build/lib/demoCM/enhanced_shiny_type.py -> build/bdist.macosx-10.7-x86_64/egg/demoCM\n",
      "copying build/lib/demoCM/another_module.py -> build/bdist.macosx-10.7-x86_64/egg/demoCM\n",
      "copying build/lib/demoCM/__main__.py -> build/bdist.macosx-10.7-x86_64/egg/demoCM\n",
      "byte-compiling build/bdist.macosx-10.7-x86_64/egg/demoCM/example1.py to example1.cpython-37.pyc\n",
      "byte-compiling build/bdist.macosx-10.7-x86_64/egg/demoCM/base_shiny_type.py to base_shiny_type.cpython-37.pyc\n",
      "byte-compiling build/bdist.macosx-10.7-x86_64/egg/demoCM/__init__.py to __init__.cpython-37.pyc\n",
      "byte-compiling build/bdist.macosx-10.7-x86_64/egg/demoCM/test.py to test.cpython-37.pyc\n",
      "byte-compiling build/bdist.macosx-10.7-x86_64/egg/demoCM/enhanced_shiny_type.py to enhanced_shiny_type.cpython-37.pyc\n",
      "byte-compiling build/bdist.macosx-10.7-x86_64/egg/demoCM/another_module.py to another_module.cpython-37.pyc\n",
      "byte-compiling build/bdist.macosx-10.7-x86_64/egg/demoCM/__main__.py to __main__.cpython-37.pyc\n",
      "creating build/bdist.macosx-10.7-x86_64/egg/EGG-INFO\n",
      "copying demoCM.egg-info/PKG-INFO -> build/bdist.macosx-10.7-x86_64/egg/EGG-INFO\n",
      "copying demoCM.egg-info/SOURCES.txt -> build/bdist.macosx-10.7-x86_64/egg/EGG-INFO\n",
      "copying demoCM.egg-info/dependency_links.txt -> build/bdist.macosx-10.7-x86_64/egg/EGG-INFO\n",
      "copying demoCM.egg-info/entry_points.txt -> build/bdist.macosx-10.7-x86_64/egg/EGG-INFO\n",
      "copying demoCM.egg-info/top_level.txt -> build/bdist.macosx-10.7-x86_64/egg/EGG-INFO\n",
      "zip_safe flag not set; analyzing archive contents...\n",
      "creating 'dist/demoCM-0.1.0-py3.7.egg' and adding 'build/bdist.macosx-10.7-x86_64/egg' to it\n",
      "removing 'build/bdist.macosx-10.7-x86_64/egg' (and everything under it)\n",
      "Processing demoCM-0.1.0-py3.7.egg\n",
      "Removing /Users/mitrea/anaconda3/lib/python3.7/site-packages/demoCM-0.1.0-py3.7.egg\n",
      "Copying demoCM-0.1.0-py3.7.egg to /Users/mitrea/anaconda3/lib/python3.7/site-packages\n",
      "demoCM 0.1.0 is already the active version in easy-install.pth\n",
      "Installing another_module_CM script to /Users/mitrea/anaconda3/bin\n",
      "Installing test_CM script to /Users/mitrea/anaconda3/bin\n",
      "\n",
      "Installed /Users/mitrea/anaconda3/lib/python3.7/site-packages/demoCM-0.1.0-py3.7.egg\n",
      "Processing dependencies for demoCM==0.1.0\n",
      "Finished processing dependencies for demoCM==0.1.0\n"
     ]
    }
   ],
   "source": [
    "# Move argument parsing to main function\n",
    "!python setup.py install"
   ]
  },
  {
   "cell_type": "code",
   "execution_count": 60,
   "metadata": {},
   "outputs": [
    {
     "name": "stdout",
     "output_type": "stream",
     "text": [
      "demoCM.test\n",
      "None\n",
      "The test variable value is 10\n",
      "usage: test_CM [-h] -l LIST_OPERAND -s STRING_OPERAND -n NUMBER_OPERAND [-v]\n",
      "\n",
      "optional arguments:\n",
      "  -h, --help            show this help message and exit\n",
      "  -l LIST_OPERAND, --list_operand LIST_OPERAND\n",
      "                        list operand\n",
      "  -s STRING_OPERAND, --string_operand STRING_OPERAND\n",
      "                        string operand\n",
      "  -n NUMBER_OPERAND, --number_operand NUMBER_OPERAND\n",
      "                        number operand\n",
      "  -v, --verbose\n"
     ]
    }
   ],
   "source": [
    "!test_CM -h"
   ]
  },
  {
   "cell_type": "code",
   "execution_count": 61,
   "metadata": {},
   "outputs": [
    {
     "name": "stdout",
     "output_type": "stream",
     "text": [
      "demoCM.test\n",
      "None\n",
      "The test variable value is 10\n",
      "{'list_operand': '[1,2,3,4]', 'string_operand': 'hello', 'number_operand': '5', 'verbose': 0}\n",
      "With argparse. Info hello, for updated list [ 5 10 15 20]\n"
     ]
    }
   ],
   "source": [
    "!test_CM -l [1,2,3,4] -s hello -n 5"
   ]
  },
  {
   "cell_type": "markdown",
   "metadata": {},
   "source": [
    " "
   ]
  },
  {
   "cell_type": "markdown",
   "metadata": {},
   "source": [
    "\n",
    "Example of a package PyVCF:\n",
    "    \n",
    "https://github.com/jamescasbon/PyVCF/blob/master/setup.py\n",
    "    \n"
   ]
  },
  {
   "cell_type": "markdown",
   "metadata": {},
   "source": [
    "More resources:"
   ]
  },
  {
   "cell_type": "markdown",
   "metadata": {},
   "source": [
    "https://python-packaging-tutorial.readthedocs.io/en/latest/setup_py.html <br>\n",
    "https://python-packaging.readthedocs.io/en/latest/command-line-scripts.html <br>\n",
    "https://www.geeksforgeeks.org/command-line-scripts-python-packaging/ <br>\n",
    "https://www.w3schools.com/python/python_modules.asp <br>\n",
    "https://click.palletsprojects.com/en/7.x/ <br>\n",
    "https://packaging.python.org/tutorials/packaging-projects/\n"
   ]
  },
  {
   "cell_type": "markdown",
   "metadata": {},
   "source": [
    "### Subprocesses"
   ]
  },
  {
   "cell_type": "markdown",
   "metadata": {},
   "source": [
    "One of the biggest strengths of Python is that it can be used as a *glue* language. <br>\n",
    "It can 'glue' together a series of programs into a flexible and highly extensible pipline."
   ]
  },
  {
   "cell_type": "markdown",
   "metadata": {},
   "source": [
    "### Why subprocesses\n",
    "One of the most common, yet complicated, tasks that most programming languages need to do is creating new processes. <br>\n",
    "This could be as simple as seeing what files are present in the current working directory (`ls`) or as complicated as creating a program workflow that *pipes* output from one program into another program's input. <br/><br/>\n",
    "Many such tasks are easily taken care of through the use of Python libraries and modules (`import`) that *wrap* the programs into Python code, effectively creating Application Programming Interfaces (API). <br/><br/>\n",
    "However, there are many use cases that require the user to make calls to the terminal from ***within*** a Python program."
   ]
  },
  {
   "cell_type": "markdown",
   "metadata": {},
   "source": [
    "#### Operating System Conundrum"
   ]
  },
  {
   "cell_type": "markdown",
   "metadata": {},
   "source": [
    "First, we need to address the following issue. As many in this class have found out, while Python can be installed on most operating systems; doing the same thing in one operating system (Unix) may not always yield the same results in another (Windows).<br/><br/>\n",
    "The very first step to making a program **\"OS-agnostic\"** is through the use of the `os` module."
   ]
  },
  {
   "cell_type": "code",
   "execution_count": 67,
   "metadata": {},
   "outputs": [],
   "source": [
    "import os"
   ]
  },
  {
   "cell_type": "markdown",
   "metadata": {},
   "source": [
    "https://docs.python.org/3/library/os.html"
   ]
  },
  {
   "cell_type": "code",
   "execution_count": null,
   "metadata": {},
   "outputs": [],
   "source": [
    "#dir(os)"
   ]
  },
  {
   "cell_type": "code",
   "execution_count": null,
   "metadata": {},
   "outputs": [],
   "source": [
    "for elem in dir(os):\n",
    "    if \"error\" in elem:\n",
    "        print(elem)"
   ]
  },
  {
   "cell_type": "code",
   "execution_count": null,
   "metadata": {},
   "outputs": [],
   "source": [
    "# The name of the operating system dependent module imported. \n",
    "# The following names have currently been registered: 'posix', 'nt', 'java'\n",
    "# Portable Operating System Interface -  IEEE standard designed to facilitate application portability\n",
    "# (Windows) New Technology - a 32-bit operating system that supports preemptive multitasking\n",
    "# \n",
    "os.name"
   ]
  },
  {
   "cell_type": "code",
   "execution_count": null,
   "metadata": {},
   "outputs": [],
   "source": [
    "# Returns information identifying the current operating system. The return value is an object with five attributes:\n",
    "# - sysname - operating system name\n",
    "# - nodename - name of machine on network (implementation-defined)\n",
    "# - release - operating system release\n",
    "# - version - operating system version\n",
    "# - machine - hardware identifier\n",
    "\n",
    "os.uname()"
   ]
  },
  {
   "cell_type": "code",
   "execution_count": null,
   "metadata": {},
   "outputs": [],
   "source": [
    "import sys\n",
    "\n",
    "# https://docs.python.org/3/library/sys.html\n",
    "# This string contains a platform identifier that can be used to append platform-specific components\n",
    "# to sys.path, for instance.\n",
    "    \n",
    "sys.platform"
   ]
  },
  {
   "cell_type": "code",
   "execution_count": null,
   "metadata": {},
   "outputs": [],
   "source": [
    "# A list of strings that specifies the search path for modules. \n",
    "\n",
    "sys.path"
   ]
  },
  {
   "cell_type": "code",
   "execution_count": null,
   "metadata": {},
   "outputs": [],
   "source": [
    "# A mapping object representing the string environment.\n",
    "\n",
    "os.environ['HOME']"
   ]
  },
  {
   "cell_type": "code",
   "execution_count": null,
   "metadata": {},
   "outputs": [],
   "source": [
    "os.environ"
   ]
  },
  {
   "cell_type": "code",
   "execution_count": null,
   "metadata": {},
   "outputs": [],
   "source": [
    "#Return the value of the environment variable key if it exists, \n",
    "#or default if it doesn’t. key, default and the result are str.\n",
    "\n",
    "os.getenv(\"HOME\")"
   ]
  },
  {
   "cell_type": "code",
   "execution_count": null,
   "metadata": {},
   "outputs": [],
   "source": [
    "os.getenv(\"PATH\")"
   ]
  },
  {
   "cell_type": "code",
   "execution_count": null,
   "metadata": {},
   "outputs": [],
   "source": [
    "# Returns the list of directories that will be searched for a named executable,\n",
    "#similar to a shell, when launching a process. \n",
    "# env, when specified, should be an environment variable dictionary to lookup the PATH in. \n",
    "# By default, when env is None, environ is used.\n",
    "\n",
    "os.get_exec_path()"
   ]
  },
  {
   "cell_type": "markdown",
   "metadata": {},
   "source": [
    "The `os` module wraps OS-specific operations into a set of standardized commands. <br>\n",
    "For instance, the Linux end-of-line (EOL) character is a `\\n`, but `\\r\\n` in Windows. <br>\n",
    "In Python, we can just use the following:"
   ]
  },
  {
   "cell_type": "code",
   "execution_count": 68,
   "metadata": {},
   "outputs": [
    {
     "data": {
      "text/plain": [
       "'\\n'"
      ]
     },
     "execution_count": 68,
     "metadata": {},
     "output_type": "execute_result"
    }
   ],
   "source": [
    "# EOL - for the current (detected) environment\n",
    "\n",
    "'''\n",
    "The string used to separate (or, rather, terminate) lines on the current platform. \n",
    "This may be a single character, such as '\\n' for POSIX, or multiple characters, \n",
    "for example, '\\r\\n' for Windows. \n",
    "Do not use os.linesep as a line terminator when writing files opened in text mode (the default); \n",
    "use a single '\\n' instead, on all platforms.\n",
    "'''\n",
    "\n",
    "os.linesep"
   ]
  },
  {
   "cell_type": "markdown",
   "metadata": {},
   "source": [
    "Another example, in a Linux environment, one must use the following command to list the contents of a given directory:\n",
    "```\n",
    "ls -alh \n",
    "```\n",
    "\n",
    "In Windows, the equivalent is as follows:\n",
    "```\n",
    "dir\n",
    "```\n",
    "\n",
    "Python allows users to do a single command, in spite of the OS:"
   ]
  },
  {
   "cell_type": "code",
   "execution_count": 69,
   "metadata": {},
   "outputs": [
    {
     "data": {
      "text/plain": [
       "['base_shiny_type.py',\n",
       " '__init__.py',\n",
       " '__pycache__',\n",
       " 'test.py',\n",
       " 'enhanced_shiny_type.py',\n",
       " 'another_module.py',\n",
       " '.ipynb_checkpoints',\n",
       " '__main__.py']"
      ]
     },
     "execution_count": 69,
     "metadata": {},
     "output_type": "execute_result"
    }
   ],
   "source": [
    "# List directory contents\n",
    "\n",
    "os.listdir(\"demoCM\")"
   ]
  },
  {
   "cell_type": "markdown",
   "metadata": {},
   "source": [
    "However, the biggest issue for creating an OS-agnostic program is ***paths*** <br/>\n",
    "Windows: `\"C:\\\\Users\\\\MDS\\\\Documents\"`<br/>\n",
    "Linux: `/mnt/c/Users/MDS/Documents/`<br/><br/>\n",
    "Enter Python:"
   ]
  },
  {
   "cell_type": "code",
   "execution_count": 70,
   "metadata": {},
   "outputs": [
    {
     "data": {
      "text/plain": [
       "'/Users/mitrea/Documents/CLASSES/BIOINF 575 FA 2019/test.py'"
      ]
     },
     "execution_count": 70,
     "metadata": {},
     "output_type": "execute_result"
    }
   ],
   "source": [
    "# path joining from pwd\n",
    "pwd = os.getcwd()\n",
    "os.path.join(pwd,\"test.py\")"
   ]
  },
  {
   "cell_type": "markdown",
   "metadata": {},
   "source": [
    "### `subprocess`"
   ]
  },
  {
   "cell_type": "markdown",
   "metadata": {},
   "source": [
    "If you Google anything on how to run shell commands, but don't specify Python 3.x, you will likely get an answer that includes `popen`, `popen2`, or `popen3`. These were the most prolific ways to *open* a new *p*rocess. In Python 3.x, they encapsulated these functions into a new one called `run` available through the `subprocess` library."
   ]
  },
  {
   "cell_type": "code",
   "execution_count": 71,
   "metadata": {},
   "outputs": [],
   "source": [
    "# Import and alias\n",
    "import subprocess as sp"
   ]
  },
  {
   "cell_type": "markdown",
   "metadata": {},
   "source": [
    "#### `check_output`"
   ]
  },
  {
   "cell_type": "code",
   "execution_count": 72,
   "metadata": {},
   "outputs": [
    {
     "data": {
      "text/plain": [
       "'test\\n'"
      ]
     },
     "execution_count": 72,
     "metadata": {},
     "output_type": "execute_result"
    }
   ],
   "source": [
    "# check_output returns a bytestring by default, so I set encoding to convert it to strings.\n",
    "# [command, command line arguments]\n",
    "# change from bytes to string using encoding\n",
    "\n",
    "sp.check_output([\"echo\",\"test\"],encoding='utf_8')"
   ]
  },
  {
   "cell_type": "code",
   "execution_count": 73,
   "metadata": {},
   "outputs": [
    {
     "data": {
      "text/plain": [
       "\"__main__\\nThe test variable value is 10\\nNumber of arguments: 2\\nArgument List: ['/Users/mitrea/Documents/CLASSES/BIOINF 575 FA 2019/test.py', '[1,2,3]']\\n[1,2,3]\\nThe mean of my array is 2.0\\n\""
      ]
     },
     "execution_count": 73,
     "metadata": {},
     "output_type": "execute_result"
    }
   ],
   "source": [
    "sp.check_output([os.path.join(pwd,\"test.py\"),\"[1,2,3]\"],encoding='utf_8')"
   ]
  },
  {
   "cell_type": "markdown",
   "metadata": {},
   "source": [
    "The first thing we will look are trivial examples that demonstrate just capturing the *output* (stdout) of a program"
   ]
  },
  {
   "cell_type": "markdown",
   "metadata": {},
   "source": [
    "However, while the `check_output` function is still in the `subprocess` module, it can easily be converted into into a more specific and/or flexible `run` function signature."
   ]
  },
  {
   "cell_type": "markdown",
   "metadata": {},
   "source": [
    "#### `run`"
   ]
  },
  {
   "cell_type": "code",
   "execution_count": null,
   "metadata": {},
   "outputs": [],
   "source": [
    "sub = sp.run(\n",
    "    [\n",
    "        'echo',             # The command we want to run\n",
    "        'test'              # Arguments for the command\n",
    "    ],\n",
    "    encoding='utf_8',       # Converting byte code\n",
    "    stdout=sp.PIPE,         # Where to send the output\n",
    "    check=True              # Whether to raise an error if the process fails\n",
    ")  \n",
    "sub"
   ]
  },
  {
   "cell_type": "code",
   "execution_count": null,
   "metadata": {},
   "outputs": [],
   "source": [
    "dir(sub)"
   ]
  },
  {
   "cell_type": "code",
   "execution_count": null,
   "metadata": {},
   "outputs": [],
   "source": [
    "print(sub.stdout)"
   ]
  },
  {
   "cell_type": "markdown",
   "metadata": {},
   "source": [
    "The main utility of `check_output` was to capture the output (stdout) of a program. <br>\n",
    "By using the `stdout=subprocess.PIPE` argument, the output can easily be captured, along with its return code. <br>\n",
    "A return code signifies the program's exit status: 0 for success, anything else otherwise"
   ]
  },
  {
   "cell_type": "code",
   "execution_count": null,
   "metadata": {},
   "outputs": [],
   "source": [
    "sub.returncode"
   ]
  },
  {
   "cell_type": "markdown",
   "metadata": {},
   "source": [
    "With our `run` code above, our program ran to completetion, exiting with status 0. The next example shows a different status."
   ]
  },
  {
   "cell_type": "code",
   "execution_count": null,
   "metadata": {},
   "outputs": [],
   "source": [
    "sp.run(\n",
    "        'exit 1',      # Command & arguments\n",
    "        shell = True   # Run from the shell\n",
    "        )\n"
   ]
  },
  {
   "cell_type": "markdown",
   "metadata": {},
   "source": [
    "However, if the `check=True` argument is used, it will raise a `CalledProcessError` if your program exits with anything different than 0. This is helpful for detecting a pipeline failure, and exiting or correcting before attempting to continue computation."
   ]
  },
  {
   "cell_type": "code",
   "execution_count": null,
   "metadata": {},
   "outputs": [],
   "source": [
    "sp.run(\n",
    "        'exit 1',      # Command & arguments\n",
    "        shell = True,  # Run from the shell\n",
    "        check = True   # Check exit status\n",
    "    )"
   ]
  },
  {
   "cell_type": "code",
   "execution_count": null,
   "metadata": {},
   "outputs": [],
   "source": [
    "sub = sp.run(\n",
    "        'exit 1',      # Command & arguments\n",
    "        shell = True,  # Run from the shell\n",
    "        # check = True   # Check exit status\n",
    "    )\n",
    "if (sub.returncode != 0):\n",
    "    print(f\"Exit code {sub.returncode}. Expected 0 when there is no error.\")"
   ]
  },
  {
   "cell_type": "markdown",
   "metadata": {},
   "source": [
    "#### Syntax"
   ]
  },
  {
   "cell_type": "markdown",
   "metadata": {},
   "source": [
    "Syntax when using `run`:<br/>\n",
    "1. A list of arguments: `subprocess.run(['echo', 'test', ...], ...)` \n",
    "2. A string and `shell`: `subprocess.run('exit 1', shell = True, ...)`"
   ]
  },
  {
   "cell_type": "markdown",
   "metadata": {},
   "source": [
    "The preferred way of using `run` is the first way. <br>\n",
    "This preference is mainly due to security purposes (to prevent shell injection attacks). <br>\n",
    "It also allows the module to take care of any required escaping and quoting of arguments for a pseudo-OS-agnostic approach. "
   ]
  },
  {
   "cell_type": "markdown",
   "metadata": {},
   "source": [
    "There are some guidelines though:\n",
    "1. Sequence (list) of arguments is generally preferred\n",
    "2. A str is appropriate if the user is just calling a program with no arguments\n",
    "3. The user should use a str to pass argument if `shell` is `True`<br/>\n",
    "Your next questions should be, \"What is `shell`?\""
   ]
  },
  {
   "cell_type": "markdown",
   "metadata": {},
   "source": [
    "`shell` is just your terminal/command prompt. This is the environment where you call `ls/dir` in. It is also where users can define variables. More importantly, this is where your *environmental variables* are set...like `PATH`.<br/><br/>\n",
    "By using `shell = True`, the user can now use shell-based environmental variable expansion from within a Python program."
   ]
  },
  {
   "cell_type": "code",
   "execution_count": null,
   "metadata": {},
   "outputs": [],
   "source": [
    "sp.run(\n",
    "        'echo $PATH',            # Command\n",
    "        shell = True,            # Use the shell\n",
    "        stdout=sp.PIPE,          # Where to send it\n",
    "        encoding='utf_8'         # Convert from bytes to string\n",
    "    )      # Look at the output\n"
   ]
  },
  {
   "cell_type": "code",
   "execution_count": null,
   "metadata": {},
   "outputs": [],
   "source": [
    "p1 = sp.run(\n",
    "        'sleep 5',               # Command\n",
    "        shell = True,            # Use the shell\n",
    "        stdout=sp.PIPE,          # Where to send it\n",
    "        encoding='utf_8'         # Convert from bytes to string\n",
    "    )\n",
    "print(p1)\n",
    "p2 = sp.run(\n",
    "        'echo done',             # Command\n",
    "        shell = True,            # Use the shell\n",
    "        stdout=sp.PIPE,          # Where to send it\n",
    "        encoding='utf_8'         # Convert from bytes to string\n",
    "    )\n",
    "print(p2)"
   ]
  },
  {
   "cell_type": "markdown",
   "metadata": {},
   "source": [
    "For the most part, you shouldn't need to use `shell` simply because Python has modules in the standard library that can do most of the shell commands. For example `mkdir` can be done with `os.mkdir()`, and `$PATH` can be retrieved using os.getenv(\"PATH\") or os.get_exec_path() as shown above. "
   ]
  },
  {
   "cell_type": "markdown",
   "metadata": {},
   "source": [
    "#### Blocking vs Non-blocking"
   ]
  },
  {
   "cell_type": "markdown",
   "metadata": {},
   "source": [
    "The last topic of this lecture is \"blocking\". This is computer science lingo/jargon for whether or not a program ***waits*** until something is complete before moving on. Think of this like a really bad website that takes forever to load because it is waiting until it has rendered all its images first, versus the website that sets the formatting and text while it works on the images."
   ]
  },
  {
   "cell_type": "markdown",
   "metadata": {},
   "source": [
    "1. `subprocess.run()` is blocking (it waits until the process is complete)\n",
    "2. `subprocess.Popen()` is non-blocking (it will run the command, then move on)"
   ]
  },
  {
   "cell_type": "markdown",
   "metadata": {},
   "source": [
    "***Most*** use cases can be handled through the use of `run()`.<br> \n",
    "`run()` is just a *wrapped* version of `Popen()` that simplifies use. <br>\n",
    "However, `Popen()` allows the user a more flexible control of the subprocess call. <br>\n",
    "`Popen()` can be used similar way as run (with more optional parameters)."
   ]
  },
  {
   "cell_type": "markdown",
   "metadata": {},
   "source": [
    "An example use case for `Popen()` is if the user has some intermediate data that needs to get processed, but the output of that data doesn't necessarily affect the rest of the pipeline."
   ]
  },
  {
   "cell_type": "markdown",
   "metadata": {},
   "source": [
    "#### `Popen`"
   ]
  },
  {
   "cell_type": "code",
   "execution_count": null,
   "metadata": {},
   "outputs": [],
   "source": [
    "p1 = sp.Popen(\n",
    "        'sleep 5',               # Command\n",
    "        shell = True,            # Use the shell\n",
    "        stdout=sp.PIPE,          # Where to send it\n",
    "        encoding='utf_8'         # Convert from bytes to string\n",
    "    )\n",
    "print(p1)\n",
    "p2 = sp.Popen(\n",
    "        'echo done',             # Command\n",
    "        shell = True,            # Use the shell\n",
    "        stdout=sp.PIPE,          # Where to send it\n",
    "        encoding='utf_8'         # Convert from bytes to string\n",
    "    )\n",
    "print(p2)\n",
    "print(\"processes ran\")\n",
    "\n",
    "print(p1.stdout.read())\n",
    "print(p2.stdout.read())\n",
    "print(\"processes completed\")\n",
    "\n"
   ]
  },
  {
   "cell_type": "code",
   "execution_count": null,
   "metadata": {},
   "outputs": [],
   "source": [
    "# Use context manager to handle process while it is running,\n",
    "# and gracefully close it\n",
    "with sp.Popen(\n",
    "    [\n",
    "        'echo',         # Command\n",
    "        'here we are'       # Command line arguments\n",
    "    ],\n",
    "    encoding='utf_8', # Convert from byte to string\n",
    "    stdout=sp.PIPE    # Where to send it\n",
    ") as proc:            # Enclose and alias the context manager\n",
    "    print(\n",
    "        proc.stdout.read() # Look at the output\n",
    "    )"
   ]
  },
  {
   "cell_type": "code",
   "execution_count": null,
   "metadata": {},
   "outputs": [],
   "source": [
    "for elem in dir(proc):\n",
    "    if not elem.startswith('_'):\n",
    "        print(elem)"
   ]
  },
  {
   "cell_type": "markdown",
   "metadata": {},
   "source": [
    "#### ***NOTE***: From here on out, there might be different commands used for **Linux** / **MacOS** or **Windows**"
   ]
  },
  {
   "cell_type": "code",
   "execution_count": null,
   "metadata": {},
   "outputs": [],
   "source": [
    "#test_pipe.txt - a file to be used to demonstrate pipe of cat and sort \n",
    "!echo testing > test_pipe.txt\n",
    "!echo the >> test_pipe.txt\n",
    "!echo subprocess >> test_pipe.txt\n",
    "!echo pipe >> test_pipe.txt\n"
   ]
  },
  {
   "cell_type": "code",
   "execution_count": null,
   "metadata": {},
   "outputs": [],
   "source": [
    "# mac OS\n",
    "p1 = sp.Popen(['cat','test_pipe.txt'], stdout=sp.PIPE, encoding='utf_8')\n",
    "\n",
    "# windows OS\n",
    "# p1 = sp.Popen(['type','test_pipe.txt'], stdout=sp.PIPE, encoding='utf_8')\n",
    "\n",
    "print(p1.stdout.read())"
   ]
  },
  {
   "cell_type": "code",
   "execution_count": null,
   "metadata": {},
   "outputs": [],
   "source": [
    "# mac OS\n",
    "p1 = sp.Popen(['cat','test_pipe.txt'], stdout=sp.PIPE, encoding='utf_8')\n",
    "\n",
    "# windows OS\n",
    "# p1 = sp.Popen(['type','test_pipe.txt'], stdout=sp.PIPE, encoding='utf_8')\n",
    "\n",
    "\n",
    "p2 = sp.Popen(['sort'], stdin=p1.stdout, stdout=sp.PIPE, encoding='utf_8')\n",
    "p1.stdout.close()  # Allow p1 to receive a SIGPIPE if p2 exits\n",
    "output = p2.communicate()[0]\n",
    "print(output)\n"
   ]
  },
  {
   "cell_type": "markdown",
   "metadata": {},
   "source": [
    "`Popen` can create background processes, shell-background-like behavior means not blocking. <br>\n",
    "`Popen` has a lot more functionality than `run`."
   ]
  },
  {
   "cell_type": "code",
   "execution_count": null,
   "metadata": {},
   "outputs": [],
   "source": [
    "sub_popen = sp.Popen(\n",
    "    [\n",
    "        'echo',          # Command\n",
    "        'test',        # Command line arguments\n",
    "    ],\n",
    "    encoding='utf_8',  # Convert from byte to string\n",
    "    stdout=sp.PIPE     # Where to send it\n",
    ")\n",
    "for j in dir(sub_popen):\n",
    "    if not j.startswith('_'):\n",
    "        print(j)\n"
   ]
  },
  {
   "cell_type": "code",
   "execution_count": null,
   "metadata": {},
   "outputs": [],
   "source": [
    "sub_popen.kill()       # Close the process"
   ]
  },
  {
   "cell_type": "markdown",
   "metadata": {},
   "source": [
    "Example creating child process.<br>\n",
    "https://pymotw.com/3/subprocess/\n",
    "\n",
    "A collection of `Popen` examples: <br>\n",
    "https://www.programcreek.com/python/example/50/subprocess.Popen"
   ]
  },
  {
   "cell_type": "code",
   "execution_count": null,
   "metadata": {},
   "outputs": [],
   "source": []
  }
 ],
 "metadata": {
  "kernelspec": {
   "display_name": "Python 3",
   "language": "python",
   "name": "python3"
  },
  "language_info": {
   "codemirror_mode": {
    "name": "ipython",
    "version": 3
   },
   "file_extension": ".py",
   "mimetype": "text/x-python",
   "name": "python",
   "nbconvert_exporter": "python",
   "pygments_lexer": "ipython3",
   "version": "3.7.3"
  }
 },
 "nbformat": 4,
 "nbformat_minor": 2
}
