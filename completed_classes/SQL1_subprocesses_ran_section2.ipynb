{
 "cells": [
  {
   "cell_type": "markdown",
   "metadata": {},
   "source": [
    "### Subprocesses"
   ]
  },
  {
   "cell_type": "markdown",
   "metadata": {},
   "source": [
    "One of the biggest strengths of Python is that it can be used as a *glue* language. <br>\n",
    "It can 'glue' together a series of programs into a flexible and highly extensible pipline."
   ]
  },
  {
   "cell_type": "markdown",
   "metadata": {},
   "source": [
    "### Why subprocesses\n",
    "One of the most common, yet complicated, tasks that most programming languages need to do is creating new processes. <br>\n",
    "This could be as simple as seeing what files are present in the current working directory (`ls`) or as complicated as creating a program workflow that *pipes* output from one program into another program's input. <br/><br/>\n",
    "Many such tasks are easily taken care of through the use of Python libraries and modules (`import`) that *wrap* the programs into Python code, effectively creating Application Programming Interfaces (API). <br/><br/>\n",
    "However, there are many use cases that require the user to make calls to the terminal from ***within*** a Python program."
   ]
  },
  {
   "cell_type": "markdown",
   "metadata": {},
   "source": [
    "#### Operating System Conundrum"
   ]
  },
  {
   "cell_type": "markdown",
   "metadata": {},
   "source": [
    "As many in this class have found out, while Python can be installed on most operating systems; doing the same thing in one operating system (Unix) may not always yield the same results in another (Windows).<br/><br/>\n",
    "The very first step to making a program **\"OS-agnostic\"** is through the use of the `os` module."
   ]
  },
  {
   "cell_type": "code",
   "execution_count": 1,
   "metadata": {},
   "outputs": [],
   "source": [
    "import os"
   ]
  },
  {
   "cell_type": "markdown",
   "metadata": {},
   "source": [
    "https://docs.python.org/3/library/os.html"
   ]
  },
  {
   "cell_type": "code",
   "execution_count": 3,
   "metadata": {},
   "outputs": [],
   "source": [
    "#dir(os)"
   ]
  },
  {
   "cell_type": "code",
   "execution_count": 4,
   "metadata": {},
   "outputs": [
    {
     "name": "stdout",
     "output_type": "stream",
     "text": [
      "Help on built-in function getcwd in module posix:\n",
      "\n",
      "getcwd()\n",
      "    Return a unicode string representing the current working directory.\n",
      "\n"
     ]
    }
   ],
   "source": [
    "help(os.getcwd)"
   ]
  },
  {
   "cell_type": "code",
   "execution_count": 5,
   "metadata": {},
   "outputs": [
    {
     "data": {
      "text/plain": [
       "'/Users/mitrea/Documents/CLASSES/BIOINF 575 FA 2019'"
      ]
     },
     "execution_count": 5,
     "metadata": {},
     "output_type": "execute_result"
    }
   ],
   "source": [
    "os.getcwd()"
   ]
  },
  {
   "cell_type": "code",
   "execution_count": 6,
   "metadata": {},
   "outputs": [
    {
     "name": "stdout",
     "output_type": "stream",
     "text": [
      "Help on built-in function chdir in module posix:\n",
      "\n",
      "chdir(path)\n",
      "    Change the current working directory to the specified path.\n",
      "    \n",
      "    path may always be specified as a string.\n",
      "    On some platforms, path may also be specified as an open file descriptor.\n",
      "      If this functionality is unavailable, using it raises an exception.\n",
      "\n"
     ]
    }
   ],
   "source": [
    "help(os.chdir)"
   ]
  },
  {
   "cell_type": "code",
   "execution_count": 7,
   "metadata": {},
   "outputs": [
    {
     "data": {
      "text/plain": [
       "'posix'"
      ]
     },
     "execution_count": 7,
     "metadata": {},
     "output_type": "execute_result"
    }
   ],
   "source": [
    "# The name of the operating system dependent module imported. \n",
    "# The following names have currently been registered: 'posix', 'nt', 'java'\n",
    "# Portable Operating System Interface -  IEEE standard designed to facilitate application portability\n",
    "# (Windows) New Technology - a 32-bit operating system that supports preemptive multitasking\n",
    "# \n",
    "os.name"
   ]
  },
  {
   "cell_type": "code",
   "execution_count": 8,
   "metadata": {},
   "outputs": [
    {
     "data": {
      "text/plain": [
       "['/Users/mitrea/Documents/CLASSES/BIOINF 575 FA 2019',\n",
       " '/Users/mitrea/anaconda3/lib/python37.zip',\n",
       " '/Users/mitrea/anaconda3/lib/python3.7',\n",
       " '/Users/mitrea/anaconda3/lib/python3.7/lib-dynload',\n",
       " '',\n",
       " '/Users/mitrea/anaconda3/lib/python3.7/site-packages',\n",
       " '/Users/mitrea/anaconda3/lib/python3.7/site-packages/aeosa',\n",
       " '/Users/mitrea/anaconda3/lib/python3.7/site-packages/demoCM-0.1.0-py3.7.egg',\n",
       " '/Users/mitrea/anaconda3/lib/python3.7/site-packages/IPython/extensions',\n",
       " '/Users/mitrea/.ipython']"
      ]
     },
     "execution_count": 8,
     "metadata": {},
     "output_type": "execute_result"
    }
   ],
   "source": [
    "# A list of strings that specifies the search path for modules. \n",
    "import sys\n",
    "sys.path"
   ]
  },
  {
   "cell_type": "code",
   "execution_count": 9,
   "metadata": {},
   "outputs": [
    {
     "data": {
      "text/plain": [
       "environ{'SHELL': '/bin/bash',\n",
       "        'TMPDIR': '/var/folders/dg/8l7ql9hs6j71k502y3_6r3jh0000gp/T/',\n",
       "        'Apple_PubSub_Socket_Render': '/private/tmp/com.apple.launchd.0louJEaLX4/Render',\n",
       "        'CONDA_SHLVL': '1',\n",
       "        'CONDA_PROMPT_MODIFIER': '(base) ',\n",
       "        'LC_ALL': 'en_US.UTF-8',\n",
       "        'USER': 'mitrea',\n",
       "        'CONDA_EXE': '/Users/mitrea/anaconda3/bin/conda',\n",
       "        'SSH_AUTH_SOCK': '/private/tmp/com.apple.launchd.lDygywsQbQ/Listeners',\n",
       "        '__CF_USER_TEXT_ENCODING': '0x1F6:0:0',\n",
       "        '_CE_CONDA': '',\n",
       "        'CONDA_ROOT': '/Users/mitrea/anaconda3',\n",
       "        'PATH': '/Users/mitrea/anaconda3/bin:/Users/mitrea/anaconda3/bin:/Users/mitrea/anaconda3/condabin:/usr/bin:/bin:/usr/sbin:/sbin',\n",
       "        'CONDA_PREFIX': '/Users/mitrea/anaconda3',\n",
       "        'PWD': '/Users/mitrea',\n",
       "        'LANG': 'en_US.UTF-8',\n",
       "        'XPC_FLAGS': '0x0',\n",
       "        'XPC_SERVICE_NAME': '0',\n",
       "        '_CE_M': '',\n",
       "        'HOME': '/Users/mitrea',\n",
       "        'SHLVL': '2',\n",
       "        'QT_API': 'pyqt5',\n",
       "        'LOGNAME': 'mitrea',\n",
       "        'CONDA_PYTHON_EXE': '/Users/mitrea/anaconda3/bin/python',\n",
       "        'LC_CTYPE': 'UTF-8',\n",
       "        'CONDA_DEFAULT_ENV': 'base',\n",
       "        '_': '/Users/mitrea/anaconda3/bin/jupyter',\n",
       "        'JPY_PARENT_PID': '1957',\n",
       "        'TERM': 'xterm-color',\n",
       "        'CLICOLOR': '1',\n",
       "        'PAGER': 'cat',\n",
       "        'GIT_PAGER': 'cat',\n",
       "        'MPLBACKEND': 'module://ipykernel.pylab.backend_inline'}"
      ]
     },
     "execution_count": 9,
     "metadata": {},
     "output_type": "execute_result"
    }
   ],
   "source": [
    "# A mapping object that contains environment variables and their values.\n",
    "\n",
    "os.environ"
   ]
  },
  {
   "cell_type": "code",
   "execution_count": 10,
   "metadata": {},
   "outputs": [
    {
     "name": "stdout",
     "output_type": "stream",
     "text": [
      "/Users/mitrea\n",
      "/Users/mitrea\n"
     ]
    }
   ],
   "source": [
    "# A mapping object representing the string environment.\n",
    "\n",
    "print(os.environ['HOME'])\n",
    "\n",
    "#Return the value of the environment variable key if it exists, \n",
    "#or default if it doesn’t. key, default and the result are str.\n",
    "\n",
    "print(os.getenv(\"HOME\"))"
   ]
  },
  {
   "cell_type": "code",
   "execution_count": 11,
   "metadata": {},
   "outputs": [
    {
     "name": "stdout",
     "output_type": "stream",
     "text": [
      "/Users/mitrea/anaconda3/bin:/Users/mitrea/anaconda3/bin:/Users/mitrea/anaconda3/condabin:/usr/bin:/bin:/usr/sbin:/sbin\n"
     ]
    },
    {
     "data": {
      "text/plain": [
       "['/Users/mitrea/anaconda3/bin',\n",
       " '/Users/mitrea/anaconda3/bin',\n",
       " '/Users/mitrea/anaconda3/condabin',\n",
       " '/usr/bin',\n",
       " '/bin',\n",
       " '/usr/sbin',\n",
       " '/sbin']"
      ]
     },
     "execution_count": 11,
     "metadata": {},
     "output_type": "execute_result"
    }
   ],
   "source": [
    "print(os.getenv(\"PATH\"))\n",
    "\n",
    "# Returns the list of directories that will be searched for a named executable,\n",
    "#similar to a shell, when launching a process. \n",
    "# env, when specified, should be an environment variable dictionary to lookup the PATH in. \n",
    "# By default, when env is None, environ is used.\n",
    "\n",
    "os.get_exec_path()"
   ]
  },
  {
   "cell_type": "markdown",
   "metadata": {},
   "source": [
    "The `os` module wraps OS-specific operations into a set of standardized commands. <br>\n",
    "For instance, the Linux end-of-line (EOL) character is a `\\n`, but `\\r\\n` in Windows. <br>\n",
    "In Python, we can just use the following:"
   ]
  },
  {
   "cell_type": "code",
   "execution_count": 12,
   "metadata": {},
   "outputs": [
    {
     "data": {
      "text/plain": [
       "'\\n'"
      ]
     },
     "execution_count": 12,
     "metadata": {},
     "output_type": "execute_result"
    }
   ],
   "source": [
    "# EOL - for the current (detected) environment\n",
    "\n",
    "'''\n",
    "The string used to separate (or, rather, terminate) lines on the current platform. \n",
    "This may be a single character, such as '\\n' for POSIX, or multiple characters, \n",
    "for example, '\\r\\n' for Windows. \n",
    "Do not use os.linesep as a line terminator when writing files opened in text mode (the default); \n",
    "use a single '\\n' instead, on all platforms.\n",
    "'''\n",
    "\n",
    "os.linesep"
   ]
  },
  {
   "cell_type": "markdown",
   "metadata": {},
   "source": [
    "Another example, in a Linux environment, one must use the following command to list the contents of a given directory:\n",
    "```\n",
    "ls -alh \n",
    "```\n",
    "\n",
    "In Windows, the equivalent is as follows:\n",
    "```\n",
    "dir\n",
    "```\n",
    "\n",
    "Python allows users to do a single command, in spite of the OS:"
   ]
  },
  {
   "cell_type": "code",
   "execution_count": 13,
   "metadata": {},
   "outputs": [
    {
     "data": {
      "text/plain": [
       "['demoCM.egg-info',\n",
       " 'ProjectCM',\n",
       " 'dist',\n",
       " 'setup.py',\n",
       " 'example.py',\n",
       " 'demoCM',\n",
       " '.ipynb_checkpoints',\n",
       " 'build']"
      ]
     },
     "execution_count": 13,
     "metadata": {},
     "output_type": "execute_result"
    }
   ],
   "source": [
    "# List directory contents\n",
    "\n",
    "os.listdir(\"ProjectCM\")"
   ]
  },
  {
   "cell_type": "markdown",
   "metadata": {},
   "source": [
    "However, the biggest issue for creating an OS-agnostic program is ***paths*** <br/>\n",
    "Windows: `\"C:\\\\Users\\\\MDS\\\\Documents\"`<br/>\n",
    "Linux: `/mnt/c/Users/MDS/Documents/`<br/><br/>\n",
    "Enter Python:"
   ]
  },
  {
   "cell_type": "code",
   "execution_count": 14,
   "metadata": {},
   "outputs": [
    {
     "name": "stdout",
     "output_type": "stream",
     "text": [
      "/Users/mitrea/Documents/CLASSES/BIOINF 575 FA 2019\n",
      "/Users/mitrea/Documents/CLASSES\n"
     ]
    },
    {
     "data": {
      "text/plain": [
       "'/Users/mitrea/Documents/CLASSES/BIOINF 575 FA 2019/ProjectCM/demoCM/test.py'"
      ]
     },
     "execution_count": 14,
     "metadata": {},
     "output_type": "execute_result"
    }
   ],
   "source": [
    "# path joining from pwd\n",
    "pwd = os.getcwd()\n",
    "print(pwd)\n",
    "print(os.path.dirname(pwd))\n",
    "os.path.join(pwd,\"ProjectCM\",\"demoCM\",\"test.py\")"
   ]
  },
  {
   "cell_type": "markdown",
   "metadata": {},
   "source": [
    "### `subprocess`"
   ]
  },
  {
   "cell_type": "markdown",
   "metadata": {},
   "source": [
    "If you Google anything on how to run shell commands, but don't specify Python 3.x, you will likely get an answer that includes `popen`, `popen2`, or `popen3`. These were the most prolific ways to *open* a new *p*rocess. In Python 3.x, they encapsulated these functions into a new one called `run` available through the `subprocess` library."
   ]
  },
  {
   "cell_type": "code",
   "execution_count": 15,
   "metadata": {},
   "outputs": [],
   "source": [
    "# Import and alias\n",
    "import subprocess as sp"
   ]
  },
  {
   "cell_type": "markdown",
   "metadata": {},
   "source": [
    "#### `check_output`"
   ]
  },
  {
   "cell_type": "code",
   "execution_count": 16,
   "metadata": {},
   "outputs": [
    {
     "name": "stdout",
     "output_type": "stream",
     "text": [
      "Help on function check_output in module subprocess:\n",
      "\n",
      "check_output(*popenargs, timeout=None, **kwargs)\n",
      "    Run command with arguments and return its output.\n",
      "    \n",
      "    If the exit code was non-zero it raises a CalledProcessError.  The\n",
      "    CalledProcessError object will have the return code in the returncode\n",
      "    attribute and output in the output attribute.\n",
      "    \n",
      "    The arguments are the same as for the Popen constructor.  Example:\n",
      "    \n",
      "    >>> check_output([\"ls\", \"-l\", \"/dev/null\"])\n",
      "    b'crw-rw-rw- 1 root root 1, 3 Oct 18  2007 /dev/null\\n'\n",
      "    \n",
      "    The stdout argument is not allowed as it is used internally.\n",
      "    To capture standard error in the result, use stderr=STDOUT.\n",
      "    \n",
      "    >>> check_output([\"/bin/sh\", \"-c\",\n",
      "    ...               \"ls -l non_existent_file ; exit 0\"],\n",
      "    ...              stderr=STDOUT)\n",
      "    b'ls: non_existent_file: No such file or directory\\n'\n",
      "    \n",
      "    There is an additional optional argument, \"input\", allowing you to\n",
      "    pass a string to the subprocess's stdin.  If you use this argument\n",
      "    you may not also use the Popen constructor's \"stdin\" argument, as\n",
      "    it too will be used internally.  Example:\n",
      "    \n",
      "    >>> check_output([\"sed\", \"-e\", \"s/foo/bar/\"],\n",
      "    ...              input=b\"when in the course of fooman events\\n\")\n",
      "    b'when in the course of barman events\\n'\n",
      "    \n",
      "    By default, all communication is in bytes, and therefore any \"input\"\n",
      "    should be bytes, and the return value wil be bytes.  If in text mode,\n",
      "    any \"input\" should be a string, and the return value will be a string\n",
      "    decoded according to locale encoding, or by \"encoding\" if set. Text mode\n",
      "    is triggered by setting any of text, encoding, errors or universal_newlines.\n",
      "\n"
     ]
    }
   ],
   "source": [
    "help(sp.check_output)"
   ]
  },
  {
   "cell_type": "code",
   "execution_count": 22,
   "metadata": {},
   "outputs": [
    {
     "data": {
      "text/plain": [
       "'test\\n'"
      ]
     },
     "execution_count": 22,
     "metadata": {},
     "output_type": "execute_result"
    }
   ],
   "source": [
    "# check_output returns a bytestring by default, so I set encoding to convert it to strings.\n",
    "# [command, command line arguments]\n",
    "# change from bytes to string using encoding\n",
    "\n",
    "sp.check_output(\"echo test\",encoding='utf_8', shell = True)"
   ]
  },
  {
   "cell_type": "code",
   "execution_count": 23,
   "metadata": {},
   "outputs": [
    {
     "data": {
      "text/plain": [
       "'/Users/mitrea/Documents/CLASSES/BIOINF 575 FA 2019'"
      ]
     },
     "execution_count": 23,
     "metadata": {},
     "output_type": "execute_result"
    }
   ],
   "source": [
    "pwd"
   ]
  },
  {
   "cell_type": "code",
   "execution_count": 24,
   "metadata": {},
   "outputs": [
    {
     "data": {
      "text/plain": [
       "\"__main__\\nThe test variable value is 10\\nNumber of arguments: 2\\nArgument List: ['/Users/mitrea/Documents/CLASSES/BIOINF 575 FA 2019/test.py', '[1,2,3]']\\n[1,2,3]\\nThe mean of my array is 2.0\\n\""
      ]
     },
     "execution_count": 24,
     "metadata": {},
     "output_type": "execute_result"
    }
   ],
   "source": [
    "# demonstration, might not work if test.py does not have the parsing code\n",
    "sp.check_output([os.path.join(pwd,\"test.py\"),\"[1,2,3]\"],encoding='utf_8')"
   ]
  },
  {
   "cell_type": "markdown",
   "metadata": {},
   "source": [
    "The first thing we will look are trivial examples that demonstrate just capturing the *output* (stdout) of a program"
   ]
  },
  {
   "cell_type": "markdown",
   "metadata": {},
   "source": [
    "However, while the `check_output` function is still in the `subprocess` module, it can easily be converted into into a more specific and/or flexible `run` function signature."
   ]
  },
  {
   "cell_type": "markdown",
   "metadata": {},
   "source": [
    "#### `run`"
   ]
  },
  {
   "cell_type": "code",
   "execution_count": 25,
   "metadata": {},
   "outputs": [
    {
     "name": "stdout",
     "output_type": "stream",
     "text": [
      "Help on function run in module subprocess:\n",
      "\n",
      "run(*popenargs, input=None, capture_output=False, timeout=None, check=False, **kwargs)\n",
      "    Run command with arguments and return a CompletedProcess instance.\n",
      "    \n",
      "    The returned instance will have attributes args, returncode, stdout and\n",
      "    stderr. By default, stdout and stderr are not captured, and those attributes\n",
      "    will be None. Pass stdout=PIPE and/or stderr=PIPE in order to capture them.\n",
      "    \n",
      "    If check is True and the exit code was non-zero, it raises a\n",
      "    CalledProcessError. The CalledProcessError object will have the return code\n",
      "    in the returncode attribute, and output & stderr attributes if those streams\n",
      "    were captured.\n",
      "    \n",
      "    If timeout is given, and the process takes too long, a TimeoutExpired\n",
      "    exception will be raised.\n",
      "    \n",
      "    There is an optional argument \"input\", allowing you to\n",
      "    pass bytes or a string to the subprocess's stdin.  If you use this argument\n",
      "    you may not also use the Popen constructor's \"stdin\" argument, as\n",
      "    it will be used internally.\n",
      "    \n",
      "    By default, all communication is in bytes, and therefore any \"input\" should\n",
      "    be bytes, and the stdout and stderr will be bytes. If in text mode, any\n",
      "    \"input\" should be a string, and stdout and stderr will be strings decoded\n",
      "    according to locale encoding, or by \"encoding\" if set. Text mode is\n",
      "    triggered by setting any of text, encoding, errors or universal_newlines.\n",
      "    \n",
      "    The other arguments are the same as for the Popen constructor.\n",
      "\n"
     ]
    }
   ],
   "source": [
    "help(sp.run)"
   ]
  },
  {
   "cell_type": "code",
   "execution_count": 27,
   "metadata": {},
   "outputs": [
    {
     "data": {
      "text/plain": [
       "CompletedProcess(args='echo test', returncode=0, stdout='test\\n')"
      ]
     },
     "execution_count": 27,
     "metadata": {},
     "output_type": "execute_result"
    }
   ],
   "source": [
    "sub = sp.run(\n",
    "    [\n",
    "        'echo',             # The command we want to run\n",
    "        'test'              # Arguments for the command\n",
    "    ],\n",
    "    encoding='utf_8',       # Converting byte code\n",
    "    stdout=sp.PIPE,         # Where to send the output\n",
    "    check=True # Whether to raise an error if the process fails\n",
    ")  \n",
    "sub"
   ]
  },
  {
   "cell_type": "code",
   "execution_count": 28,
   "metadata": {},
   "outputs": [
    {
     "data": {
      "text/plain": [
       "CompletedProcess(args='echo test', returncode=0, stdout='test\\n')"
      ]
     },
     "execution_count": 28,
     "metadata": {},
     "output_type": "execute_result"
    }
   ],
   "source": [
    "sub = sp.run(\n",
    "        'echo test',             # The command we want to run\n",
    "    encoding='utf_8',       # Converting byte code\n",
    "    stdout=sp.PIPE,         # Where to send the output\n",
    "    check=True,# Whether to raise an error if the process fails\n",
    "    shell = True\n",
    ")  \n",
    "sub"
   ]
  },
  {
   "cell_type": "code",
   "execution_count": 30,
   "metadata": {},
   "outputs": [
    {
     "data": {
      "text/plain": [
       "['args', 'check_returncode', 'returncode', 'stderr', 'stdout']"
      ]
     },
     "execution_count": 30,
     "metadata": {},
     "output_type": "execute_result"
    }
   ],
   "source": [
    "[elem for elem in dir(sub) if not elem.startswith(\"__\")]"
   ]
  },
  {
   "cell_type": "code",
   "execution_count": 31,
   "metadata": {},
   "outputs": [
    {
     "name": "stdout",
     "output_type": "stream",
     "text": [
      "test\n",
      "\n"
     ]
    }
   ],
   "source": [
    "print(sub.stdout)"
   ]
  },
  {
   "cell_type": "markdown",
   "metadata": {},
   "source": [
    "The main utility of `check_output` was to capture the output (stdout) of a program. <br>\n",
    "By using the `stdout=subprocess.PIPE` argument, the output can easily be captured, along with its return code. <br>\n",
    "A return code signifies the program's exit status: 0 for success, anything else otherwise"
   ]
  },
  {
   "cell_type": "code",
   "execution_count": 32,
   "metadata": {},
   "outputs": [
    {
     "data": {
      "text/plain": [
       "0"
      ]
     },
     "execution_count": 32,
     "metadata": {},
     "output_type": "execute_result"
    }
   ],
   "source": [
    "sub.returncode"
   ]
  },
  {
   "cell_type": "markdown",
   "metadata": {},
   "source": [
    "With our `run` code above, our program ran to completetion, exiting with status 0. The next example shows a different status."
   ]
  },
  {
   "cell_type": "code",
   "execution_count": 33,
   "metadata": {},
   "outputs": [
    {
     "data": {
      "text/plain": [
       "CompletedProcess(args='exit 1', returncode=1)"
      ]
     },
     "execution_count": 33,
     "metadata": {},
     "output_type": "execute_result"
    }
   ],
   "source": [
    "sp.run(\n",
    "        'exit 1',      # Command & arguments\n",
    "        shell = True   # Run from the shell\n",
    "        )\n"
   ]
  },
  {
   "cell_type": "markdown",
   "metadata": {},
   "source": [
    "However, if the `check=True` argument is used, it will raise a `CalledProcessError` if your program exits with anything different than 0. This is helpful for detecting a pipeline failure, and exiting or correcting before attempting to continue computation."
   ]
  },
  {
   "cell_type": "code",
   "execution_count": 34,
   "metadata": {},
   "outputs": [
    {
     "ename": "CalledProcessError",
     "evalue": "Command 'exit 1' returned non-zero exit status 1.",
     "output_type": "error",
     "traceback": [
      "\u001b[0;31m---------------------------------------------------------------------------\u001b[0m",
      "\u001b[0;31mCalledProcessError\u001b[0m                        Traceback (most recent call last)",
      "\u001b[0;32m<ipython-input-34-973e2d80d734>\u001b[0m in \u001b[0;36m<module>\u001b[0;34m\u001b[0m\n\u001b[1;32m      2\u001b[0m         \u001b[0;34m'exit 1'\u001b[0m\u001b[0;34m,\u001b[0m      \u001b[0;31m# Command & arguments\u001b[0m\u001b[0;34m\u001b[0m\u001b[0;34m\u001b[0m\u001b[0m\n\u001b[1;32m      3\u001b[0m         \u001b[0mshell\u001b[0m \u001b[0;34m=\u001b[0m \u001b[0;32mTrue\u001b[0m\u001b[0;34m,\u001b[0m  \u001b[0;31m# Run from the shell\u001b[0m\u001b[0;34m\u001b[0m\u001b[0;34m\u001b[0m\u001b[0m\n\u001b[0;32m----> 4\u001b[0;31m         \u001b[0mcheck\u001b[0m \u001b[0;34m=\u001b[0m \u001b[0;32mTrue\u001b[0m   \u001b[0;31m# Check exit status\u001b[0m\u001b[0;34m\u001b[0m\u001b[0;34m\u001b[0m\u001b[0m\n\u001b[0m\u001b[1;32m      5\u001b[0m     )\n",
      "\u001b[0;32m~/anaconda3/lib/python3.7/subprocess.py\u001b[0m in \u001b[0;36mrun\u001b[0;34m(input, capture_output, timeout, check, *popenargs, **kwargs)\u001b[0m\n\u001b[1;32m    485\u001b[0m         \u001b[0;32mif\u001b[0m \u001b[0mcheck\u001b[0m \u001b[0;32mand\u001b[0m \u001b[0mretcode\u001b[0m\u001b[0;34m:\u001b[0m\u001b[0;34m\u001b[0m\u001b[0;34m\u001b[0m\u001b[0m\n\u001b[1;32m    486\u001b[0m             raise CalledProcessError(retcode, process.args,\n\u001b[0;32m--> 487\u001b[0;31m                                      output=stdout, stderr=stderr)\n\u001b[0m\u001b[1;32m    488\u001b[0m     \u001b[0;32mreturn\u001b[0m \u001b[0mCompletedProcess\u001b[0m\u001b[0;34m(\u001b[0m\u001b[0mprocess\u001b[0m\u001b[0;34m.\u001b[0m\u001b[0margs\u001b[0m\u001b[0;34m,\u001b[0m \u001b[0mretcode\u001b[0m\u001b[0;34m,\u001b[0m \u001b[0mstdout\u001b[0m\u001b[0;34m,\u001b[0m \u001b[0mstderr\u001b[0m\u001b[0;34m)\u001b[0m\u001b[0;34m\u001b[0m\u001b[0;34m\u001b[0m\u001b[0m\n\u001b[1;32m    489\u001b[0m \u001b[0;34m\u001b[0m\u001b[0m\n",
      "\u001b[0;31mCalledProcessError\u001b[0m: Command 'exit 1' returned non-zero exit status 1."
     ]
    }
   ],
   "source": [
    "sp.run(\n",
    "        'exit 1',      # Command & arguments\n",
    "        shell = True,  # Run from the shell\n",
    "        check = True   # Check exit status\n",
    "    )"
   ]
  },
  {
   "cell_type": "code",
   "execution_count": 35,
   "metadata": {},
   "outputs": [
    {
     "name": "stdout",
     "output_type": "stream",
     "text": [
      "Exit code 1. Expected 0 when there is no error.\n"
     ]
    }
   ],
   "source": [
    "sub = sp.run(\n",
    "        'exit 1',      # Command & arguments\n",
    "        shell = True,  # Run from the shell\n",
    "        # check = True   # Check exit status\n",
    "    )\n",
    "if (sub.returncode != 0):\n",
    "    print(f\"Exit code {sub.returncode}. Expected 0 when there is no error.\")"
   ]
  },
  {
   "cell_type": "markdown",
   "metadata": {},
   "source": [
    "#### Syntax when using `run`:\n",
    "1. A list of arguments: `subprocess.run(['echo', 'test', ...], ...)` \n",
    "2. A string and `shell`: `subprocess.run('exit 1', shell = True, ...)`"
   ]
  },
  {
   "cell_type": "markdown",
   "metadata": {},
   "source": [
    "The preferred way of using `run` is the first way. <br>\n",
    "This preference is mainly due to security purposes (to prevent shell injection attacks). <br>\n",
    "It also allows the module to take care of any required escaping and quoting of arguments for a pseudo-OS-agnostic approach. "
   ]
  },
  {
   "cell_type": "markdown",
   "metadata": {},
   "source": [
    "There are some guidelines though:\n",
    "1. Sequence (list) of arguments is generally preferred\n",
    "2. A str is appropriate if the user is just calling a program with no arguments\n",
    "3. The user should use a str to pass argument if `shell` is `True`<br/>\n",
    "Your next questions should be, \"What is `shell`?\""
   ]
  },
  {
   "cell_type": "markdown",
   "metadata": {},
   "source": [
    "`shell` is just your terminal/command prompt. This is the environment where you call `ls/dir` in. It is also where users can define variables. More importantly, this is where your *environmental variables* are set...like `PATH`.<br/><br/>\n",
    "By using `shell = True`, the user can now use shell-based environmental variable expansion from within a Python program."
   ]
  },
  {
   "cell_type": "code",
   "execution_count": 36,
   "metadata": {},
   "outputs": [
    {
     "data": {
      "text/plain": [
       "CompletedProcess(args='echo $PATH', returncode=0, stdout='/Users/mitrea/anaconda3/bin:/Users/mitrea/anaconda3/bin:/Users/mitrea/anaconda3/condabin:/usr/bin:/bin:/usr/sbin:/sbin\\n')"
      ]
     },
     "execution_count": 36,
     "metadata": {},
     "output_type": "execute_result"
    }
   ],
   "source": [
    "sp.run(\n",
    "        'echo $PATH',            # Command\n",
    "        shell = True,            # Use the shell\n",
    "        stdout=sp.PIPE,          # Where to send it\n",
    "        encoding='utf_8'         # Convert from bytes to string\n",
    "    )      # Look at the output\n"
   ]
  },
  {
   "cell_type": "code",
   "execution_count": 37,
   "metadata": {},
   "outputs": [
    {
     "name": "stdout",
     "output_type": "stream",
     "text": [
      "CompletedProcess(args='sleep 5; echo done1', returncode=0, stdout='done1\\n')\n",
      "CompletedProcess(args='echo done2', returncode=0, stdout='done2\\n')\n"
     ]
    }
   ],
   "source": [
    "p1 = sp.run(\n",
    "        'sleep 5; echo done1',   # Command\n",
    "        shell = True,            # Use the shell\n",
    "        stdout=sp.PIPE,          # Where to send it\n",
    "        encoding='utf_8'         # Convert from bytes to string\n",
    "    )\n",
    "print(p1)\n",
    "p2 = sp.run(\n",
    "        'echo done2',            # Command\n",
    "        shell = True,            # Use the shell\n",
    "        stdout=sp.PIPE,          # Where to send it\n",
    "        encoding='utf_8'         # Convert from bytes to string\n",
    "    )\n",
    "print(p2)"
   ]
  },
  {
   "cell_type": "markdown",
   "metadata": {},
   "source": [
    "For the most part, you shouldn't need to use `shell` simply because Python has modules in the standard library that can do most of the shell commands. For example `mkdir` can be done with `os.mkdir()`, and `$PATH` can be retrieved using os.getenv(\"PATH\") or os.get_exec_path() as shown above. "
   ]
  },
  {
   "cell_type": "markdown",
   "metadata": {},
   "source": [
    "#### Blocking vs Non-blocking"
   ]
  },
  {
   "cell_type": "markdown",
   "metadata": {},
   "source": [
    "The last topic of this lecture is \"blocking\". This is computer science lingo/jargon for whether or not a program ***waits*** until something is complete before moving on. Think of this like a really bad website that takes forever to load because it is waiting until it has rendered all its images first, versus the website that sets the formatting and text while it works on the images."
   ]
  },
  {
   "cell_type": "markdown",
   "metadata": {},
   "source": [
    "1. `subprocess.run()` is blocking (it waits until the process is complete)\n",
    "2. `subprocess.Popen()` is non-blocking (it will run the command, then move on)"
   ]
  },
  {
   "cell_type": "markdown",
   "metadata": {},
   "source": [
    "***Most*** use cases can be handled through the use of `run()`.<br> \n",
    "`run()` is just a *wrapped* version of `Popen()` that simplifies use. <br>\n",
    "However, `Popen()` allows the user a more flexible control of the subprocess call. <br>\n",
    "`Popen()` can be used similar way as run (with more optional parameters)."
   ]
  },
  {
   "cell_type": "markdown",
   "metadata": {},
   "source": [
    "An example use case for `Popen()` is if the user has some intermediate data that needs to get processed, but the output of that data doesn't necessarily affect the rest of the pipeline."
   ]
  },
  {
   "cell_type": "markdown",
   "metadata": {},
   "source": [
    "#### `Popen`"
   ]
  },
  {
   "cell_type": "code",
   "execution_count": 39,
   "metadata": {},
   "outputs": [
    {
     "name": "stdout",
     "output_type": "stream",
     "text": [
      "<subprocess.Popen object at 0x11aebc400>\n",
      "<subprocess.Popen object at 0x10b955f28>\n",
      "processes ran\n",
      "done1\n",
      "\n",
      "done2\n",
      "\n",
      "processes completed\n"
     ]
    }
   ],
   "source": [
    "p1 = sp.Popen(\n",
    "        'sleep 5; echo done1',               # Command\n",
    "        shell = True,            # Use the shell\n",
    "        stdout=sp.PIPE,          # Where to send it\n",
    "        encoding='utf_8'         # Convert from bytes to string\n",
    "    )\n",
    "print(p1)\n",
    "p2 = sp.Popen(\n",
    "        'echo done2',             # Command\n",
    "        shell = True,            # Use the shell\n",
    "        stdout=sp.PIPE,          # Where to send it\n",
    "        encoding='utf_8'         # Convert from bytes to string\n",
    "    )\n",
    "print(p2)\n",
    "print(\"processes ran\")\n",
    "\n",
    "print(p1.stdout.read())\n",
    "print(p2.stdout.read())\n",
    "print(\"processes completed\")\n",
    "\n"
   ]
  },
  {
   "cell_type": "code",
   "execution_count": 40,
   "metadata": {},
   "outputs": [
    {
     "name": "stdout",
     "output_type": "stream",
     "text": [
      "here we are\n",
      "\n"
     ]
    }
   ],
   "source": [
    "# Use context manager to handle process while it is running,\n",
    "# and gracefully close it\n",
    "with sp.Popen(\n",
    "    [\n",
    "        'echo',         # Command\n",
    "        'here we are'       # Command line arguments\n",
    "    ],\n",
    "    encoding='utf_8', # Convert from byte to string\n",
    "    stdout=sp.PIPE    # Where to send it\n",
    ") as proc:            # Enclose and alias the context manager\n",
    "    print(\n",
    "        proc.stdout.read() # Look at the output\n",
    "    )"
   ]
  },
  {
   "cell_type": "code",
   "execution_count": 41,
   "metadata": {},
   "outputs": [
    {
     "name": "stdout",
     "output_type": "stream",
     "text": [
      "args\n",
      "communicate\n",
      "encoding\n",
      "errors\n",
      "kill\n",
      "pid\n",
      "poll\n",
      "returncode\n",
      "send_signal\n",
      "stderr\n",
      "stdin\n",
      "stdout\n",
      "terminate\n",
      "text_mode\n",
      "universal_newlines\n",
      "wait\n"
     ]
    }
   ],
   "source": [
    "for elem in dir(proc):\n",
    "    if not elem.startswith('_'):\n",
    "        print(elem)"
   ]
  },
  {
   "cell_type": "markdown",
   "metadata": {},
   "source": [
    "#### ***NOTE***: From here on out, there might be different commands used for **Linux** / **MacOS** or **Windows**"
   ]
  },
  {
   "cell_type": "code",
   "execution_count": 42,
   "metadata": {},
   "outputs": [],
   "source": [
    "#test_pipe.txt - a file to be used to demonstrate pipe of cat and sort \n",
    "!echo testing > test_pipe.txt\n",
    "!echo the >> test_pipe.txt\n",
    "!echo subprocess >> test_pipe.txt\n",
    "!echo pipe >> test_pipe.txt\n"
   ]
  },
  {
   "cell_type": "code",
   "execution_count": 43,
   "metadata": {},
   "outputs": [
    {
     "name": "stdout",
     "output_type": "stream",
     "text": [
      "testing\n",
      "the\n",
      "subprocess\n",
      "pipe\n",
      "\n"
     ]
    }
   ],
   "source": [
    "# mac OS\n",
    "p1 = sp.Popen(['cat','test_pipe.txt'], stdout=sp.PIPE, encoding='utf_8')\n",
    "\n",
    "# windows OS\n",
    "# p1 = sp.Popen(['type','test_pipe.txt'], stdout=sp.PIPE, encoding='utf_8')\n",
    "\n",
    "print(p1.stdout.read())"
   ]
  },
  {
   "cell_type": "code",
   "execution_count": 46,
   "metadata": {},
   "outputs": [
    {
     "name": "stdout",
     "output_type": "stream",
     "text": [
      "pipe\n",
      "subprocess\n",
      "testing\n",
      "the\n",
      "\n"
     ]
    }
   ],
   "source": [
    "# mac OS\n",
    "p1 = sp.Popen(['cat','test_pipe.txt'], stdout=sp.PIPE, encoding='utf_8')\n",
    "\n",
    "# windows OS\n",
    "# p1 = sp.Popen(['type','test_pipe.txt'], stdout=sp.PIPE, encoding='utf_8')\n",
    "\n",
    "\n",
    "p2 = sp.Popen(['sort'], stdin=p1.stdout, stdout=sp.PIPE, encoding='utf_8')\n",
    "p1.stdout.close()  # Allow p1 to receive a SIGPIPE if p2 exits\n",
    "output = p2.communicate()[0]\n",
    "print(output)\n"
   ]
  },
  {
   "cell_type": "markdown",
   "metadata": {},
   "source": [
    "`Popen` can create background processes, shell-background-like behavior means not blocking. <br>\n",
    "`Popen` has a lot more functionality than `run`."
   ]
  },
  {
   "cell_type": "code",
   "execution_count": 47,
   "metadata": {},
   "outputs": [
    {
     "name": "stdout",
     "output_type": "stream",
     "text": [
      "args\n",
      "communicate\n",
      "encoding\n",
      "errors\n",
      "kill\n",
      "pid\n",
      "poll\n",
      "returncode\n",
      "send_signal\n",
      "stderr\n",
      "stdin\n",
      "stdout\n",
      "terminate\n",
      "text_mode\n",
      "universal_newlines\n",
      "wait\n"
     ]
    }
   ],
   "source": [
    "sub_popen = sp.Popen(\n",
    "    [\n",
    "        'echo',          # Command\n",
    "        'test',        # Command line arguments\n",
    "    ],\n",
    "    encoding='utf_8',  # Convert from byte to string\n",
    "    stdout=sp.PIPE     # Where to send it\n",
    ")\n",
    "for j in dir(sub_popen):\n",
    "    if not j.startswith('_'):\n",
    "        print(j)\n"
   ]
  },
  {
   "cell_type": "code",
   "execution_count": 48,
   "metadata": {},
   "outputs": [
    {
     "name": "stdout",
     "output_type": "stream",
     "text": [
      "args\n",
      "check_returncode\n",
      "returncode\n",
      "stderr\n",
      "stdout\n"
     ]
    }
   ],
   "source": [
    "# sub - returned by run\n",
    "for j in dir(sub):\n",
    "    if not j.startswith('_'):\n",
    "        print(j)"
   ]
  },
  {
   "cell_type": "code",
   "execution_count": 49,
   "metadata": {},
   "outputs": [],
   "source": [
    "sub_popen.kill()       # Close the process"
   ]
  },
  {
   "cell_type": "markdown",
   "metadata": {},
   "source": [
    "Example creating child process.<br>\n",
    "https://pymotw.com/3/subprocess/\n",
    "\n",
    "A collection of `Popen` examples: <br>\n",
    "https://www.programcreek.com/python/example/50/subprocess.Popen"
   ]
  },
  {
   "cell_type": "markdown",
   "metadata": {},
   "source": [
    "## SQL"
   ]
  },
  {
   "cell_type": "markdown",
   "metadata": {},
   "source": [
    "#### What is a database? \n",
    "* Is an organized collection of data (files)\n",
    "* A way to store and retrieve that information\n",
    "* A relational database is structured to recognize relations between the data elements\n",
    "\n",
    "E.g. NCBI Gene <br>\n",
    "https://www.ncbi.nlm.nih.gov/gene/statistics\n",
    "\n"
   ]
  },
  {
   "cell_type": "markdown",
   "metadata": {},
   "source": [
    "https://www.researchgate.net/profile/Adam_Richards3/publication/282134102/figure/fig3/AS:289128232046602@1445944950296/Database-entity-diagram-Data-collected-from-NCBI-the-Gene-Ontology-and-UniProt-are.png\n",
    "\n",
    "<img src = \"https://www.researchgate.net/profile/Adam_Richards3/publication/282134102/figure/fig3/AS:289128232046602@1445944950296/Database-entity-diagram-Data-collected-from-NCBI-the-Gene-Ontology-and-UniProt-are.png\" width = \"700\"/>"
   ]
  },
  {
   "cell_type": "markdown",
   "metadata": {},
   "source": [
    "#### More database examples: \n",
    "* The Python dictionary qualifies\n",
    "* A spreadsheet is a type of database – a table\n",
    "* A fasta file could be considered a database\n"
   ]
  },
  {
   "cell_type": "markdown",
   "metadata": {},
   "source": [
    "#### Why use databases?\n",
    "* Databases can handle very large data sets \n",
    "* Databases scale well\n",
    "* Databases are concurrent \n",
    "* Databases are fault-tolerant\n",
    "* Your data has a built-in structure to it\n",
    "* Information of a given type is typically stored only once\n",
    "* You can query the data in a database  and easily create meaningful reports\n",
    "* You can relate data from different tables\n"
   ]
  },
  {
   "cell_type": "markdown",
   "metadata": {},
   "source": [
    "#### What is the Structured Query Language (SQL) ?\n",
    "* SQL is the standard language for relational database management systems (ANSI)\n",
    "* SQL is used to communicate with a database\n",
    "* SQL can be used to: add, remove, modify, request data \n",
    "\n",
    "* SQL is a declarative language - you describe what you want\n",
    "\n"
   ]
  },
  {
   "cell_type": "markdown",
   "metadata": {},
   "source": [
    "#### Relational Database Management Systems\n",
    "* Software programs such as Oracle, MySQL, SQLServer, DB2, postgreSQL are the backbone on which a specific database can be built \n",
    "* They are called RDBMS (relational database management systems)\n",
    "* They handle the data storage, indexing, logging, tracking and security  \n",
    "* They have a very fine-grained way of granting permissions to users at the level of commands that may be used\n",
    "    * Create a database\n",
    "    * Create a table\n",
    "    * Update or insert data\n",
    "    * View certain tables ... and many more\n",
    "    \n",
    "* An important part of learning databases is to understand the type of data which is stored in columns and rows.  \n",
    "* Likewise when we get to the database design section, it is critically important to know what type of data you will be modeling and storing (and roughly how much, in traditional systems) \n",
    "* Exactly which types are available depends on the database system\n"
   ]
  },
  {
   "cell_type": "markdown",
   "metadata": {},
   "source": [
    "#### SQLite \n",
    "* SQLite is a software library that implements a self-contained, serverless, zero-configuration, embedded high-reliability, full-featured, public-domain SQL database engine. SQLite is the most widely deployed database engine in the world (https://sqlite.org/)\n",
    "* A SQLite database is a single file that is transportable\n",
    "* Check-out bioconductor (annotation) packages that come with sqlite databases\n",
    "    * hgu133a.db\n",
    "        * https://bioconductor.org/packages/release/data/annotation/html/hgu133a.db.html\n",
    "    * org.Hs.eg.db - Genome wide annotation for Human, primarily based on mapping using Entrez Gene identifiers\n",
    "        * https://bioconductor.org/packages/release/data/annotation/html/org.Hs.eg.db.html\n"
   ]
  },
  {
   "cell_type": "markdown",
   "metadata": {},
   "source": [
    "##### SQLite uses a greatly simplified set of data types:\n",
    "* INTEGER - numeric\n",
    "* REAL - numeric\n",
    "* TEXT – text of any length\n",
    "    * Dates are held as text\n",
    "* BLOB – binary large objects\n",
    "    * Such as images\n"
   ]
  },
  {
   "cell_type": "code",
   "execution_count": 51,
   "metadata": {},
   "outputs": [],
   "source": [
    "from sqlite3 import connect\n",
    "\n",
    "# the file org.Hs.eg.sqlite should be in the datasets folder \n",
    "# if you pulled the info from the class github repo\n",
    "# otherwise retrieve from the class github repo or canvas\n",
    "conn = connect('../datasets/org.Hs.eg.sqlite')\n",
    "curs = conn.cursor()\n",
    "\n",
    "# close cursor and connection\n",
    "curs.close()\n",
    "conn.close()"
   ]
  },
  {
   "cell_type": "code",
   "execution_count": 52,
   "metadata": {},
   "outputs": [],
   "source": [
    "conn = connect('../datasets/org.Hs.eg.sqlite')\n",
    "curs = conn.cursor()"
   ]
  },
  {
   "cell_type": "markdown",
   "metadata": {},
   "source": [
    "There is a special sqlite_master table that describes the contents of the database"
   ]
  },
  {
   "cell_type": "markdown",
   "metadata": {},
   "source": [
    "Major SQL commands: SELECT, INSERT, DELETE, UPDATE"
   ]
  },
  {
   "cell_type": "markdown",
   "metadata": {},
   "source": [
    "#### SELECT - Retrieves data from one or more tables and doesn’t change the data at all \n",
    "\n",
    "* SELECT  * (means all columns), or the comma separated names of the columns of data you wish to return\n",
    "    * They will return (left to right) in the order received. \n",
    "* FROM is the table source or sources (comma separated)\n",
    "* WHERE (optional) is the predicate clause: conditions for the query\n",
    "    * Evaluates to True or False for each row\n",
    "    * This clause almost always includes Column-Value pairs.\n",
    "    * Omitting the Where clause returns ALL the records in that table.\n",
    "    * Note: the match is case sensitive\n",
    "* ORDER BY (optional) indicates a sort order for the output data \n",
    "    * default is row_id, which can be very non-intuitive  \n",
    "    * ASCending or DESCending can be appended to change the sort order.  (ASC is default)\n",
    "* In most SQL clients, the \";\" indicates the end of a statement and requests execution\n"
   ]
  },
  {
   "cell_type": "markdown",
   "metadata": {},
   "source": [
    "SELECT - which columns to include in the result, use * for all columns <br>\n",
    "FROM - which tables to use <br>\n",
    "WHERE (optional) - predicate clause, which rows to include"
   ]
  },
  {
   "cell_type": "markdown",
   "metadata": {},
   "source": [
    "'*' selects ALL rows and ALL columns and returns them by column order and row_id"
   ]
  },
  {
   "cell_type": "code",
   "execution_count": 53,
   "metadata": {},
   "outputs": [
    {
     "data": {
      "text/plain": [
       "<sqlite3.Cursor at 0x11ae4cc00>"
      ]
     },
     "execution_count": 53,
     "metadata": {},
     "output_type": "execute_result"
    }
   ],
   "source": [
    "sql = '''SELECT * FROM sqlite_master;'''\n",
    "curs.execute(sql)"
   ]
  },
  {
   "cell_type": "markdown",
   "metadata": {},
   "source": [
    "See result header"
   ]
  },
  {
   "cell_type": "code",
   "execution_count": 54,
   "metadata": {},
   "outputs": [
    {
     "data": {
      "text/plain": [
       "(('type', None, None, None, None, None, None),\n",
       " ('name', None, None, None, None, None, None),\n",
       " ('tbl_name', None, None, None, None, None, None),\n",
       " ('rootpage', None, None, None, None, None, None),\n",
       " ('sql', None, None, None, None, None, None))"
      ]
     },
     "execution_count": 54,
     "metadata": {},
     "output_type": "execute_result"
    }
   ],
   "source": [
    "curs.description"
   ]
  },
  {
   "cell_type": "markdown",
   "metadata": {},
   "source": [
    "See result"
   ]
  },
  {
   "cell_type": "code",
   "execution_count": 55,
   "metadata": {},
   "outputs": [
    {
     "name": "stdout",
     "output_type": "stream",
     "text": [
      "('table', 'metadata', 'metadata', 2, 'CREATE TABLE metadata (name VARCHAR(80) PRIMARY KEY, value VARCHAR(255) )')\n",
      "('index', 'sqlite_autoindex_metadata_1', 'metadata', 3, None)\n",
      "('table', 'map_metadata', 'map_metadata', 4, 'CREATE TABLE map_metadata (\\n      map_name VARCHAR(80) NOT NULL,\\n      source_name VARCHAR(80) NOT NULL,\\n      source_url VARCHAR(255) NOT NULL,\\n      source_date VARCHAR(20) NOT NULL\\n    )')\n",
      "('table', 'map_counts', 'map_counts', 5, 'CREATE TABLE map_counts (\\n      map_name VARCHAR(80) PRIMARY KEY,\\n      count INTEGER NOT NULL\\n    )')\n",
      "('index', 'sqlite_autoindex_map_counts_1', 'map_counts', 6, None)\n",
      "('table', 'genes', 'genes', 7, 'CREATE TABLE genes (\\n      _id INTEGER PRIMARY KEY,\\n      gene_id VARCHAR(10) NOT NULL UNIQUE           -- Entrez Gene ID\\n    )')\n",
      "('index', 'sqlite_autoindex_genes_1', 'genes', 8, None)\n",
      "('table', 'gene_info', 'gene_info', 9, 'CREATE TABLE gene_info (\\n      _id INTEGER NOT NULL UNIQUE,                  -- REFERENCES  genes \\n      gene_name VARCHAR(255) NOT NULL,              -- gene name\\n      symbol VARCHAR(80) NOT NULL,                  -- gene symbol\\n      FOREIGN KEY (_id) REFERENCES  genes  (_id)\\n    )')\n",
      "('index', 'sqlite_autoindex_gene_info_1', 'gene_info', 10, None)\n",
      "('table', 'chromosomes', 'chromosomes', 11, 'CREATE TABLE chromosomes (\\n      _id INTEGER NOT NULL,                         -- REFERENCES  genes \\n      chromosome VARCHAR(2) NOT NULL,               -- chromosome name\\n      FOREIGN KEY (_id) REFERENCES  genes  (_id)\\n    )')\n",
      "('table', 'accessions', 'accessions', 12, 'CREATE TABLE accessions (\\n      _id INTEGER NOT NULL,                         -- REFERENCES  genes \\n      accession VARCHAR(20) NOT NULL,               -- GenBank accession number\\n      FOREIGN KEY (_id) REFERENCES  genes  (_id)\\n    )')\n",
      "('table', 'cytogenetic_locations', 'cytogenetic_locations', 13, 'CREATE TABLE cytogenetic_locations (\\n      _id INTEGER NOT NULL,                         -- REFERENCES  genes \\n      cytogenetic_location VARCHAR(20) NOT NULL,    -- cytoband location\\n      FOREIGN KEY (_id) REFERENCES  genes  (_id)\\n    )')\n",
      "('table', 'omim', 'omim', 14, 'CREATE TABLE omim (\\n      _id INTEGER NOT NULL,                         -- REFERENCES  genes \\n      omim_id CHAR(6) NOT NULL,                     -- OMIM ID\\n      FOREIGN KEY (_id) REFERENCES  genes  (_id)\\n    )')\n",
      "('table', 'refseq', 'refseq', 15, 'CREATE TABLE refseq (\\n      _id INTEGER NOT NULL,                         -- REFERENCES  genes \\n      accession VARCHAR(20) NOT NULL,               -- RefSeq accession number\\n      FOREIGN KEY (_id) REFERENCES  genes  (_id)\\n    )')\n",
      "('table', 'pubmed', 'pubmed', 16, 'CREATE TABLE pubmed (\\n      _id INTEGER NOT NULL,                         -- REFERENCES  genes \\n      pubmed_id VARCHAR(10) NOT NULL,               -- PubMed ID\\n      FOREIGN KEY (_id) REFERENCES  genes  (_id)\\n    )')\n",
      "('table', 'unigene', 'unigene', 17, 'CREATE TABLE unigene (\\n      _id INTEGER NOT NULL,                         -- REFERENCES  genes \\n      unigene_id VARCHAR(10) NOT NULL,              -- UniGene ID\\n      FOREIGN KEY (_id) REFERENCES  genes  (_id)\\n    )')\n",
      "('table', 'chrlengths', 'chrlengths', 18, 'CREATE TABLE chrlengths (\\n      chromosome VARCHAR(2) PRIMARY KEY,                   -- chromosome name\\n      length INTEGER NOT NULL\\n    )')\n",
      "('index', 'sqlite_autoindex_chrlengths_1', 'chrlengths', 19, None)\n",
      "('table', 'go_bp', 'go_bp', 20, 'CREATE TABLE go_bp (\\n      _id INTEGER NOT NULL,                         -- REFERENCES  genes \\n      go_id CHAR(10) NOT NULL,                      -- GO ID\\n      evidence CHAR(3) NOT NULL,                    -- GO evidence code\\n      FOREIGN KEY (_id) REFERENCES  genes  (_id)\\n    )')\n",
      "('table', 'go_mf', 'go_mf', 21, 'CREATE TABLE go_mf (\\n      _id INTEGER NOT NULL,                         -- REFERENCES  genes \\n      go_id CHAR(10) NOT NULL,                      -- GO ID\\n      evidence CHAR(3) NOT NULL,                    -- GO evidence code\\n      FOREIGN KEY (_id) REFERENCES  genes  (_id)\\n    )')\n",
      "('table', 'go_cc', 'go_cc', 22, 'CREATE TABLE go_cc (\\n      _id INTEGER NOT NULL,                         -- REFERENCES  genes \\n      go_id CHAR(10) NOT NULL,                      -- GO ID\\n      evidence CHAR(3) NOT NULL,                    -- GO evidence code\\n      FOREIGN KEY (_id) REFERENCES  genes  (_id)\\n    )')\n",
      "('table', 'go_bp_all', 'go_bp_all', 25, 'CREATE TABLE go_bp_all (\\n      _id INTEGER NOT NULL,                         -- REFERENCES  genes \\n      go_id CHAR(10) NOT NULL,                      -- GO ID\\n      evidence CHAR(3) NOT NULL,                    -- GO evidence code\\n      FOREIGN KEY (_id) REFERENCES  genes  (_id)\\n    )')\n",
      "('table', 'go_mf_all', 'go_mf_all', 26, 'CREATE TABLE go_mf_all (\\n      _id INTEGER NOT NULL,                         -- REFERENCES  genes \\n      go_id CHAR(10) NOT NULL,                      -- GO ID\\n      evidence CHAR(3) NOT NULL,                    -- GO evidence code\\n      FOREIGN KEY (_id) REFERENCES  genes  (_id)\\n    )')\n",
      "('table', 'go_cc_all', 'go_cc_all', 27, 'CREATE TABLE go_cc_all (\\n      _id INTEGER NOT NULL,                         -- REFERENCES  genes \\n      go_id CHAR(10) NOT NULL,                      -- GO ID\\n      evidence CHAR(3) NOT NULL,                    -- GO evidence code\\n      FOREIGN KEY (_id) REFERENCES  genes  (_id)\\n    )')\n",
      "('table', 'kegg', 'kegg', 28, 'CREATE TABLE kegg (\\n      _id INTEGER NOT NULL,                         -- REFERENCES  genes \\n      path_id CHAR(5) NOT NULL,                     -- KEGG pathway short ID\\n      FOREIGN KEY (_id) REFERENCES  genes  (_id)\\n    )')\n",
      "('table', 'ec', 'ec', 29, 'CREATE TABLE ec (\\n      _id INTEGER NOT NULL,                         -- REFERENCES  genes \\n      ec_number VARCHAR(13) NOT NULL,               -- EC number \\n      FOREIGN KEY (_id) REFERENCES  genes  (_id)\\n    )')\n",
      "('table', 'chromosome_locations', 'chromosome_locations', 30, 'CREATE TABLE chromosome_locations (\\n      _id INTEGER NOT NULL,                      -- REFERENCES  genes \\n      seqname VARCHAR(20) NOT NULL,              -- sequence name\\n      start_location INTEGER NOT NULL,\\n      end_location INTEGER NOT NULL,\\n      FOREIGN KEY (_id) REFERENCES  genes  (_id)\\n    )')\n",
      "('table', 'pfam', 'pfam', 31, 'CREATE TABLE pfam (\\n      _id INTEGER NOT NULL,                         -- REFERENCES  genes \\n      ipi_id CHAR(11),                     -- IPI accession number\\n      pfam_id CHAR(7) NULL,                         -- Pfam ID\\n      FOREIGN KEY (_id) REFERENCES  genes  (_id)\\n    )')\n",
      "('table', 'prosite', 'prosite', 32, 'CREATE TABLE prosite (\\n      _id INTEGER NOT NULL,                         -- REFERENCES  genes \\n      ipi_id CHAR(11),                     -- IPI accession number\\n      prosite_id CHAR(7) NULL,                      -- PROSITE ID\\n      FOREIGN KEY (_id) REFERENCES  genes  (_id)\\n    )')\n",
      "('table', 'alias', 'alias', 33, 'CREATE TABLE alias (\\n      _id INTEGER NOT NULL,                         -- REFERENCES  genes \\n      alias_symbol VARCHAR(80) NOT NULL,            -- gene symbol or alias\\n      FOREIGN KEY (_id) REFERENCES  genes  (_id)\\n    )')\n",
      "('table', 'ensembl', 'ensembl', 34, 'CREATE TABLE ensembl (\\n      _id INTEGER NOT NULL,                         -- REFERENCES  genes \\n      ensembl_id VARCHAR(20) NOT NULL,              -- ensembl id\\n      FOREIGN KEY (_id) REFERENCES  genes  (_id)\\n    )')\n",
      "('table', 'ensembl2ncbi', 'ensembl2ncbi', 35, 'CREATE TABLE ensembl2ncbi (\\n      _id INTEGER NOT NULL,                         -- REFERENCES  genes \\n      ensembl_id VARCHAR(20) NOT NULL,              -- ensembl id\\n      FOREIGN KEY (_id) REFERENCES  genes  (_id)\\n    )')\n",
      "('table', 'ncbi2ensembl', 'ncbi2ensembl', 36, 'CREATE TABLE ncbi2ensembl (\\n      _id INTEGER NOT NULL,                         -- REFERENCES  genes \\n      ensembl_id VARCHAR(20) NOT NULL,              -- ensembl id\\n      FOREIGN KEY (_id) REFERENCES  genes  (_id)\\n    )')\n",
      "('table', 'ensembl_prot', 'ensembl_prot', 37, 'CREATE TABLE ensembl_prot (\\n      _id INTEGER NOT NULL,                          -- REFERENCES  genes \\n      prot_id VARCHAR(20) NOT NULL,                  -- Ensembl Protein ID\\n      FOREIGN KEY (_id) REFERENCES  genes  (_id)\\n    )')\n",
      "('table', 'ensembl_trans', 'ensembl_trans', 38, 'CREATE TABLE ensembl_trans (\\n      _id INTEGER NOT NULL,                          -- REFERENCES  genes \\n      trans_id VARCHAR(20) NOT NULL,                  -- Ensembl Transcript ID\\n      FOREIGN KEY (_id) REFERENCES  genes  (_id)\\n    )')\n",
      "('table', 'uniprot', 'uniprot', 40, 'CREATE TABLE uniprot (\\n      _id INTEGER NOT NULL,                         -- REFERENCES  genes \\n      uniprot_id VARCHAR(20) NOT NULL,              -- uniprot id\\n      FOREIGN KEY (_id) REFERENCES  genes  (_id)\\n    )')\n",
      "('table', 'ucsc', 'ucsc', 41, 'CREATE TABLE ucsc (\\n      _id INTEGER NOT NULL,                         -- REFERENCES  genes \\n      ucsc_id VARCHAR(20) NOT NULL,              -- uniprot id\\n      FOREIGN KEY (_id) REFERENCES  genes  (_id)\\n    )')\n",
      "('table', 'sqlite_stat1', 'sqlite_stat1', 42, 'CREATE TABLE sqlite_stat1(tbl,idx,stat)')\n",
      "('table', 'sqlite_stat4', 'sqlite_stat4', 43, 'CREATE TABLE sqlite_stat4(tbl,idx,neq,nlt,ndlt,sample)')\n",
      "('index', 'Fchromosomes', 'chromosomes', 44, 'CREATE INDEX Fchromosomes ON chromosomes (_id)')\n",
      "('index', 'Faccessions', 'accessions', 45, 'CREATE INDEX Faccessions ON accessions (_id)')\n",
      "('index', 'Fcytogenetic_locations', 'cytogenetic_locations', 46, 'CREATE INDEX Fcytogenetic_locations ON cytogenetic_locations (_id)')\n",
      "('index', 'Fomim', 'omim', 47, 'CREATE INDEX Fomim ON omim (_id)')\n",
      "('index', 'Frefseq', 'refseq', 48, 'CREATE INDEX Frefseq ON refseq (_id)')\n",
      "('index', 'Fpubmed', 'pubmed', 49, 'CREATE INDEX Fpubmed ON pubmed (_id)')\n",
      "('index', 'Funigene', 'unigene', 50, 'CREATE INDEX Funigene ON unigene (_id)')\n",
      "('index', 'Fgo_bp', 'go_bp', 51, 'CREATE INDEX Fgo_bp ON go_bp (_id)')\n",
      "('index', 'Fgo_bp_go_id', 'go_bp', 52, 'CREATE INDEX Fgo_bp_go_id ON go_bp (go_id)')\n",
      "('index', 'Fgo_mf', 'go_mf', 53, 'CREATE INDEX Fgo_mf ON go_mf (_id)')\n",
      "('index', 'Fgo_mf_go_id', 'go_mf', 54, 'CREATE INDEX Fgo_mf_go_id ON go_mf (go_id)')\n",
      "('index', 'Fgo_cc', 'go_cc', 55, 'CREATE INDEX Fgo_cc ON go_cc (_id)')\n",
      "('index', 'Fgo_cc_go_id', 'go_cc', 56, 'CREATE INDEX Fgo_cc_go_id ON go_cc (go_id)')\n",
      "('index', 'Fgo_bp_all', 'go_bp_all', 57, 'CREATE INDEX Fgo_bp_all ON go_bp_all (_id)')\n",
      "('index', 'Fgo_bp_all_go_id', 'go_bp_all', 58, 'CREATE INDEX Fgo_bp_all_go_id ON go_bp_all (go_id)')\n",
      "('index', 'Fgo_mf_all', 'go_mf_all', 59, 'CREATE INDEX Fgo_mf_all ON go_mf_all (_id)')\n",
      "('index', 'Fgo_mf_all_go_id', 'go_mf_all', 60, 'CREATE INDEX Fgo_mf_all_go_id ON go_mf_all (go_id)')\n",
      "('index', 'Fgo_cc_all', 'go_cc_all', 61, 'CREATE INDEX Fgo_cc_all ON go_cc_all (_id)')\n",
      "('index', 'Fgo_cc_all_go_id', 'go_cc_all', 62, 'CREATE INDEX Fgo_cc_all_go_id ON go_cc_all (go_id)')\n",
      "('index', 'Fkegg', 'kegg', 63, 'CREATE INDEX Fkegg ON kegg (_id)')\n",
      "('index', 'Fec', 'ec', 64, 'CREATE INDEX Fec ON ec (_id)')\n",
      "('index', 'Fchromosome_locations', 'chromosome_locations', 65, 'CREATE INDEX Fchromosome_locations ON chromosome_locations (_id)')\n",
      "('index', 'Fpfam', 'pfam', 66, 'CREATE INDEX Fpfam ON pfam (_id)')\n",
      "('index', 'Fprosite', 'prosite', 67, 'CREATE INDEX Fprosite ON prosite (_id)')\n",
      "('index', 'Falias', 'alias', 68, 'CREATE INDEX Falias ON alias (_id)')\n",
      "('index', 'Fensembl', 'ensembl', 69, 'CREATE INDEX Fensembl ON ensembl (_id)')\n",
      "('index', 'Fensembl2ncbi', 'ensembl2ncbi', 70, 'CREATE INDEX Fensembl2ncbi ON ensembl2ncbi (_id)')\n",
      "('index', 'Fncbi2ensembl', 'ncbi2ensembl', 71, 'CREATE INDEX Fncbi2ensembl ON ncbi2ensembl (_id)')\n",
      "('index', 'Fensemblp', 'ensembl_prot', 72, 'CREATE INDEX Fensemblp ON ensembl_prot (_id)')\n",
      "('index', 'Fensemblt', 'ensembl_trans', 73, 'CREATE INDEX Fensemblt ON ensembl_trans (_id)')\n",
      "('index', 'Funiprot', 'uniprot', 74, 'CREATE INDEX Funiprot ON uniprot (_id)')\n",
      "('index', 'Fucsc', 'ucsc', 75, 'CREATE INDEX Fucsc ON ucsc (_id)')\n",
      "('view', 'go', 'go', 0, \"CREATE VIEW go AS\\nSELECT _id,go_id,evidence, 'BP' AS 'ontology' FROM go_bp\\nUNION\\nSELECT _id,go_id,evidence, 'CC' FROM go_cc\\nUNION\\nSELECT _id,go_id,evidence, 'MF' FROM go_mf\")\n",
      "('view', 'go_all', 'go_all', 0, \"CREATE VIEW go_all AS\\nSELECT _id,go_id,evidence, 'BP' AS 'ontology'  FROM go_bp_all\\nUNION\\nSELECT _id,go_id,evidence, 'CC' FROM go_cc_all\\nUNION\\nSELECT _id,go_id,evidence, 'MF' FROM go_mf_all\")\n"
     ]
    }
   ],
   "source": [
    "for row in curs: print(row)"
   ]
  },
  {
   "cell_type": "markdown",
   "metadata": {},
   "source": [
    "WHERE clause example"
   ]
  },
  {
   "cell_type": "code",
   "execution_count": 58,
   "metadata": {},
   "outputs": [
    {
     "name": "stdout",
     "output_type": "stream",
     "text": [
      "('metadata', 'table')\n",
      "('map_metadata', 'table')\n",
      "('map_counts', 'table')\n",
      "('genes', 'table')\n",
      "('gene_info', 'table')\n",
      "('chromosomes', 'table')\n",
      "('accessions', 'table')\n",
      "('cytogenetic_locations', 'table')\n",
      "('omim', 'table')\n",
      "('refseq', 'table')\n",
      "('pubmed', 'table')\n",
      "('unigene', 'table')\n",
      "('chrlengths', 'table')\n",
      "('go_bp', 'table')\n",
      "('go_mf', 'table')\n",
      "('go_cc', 'table')\n",
      "('go_bp_all', 'table')\n",
      "('go_mf_all', 'table')\n",
      "('go_cc_all', 'table')\n",
      "('kegg', 'table')\n",
      "('ec', 'table')\n",
      "('chromosome_locations', 'table')\n",
      "('pfam', 'table')\n",
      "('prosite', 'table')\n",
      "('alias', 'table')\n",
      "('ensembl', 'table')\n",
      "('ensembl2ncbi', 'table')\n",
      "('ncbi2ensembl', 'table')\n",
      "('ensembl_prot', 'table')\n",
      "('ensembl_trans', 'table')\n",
      "('uniprot', 'table')\n",
      "('ucsc', 'table')\n",
      "('sqlite_stat1', 'table')\n",
      "('sqlite_stat4', 'table')\n"
     ]
    }
   ],
   "source": [
    "sql = '''\n",
    "SELECT name, type\n",
    "FROM sqlite_master \n",
    "WHERE type= \"table\";\n",
    "'''\n",
    "curs.execute(sql)\n",
    "for row in curs: print(row)"
   ]
  },
  {
   "cell_type": "code",
   "execution_count": 59,
   "metadata": {},
   "outputs": [
    {
     "name": "stdout",
     "output_type": "stream",
     "text": [
      "name\ttype\n"
     ]
    }
   ],
   "source": [
    "def get_header(cursor):\n",
    "    '''Makes a header row from the cursor description. Its tab\n",
    "delimited.\n",
    "\n",
    "\n",
    "Arguments:\n",
    "    cursor: a cursor after a select query\n",
    "Returns:\n",
    "    string: A string consisting of the column names separated by tabs, no new line\n",
    "'''\n",
    "    return '\\t'.join([row[0] for row in cursor.description])\n",
    "#    colNames = []\n",
    "#    for row  in cursor.description:\n",
    "#        colNames.append(row[0])\n",
    "#    return '\\t'.join(colNames)\n",
    "print(get_header(curs))"
   ]
  },
  {
   "cell_type": "code",
   "execution_count": 60,
   "metadata": {},
   "outputs": [
    {
     "name": "stdout",
     "output_type": "stream",
     "text": [
      "_id\tgo_id\tevidence\n",
      "1\tGO:0002576\tTAS\n",
      "1\tGO:0008150\tND\n",
      "1\tGO:0043312\tTAS\n",
      "2\tGO:0001869\tIDA\n",
      "2\tGO:0002576\tTAS\n",
      "2\tGO:0007597\tTAS\n",
      "2\tGO:0010951\tIEA\n",
      "2\tGO:0022617\tTAS\n",
      "2\tGO:0048863\tIEA\n",
      "2\tGO:0051056\tTAS\n"
     ]
    }
   ],
   "source": [
    "sql = '''\n",
    "SELECT *\n",
    "FROM go_bp LIMIT 10;\n",
    "'''\n",
    "curs.execute(sql)\n",
    "print(get_header(curs))\n",
    "for row in curs.fetchall():        \n",
    "    print('\\t'.join([str(elem) for elem in row ]))"
   ]
  },
  {
   "cell_type": "markdown",
   "metadata": {},
   "source": [
    "http://geneontology.org/docs/guide-go-evidence-codes/\n",
    "* Inferred from Experiment (EXP)\n",
    "* Inferred from Direct Assay (IDA)\n",
    "* Inferred from Physical Interaction (IPI)\n",
    "* Inferred from Mutant Phenotype (IMP)\n",
    "* Inferred from Genetic Interaction (IGI)\n",
    "* Inferred from Expression Pattern (IEP)"
   ]
  },
  {
   "cell_type": "markdown",
   "metadata": {},
   "source": [
    "Aliasing column names to make them easier to understand "
   ]
  },
  {
   "cell_type": "code",
   "execution_count": 61,
   "metadata": {},
   "outputs": [
    {
     "name": "stdout",
     "output_type": "stream",
     "text": [
      "_id\n",
      "gene_name\n",
      "symbol\n",
      "(1, 'alpha-1-B glycoprotein', 'A1BG')\n",
      "(2, 'alpha-2-macroglobulin', 'A2M')\n",
      "(3, 'alpha-2-macroglobulin pseudogene 1', 'A2MP1')\n",
      "(4, 'N-acetyltransferase 1', 'NAT1')\n",
      "(5, 'N-acetyltransferase 2', 'NAT2')\n"
     ]
    }
   ],
   "source": [
    "sql = '''\n",
    "SELECT * FROM gene_info LIMIT 5;\n",
    "'''\n",
    "curs.execute(sql)\n",
    "for i in curs.description: print(i[0])\n",
    "for row in curs: print(row)\n"
   ]
  },
  {
   "cell_type": "code",
   "execution_count": 62,
   "metadata": {},
   "outputs": [
    {
     "data": {
      "text/plain": [
       "(('Gene Identifier', None, None, None, None, None, None),\n",
       " ('Gene Symbol', None, None, None, None, None, None))"
      ]
     },
     "execution_count": 62,
     "metadata": {},
     "output_type": "execute_result"
    }
   ],
   "source": [
    "sql = '''\n",
    "SELECT _id 'Gene Identifier', symbol \"Gene Symbol\"\n",
    "FROM gene_info LIMIT 5;\n",
    "'''\n",
    "curs.execute(sql)\n",
    "curs.description"
   ]
  },
  {
   "cell_type": "code",
   "execution_count": null,
   "metadata": {},
   "outputs": [],
   "source": [
    "curs.fetchall()"
   ]
  },
  {
   "cell_type": "code",
   "execution_count": 63,
   "metadata": {},
   "outputs": [
    {
     "name": "stdout",
     "output_type": "stream",
     "text": [
      "ID\tSymbol\n",
      "1\tA1BG\n",
      "2\tA2M\n",
      "3\tA2MP1\n",
      "4\tNAT1\n",
      "5\tNAT2\n",
      "6\tNATP\n",
      "7\tSERPINA3\n",
      "8\tAADAC\n",
      "9\tAAMP\n",
      "10\tAANAT\n"
     ]
    }
   ],
   "source": [
    "sql = '''\n",
    "SELECT _id 'ID', symbol \"Symbol\"\n",
    "FROM gene_info LIMIT 10;\n",
    "'''\n",
    "curs.execute(sql)\n",
    "print(get_header(curs))\n",
    "for row in curs.fetchall():        \n",
    "    print('\\t'.join([str(elem) for elem in row ]))"
   ]
  },
  {
   "cell_type": "code",
   "execution_count": null,
   "metadata": {},
   "outputs": [],
   "source": [
    "#select all from go_bp\n",
    "\n"
   ]
  },
  {
   "cell_type": "markdown",
   "metadata": {},
   "source": [
    "http://geneontology.org/docs/guide-go-evidence-codes/\n",
    "* Inferred from Experiment (EXP)\n",
    "* Inferred from Direct Assay (IDA)\n",
    "* Inferred from Physical Interaction (IPI)\n",
    "* Inferred from Mutant Phenotype (IMP)\n",
    "* Inferred from Genetic Interaction (IGI)\n",
    "* Inferred from Expression Pattern (IEP)\n",
    "* Inferred from High Throughput Experiment (HTP)\n",
    "* Inferred from High Throughput Direct Assay (HDA)\n",
    "* Inferred from High Throughput Mutant Phenotype (HMP)\n",
    "* Inferred from High Throughput Genetic Interaction (HGI)\n",
    "* Inferred from High Throughput Expression Pattern (HEP)\n",
    "* Inferred from Biological aspect of Ancestor (IBA)\n",
    "* Inferred from Biological aspect of Descendant (IBD)\n",
    "* Inferred from Key Residues (IKR)\n",
    "* Inferred from Rapid Divergence (IRD)\n",
    "* Inferred from Sequence or structural Similarity (ISS)\n",
    "* Inferred from Sequence Orthology (ISO)\n",
    "* Inferred from Sequence Alignment (ISA)\n",
    "* Inferred from Sequence Model (ISM)\n",
    "* Inferred from Genomic Context (IGC)\n",
    "* Inferred from Reviewed Computational Analysis (RCA)\n",
    "* Traceable Author Statement (TAS)\n",
    "* Non-traceable Author Statement (NAS)\n",
    "* Inferred by Curator (IC)\n",
    "* No biological Data available (ND)\n",
    "* Inferred from Electronic Annotation (IEA)\n"
   ]
  },
  {
   "cell_type": "markdown",
   "metadata": {},
   "source": [
    "SELECT - which columns to include in the result <br>\n",
    "FROM - which tables to use <br>\n",
    "WHERE (optional) - predicate clause, which rows to include <br>\n",
    "ORDER BY (optional) - indicates a sort order for the output data"
   ]
  },
  {
   "cell_type": "code",
   "execution_count": null,
   "metadata": {},
   "outputs": [],
   "source": [
    "sql = '''\n",
    "SELECT _id, go_id\n",
    "FROM go_bp \n",
    "WHERE evidence=\"ND\"\n",
    "ORDER BY _id  DESC\n",
    "LIMIT 20;\n",
    "'''\n",
    "curs.execute(sql)\n",
    "print(get_header(curs))\n",
    "for row in curs.fetchall():        \n",
    "    print('\\t'.join([str(elem) for elem in row ]))\n",
    "#curs.fetchall()\n",
    "#for row in curs: print(row)"
   ]
  },
  {
   "cell_type": "markdown",
   "metadata": {},
   "source": [
    "COUNT returns  a single number, which is the count of all rows in the table"
   ]
  },
  {
   "cell_type": "code",
   "execution_count": null,
   "metadata": {},
   "outputs": [],
   "source": [
    "sql = '''\n",
    "SELECT count(*) FROM genes;\n",
    "'''\n",
    "curs.execute(sql)\n",
    "curs.fetchall()"
   ]
  },
  {
   "cell_type": "code",
   "execution_count": null,
   "metadata": {},
   "outputs": [],
   "source": [
    "sql = '''\n",
    "SELECT count(_id) AS 'Number of genes' \n",
    "FROM genes;\n",
    "'''\n",
    "curs.execute(sql)\n",
    "print(get_header(curs))\n",
    "curs.fetchall()[0][0]"
   ]
  },
  {
   "cell_type": "markdown",
   "metadata": {},
   "source": [
    "DISTINCT selects  non-duplicated elements (rows)"
   ]
  },
  {
   "cell_type": "code",
   "execution_count": null,
   "metadata": {},
   "outputs": [],
   "source": [
    "sql = '''\n",
    "SELECT _id FROM go_bp LIMIT 20;\n",
    "'''\n",
    "curs.execute(sql)\n",
    "curs.fetchall()"
   ]
  },
  {
   "cell_type": "code",
   "execution_count": null,
   "metadata": {},
   "outputs": [],
   "source": [
    "sql = '''\n",
    "SELECT DISTINCT _id FROM go_bp LIMIT 10;\n",
    "'''\n",
    "curs.execute(sql)\n",
    "curs.fetchall()"
   ]
  },
  {
   "cell_type": "code",
   "execution_count": null,
   "metadata": {},
   "outputs": [],
   "source": [
    "#count the number of rows on go_bp\n",
    "\n"
   ]
  },
  {
   "cell_type": "code",
   "execution_count": null,
   "metadata": {},
   "outputs": [],
   "source": [
    "sql = '''\n",
    "SELECT DISTINCT _id FROM go_bp;\n",
    "'''\n",
    "curs.execute(sql)\n",
    "result = curs.fetchall()\n",
    "len(result)"
   ]
  },
  {
   "cell_type": "markdown",
   "metadata": {},
   "source": [
    "WHERE clause operators <br>\n",
    "https://www.sqlite.org/lang_expr.html\n",
    "\n",
    "<> ,  != \tinequality <br>\n",
    "<\t\t\tless than <br>\n",
    "<= \t\t\tless than or equal <br>\n",
    "=\t\t\tequal <br>\n",
    "'>\t\t\tgreater than <br>\n",
    "'>= \t\tgreater than or equal <br>\n",
    "BETWEEN v1 AND v2\ttests that a value to lies in a given range <br>\n",
    "EXISTS\t\ttest for existence of rows matching query <br>\n",
    "IN\t\t\ttests if a value falls within a given set or query <br>\n",
    "IS [ NOT ] NULL\tis or is not null <br>\n",
    "[ NOT ] LIKE\t\ttests value to see if like or not like another <br>\n",
    "\n",
    "% is the wildcard in SQL, used in conjunction with LIKE\n"
   ]
  },
  {
   "cell_type": "code",
   "execution_count": null,
   "metadata": {},
   "outputs": [],
   "source": [
    "sql = '''\n",
    "SELECT * FROM go_bp \n",
    "WHERE _id = '1';\n",
    "'''\n",
    "curs.execute(sql)\n",
    "print(get_header(curs))\n",
    "for row in curs.fetchall():        \n",
    "    print('\\t'.join([str(elem) for elem in row ]))"
   ]
  },
  {
   "cell_type": "code",
   "execution_count": null,
   "metadata": {},
   "outputs": [],
   "source": [
    "sql = '''\n",
    "SELECT * FROM go_bp \n",
    "WHERE _id IN (1,5,7);\n",
    "'''\n",
    "curs.execute(sql)\n",
    "print(get_header(curs))\n",
    "for row in curs.fetchall():        \n",
    "    print('\\t'.join([str(elem) for elem in row ]))"
   ]
  },
  {
   "cell_type": "code",
   "execution_count": null,
   "metadata": {},
   "outputs": [],
   "source": [
    "sql = '''\n",
    "SELECT * FROM go_bp \n",
    "WHERE evidence = 'ND' AND _id BETWEEN 20 AND 2000 \n",
    "LIMIT 10\n",
    "'''\n",
    "curs.execute(sql)\n",
    "print(get_header(curs))\n",
    "for row in curs.fetchall():        \n",
    "    print('\\t'.join([str(elem) for elem in row ]))"
   ]
  },
  {
   "cell_type": "code",
   "execution_count": null,
   "metadata": {},
   "outputs": [],
   "source": [
    "sql = '''\n",
    "SELECT * \n",
    "FROM go_bp\n",
    "WHERE go_id LIKE '%0081%' \n",
    "LIMIT 10;\n",
    "'''\n",
    "curs.execute(sql)\n",
    "print(get_header(curs))\n",
    "for row in curs.fetchall():        \n",
    "    print('\\t'.join([str(elem) for elem in row ]))"
   ]
  },
  {
   "cell_type": "code",
   "execution_count": null,
   "metadata": {},
   "outputs": [],
   "source": [
    "# Retrieve rows from go_bp where the go_id is GO:0008104 and evidence is IEA or IDA"
   ]
  },
  {
   "cell_type": "code",
   "execution_count": null,
   "metadata": {},
   "outputs": [],
   "source": []
  },
  {
   "cell_type": "markdown",
   "metadata": {},
   "source": [
    "Sqlite3 also has some PRAGMA methods <br>\n",
    "SQL extension specific to SQLite and used to modify the operation of the SQLite library or to query the SQLite library for internal (non-table) data <br>\n",
    "https://www.sqlite.org/pragma.html <br>\n",
    "The code below shows how to get the schema (columns and columns information)"
   ]
  },
  {
   "cell_type": "code",
   "execution_count": null,
   "metadata": {},
   "outputs": [],
   "source": [
    "sql = 'PRAGMA table_info(\"go_bp\")'\n",
    "curs.execute(sql)\n",
    "curs.fetchall()"
   ]
  },
  {
   "cell_type": "code",
   "execution_count": null,
   "metadata": {},
   "outputs": [],
   "source": [
    "sql = '''SELECT * FROM pragma_table_info(\"go_bp\")  '''\n",
    "curs.execute(sql)\n",
    "curs.fetchall()"
   ]
  },
  {
   "cell_type": "code",
   "execution_count": null,
   "metadata": {},
   "outputs": [],
   "source": [
    "sql = '''\n",
    "SELECT _id, symbol, gene_name \n",
    "FROM gene_info\n",
    "WHERE _id IN\n",
    "    (SELECT DISTINCT _id \n",
    "    FROM go_bp\n",
    "    WHERE go_id == 'GO:0008104'); \n",
    "'''\n",
    "curs.execute(sql)\n",
    "print(get_header(curs))\n",
    "for row in curs.fetchall():        \n",
    "    print('\\t'.join([str(elem) for elem in row ]))"
   ]
  },
  {
   "cell_type": "markdown",
   "metadata": {},
   "source": [
    " "
   ]
  },
  {
   "cell_type": "markdown",
   "metadata": {},
   "source": [
    "##### GROUP BY groups by a column and creates summary data for a different column"
   ]
  },
  {
   "cell_type": "code",
   "execution_count": null,
   "metadata": {},
   "outputs": [],
   "source": [
    "sql = '''\n",
    "SELECT go_id, count(*) FROM go_bp GROUP BY go_id LIMIT 10;\n",
    "'''\n",
    "curs.execute(sql)\n",
    "curs.fetchall()"
   ]
  },
  {
   "cell_type": "code",
   "execution_count": null,
   "metadata": {},
   "outputs": [],
   "source": [
    "sql = '''\n",
    "SELECT go_id, count(_id) as gene_no FROM go_bp GROUP BY go_id LIMIT 10;\n",
    "'''\n",
    "curs.execute(sql)\n",
    "print(get_header(curs))\n",
    "for row in curs.fetchall():        \n",
    "    print('\\t'.join([str(elem) for elem in row ]))"
   ]
  },
  {
   "cell_type": "markdown",
   "metadata": {},
   "source": [
    "##### HAVING allows restrictions on the rows used or selected"
   ]
  },
  {
   "cell_type": "code",
   "execution_count": null,
   "metadata": {},
   "outputs": [],
   "source": [
    "sql = '''\n",
    "SELECT go_id, count(_id) as gene_no FROM go_bp GROUP BY go_id\n",
    "HAVING gene_no>500;\n",
    "'''\n",
    "curs.execute(sql)\n",
    "print(get_header(curs))\n",
    "for row in curs.fetchall():        \n",
    "    print('\\t'.join([str(elem) for elem in row ]))"
   ]
  },
  {
   "cell_type": "code",
   "execution_count": null,
   "metadata": {},
   "outputs": [],
   "source": [
    "# Select gene ids with more than 100 biological processes associated\n",
    "\n",
    "\n"
   ]
  },
  {
   "cell_type": "markdown",
   "metadata": {},
   "source": [
    "#### See the create table statement"
   ]
  },
  {
   "cell_type": "code",
   "execution_count": null,
   "metadata": {},
   "outputs": [],
   "source": [
    "sql = '''\n",
    "SELECT name,sql\n",
    "FROM sqlite_master \n",
    "WHERE type= \"table\" and name == \"go_bp\"\n",
    "LIMIT 2;\n",
    "'''\n",
    "curs.execute(sql)\n",
    "print(get_header(curs))\n",
    "for row in curs.fetchall():        \n",
    "    print('\\t'.join([str(elem) for elem in row ]))"
   ]
  },
  {
   "cell_type": "code",
   "execution_count": null,
   "metadata": {},
   "outputs": [],
   "source": [
    "print(row[1])"
   ]
  },
  {
   "cell_type": "code",
   "execution_count": null,
   "metadata": {},
   "outputs": [],
   "source": [
    "curs.close()\n",
    "conn.close()"
   ]
  }
 ],
 "metadata": {
  "kernelspec": {
   "display_name": "Python 3",
   "language": "python",
   "name": "python3"
  },
  "language_info": {
   "codemirror_mode": {
    "name": "ipython",
    "version": 3
   },
   "file_extension": ".py",
   "mimetype": "text/x-python",
   "name": "python",
   "nbconvert_exporter": "python",
   "pygments_lexer": "ipython3",
   "version": "3.7.3"
  }
 },
 "nbformat": 4,
 "nbformat_minor": 2
}
