{
 "cells": [
  {
   "cell_type": "markdown",
   "metadata": {
    "slideshow": {
     "slide_type": "slide"
    }
   },
   "source": [
    "To get this notebook, just pull the class _GitHub_ repo"
   ]
  },
  {
   "cell_type": "markdown",
   "metadata": {},
   "source": [
    "# Teaching Objectives"
   ]
  },
  {
   "cell_type": "markdown",
   "metadata": {},
   "source": [
    "* Students will be able to visually and cognitively identify Python comprehension statements\n",
    "* Students will be able to do describe use cases for Python comprehension statements, both as a proponent and opponent\n",
    "* Students will be able to choose the correct output of a comprehension statement\n",
    "* Students will be able to demonstrate tuple unpacking"
   ]
  },
  {
   "cell_type": "markdown",
   "metadata": {},
   "source": [
    "---"
   ]
  },
  {
   "cell_type": "markdown",
   "metadata": {},
   "source": [
    "# Warm-up"
   ]
  },
  {
   "cell_type": "markdown",
   "metadata": {},
   "source": [
    "1. Find a partner\n",
    "1. Read the code below\n",
    "1. Describe the code to your partner\n",
    "1. What do you think the output of `euclid_list` is?\n",
    "    * Post your guesses [here](https://PollEv.com/discourses/4um2D9ihsEmNWjPJ6150L/respond)"
   ]
  },
  {
   "cell_type": "markdown",
   "metadata": {},
   "source": [
    "<img src='../assets/thinker.png' align='left' />"
   ]
  },
  {
   "cell_type": "markdown",
   "metadata": {},
   "source": [
    "---\n",
    "# Review"
   ]
  },
  {
   "cell_type": "markdown",
   "metadata": {},
   "source": [
    "We are going to do a quick exercise. Using **both** a standard `for-loop` and a comprehension statement: given `list_of_str_floats`, convert all the values into `float`s"
   ]
  },
  {
   "cell_type": "code",
   "execution_count": 1,
   "metadata": {},
   "outputs": [],
   "source": [
    "list_of_str_floats = ['1.6', '-0.76', '-1.4', '-0.039', '-0.96', '-0.58', '1.3', '-0.45', '-0.51', '-1.6']"
   ]
  },
  {
   "cell_type": "code",
   "execution_count": 2,
   "metadata": {},
   "outputs": [
    {
     "name": "stdout",
     "output_type": "stream",
     "text": [
      "[1.6, -0.76, -1.4, -0.039, -0.96, -0.58, 1.3, -0.45, -0.51, -1.6]\n"
     ]
    }
   ],
   "source": [
    "# Normal for-loop goes here\n",
    "converted_floats = []\n",
    "for string_float in list_of_str_floats:\n",
    "    converted_floats.append(float(string_float))\n",
    "print(converted_floats)"
   ]
  },
  {
   "cell_type": "code",
   "execution_count": 4,
   "metadata": {},
   "outputs": [
    {
     "name": "stdout",
     "output_type": "stream",
     "text": [
      "[1.6, -0.76, -1.4, -0.039, -0.96, -0.58, 1.3, -0.45, -0.51, -1.6]\n"
     ]
    }
   ],
   "source": [
    "# Comprehension goes here\n",
    "converted_floats = [float(string_float) for string_float in list_of_str_floats]\n",
    "print(converted_floats)"
   ]
  },
  {
   "cell_type": "markdown",
   "metadata": {},
   "source": [
    "---\n",
    "That should have felt a little weird. The reason for the cognitive dissonance is how the last bit of content in the last class was presented. For a _refresher_..."
   ]
  },
  {
   "cell_type": "code",
   "execution_count": 5,
   "metadata": {
    "hideCode": false,
    "hidePrompt": true,
    "slideshow": {
     "slide_type": "subslide"
    }
   },
   "outputs": [
    {
     "data": {
      "text/plain": [
       "['Noibat',\n",
       " 'Noivern',\n",
       " 'Xerneas',\n",
       " 'Yveltal',\n",
       " 'Zygarde50% Forme',\n",
       " 'Diancie',\n",
       " 'DiancieMega Diancie',\n",
       " 'HoopaHoopa Confined',\n",
       " 'HoopaHoopa Unbound',\n",
       " 'Volcanion']"
      ]
     },
     "execution_count": 5,
     "metadata": {},
     "output_type": "execute_result"
    }
   ],
   "source": [
    "# Getting all of the Pokemon names\n",
    "[row.strip().split(',')[1] for row in open('../datasets/pokemon.csv') if not row.startswith('#')][-10:]"
   ]
  },
  {
   "cell_type": "markdown",
   "metadata": {},
   "source": [
    "This was **intentional**. Comprehension statements are a _very_ powerful tool in Python, but if you do not fully understand them, they can hurt you.\n",
    "> \"With great power comes great responsibility\" - Uncle Ben\n",
    "\n",
    "> \"But why did we go through all that content last time if you did not want us to use them?\" - No one ever"
   ]
  },
  {
   "cell_type": "markdown",
   "metadata": {},
   "source": [
    "Last class, I was attempting to **protect you**. I did not want you to try to use them in your homework because it would have actually made your homework _harder_.\n",
    "\n",
    "<img src=https://media.giphy.com/media/g6vTunkvEH40E/giphy.gif />\n",
    "\n",
    "Today we are going to cover the use cases of comprehensions...that is to say, _when_ and _why_ to use them."
   ]
  },
  {
   "cell_type": "markdown",
   "metadata": {
    "toc-hr-collapsed": true
   },
   "source": [
    "---\n",
    "# Use Cases"
   ]
  },
  {
   "cell_type": "markdown",
   "metadata": {},
   "source": [
    "First, the **purpose** of comprehensions:\n",
    "> \"\\[...\\] comprehensions provide a more concise way to create \\[iterables\\] in situations where `map()` and `filter()` and/or nested loops would currently be used\" - Barry Warsaw, [PEP 202](https://www.python.org/dev/peps/pep-0202/)"
   ]
  },
  {
   "cell_type": "markdown",
   "metadata": {},
   "source": [
    "Basically, comprehensions are what we call \"_syntactic sugar_\". This means that they do not do anything you could not have done already. But, with them, you can do some operations easier."
   ]
  },
  {
   "cell_type": "markdown",
   "metadata": {},
   "source": [
    "## Cons"
   ]
  },
  {
   "cell_type": "markdown",
   "metadata": {},
   "source": [
    "1. The \"imperative\" syntax. \n",
    "    * That is, the order in which you type things to make one is different from the rest of Python"
   ]
  },
  {
   "cell_type": "markdown",
   "metadata": {},
   "source": [
    "<img src='../assets/readability.png' width=400/>"
   ]
  },
  {
   "cell_type": "markdown",
   "metadata": {},
   "source": [
    "2. **readability**</br>\n",
    "    * Comprehension statements get <u>exponentially</u> more unreadable as complexity is added...okay, maybe not \"exponentially\""
   ]
  },
  {
   "cell_type": "code",
   "execution_count": 6,
   "metadata": {},
   "outputs": [
    {
     "name": "stdout",
     "output_type": "stream",
     "text": [
      "['FIZZBUZZ', 1, 2, 'FIZZ', 4, 'BUZZ', 'FIZZ', 7, 8, 'FIZZ', 'BUZZ', 11, 'FIZZ', 13, 14, 'FIZZBUZZ', 16, 17, 'FIZZ', 19]\n"
     ]
    }
   ],
   "source": [
    "# Fizz Buzz for-loop\n",
    "some_numbers = list(range(20))\n",
    "fb = []\n",
    "for number in some_numbers:\n",
    "    if not number % 15:\n",
    "        fb.append('FIZZBUZZ')\n",
    "    elif not number % 3:\n",
    "        fb.append('FIZZ')\n",
    "    elif not number % 5:\n",
    "        fb.append('BUZZ')\n",
    "    else:\n",
    "        fb.append(number)\n",
    "print(fb)"
   ]
  },
  {
   "cell_type": "code",
   "execution_count": 10,
   "metadata": {},
   "outputs": [
    {
     "name": "stdout",
     "output_type": "stream",
     "text": [
      "['FIZZBUZZ', 1, 2, 'FIZZ', 4, 'BUZZ', 'FIZZ', 7, 8, 'FIZZ', 'BUZZ', 11, 'FIZZ', 13, 14, 'FIZZBUZZ', 16, 17, 'FIZZ', 19]\n"
     ]
    }
   ],
   "source": [
    "# Fizz Buzz list comp\n",
    "print(['FIZZBUZZ' if not number % 15 \\\n",
    "       else 'FIZZ' if not number % 3 \\\n",
    "       else 'BUZZ' if not number % 5 \\\n",
    "       else number \\\n",
    "       for number in some_numbers])"
   ]
  },
  {
   "cell_type": "code",
   "execution_count": 9,
   "metadata": {},
   "outputs": [
    {
     "name": "stdout",
     "output_type": "stream",
     "text": [
      "The Zen of Python, by Tim Peters\n",
      "\n",
      "Beautiful is better than ugly.\n",
      "Explicit is better than implicit.\n",
      "Simple is better than complex.\n",
      "Complex is better than complicated.\n",
      "Flat is better than nested.\n",
      "Sparse is better than dense.\n",
      "Readability counts.\n",
      "Special cases aren't special enough to break the rules.\n",
      "Although practicality beats purity.\n",
      "Errors should never pass silently.\n",
      "Unless explicitly silenced.\n",
      "In the face of ambiguity, refuse the temptation to guess.\n",
      "There should be one-- and preferably only one --obvious way to do it.\n",
      "Although that way may not be obvious at first unless you're Dutch.\n",
      "Now is better than never.\n",
      "Although never is often better than *right* now.\n",
      "If the implementation is hard to explain, it's a bad idea.\n",
      "If the implementation is easy to explain, it may be a good idea.\n",
      "Namespaces are one honking great idea -- let's do more of those!\n"
     ]
    }
   ],
   "source": [
    "import this"
   ]
  },
  {
   "cell_type": "markdown",
   "metadata": {},
   "source": [
    "3. You do not _always_ need a list...more on this in the next class"
   ]
  },
  {
   "cell_type": "markdown",
   "metadata": {},
   "source": [
    "That is it! \n",
    "\n",
    "Keep in mind though, just because you _can_ do something, does not mean you _should_"
   ]
  },
  {
   "cell_type": "markdown",
   "metadata": {},
   "source": [
    "## Pros"
   ]
  },
  {
   "cell_type": "markdown",
   "metadata": {},
   "source": [
    "1. Their use can easily distill multiple lines of code into a single, concise statement\n",
    "\n",
    "<img src='../assets/distill.png' width=400 />"
   ]
  },
  {
   "cell_type": "markdown",
   "metadata": {},
   "source": [
    "2. _slightly_ more performant than regular loops"
   ]
  },
  {
   "cell_type": "code",
   "execution_count": 11,
   "metadata": {},
   "outputs": [],
   "source": [
    "# Standard for-loop in a function\n",
    "def basic_loop():\n",
    "    some_list = []\n",
    "    for i in range(100):\n",
    "        some_list.append(i**2)\n",
    "    return some_list"
   ]
  },
  {
   "cell_type": "code",
   "execution_count": 12,
   "metadata": {},
   "outputs": [
    {
     "name": "stdout",
     "output_type": "stream",
     "text": [
      "22.8 µs ± 282 ns per loop (mean ± std. dev. of 7 runs, 10000 loops each)\n"
     ]
    }
   ],
   "source": [
    "%%timeit\n",
    "# Test for-loop\n",
    "basic_loop()"
   ]
  },
  {
   "cell_type": "code",
   "execution_count": 13,
   "metadata": {},
   "outputs": [],
   "source": [
    "# List comprehension in a function\n",
    "def list_comp():\n",
    "    return [i**2 for i in range(100)]"
   ]
  },
  {
   "cell_type": "code",
   "execution_count": 14,
   "metadata": {},
   "outputs": [
    {
     "name": "stdout",
     "output_type": "stream",
     "text": [
      "21.2 µs ± 1.38 µs per loop (mean ± std. dev. of 7 runs, 10000 loops each)\n"
     ]
    }
   ],
   "source": [
    "%%timeit\n",
    "# Test list comprehension\n",
    "list_comp()"
   ]
  },
  {
   "cell_type": "markdown",
   "metadata": {},
   "source": [
    "That is not the whole picture though. Many of our examples are toy examples. This means we often don't tax the system enough to see appreciable differences in time."
   ]
  },
  {
   "cell_type": "code",
   "execution_count": 15,
   "metadata": {},
   "outputs": [],
   "source": [
    "from dis import dis"
   ]
  },
  {
   "cell_type": "code",
   "execution_count": 16,
   "metadata": {},
   "outputs": [
    {
     "name": "stdout",
     "output_type": "stream",
     "text": [
      "  3           0 BUILD_LIST               0\n",
      "              2 STORE_FAST               0 (some_list)\n",
      "\n",
      "  4           4 SETUP_LOOP              30 (to 36)\n",
      "              6 LOAD_GLOBAL              0 (range)\n",
      "              8 LOAD_CONST               1 (100)\n",
      "             10 CALL_FUNCTION            1\n",
      "             12 GET_ITER\n",
      "        >>   14 FOR_ITER                18 (to 34)\n",
      "             16 STORE_FAST               1 (i)\n",
      "\n",
      "  5          18 LOAD_FAST                0 (some_list)\n",
      "             20 LOAD_METHOD              1 (append)\n",
      "             22 LOAD_FAST                1 (i)\n",
      "             24 LOAD_CONST               2 (2)\n",
      "             26 BINARY_POWER\n",
      "             28 CALL_METHOD              1\n",
      "             30 POP_TOP\n",
      "             32 JUMP_ABSOLUTE           14\n",
      "        >>   34 POP_BLOCK\n",
      "\n",
      "  6     >>   36 LOAD_FAST                0 (some_list)\n",
      "             38 RETURN_VALUE\n"
     ]
    }
   ],
   "source": [
    "# Standard for-loop disassembly\n",
    "dis(basic_loop)"
   ]
  },
  {
   "cell_type": "code",
   "execution_count": 17,
   "metadata": {},
   "outputs": [
    {
     "name": "stdout",
     "output_type": "stream",
     "text": [
      "  3           0 LOAD_CONST               1 (<code object <listcomp> at 0x7f94497ba420, file \"<ipython-input-13-04ef0c27f4c5>\", line 3>)\n",
      "              2 LOAD_CONST               2 ('list_comp.<locals>.<listcomp>')\n",
      "              4 MAKE_FUNCTION            0\n",
      "              6 LOAD_GLOBAL              0 (range)\n",
      "              8 LOAD_CONST               3 (100)\n",
      "             10 CALL_FUNCTION            1\n",
      "             12 GET_ITER\n",
      "             14 CALL_FUNCTION            1\n",
      "             16 RETURN_VALUE\n",
      "\n",
      "Disassembly of <code object <listcomp> at 0x7f94497ba420, file \"<ipython-input-13-04ef0c27f4c5>\", line 3>:\n",
      "  3           0 BUILD_LIST               0\n",
      "              2 LOAD_FAST                0 (.0)\n",
      "        >>    4 FOR_ITER                12 (to 18)\n",
      "              6 STORE_FAST               1 (i)\n",
      "              8 LOAD_FAST                1 (i)\n",
      "             10 LOAD_CONST               0 (2)\n",
      "             12 BINARY_POWER\n",
      "             14 LIST_APPEND              2\n",
      "             16 JUMP_ABSOLUTE            4\n",
      "        >>   18 RETURN_VALUE\n"
     ]
    }
   ],
   "source": [
    "# List comprehension disassembly\n",
    "dis(list_comp)"
   ]
  },
  {
   "cell_type": "markdown",
   "metadata": {},
   "source": [
    "3. Flexible output"
   ]
  },
  {
   "cell_type": "markdown",
   "metadata": {},
   "source": [
    "<img src='../assets/choose_wisely.png' width=650 />"
   ]
  },
  {
   "cell_type": "markdown",
   "metadata": {},
   "source": [
    "---\n",
    "# A quick break for our sponsors... \n",
    "[Dr. Mitrea's Attendance Time](https://pollev.com/cmitrea/)!"
   ]
  },
  {
   "cell_type": "markdown",
   "metadata": {
    "toc-hr-collapsed": true
   },
   "source": [
    "---\n",
    "# Comprehension Categories"
   ]
  },
  {
   "cell_type": "markdown",
   "metadata": {},
   "source": [
    "<img src='../assets/choose_wisely.png' width=650 />"
   ]
  },
  {
   "cell_type": "markdown",
   "metadata": {},
   "source": [
    "As seen above, we can actually choose what the output will be. Also it was mentioned in [Cons.3](#Cons): you do not _always_ need a list. Let us explore some of the different types of comprehension outputs."
   ]
  },
  {
   "cell_type": "markdown",
   "metadata": {},
   "source": [
    "## 1. The List Comprehension\n",
    "Yes, I know, you have already seen it. But for verbosity's sake"
   ]
  },
  {
   "cell_type": "code",
   "execution_count": 19,
   "metadata": {},
   "outputs": [
    {
     "data": {
      "text/plain": [
       "[0, 2, 4, 6, 8, 10, 12, 14, 16, 18]"
      ]
     },
     "execution_count": 19,
     "metadata": {},
     "output_type": "execute_result"
    }
   ],
   "source": [
    "# Small list comprehension\n",
    "[number * 2 for number in range(100)][:10]"
   ]
  },
  {
   "cell_type": "markdown",
   "metadata": {},
   "source": [
    "## 2. Dictionary Comprehensions\n",
    "The only big difference here is _how_ the output is constructed. \n",
    "\n",
    "What is different about the construction of `dict`ionaries _vs._ `list`s?"
   ]
  },
  {
   "cell_type": "markdown",
   "metadata": {},
   "source": [
    "<img src='../assets/dict.png' width=450 />"
   ]
  },
  {
   "cell_type": "markdown",
   "metadata": {
    "toc-hr-collapsed": true
   },
   "source": [
    "---\n",
    "# Tuple (Un)packing"
   ]
  },
  {
   "cell_type": "markdown",
   "metadata": {},
   "source": [
    "The purpose of tuple (un)packing is to quickly pack (or unpack) multiple outputs into specific variable names"
   ]
  },
  {
   "cell_type": "code",
   "execution_count": 20,
   "metadata": {},
   "outputs": [],
   "source": [
    "# Make a 2-item tuple\n",
    "some_tuple = (1, 2)"
   ]
  },
  {
   "cell_type": "code",
   "execution_count": 21,
   "metadata": {},
   "outputs": [
    {
     "name": "stdout",
     "output_type": "stream",
     "text": [
      "1 2\n"
     ]
    }
   ],
   "source": [
    "# Index to get items\n",
    "print(some_tuple[0], some_tuple[1])"
   ]
  },
  {
   "cell_type": "markdown",
   "metadata": {},
   "source": [
    "### Make your brain sweat a little"
   ]
  },
  {
   "cell_type": "code",
   "execution_count": 22,
   "metadata": {},
   "outputs": [],
   "source": [
    "# Make a 2-item tuple\n",
    "some_tuple = (1, 2)"
   ]
  },
  {
   "cell_type": "code",
   "execution_count": 23,
   "metadata": {},
   "outputs": [],
   "source": [
    "# Assign each item to 2 named variables\n",
    "a, b = some_tuple"
   ]
  },
  {
   "cell_type": "code",
   "execution_count": 24,
   "metadata": {},
   "outputs": [
    {
     "name": "stdout",
     "output_type": "stream",
     "text": [
      "1 2\n"
     ]
    }
   ],
   "source": [
    "print(a, b)"
   ]
  },
  {
   "cell_type": "markdown",
   "metadata": {},
   "source": [
    "<img src='../assets/unpack.png' width=450 />"
   ]
  },
  {
   "cell_type": "code",
   "execution_count": 27,
   "metadata": {},
   "outputs": [
    {
     "data": {
      "text/plain": [
       "{0: 9, 1: 8, 2: 7, 3: 6, 4: 5, 5: 4, 6: 3, 7: 2, 8: 1, 9: 0}"
      ]
     },
     "execution_count": 27,
     "metadata": {},
     "output_type": "execute_result"
    }
   ],
   "source": [
    "# Dictionary comprehension in action\n",
    "{key:value for key, value in zip(range(10), list(range(10))[::-1])}"
   ]
  },
  {
   "cell_type": "markdown",
   "metadata": {},
   "source": [
    "---\n",
    "## 3. Set Comprehensions\n",
    "Nothing different here"
   ]
  },
  {
   "cell_type": "code",
   "execution_count": 28,
   "metadata": {},
   "outputs": [
    {
     "data": {
      "text/plain": [
       "{0, 2, 4, 6, 8, 10, 12, 14, 16, 18}"
      ]
     },
     "execution_count": 28,
     "metadata": {},
     "output_type": "execute_result"
    }
   ],
   "source": [
    "# Basic set comprehension\n",
    "{number * 2 for number in range(10)}"
   ]
  },
  {
   "cell_type": "markdown",
   "metadata": {},
   "source": [
    "## 4. String Comprehensions\n",
    "Now, this is a fun one because it takes the user to understand a special method that _only_ strings have: `.join()`"
   ]
  },
  {
   "cell_type": "code",
   "execution_count": 30,
   "metadata": {},
   "outputs": [
    {
     "name": "stdout",
     "output_type": "stream",
     "text": [
      "0\t2\t4\t6\t8\t10\t12\t14\t16\t18\n"
     ]
    }
   ],
   "source": [
    "# Join on\n",
    "print(\"\\t\".join(str(number * 2) for number in range(10)))"
   ]
  },
  {
   "cell_type": "markdown",
   "metadata": {},
   "source": [
    "## 5. Tuple Comprehensions\n",
    "If we can make a `list`, `dict`, `set`, and `str`; we should be able to make `tuple`, right? \n",
    "\n",
    "First, let us test your recall abilities. How do you know when something is a:\n",
    "* `list`?\n",
    "* `dict`?\n",
    "* `set`?\n",
    "* `str`?\n",
    "* `tuple`?"
   ]
  },
  {
   "cell_type": "code",
   "execution_count": 31,
   "metadata": {},
   "outputs": [
    {
     "data": {
      "text/plain": [
       "<generator object <genexpr> at 0x7f9449795228>"
      ]
     },
     "execution_count": 31,
     "metadata": {},
     "output_type": "execute_result"
    }
   ],
   "source": [
    "# Now, try to make a `tuple` comprehension\n",
    "(number * 2 for number in range(10))"
   ]
  },
  {
   "cell_type": "markdown",
   "metadata": {},
   "source": [
    "---\n",
    "# Challenge\n",
    "Make a hypothesis as to why `tuple` comprehensions do not _seem_ to work. Then, attempt to find a way to force the comprehension statement above to create a `tuple`"
   ]
  },
  {
   "cell_type": "code",
   "execution_count": null,
   "metadata": {},
   "outputs": [],
   "source": []
  }
 ],
 "metadata": {
  "kernelspec": {
   "display_name": "Python 3",
   "language": "python",
   "name": "python3"
  },
  "language_info": {
   "codemirror_mode": {
    "name": "ipython",
    "version": 3
   },
   "file_extension": ".py",
   "mimetype": "text/x-python",
   "name": "python",
   "nbconvert_exporter": "python",
   "pygments_lexer": "ipython3",
   "version": "3.7.3"
  }
 },
 "nbformat": 4,
 "nbformat_minor": 4
}
