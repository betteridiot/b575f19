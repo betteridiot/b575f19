{
 "cells": [
  {
   "cell_type": "markdown",
   "metadata": {},
   "source": [
    "### Python notebooks"
   ]
  },
  {
   "cell_type": "markdown",
   "metadata": {},
   "source": [
    "* interactive\n",
    "* contain code and presentation\n",
    "* facilitate collaboration\n",
    "* easy to write and test code\n",
    "* provide quick results\n",
    "* easy to display graphs"
   ]
  },
  {
   "cell_type": "markdown",
   "metadata": {},
   "source": [
    "But, they are not suitable for large projects."
   ]
  },
  {
   "cell_type": "markdown",
   "metadata": {},
   "source": [
    "#### Start coding"
   ]
  },
  {
   "cell_type": "code",
   "execution_count": 1,
   "metadata": {},
   "outputs": [],
   "source": [
    "\"\"\"\n",
    "    MyNewShinyDataType - A class for demonstration purposes.\n",
    "    The class has 2 attributes:\n",
    "    - attribute1 - text (str)\n",
    "    - attribute2 - numeric (int or float)\n",
    "    \n",
    "    The class allows for the update of the numeric attribute.\n",
    "    - method1 updates attribute2\n",
    "\"\"\"\n",
    "class MyNewShinyDataType:\n",
    "    def __init__(self, parameter1 = \"default value\", parameter2 = 0):\n",
    "        self.attribute1 = parameter1\n",
    "        self.attribute2 = parameter2\n",
    "        \n",
    "    def __str__(self):\n",
    "        return f\"MyNewShinyDataType object: attribute1 = '{self.attribute1}', attribute2 = {self.attribute2}\"\n",
    "        \n",
    "    def __repr__(self):\n",
    "        return f\"MyNewShinyDataType('{self.attribute1}',{self.attribute2})\"\n",
    "    \n",
    "    def method1(self, parameter1 = 0):\n",
    "        \"\"\"\n",
    "        Add parameter value to attribute2.\n",
    "\n",
    "        Keyword arguments:\n",
    "        numeric: parameter1 - the number to add (0)\n",
    "        \n",
    "        Returns:\n",
    "        str: updated attribute2\n",
    "        \"\"\"         \n",
    "        old_value = self.attribute2\n",
    "        try:\n",
    "            self.attribute2 = self.attribute2 + parameter1\n",
    "        except TypeError: \n",
    "            self.attribute2 = self.attribute2 + 2\n",
    "            print(f\"'{parameter1}' is not a numeric value, we added 2 instead\")\n",
    "        finally:\n",
    "            print(f\"Old value was {old_value}, new value is {self.attribute2}\")\n",
    "        return self.attribute2"
   ]
  },
  {
   "cell_type": "code",
   "execution_count": 2,
   "metadata": {},
   "outputs": [],
   "source": [
    "test_object = MyNewShinyDataType()"
   ]
  },
  {
   "cell_type": "code",
   "execution_count": 3,
   "metadata": {},
   "outputs": [
    {
     "data": {
      "text/plain": [
       "MyNewShinyDataType('default value',0)"
      ]
     },
     "execution_count": 3,
     "metadata": {},
     "output_type": "execute_result"
    }
   ],
   "source": [
    "test_object"
   ]
  },
  {
   "cell_type": "code",
   "execution_count": 4,
   "metadata": {},
   "outputs": [
    {
     "data": {
      "text/plain": [
       "'default value'"
      ]
     },
     "execution_count": 4,
     "metadata": {},
     "output_type": "execute_result"
    }
   ],
   "source": [
    "test_object.attribute1"
   ]
  },
  {
   "cell_type": "code",
   "execution_count": 5,
   "metadata": {},
   "outputs": [
    {
     "data": {
      "text/plain": [
       "0"
      ]
     },
     "execution_count": 5,
     "metadata": {},
     "output_type": "execute_result"
    }
   ],
   "source": [
    "test_object.attribute2"
   ]
  },
  {
   "cell_type": "code",
   "execution_count": 6,
   "metadata": {},
   "outputs": [
    {
     "name": "stdout",
     "output_type": "stream",
     "text": [
      "Old value was 0, new value is 0\n"
     ]
    },
    {
     "data": {
      "text/plain": [
       "0"
      ]
     },
     "execution_count": 6,
     "metadata": {},
     "output_type": "execute_result"
    }
   ],
   "source": [
    "test_object.method1()"
   ]
  },
  {
   "cell_type": "code",
   "execution_count": 7,
   "metadata": {},
   "outputs": [
    {
     "name": "stdout",
     "output_type": "stream",
     "text": [
      "Old value was 0, new value is 4\n"
     ]
    },
    {
     "data": {
      "text/plain": [
       "4"
      ]
     },
     "execution_count": 7,
     "metadata": {},
     "output_type": "execute_result"
    }
   ],
   "source": [
    "test_object.method1(4)"
   ]
  },
  {
   "cell_type": "code",
   "execution_count": 8,
   "metadata": {},
   "outputs": [
    {
     "name": "stdout",
     "output_type": "stream",
     "text": [
      "'test error' is not a numeric value, we added 2 instead\n",
      "Old value was 4, new value is 6\n"
     ]
    },
    {
     "data": {
      "text/plain": [
       "6"
      ]
     },
     "execution_count": 8,
     "metadata": {},
     "output_type": "execute_result"
    }
   ],
   "source": [
    "test_object.method1(\"test error\")"
   ]
  },
  {
   "cell_type": "markdown",
   "metadata": {},
   "source": [
    "#### Do more coding"
   ]
  },
  {
   "cell_type": "code",
   "execution_count": null,
   "metadata": {},
   "outputs": [],
   "source": []
  },
  {
   "cell_type": "code",
   "execution_count": 21,
   "metadata": {},
   "outputs": [],
   "source": [
    "\"\"\"\n",
    "    EnhancedNewShinyDataType - A class for demonstration purposes.\n",
    "    The class extends the MyNewShinyDataType:\n",
    "    - method2 - updates attribute1\n",
    "    - method3 - a len-based update of attribute2\n",
    "    \n",
    "\"\"\"\n",
    "class EnhancedNewShinyDataType(MyNewShinyDataType):\n",
    "    \n",
    "    def method2(self, parameter1 = \"\"):\n",
    "        \"\"\"\n",
    "        Add parameter text to attribute1.\n",
    "\n",
    "        Keyword arguments:\n",
    "        str: parameter1 - the string to add (\"\")\n",
    "        \n",
    "        Returns:\n",
    "        str: updated attribute1\n",
    "        \"\"\"        \n",
    "        old_value = self.attribute1\n",
    "        try:\n",
    "            self.attribute1 = self.attribute1 + \" \" + parameter1\n",
    "            index = self.attribute1.index(\"test\")\n",
    "        except TypeError: \n",
    "            self.attribute1 = self.attribute1 + \" \" + str(parameter1)\n",
    "            print(f\"'{parameter1}' is not a string, we made the conversion and added it\")\n",
    "        except ValueError: \n",
    "            self.attribute1 = self.attribute1 + \" test\"\n",
    "            print(f\"'{self.attribute1}' does not contain 'test', we added 'test' to it\")\n",
    "\n",
    "        finally:\n",
    "            print(f\"Old value was '{old_value}', new value is '{self.attribute1}'\")\n",
    "        return self.attribute1\n",
    "    \n",
    "\n",
    "    def method3(self, parameter1 = \"\"):\n",
    "        \"\"\"\n",
    "        Add parameter length to attribute2.\n",
    "        If length cannot be computed, double the attribute value\n",
    "        \"\"\"\n",
    "        #pass # implement this method\n",
    "        old_value = self.attribute2\n",
    "        try:\n",
    "            self.attribute2 = self.attribute2 + len(parameter1)\n",
    "        except TypeError: \n",
    "            self.attribute2 = 2*self.attribute2\n",
    "            print(f\"'{parameter1}' does not have a length, we doubled the attribute value\")\n",
    "        else:\n",
    "            print(\"No error\")\n",
    "        finally:\n",
    "            print(f\"Old value was '{old_value}', new value is '{self.attribute2}'\")\n",
    "        return self.attribute2\n"
   ]
  },
  {
   "cell_type": "code",
   "execution_count": 22,
   "metadata": {},
   "outputs": [
    {
     "name": "stdout",
     "output_type": "stream",
     "text": [
      "No error\n",
      "Old value was '0', new value is '0'\n"
     ]
    },
    {
     "data": {
      "text/plain": [
       "0"
      ]
     },
     "execution_count": 22,
     "metadata": {},
     "output_type": "execute_result"
    }
   ],
   "source": [
    "enhanced_object = EnhancedNewShinyDataType()\n",
    "enhanced_object.method3()"
   ]
  },
  {
   "cell_type": "code",
   "execution_count": 23,
   "metadata": {},
   "outputs": [
    {
     "name": "stdout",
     "output_type": "stream",
     "text": [
      "'3' does not have a length, we doubled the attribute value\n",
      "Old value was '0', new value is '0'\n"
     ]
    },
    {
     "data": {
      "text/plain": [
       "0"
      ]
     },
     "execution_count": 23,
     "metadata": {},
     "output_type": "execute_result"
    }
   ],
   "source": [
    "enhanced_object.method3(3)"
   ]
  },
  {
   "cell_type": "code",
   "execution_count": 24,
   "metadata": {},
   "outputs": [
    {
     "name": "stdout",
     "output_type": "stream",
     "text": [
      "No error\n",
      "Old value was '0', new value is '12'\n"
     ]
    },
    {
     "data": {
      "text/plain": [
       "12"
      ]
     },
     "execution_count": 24,
     "metadata": {},
     "output_type": "execute_result"
    }
   ],
   "source": [
    "enhanced_object.method3(\"test message\")"
   ]
  },
  {
   "cell_type": "code",
   "execution_count": 25,
   "metadata": {},
   "outputs": [
    {
     "name": "stdout",
     "output_type": "stream",
     "text": [
      "'7' does not have a length, we doubled the attribute value\n",
      "Old value was '12', new value is '24'\n"
     ]
    },
    {
     "data": {
      "text/plain": [
       "24"
      ]
     },
     "execution_count": 25,
     "metadata": {},
     "output_type": "execute_result"
    }
   ],
   "source": [
    "enhanced_object.method3(7)"
   ]
  },
  {
   "cell_type": "code",
   "execution_count": 20,
   "metadata": {},
   "outputs": [
    {
     "ename": "TypeError",
     "evalue": "object of type 'int' has no len()",
     "output_type": "error",
     "traceback": [
      "\u001b[0;31m---------------------------------------------------------------------------\u001b[0m",
      "\u001b[0;31mTypeError\u001b[0m                                 Traceback (most recent call last)",
      "\u001b[0;32m<ipython-input-20-49e19d3e86d2>\u001b[0m in \u001b[0;36m<module>\u001b[0;34m\u001b[0m\n\u001b[0;32m----> 1\u001b[0;31m \u001b[0mlen\u001b[0m\u001b[0;34m(\u001b[0m\u001b[0;36m2\u001b[0m\u001b[0;34m)\u001b[0m\u001b[0;34m\u001b[0m\u001b[0;34m\u001b[0m\u001b[0m\n\u001b[0m",
      "\u001b[0;31mTypeError\u001b[0m: object of type 'int' has no len()"
     ]
    }
   ],
   "source": [
    "len(2)"
   ]
  },
  {
   "cell_type": "code",
   "execution_count": null,
   "metadata": {},
   "outputs": [],
   "source": []
  },
  {
   "cell_type": "code",
   "execution_count": 15,
   "metadata": {},
   "outputs": [],
   "source": [
    "enhanced_object = EnhancedNewShinyDataType()"
   ]
  },
  {
   "cell_type": "code",
   "execution_count": 16,
   "metadata": {},
   "outputs": [
    {
     "data": {
      "text/plain": [
       "['__class__',\n",
       " '__delattr__',\n",
       " '__dict__',\n",
       " '__dir__',\n",
       " '__doc__',\n",
       " '__eq__',\n",
       " '__format__',\n",
       " '__ge__',\n",
       " '__getattribute__',\n",
       " '__gt__',\n",
       " '__hash__',\n",
       " '__init__',\n",
       " '__init_subclass__',\n",
       " '__le__',\n",
       " '__lt__',\n",
       " '__module__',\n",
       " '__ne__',\n",
       " '__new__',\n",
       " '__reduce__',\n",
       " '__reduce_ex__',\n",
       " '__repr__',\n",
       " '__setattr__',\n",
       " '__sizeof__',\n",
       " '__str__',\n",
       " '__subclasshook__',\n",
       " '__weakref__',\n",
       " 'method1',\n",
       " 'method2',\n",
       " 'method3']"
      ]
     },
     "execution_count": 16,
     "metadata": {},
     "output_type": "execute_result"
    }
   ],
   "source": [
    "dir(EnhancedNewShinyDataType)"
   ]
  },
  {
   "cell_type": "code",
   "execution_count": 17,
   "metadata": {},
   "outputs": [
    {
     "name": "stdout",
     "output_type": "stream",
     "text": [
      "'default value  test' does not contain 'test', we added 'test' to it\n",
      "Old value was 'default value', new value is 'default value  test'\n"
     ]
    },
    {
     "data": {
      "text/plain": [
       "'default value  test'"
      ]
     },
     "execution_count": 17,
     "metadata": {},
     "output_type": "execute_result"
    }
   ],
   "source": [
    "enhanced_object.method2()"
   ]
  },
  {
   "cell_type": "code",
   "execution_count": 18,
   "metadata": {},
   "outputs": [
    {
     "name": "stdout",
     "output_type": "stream",
     "text": [
      "'3' is not a string, we made the conversion and added it\n",
      "Old value was 'default value  test', new value is 'default value  test 3'\n"
     ]
    },
    {
     "data": {
      "text/plain": [
       "'default value  test 3'"
      ]
     },
     "execution_count": 18,
     "metadata": {},
     "output_type": "execute_result"
    }
   ],
   "source": [
    "enhanced_object.method2(3)"
   ]
  },
  {
   "cell_type": "code",
   "execution_count": 19,
   "metadata": {},
   "outputs": [
    {
     "name": "stdout",
     "output_type": "stream",
     "text": [
      "Old value was 'default value  test 3', new value is 'default value  test 3 message'\n"
     ]
    },
    {
     "data": {
      "text/plain": [
       "'default value  test 3 message'"
      ]
     },
     "execution_count": 19,
     "metadata": {},
     "output_type": "execute_result"
    }
   ],
   "source": [
    "enhanced_object.method2(\"message\")"
   ]
  },
  {
   "cell_type": "markdown",
   "metadata": {},
   "source": [
    "### From exploration work to production"
   ]
  },
  {
   "cell_type": "markdown",
   "metadata": {},
   "source": [
    "### Python scripts"
   ]
  },
  {
   "cell_type": "code",
   "execution_count": 26,
   "metadata": {},
   "outputs": [],
   "source": [
    "#!touch test.py\n",
    "# can run this in terminal without the exclamation mark\n",
    "!echo '#!/usr/bin/env python' > test.py\n",
    "!echo 'print(\"This is a python script\")' >> test.py\n",
    "!chmod u+x test.py"
   ]
  },
  {
   "cell_type": "code",
   "execution_count": 1,
   "metadata": {},
   "outputs": [
    {
     "name": "stdout",
     "output_type": "stream",
     "text": [
      "This is a python script\n"
     ]
    }
   ],
   "source": [
    "import test"
   ]
  },
  {
   "cell_type": "code",
   "execution_count": 2,
   "metadata": {},
   "outputs": [
    {
     "name": "stdout",
     "output_type": "stream",
     "text": [
      "This is a python script\n"
     ]
    }
   ],
   "source": [
    "!python test.py"
   ]
  },
  {
   "cell_type": "code",
   "execution_count": null,
   "metadata": {},
   "outputs": [],
   "source": [
    "!./test.py"
   ]
  },
  {
   "cell_type": "markdown",
   "metadata": {},
   "source": [
    "#### Adding a function"
   ]
  },
  {
   "cell_type": "code",
   "execution_count": 3,
   "metadata": {},
   "outputs": [],
   "source": [
    "def test_function():\n",
    "    print(\"This is a function in a python script\")"
   ]
  },
  {
   "cell_type": "code",
   "execution_count": 4,
   "metadata": {},
   "outputs": [
    {
     "name": "stdout",
     "output_type": "stream",
     "text": [
      "This is a function in a python script\n"
     ]
    }
   ],
   "source": [
    "test_function()"
   ]
  },
  {
   "cell_type": "code",
   "execution_count": 1,
   "metadata": {},
   "outputs": [
    {
     "name": "stdout",
     "output_type": "stream",
     "text": [
      "This is a python script\n"
     ]
    }
   ],
   "source": [
    "import test as t"
   ]
  },
  {
   "cell_type": "code",
   "execution_count": 2,
   "metadata": {},
   "outputs": [
    {
     "data": {
      "text/plain": [
       "['__builtins__',\n",
       " '__cached__',\n",
       " '__doc__',\n",
       " '__file__',\n",
       " '__loader__',\n",
       " '__name__',\n",
       " '__package__',\n",
       " '__spec__',\n",
       " 'test_function']"
      ]
     },
     "execution_count": 2,
     "metadata": {},
     "output_type": "execute_result"
    }
   ],
   "source": [
    "dir(t)"
   ]
  },
  {
   "cell_type": "code",
   "execution_count": 3,
   "metadata": {},
   "outputs": [
    {
     "name": "stdout",
     "output_type": "stream",
     "text": [
      "This is a function in a python script\n"
     ]
    }
   ],
   "source": [
    "t.test_function()"
   ]
  },
  {
   "cell_type": "code",
   "execution_count": 1,
   "metadata": {},
   "outputs": [
    {
     "name": "stdout",
     "output_type": "stream",
     "text": [
      "This is a python script\n"
     ]
    },
    {
     "data": {
      "text/plain": [
       "['__builtins__',\n",
       " '__cached__',\n",
       " '__doc__',\n",
       " '__file__',\n",
       " '__loader__',\n",
       " '__name__',\n",
       " '__package__',\n",
       " '__spec__',\n",
       " 'test_function',\n",
       " 'test_variable']"
      ]
     },
     "execution_count": 1,
     "metadata": {},
     "output_type": "execute_result"
    }
   ],
   "source": [
    "# add a test variable, restart kernel, import\n",
    "import test as t\n",
    "dir(t)"
   ]
  },
  {
   "cell_type": "code",
   "execution_count": 2,
   "metadata": {},
   "outputs": [
    {
     "data": {
      "text/plain": [
       "100"
      ]
     },
     "execution_count": 2,
     "metadata": {},
     "output_type": "execute_result"
    }
   ],
   "source": [
    "t.test_variable"
   ]
  },
  {
   "cell_type": "code",
   "execution_count": 3,
   "metadata": {},
   "outputs": [],
   "source": [
    "import numpy as np"
   ]
  },
  {
   "cell_type": "code",
   "execution_count": 4,
   "metadata": {},
   "outputs": [
    {
     "data": {
      "text/plain": [
       "3.141592653589793"
      ]
     },
     "execution_count": 4,
     "metadata": {},
     "output_type": "execute_result"
    }
   ],
   "source": [
    "np.pi"
   ]
  },
  {
   "cell_type": "markdown",
   "metadata": {},
   "source": [
    "### __main__ — Top-level script environment\n",
    "\n",
    "'__main__' is the name of the scope in which top-level code executes. A module’s __name__ is set equal to '__main__' when read from standard input, a script, or from an interactive prompt.\n",
    "\n",
    "A module can discover whether or not it is running in the main scope by checking its own __name__, which allows a common idiom for conditionally executing code in a module when it is run as a script or with python -m but not when it is imported.\n",
    "\n",
    "```python\n",
    "if __name__ == \"__main__\":\n",
    "    # execute only if run as a script\n",
    "    main() # function that contais the code to execute\n",
    "```\n",
    "\n",
    "https://docs.python.org/3/library/__main__.html"
   ]
  },
  {
   "cell_type": "code",
   "execution_count": null,
   "metadata": {},
   "outputs": [],
   "source": []
  },
  {
   "cell_type": "code",
   "execution_count": 5,
   "metadata": {},
   "outputs": [
    {
     "data": {
      "text/plain": [
       "'list'"
      ]
     },
     "execution_count": 5,
     "metadata": {},
     "output_type": "execute_result"
    }
   ],
   "source": [
    "list.__name__"
   ]
  },
  {
   "cell_type": "code",
   "execution_count": 6,
   "metadata": {},
   "outputs": [],
   "source": [
    "def main():\n",
    "    test_variable = 10\n",
    "    print(f'The test variable value is {test_variable}')"
   ]
  },
  {
   "cell_type": "code",
   "execution_count": 7,
   "metadata": {},
   "outputs": [
    {
     "name": "stdout",
     "output_type": "stream",
     "text": [
      "The test variable value is 10\n"
     ]
    }
   ],
   "source": [
    "main()"
   ]
  },
  {
   "cell_type": "code",
   "execution_count": 1,
   "metadata": {},
   "outputs": [],
   "source": [
    "# add main, restart kernel, import\n",
    "import test as t"
   ]
  },
  {
   "cell_type": "code",
   "execution_count": 2,
   "metadata": {},
   "outputs": [
    {
     "data": {
      "text/plain": [
       "['__builtins__',\n",
       " '__cached__',\n",
       " '__doc__',\n",
       " '__file__',\n",
       " '__loader__',\n",
       " '__name__',\n",
       " '__package__',\n",
       " '__spec__',\n",
       " 'main',\n",
       " 'test_function',\n",
       " 'test_variable']"
      ]
     },
     "execution_count": 2,
     "metadata": {},
     "output_type": "execute_result"
    }
   ],
   "source": [
    "dir(t)"
   ]
  },
  {
   "cell_type": "code",
   "execution_count": 3,
   "metadata": {},
   "outputs": [
    {
     "name": "stdout",
     "output_type": "stream",
     "text": [
      "This is a python script\n",
      "The test variable value is 10\n"
     ]
    }
   ],
   "source": [
    "!python test.py"
   ]
  },
  {
   "cell_type": "markdown",
   "metadata": {},
   "source": [
    "#### `sys.argv`\n",
    "\n",
    "The list of command line arguments passed to a Python script. argv[0] is the script name (it is operating system dependent whether this is a full pathname or not). <br>\n",
    "If the command was executed using the -c command line option to the interpreter, argv[0] is set to the string '-c'. <br>\n",
    "If no script name was passed to the Python interpreter, argv[0] is the empty string."
   ]
  },
  {
   "cell_type": "markdown",
   "metadata": {},
   "source": [
    "The Python sys module provides access to any command-line arguments using the sys.argv object. \n",
    "\n",
    "The sys.argv is the list of all the command-line arguments.<br>\n",
    "len(sys.argv) is the total number of length of command-line arguments."
   ]
  },
  {
   "cell_type": "markdown",
   "metadata": {},
   "source": [
    "Add to the script\n",
    "\n",
    "```python\n",
    "import sys\n",
    "\n",
    "print('Number of arguments:', len(sys.argv))\n",
    "print ('Argument List:', str(sys.argv))\n",
    "```"
   ]
  },
  {
   "cell_type": "code",
   "execution_count": null,
   "metadata": {},
   "outputs": [],
   "source": [
    "!./test.py"
   ]
  },
  {
   "cell_type": "code",
   "execution_count": 4,
   "metadata": {},
   "outputs": [
    {
     "name": "stdout",
     "output_type": "stream",
     "text": [
      "This is a python script\n",
      "The test variable value is 10\n",
      "Number of arguments: 1\n",
      "Argument List: ['test.py']\n"
     ]
    }
   ],
   "source": [
    "# first argument of python\n",
    "!python test.py "
   ]
  },
  {
   "cell_type": "code",
   "execution_count": 6,
   "metadata": {},
   "outputs": [],
   "source": [
    "import sys"
   ]
  },
  {
   "cell_type": "code",
   "execution_count": 7,
   "metadata": {},
   "outputs": [
    {
     "data": {
      "text/plain": [
       "['/Users/mitrea/anaconda3/lib/python3.7/site-packages/ipykernel_launcher.py',\n",
       " '-f',\n",
       " '/Users/mitrea/Library/Jupyter/runtime/kernel-fbe752f2-8a04-4faa-90d1-a294ad4b2a06.json']"
      ]
     },
     "execution_count": 7,
     "metadata": {},
     "output_type": "execute_result"
    }
   ],
   "source": [
    "sys.argv"
   ]
  },
  {
   "cell_type": "markdown",
   "metadata": {},
   "source": [
    "#### Give some arguments"
   ]
  },
  {
   "cell_type": "code",
   "execution_count": 10,
   "metadata": {},
   "outputs": [
    {
     "name": "stdout",
     "output_type": "stream",
     "text": [
      "Number of arguments: 4\n",
      "Argument List: ['./test.py', '[1,2,4]', 'message', '1']\n"
     ]
    }
   ],
   "source": [
    "!./test.py [1,2,4] message 1"
   ]
  },
  {
   "cell_type": "markdown",
   "metadata": {},
   "source": [
    "```import numpy as np```"
   ]
  },
  {
   "cell_type": "code",
   "execution_count": 11,
   "metadata": {},
   "outputs": [
    {
     "data": {
      "text/plain": [
       "array([1, 2, 3])"
      ]
     },
     "execution_count": 11,
     "metadata": {},
     "output_type": "execute_result"
    }
   ],
   "source": [
    "import numpy as np\n",
    "np.array(\"[1, 2 , 3]\".strip('][').split(','), dtype = int)"
   ]
  },
  {
   "cell_type": "code",
   "execution_count": 15,
   "metadata": {},
   "outputs": [
    {
     "name": "stdout",
     "output_type": "stream",
     "text": [
      "Number of arguments: 4\n",
      "Argument List: ['./test.py', '[1,2,3,4,5,6,7]', 'message', '1']\n",
      "The list has 7 elements\n"
     ]
    }
   ],
   "source": [
    "!./test.py [1,2,3,4,5,6,7] message 1"
   ]
  },
  {
   "cell_type": "markdown",
   "metadata": {},
   "source": [
    " "
   ]
  },
  {
   "cell_type": "markdown",
   "metadata": {},
   "source": [
    "#### Argument parsing"
   ]
  },
  {
   "cell_type": "markdown",
   "metadata": {},
   "source": [
    "`import getopt`\n",
    "    \n",
    "`opts, args = getopt.getopt(argv, 'a:b:', ['foperand', 'soperand'])`\n",
    "\n",
    "The signature of the getopt() method looks like:\n",
    "\n",
    "`getopt.getopt(args, shortopts, longopts=[])`\n",
    "\n",
    "* `args` is the list of arguments taken from the command-line.\n",
    "* `shortopts` is where you specify the option letters. If you supply a:, then it means that your script should be supplied with the option a followed by a value as its argument. Technically, you can use any number of options here. When you pass these options from the command-line, they must be prepended with '-'.\n",
    "* `longopts` is where you can specify the extended versions of the shortopts. They must be prepended with '--'.\n",
    "\n",
    "https://www.datacamp.com/community/tutorials/argument-parsing-in-python\n",
    "https://docs.python.org/2/library/getopt.html\n",
    "https://www.tutorialspoint.com/python/python_command_line_arguments.htm"
   ]
  },
  {
   "cell_type": "markdown",
   "metadata": {},
   "source": [
    "```python\n",
    "    try:\n",
    "        # Define the getopt parameters\n",
    "        opts, args = getopt.getopt(sys.argv[1:], 'l:s:n:', ['list','string',\"number\"])\n",
    "        print(len(opts))\n",
    "        if len(opts) != 3:\n",
    "            print ('usage: test.py -l <list_operand> -s <string_operand> -n <number_operand>')\n",
    "        else:\n",
    "            print(opts)\n",
    "            test_array = np.array(opts[0][1].strip('][').split(','), dtype = int)\n",
    "            string_text = opts[1][1]\n",
    "            number_text = int(opts[2][1])\n",
    "            test_array = test_array * number_text \n",
    "            print(f'Info {string_text}, for updated list {test_array}')\n",
    "    except getopt.GetoptError:\n",
    "        print ('usage: test.py -l <list_operand> -s <string_operand> -n <number_operand>')\n",
    "```"
   ]
  },
  {
   "cell_type": "code",
   "execution_count": 17,
   "metadata": {},
   "outputs": [
    {
     "name": "stdout",
     "output_type": "stream",
     "text": [
      "Number of arguments: 5\n",
      "Argument List: ['./test.py', '-l', '[1,2,4]', '-s', 'message']\n",
      "2\n",
      "usage: test.py -l <list_operand> -s <string_operand> -n <number_operand>\n"
     ]
    }
   ],
   "source": [
    "!./test.py -l [1,2,4] -s message "
   ]
  },
  {
   "cell_type": "code",
   "execution_count": 18,
   "metadata": {},
   "outputs": [
    {
     "name": "stdout",
     "output_type": "stream",
     "text": [
      "Number of arguments: 7\n",
      "Argument List: ['./test.py', '-l', '[1,2,4]', '-s', 'message', '-n', '5']\n",
      "3\n",
      "[('-l', '[1,2,4]'), ('-s', 'message'), ('-n', '5')]\n",
      "Info message, for updated list [ 5 10 20]\n"
     ]
    }
   ],
   "source": [
    "!./test.py -l [1,2,4] -s message -n 5"
   ]
  },
  {
   "cell_type": "markdown",
   "metadata": {},
   "source": [
    " "
   ]
  },
  {
   "cell_type": "markdown",
   "metadata": {},
   "source": [
    "#### `argparse` -increased readability\n",
    "`import argparse`\n",
    "\n",
    "`class argparse.ArgumentParser(prog=None, usage=None, description=None, epilog=None, parents=[], formatter_class=argparse.HelpFormatter, prefix_chars='-', fromfile_prefix_chars=None, argument_default=None, conflict_handler='error', add_help=True, allow_abbrev=True)`<br>\n",
    "https://docs.python.org/3/library/argparse.html#argumentparser-objects\n",
    "\n",
    "Argument definition<br>\n",
    "`ArgumentParser.add_argument(name or flags...[, action][, nargs][, const][, default][, type][, choices][, required][, help][, metavar][, dest])`<br>\n",
    "https://docs.python.org/3/library/argparse.html#the-add-argument-method\n",
    "\n",
    "`ap.add_argument(\"-i\", \"--ioperand\", required=True, help=\"important operand\")`\n",
    "\n",
    "* -i - letter version of the argument\n",
    "* --ioperand - extended version of the argument\n",
    "* required - whether the argument or not\n",
    "* help - maningful description\n",
    "\n",
    "https://www.datacamp.com/community/tutorials/argument-parsing-in-python\n",
    "https://docs.python.org/3/library/argparse.html\n",
    "https://realpython.com/command-line-interfaces-python-argparse/"
   ]
  },
  {
   "cell_type": "markdown",
   "metadata": {},
   "source": [
    "```python\n",
    "    ap = argparse.ArgumentParser()\n",
    "\n",
    "    # Add the arguments to the parser\n",
    "    ap.add_argument(\"-l\", \"--list_operand\", required=True, help=\"list operand\")\n",
    "    ap.add_argument(\"-s\", \"--string_operand\", required=True, help=\"string operand\")\n",
    "    ap.add_argument(\"-n\", \"--number_operand\", required=True, help=\"number operand\")\n",
    "\n",
    "    args = vars(ap.parse_args())\n",
    "    print(args)\n",
    "    test_array = np.array(args['list_operand'].strip('][').split(','), dtype = int)\n",
    "    string_text = args['string_operand']\n",
    "    number_text = int(args['number_operand'])\n",
    "    test_array = test_array * number_text \n",
    "\n",
    "    print(f'With argparse. Info {string_text}, for updated list {test_array}')\n",
    "```\n"
   ]
  },
  {
   "cell_type": "code",
   "execution_count": 19,
   "metadata": {},
   "outputs": [
    {
     "name": "stdout",
     "output_type": "stream",
     "text": [
      "Number of arguments: 2\n",
      "Argument List: ['./test.py', '-h']\n",
      "usage: test.py [-h] -l LIST_OPERAND -s STRING_OPERAND -n NUMBER_OPERAND\n",
      "\n",
      "optional arguments:\n",
      "  -h, --help            show this help message and exit\n",
      "  -l LIST_OPERAND, --list_operand LIST_OPERAND\n",
      "                        list operand\n",
      "  -s STRING_OPERAND, --string_operand STRING_OPERAND\n",
      "                        string operand\n",
      "  -n NUMBER_OPERAND, --number_operand NUMBER_OPERAND\n",
      "                        number operand\n"
     ]
    }
   ],
   "source": [
    "!./test.py -h"
   ]
  },
  {
   "cell_type": "code",
   "execution_count": 20,
   "metadata": {},
   "outputs": [
    {
     "name": "stdout",
     "output_type": "stream",
     "text": [
      "Number of arguments: 7\n",
      "Argument List: ['./test.py', '-l', '[1,2,4,5,6]', '--string_operand', 'this is a message', '-n', '3']\n",
      "{'list_operand': '[1,2,4,5,6]', 'string_operand': 'this is a message', 'number_operand': '3'}\n",
      "With argparse. Info this is a message, for updated list [ 3  6 12 15 18]\n"
     ]
    }
   ],
   "source": [
    "!./test.py -l [1,2,4,5,6] --string_operand \"this is a message\" -n 3"
   ]
  },
  {
   "cell_type": "markdown",
   "metadata": {},
   "source": [
    " "
   ]
  },
  {
   "cell_type": "markdown",
   "metadata": {},
   "source": [
    "##### `action` parameter - count example\n",
    "https://docs.python.org/3/library/argparse.html#action"
   ]
  },
  {
   "cell_type": "markdown",
   "metadata": {},
   "source": [
    "'count' - This counts the number of times a keyword argument occurs. For example, this is useful for increasing verbosity levels:\n",
    "\n",
    "    `ap.add_argument(\"-v\", \"--verbose\", action='count', default=0)`\n"
   ]
  },
  {
   "cell_type": "code",
   "execution_count": 23,
   "metadata": {},
   "outputs": [
    {
     "name": "stdout",
     "output_type": "stream",
     "text": [
      "Number of arguments: 8\n",
      "Argument List: ['./test.py', '-l', '[1,2,4]', '--string_operand', 'message', '-n', '5', '-vvvv']\n",
      "{'list_operand': '[1,2,4]', 'string_operand': 'message', 'number_operand': '5', 'verbose': 4}\n",
      "With argparse. Info message, for updated list [ 5 10 20]\n"
     ]
    }
   ],
   "source": [
    "!./test.py -l [1,2,4] --string_operand message -n 5 -vvvv"
   ]
  },
  {
   "cell_type": "markdown",
   "metadata": {},
   "source": [
    "### Modules\n",
    "\n",
    "https://docs.python.org/3/tutorial/modules.html\n",
    "https://www.python.org/dev/peps/pep-0008/#package-and-module-names"
   ]
  },
  {
   "cell_type": "markdown",
   "metadata": {},
   "source": [
    "If you want to write a somewhat longer program, you are better off <b>using a text editor to prepare the input for the interpreter and running it with that file as input instead. This is known as creating a script.</b> \n",
    "    \n",
    "As your program gets longer, you may want to split it into several files for easier maintenance. You may also want to use a handy function that you’ve written in several programs without copying its definition into each program.\n",
    "\n",
    "A module is a file containing Python definitions and statements. <b>The file name is the module name with the suffix .py appended</b>. Within a module, the module’s name (as a string) is available as the value of the global variable `__name__`."
   ]
  },
  {
   "cell_type": "code",
   "execution_count": null,
   "metadata": {},
   "outputs": [],
   "source": [
    "#Let's create a module for our classes\n",
    "!touch base_shiny_type.py"
   ]
  },
  {
   "cell_type": "code",
   "execution_count": null,
   "metadata": {},
   "outputs": [],
   "source": [
    "import base_shiny_type as bst"
   ]
  },
  {
   "cell_type": "code",
   "execution_count": null,
   "metadata": {},
   "outputs": [],
   "source": [
    "bst.MyNewShinyDataType()"
   ]
  },
  {
   "cell_type": "code",
   "execution_count": null,
   "metadata": {},
   "outputs": [],
   "source": [
    "!touch enhanced_shiny_type.py"
   ]
  },
  {
   "cell_type": "code",
   "execution_count": null,
   "metadata": {},
   "outputs": [],
   "source": [
    "import enhanced_shiny_type as est"
   ]
  },
  {
   "cell_type": "code",
   "execution_count": null,
   "metadata": {},
   "outputs": [],
   "source": [
    "est.EnhancedNewShinyDataType()"
   ]
  },
  {
   "cell_type": "markdown",
   "metadata": {},
   "source": [
    "### Packages\n",
    "\n",
    "https://docs.python.org/3/tutorial/modules.html#packages"
   ]
  },
  {
   "cell_type": "markdown",
   "metadata": {},
   "source": [
    "<b>Packages are a way of structuring</b> Python’s module namespace by using “dotted module names”. <b>For example, the module name A.B designates a submodule named B in a package named A</b>. Just like the use of modules saves the authors of different modules from having to worry about each other’s global variable names, the use of dotted module names saves the authors of multi-module packages like NumPy from having to worry about each other’s module names."
   ]
  },
  {
   "cell_type": "code",
   "execution_count": null,
   "metadata": {},
   "outputs": [],
   "source": [
    "!mkdir demoCM"
   ]
  },
  {
   "cell_type": "code",
   "execution_count": null,
   "metadata": {},
   "outputs": [],
   "source": [
    "!cp test.py demoCM\n",
    "!cp base_shiny_type.py demoCM\n",
    "!cp enhanced_shiny_type.py demoCM"
   ]
  },
  {
   "cell_type": "code",
   "execution_count": null,
   "metadata": {},
   "outputs": [],
   "source": [
    "!touch demoCM/__init__.py"
   ]
  },
  {
   "cell_type": "code",
   "execution_count": null,
   "metadata": {},
   "outputs": [],
   "source": [
    "from demoCM import test as tt"
   ]
  },
  {
   "cell_type": "code",
   "execution_count": null,
   "metadata": {},
   "outputs": [],
   "source": [
    "tt.test_function()"
   ]
  },
  {
   "cell_type": "code",
   "execution_count": null,
   "metadata": {},
   "outputs": [],
   "source": [
    "from demoCM import base_shiny_type as bst1"
   ]
  },
  {
   "cell_type": "code",
   "execution_count": null,
   "metadata": {},
   "outputs": [],
   "source": [
    "bst1.MyNewShinyDataType()"
   ]
  },
  {
   "cell_type": "code",
   "execution_count": null,
   "metadata": {},
   "outputs": [],
   "source": [
    "dir(bst)"
   ]
  },
  {
   "cell_type": "code",
   "execution_count": null,
   "metadata": {},
   "outputs": [],
   "source": [
    "from demoCM import enhanced_shiny_type as est1"
   ]
  },
  {
   "cell_type": "code",
   "execution_count": null,
   "metadata": {},
   "outputs": [],
   "source": [
    "# restart kernel\n",
    "\n",
    "#dir()"
   ]
  },
  {
   "cell_type": "code",
   "execution_count": null,
   "metadata": {},
   "outputs": [],
   "source": [
    "from demoCM import *"
   ]
  },
  {
   "cell_type": "code",
   "execution_count": null,
   "metadata": {},
   "outputs": [],
   "source": [
    "#dir()"
   ]
  },
  {
   "cell_type": "code",
   "execution_count": null,
   "metadata": {},
   "outputs": [],
   "source": [
    "base_shiny_type"
   ]
  },
  {
   "cell_type": "code",
   "execution_count": null,
   "metadata": {},
   "outputs": [],
   "source": [
    "base_shiny_type.MyNewShinyDataType()"
   ]
  },
  {
   "cell_type": "markdown",
   "metadata": {},
   "source": [
    "https://towardsdatascience.com/5-advanced-features-of-python-and-how-to-use-them-73bffa373c84"
   ]
  },
  {
   "cell_type": "markdown",
   "metadata": {},
   "source": [
    "#### A <b>`lambda` function</b> is a small, anonymous function - it has no name"
   ]
  },
  {
   "cell_type": "markdown",
   "metadata": {},
   "source": [
    "https://docs.python.org/3/reference/expressions.html#lambda<br>\n",
    "https://www.geeksforgeeks.org/python-lambda-anonymous-functions-filter-map-reduce/<br>\n",
    "https://realpython.com/python-lambda/<br>"
   ]
  },
  {
   "cell_type": "markdown",
   "metadata": {},
   "source": [
    "`lambda arguments : expression`"
   ]
  },
  {
   "cell_type": "markdown",
   "metadata": {},
   "source": [
    "A lambda function can take <b>any number of arguments<b>, but must always have <b>only one expression</b>."
   ]
  },
  {
   "cell_type": "code",
   "execution_count": null,
   "metadata": {},
   "outputs": [],
   "source": [
    "nameless_function = lambda x: x**3"
   ]
  },
  {
   "cell_type": "code",
   "execution_count": null,
   "metadata": {},
   "outputs": [],
   "source": [
    "nameless_function(4)"
   ]
  },
  {
   "cell_type": "code",
   "execution_count": null,
   "metadata": {},
   "outputs": [],
   "source": [
    "import numpy as np\n",
    "import pandas as pd\n",
    "test_series = pd.Series([1,2,3,4])\n",
    "test_series"
   ]
  },
  {
   "cell_type": "code",
   "execution_count": null,
   "metadata": {},
   "outputs": [],
   "source": [
    "test_series.apply(lambda x: x**3)"
   ]
  },
  {
   "cell_type": "code",
   "execution_count": null,
   "metadata": {},
   "outputs": [],
   "source": [
    "test_series.apply(lambda x:True if x % 2 == 0 else False)"
   ]
  },
  {
   "cell_type": "code",
   "execution_count": null,
   "metadata": {},
   "outputs": [],
   "source": [
    "test_df = pd.DataFrame([[1,2,3,4],[5,6,7,8]])\n",
    "test_df"
   ]
  },
  {
   "cell_type": "code",
   "execution_count": null,
   "metadata": {},
   "outputs": [],
   "source": [
    "Compute the "
   ]
  },
  {
   "cell_type": "code",
   "execution_count": null,
   "metadata": {},
   "outputs": [],
   "source": [
    "test_df.apply(lambda x:x[0]**2*x[1], axis = 0)"
   ]
  },
  {
   "cell_type": "markdown",
   "metadata": {},
   "source": [
    "#### Useful funtions\n",
    "https://docs.python.org/3/library/functions.html"
   ]
  },
  {
   "cell_type": "markdown",
   "metadata": {},
   "source": [
    "`zip` - make an iterator that aggregates elements from each of the iterables.\n",
    "https://docs.python.org/3/library/functions.html#zip\n",
    "\n",
    "\n",
    "`zip(*iterables)`\n",
    "\n",
    "Returns an iterator of tuples, where the i-th tuple contains the i-th element from each of the argument sequences or iterables. The iterator stops when the shortest input iterable is exhausted. With a single iterable argument, it returns an iterator of 1-tuples. With no arguments, it returns an empty iterator."
   ]
  },
  {
   "cell_type": "code",
   "execution_count": null,
   "metadata": {},
   "outputs": [],
   "source": [
    "combined_res = zip([1,2,3],[\"A\",\"B\",\"C\"],[True,False,True])\n",
    "combined_res"
   ]
  },
  {
   "cell_type": "code",
   "execution_count": null,
   "metadata": {},
   "outputs": [],
   "source": [
    "list(combined_res)"
   ]
  },
  {
   "cell_type": "code",
   "execution_count": null,
   "metadata": {},
   "outputs": [],
   "source": [
    "dict(zip([1,2,3],[\"A\",\"B\",\"C\"]))"
   ]
  },
  {
   "cell_type": "code",
   "execution_count": null,
   "metadata": {},
   "outputs": [],
   "source": [
    "#try unequal sizes\n",
    "\n"
   ]
  },
  {
   "cell_type": "code",
   "execution_count": null,
   "metadata": {},
   "outputs": [],
   "source": [
    "# unzip list\n",
    "x, y = zip(*zip([1,2,3],[4,5,6]))\n",
    "print(x,y)\n",
    "x, y = zip(*[(1,4),(2,5),(3,6)])\n",
    "print(x,y)"
   ]
  },
  {
   "cell_type": "markdown",
   "metadata": {},
   "source": [
    "`map` - apply funtion to every element of an iterable\n",
    "https://docs.python.org/3/library/functions.html#map\n",
    "\n",
    "\n",
    "`map(function, iterable, ...)`\n",
    "\n",
    "Return an iterator that applies function to every item of iterable, yielding the results. If additional iterable arguments are passed, function must take that many arguments and is applied to the items from all iterables in parallel. With multiple iterables, the iterator stops when the shortest iterable is exhausted."
   ]
  },
  {
   "cell_type": "code",
   "execution_count": null,
   "metadata": {},
   "outputs": [],
   "source": [
    "map(abs,[-2,3,-5,6,-7])"
   ]
  },
  {
   "cell_type": "code",
   "execution_count": null,
   "metadata": {},
   "outputs": [],
   "source": [
    "for i in map(abs,[-2,3,-5,6,-7]):\n",
    "    print(i)"
   ]
  },
  {
   "cell_type": "markdown",
   "metadata": {},
   "source": [
    "https://www.geeksforgeeks.org/python-map-function/"
   ]
  },
  {
   "cell_type": "code",
   "execution_count": null,
   "metadata": {},
   "outputs": [],
   "source": [
    "numbers1 = [1, 2, 3] \n",
    "numbers2 = [4, 5, 6] \n",
    "  \n",
    "result = map(lambda x, y: x + y, numbers1, numbers2) \n",
    "list(result)"
   ]
  },
  {
   "cell_type": "markdown",
   "metadata": {},
   "source": [
    "Use a lambda funtion and the map function to compute a result from the followimg 3 lists.<br>\n",
    "If the elemnt in the third list is divisible by 3 return the sum of the elements from the fist two list, otherwise return the difference."
   ]
  },
  {
   "cell_type": "code",
   "execution_count": null,
   "metadata": {},
   "outputs": [],
   "source": [
    "numbers1 = [1, 2, 3, 4, 5, 6] \n",
    "numbers2 = [7, 8, 9, 10, 11, 12] \n",
    "numbers3 = [13, 14, 15, 16, 17, 18] \n",
    "\n",
    "\n"
   ]
  },
  {
   "cell_type": "code",
   "execution_count": null,
   "metadata": {},
   "outputs": [],
   "source": []
  },
  {
   "cell_type": "markdown",
   "metadata": {},
   "source": [
    "`filter` - apply funtion to every element of an iterable\n",
    "https://docs.python.org/3/library/functions.html#filter\n",
    "\n",
    "`filter(function, iterable)`\n",
    "\n",
    "Construct an iterator from those elements of iterable for which function returns true. iterable may be either a sequence, a container which supports iteration, or an iterator. If function is None, the identity function is assumed, that is, all elements of iterable that are false are removed."
   ]
  },
  {
   "cell_type": "code",
   "execution_count": null,
   "metadata": {},
   "outputs": [],
   "source": [
    "test_list = [3,4,5,6,7]\n",
    "result = filter(lambda x: x>4, test_list)\n",
    "result"
   ]
  },
  {
   "cell_type": "code",
   "execution_count": null,
   "metadata": {},
   "outputs": [],
   "source": [
    "list(result)"
   ]
  },
  {
   "cell_type": "code",
   "execution_count": null,
   "metadata": {},
   "outputs": [],
   "source": [
    "# Python Program to find all anagrams of str in  \n",
    "# a list of strings. \n",
    "from collections import Counter \n",
    "  \n",
    "word_list = [\"spear\", \"print\", \"spare\", \"practice\", \"parse\"] \n",
    "word = \"pears\"\n",
    "  \n",
    "# use anonymous function to filter anagrams of x. \n",
    "# Please refer below article for details of reversed \n",
    "# https://www.geeksforgeeks.org/anagram-checking-python-collections-counter/ \n",
    "result = list(filter(lambda x: (Counter(word) == Counter(x)), word_list))  \n",
    "  \n",
    "# printing the result \n",
    "print(result)"
   ]
  },
  {
   "cell_type": "markdown",
   "metadata": {},
   "source": [
    "Return all the elemnts with a value divisible by 7 and a key that starts with A in the following dictionary."
   ]
  },
  {
   "cell_type": "code",
   "execution_count": null,
   "metadata": {},
   "outputs": [],
   "source": [
    "d = {\"ACE\": 21, \"BAC\":7, \"AML\":5, \"ABL\":14, \"MAP\":3}\n",
    "\n"
   ]
  },
  {
   "cell_type": "code",
   "execution_count": null,
   "metadata": {},
   "outputs": [],
   "source": []
  },
  {
   "cell_type": "markdown",
   "metadata": {},
   "source": [
    "`reduce` - apply funtion to every element of an iterable\n",
    "https://docs.python.org/3/library/functools.html#functools.reduce\n",
    "\n",
    "`functools.reduce(function, iterable[, initializer])`\n",
    "\n",
    "<b>Apply function of two arguments cumulatively to the items of iterable, from left to right, so as to reduce the iterable to a single value</b>. For example, reduce(lambda x, y: x+y, [1, 2, 3, 4, 5]) calculates ((((1+2)+3)+4)+5). The left argument, x, is the accumulated value and the right argument, y, is the update value from the iterable. If the optional initializer is present, it is placed before the items of the iterable in the calculation, and serves as a default when the iterable is empty. If initializer is not given and iterable contains only one item, the first item is returned."
   ]
  },
  {
   "cell_type": "code",
   "execution_count": null,
   "metadata": {},
   "outputs": [],
   "source": [
    "from functools import reduce"
   ]
  },
  {
   "cell_type": "code",
   "execution_count": null,
   "metadata": {},
   "outputs": [],
   "source": [
    "reduce(lambda x,y: x+y, [47,11,42,13])"
   ]
  },
  {
   "cell_type": "markdown",
   "metadata": {},
   "source": [
    "<img src = https://www.python-course.eu/images/reduce_diagram.png width=300/>\n",
    "\n",
    "https://www.python-course.eu/lambda.php"
   ]
  },
  {
   "cell_type": "markdown",
   "metadata": {},
   "source": [
    "https://www.geeksforgeeks.org/reduce-in-python/\n",
    "https://www.tutorialsteacher.com/python/python-reduce-function"
   ]
  },
  {
   "cell_type": "code",
   "execution_count": null,
   "metadata": {},
   "outputs": [],
   "source": [
    "test_list = [1,2,3,4,5,6]"
   ]
  },
  {
   "cell_type": "code",
   "execution_count": null,
   "metadata": {},
   "outputs": [],
   "source": [
    "# compute factorial of n\n",
    "n=5\n",
    "reduce(lambda x,y: x*y, range(1,n+1))"
   ]
  },
  {
   "cell_type": "code",
   "execution_count": null,
   "metadata": {},
   "outputs": [],
   "source": [
    "#intersection of multiple lists\n",
    "#https://stackoverflow.com/questions/15995/useful-code-which-uses-reduce\n",
    "    \n",
    "test_list = [[1, 2, 3, 4, 5], [2, 3, 4, 5, 6], [3, 4, 5, 6, 7]]\n",
    "\n",
    "result = reduce(set.intersection, map(set, test_list))\n",
    "result"
   ]
  },
  {
   "cell_type": "code",
   "execution_count": null,
   "metadata": {},
   "outputs": [],
   "source": []
  }
 ],
 "metadata": {
  "kernelspec": {
   "display_name": "Python 3",
   "language": "python",
   "name": "python3"
  },
  "language_info": {
   "codemirror_mode": {
    "name": "ipython",
    "version": 3
   },
   "file_extension": ".py",
   "mimetype": "text/x-python",
   "name": "python",
   "nbconvert_exporter": "python",
   "pygments_lexer": "ipython3",
   "version": "3.7.3"
  }
 },
 "nbformat": 4,
 "nbformat_minor": 2
}
