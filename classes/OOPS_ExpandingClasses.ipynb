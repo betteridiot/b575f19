{
 "cells": [
  {
   "cell_type": "markdown",
   "metadata": {},
   "source": [
    "# Warm-up\n",
    "1. Review this code for 1 minute, then:\n",
    "    1. Identify how an \"Electric-type\" Pokemon object would get access to its base statistics\n",
    "    1. Attempt to write a method for `Electric` that will check its `HP` after every action"
   ]
  },
  {
   "cell_type": "markdown",
   "metadata": {},
   "source": [
    "<img src='../assets/inherit_warmup.png' width=500 align='left' />"
   ]
  },
  {
   "cell_type": "markdown",
   "metadata": {},
   "source": [
    "---\n",
    "# Learning Objectives"
   ]
  },
  {
   "cell_type": "markdown",
   "metadata": {},
   "source": [
    "1. Students will be able to visually identify `class` inheritance\n",
    "1. Students will be able to write basic `class`es that inherit from others\n",
    "1. Students will be able to use basic decorators to create `dataclasses`"
   ]
  },
  {
   "cell_type": "markdown",
   "metadata": {},
   "source": [
    "---\n",
    "# Object-Oriented Programming Seminar: Expanding Classes\n",
    "The last major lesson in OOP is class inheritance. Class inheritance is the act of one object \"gaining\" all of the functionality of another object. [GeeksforGeeks](https://www.geeksforgeeks.org/inheritance-in-python/) states that the main purposes of class inheritance are:\n",
    "> 1. Represents real-world relationships well\n",
    "1. Provides reusability of code\n",
    "1. It is transitive in nature\n",
    "\n",
    "## The Big Idea\n",
    "Any object in Python worth anything should exercise the use of inheritance because it allows for **extensibility**, **reusability**, and _clarity_. Just like a single function should do a single job, a single `class` should do a specific thing. However, we have already expanded the work of a single function before by using nested functions (a function that calls another function). Likewise, we can expand a `class` by \"nesting\" it with other `class`es."
   ]
  },
  {
   "cell_type": "markdown",
   "metadata": {},
   "source": [
    "<img src='../assets/nourdine-diouane-4YJkvZGDcyU-unsplash.jpg' width=700/>"
   ]
  },
  {
   "cell_type": "markdown",
   "metadata": {},
   "source": [
    "---\n",
    "# Last Class\n",
    "For a quick reminder of where we left off last class"
   ]
  },
  {
   "cell_type": "code",
   "execution_count": null,
   "metadata": {},
   "outputs": [],
   "source": [
    "import class_demo as demo"
   ]
  },
  {
   "cell_type": "code",
   "execution_count": null,
   "metadata": {},
   "outputs": [],
   "source": [
    "%psource demo.Pileup"
   ]
  },
  {
   "cell_type": "markdown",
   "metadata": {
    "slideshow": {
     "slide_type": "slide"
    }
   },
   "source": [
    "---\n",
    "# Class Inheritance"
   ]
  },
  {
   "cell_type": "markdown",
   "metadata": {
    "slideshow": {
     "slide_type": "fragment"
    }
   },
   "source": [
    "Class inheritance is when one object takes/gives attributes and methods to another object upon its instantiation."
   ]
  },
  {
   "cell_type": "markdown",
   "metadata": {
    "slideshow": {
     "slide_type": "subslide"
    }
   },
   "source": [
    "<img src='../assets/pokegeny.jpg' />\n",
    "\n",
    "[Shelomi et al. 2012. A Phylogeny and Evolutionary History of the Pokémon. Annals of Improbable Research](../assets/Phylogeny-Pokemon.pdf)"
   ]
  },
  {
   "cell_type": "markdown",
   "metadata": {},
   "source": [
    "## Salient Functions"
   ]
  },
  {
   "cell_type": "code",
   "execution_count": 89,
   "metadata": {},
   "outputs": [],
   "source": [
    "def generate_random_integers(total, n):\n",
    "    \"\"\"Generates a list of n integers that sum up to a given number\n",
    "    \n",
    "    Adapted from http://sunny.today/generate-random-integers-with-fixed-sum/\n",
    "    \n",
    "    Args:\n",
    "        total (int): the total all the integers are to sum up to\n",
    "        n (int): the number of integers\n",
    "    \n",
    "    Returns:\n",
    "        (list): a list if integers that sum approximately to total\n",
    "    \"\"\"\n",
    "    μ = total / n \n",
    "    var = int(0.25 * μ)\n",
    "\n",
    "    min_v = μ - var\n",
    "    max_v = μ + var\n",
    "    vals = [min_v] * n\n",
    "\n",
    "    diff = total - min_v * n\n",
    "    while diff > 0:\n",
    "        a = random.randint(0, n - 1)\n",
    "        if vals[a] >= max_v:\n",
    "            continue\n",
    "        vals[a] += 1\n",
    "        diff -= 1\n",
    "    return [int(val) for val in vals]"
   ]
  },
  {
   "cell_type": "markdown",
   "metadata": {},
   "source": [
    "---\n",
    "# Let's play with the data"
   ]
  },
  {
   "cell_type": "code",
   "execution_count": 7,
   "metadata": {},
   "outputs": [],
   "source": [
    "import pandas as pd"
   ]
  },
  {
   "cell_type": "code",
   "execution_count": 8,
   "metadata": {},
   "outputs": [],
   "source": [
    "# Read in the pokemon csv"
   ]
  },
  {
   "cell_type": "code",
   "execution_count": null,
   "metadata": {},
   "outputs": [],
   "source": [
    "# Show just Pichu's data"
   ]
  },
  {
   "cell_type": "markdown",
   "metadata": {},
   "source": [
    "What is Pichu's type?"
   ]
  },
  {
   "cell_type": "markdown",
   "metadata": {
    "slideshow": {
     "slide_type": "slide"
    }
   },
   "source": [
    "## Exploring class inheritance by doing something productive: making Pokemon&copy;"
   ]
  },
  {
   "cell_type": "code",
   "execution_count": 131,
   "metadata": {},
   "outputs": [],
   "source": [
    "# Base class of Pokemon\n",
    "class Pokemon:\n",
    "    def __init__(self, level = 1, name = None, given_name = None):\n",
    "        self.level = level\n",
    "        self.given_name = given_name\n",
    "        pokedex = pd.read_csv('../datasets/pokemon.csv')\n",
    "        self.name = name.title() if name else None\n",
    "        \n",
    "        if name is None:\n",
    "            self.base_hp,       \\\n",
    "            self.base_attack,   \\\n",
    "            self.base_defense,  \\\n",
    "            self.base_sAttack,  \\\n",
    "            self.base_sDefense, \\\n",
    "            self.base_speed = generate_random_integers(random.randint(125, 400), 6)\n",
    "        \n",
    "        elif pokedex.Name.str.contains(self.name).any():\n",
    "            self.base_hp,       \\\n",
    "            self.base_attack,   \\\n",
    "            self.base_defense,  \\\n",
    "            self.base_sAttack,  \\\n",
    "            self.base_sDefense, \\\n",
    "            self.base_speed = pokedex.loc[pokedex.Name == self.name, [\n",
    "                'HP', \n",
    "                'Attack', \n",
    "                'Defense', \n",
    "                'Sp. Atk', \n",
    "                'Sp. Def', \n",
    "                'Speed'\n",
    "            ]].values[0]\n",
    "        \n",
    "        else:\n",
    "            raise ValueError('unregistered Pokemon')\n",
    "        \n",
    "        self.current_hp = self.base_hp\n",
    "        self.exp = 0\n",
    "    \n",
    "    def __str__(self):\n",
    "        return f'Pokemon(level = {self.level}, name = {self.given_name if self.given_name else self.name if self.name else \"MISSINGNO\"})'\n",
    "    \n",
    "    def __repr__(self):\n",
    "        return f'Pokemon(level = {self.level}, name = {self.name}, given_name = {self.given_name})'\n",
    "    \n",
    "    def stats(self):\n",
    "        return pd.Series([self.base_hp, self.base_attack, self.base_defense, self.base_sAttack, self.base_sDefense, self.base_speed],\n",
    "                           index = ['HP', 'Attack', 'Defense', 'Sp. Atk', 'Sp. Def', 'Speed'])"
   ]
  },
  {
   "cell_type": "code",
   "execution_count": 132,
   "metadata": {},
   "outputs": [],
   "source": [
    "class Electric(Pokemon):\n",
    "    def __init__(self, level = 1, name = None, given_name = None):\n",
    "        Pokemon.__init__(self, level, name, given_name)\n",
    "        self.type = 'Electric'\n",
    "        self.weak_def = ('Ground')\n",
    "        self.half_def = ('Electric', 'Flying')\n",
    "        self.strong_att = ('Flying', 'Water')\n",
    "        self.half_att = ('Dragon', 'Electric', 'Grass')\n",
    "        self.no_att = ('Ground')\n",
    "        self.immune = ('Paralyze')\n",
    "        \n",
    "    def __repr__(self):\n",
    "        return super().__repr__().replace('Pokemon', 'Electric')\n",
    "    \n",
    "    def __str__(self):\n",
    "        return super().__str__().replace('Pokemon', 'Electric')"
   ]
  },
  {
   "cell_type": "markdown",
   "metadata": {},
   "source": [
    "---\n",
    "# Workshop\n",
    "In groups of 3-4 people:\n",
    "   * Identify the different \"types\" of Pokemon (not including Electric)\n",
    "   * Choose one \"type\" (cannot be Electric)\n",
    "   * Write your own \"type\" subclass\n",
    "\n",
    "---"
   ]
  },
  {
   "cell_type": "code",
   "execution_count": null,
   "metadata": {},
   "outputs": [],
   "source": []
  },
  {
   "cell_type": "code",
   "execution_count": null,
   "metadata": {
    "jupyter": {
     "source_hidden": true
    },
    "scrolled": true
   },
   "outputs": [],
   "source": [
    "class Pichu(Electric):\n",
    "    def __init__(self, level = 1, name = 'Pichu', given_name = None):\n",
    "        Electric.__init__(self, level, name, given_name)\n",
    "        self.name = name.title()\n",
    "        \n",
    "    def __repr__(self):\n",
    "        return super().__repr__().replace('Electric', 'Pichu')\n",
    "    \n",
    "    def __str__(self):\n",
    "        return super().__str__().replace('Electric', 'Pichu')\n",
    "    \n",
    "    def thunder_shock(self):\n",
    "        ability_type = 'Electric'\n",
    "        self.thunder_shock_pp = 30\n",
    "        power = 40\n",
    "        accuracy = 1\n",
    "        effect = ('Paralyze', .1)\n",
    "        \n",
    "        return (ability_type, effect, accuracy * power * self.base_sAttack)\n",
    "    \n",
    "    def charm(self):\n",
    "        ability_type = 'Fairy'\n",
    "        self.charm_pp = 20\n",
    "        power = None\n",
    "        accuracy = None\n",
    "        effect = ('Decrease_Attack', 1)\n",
    "        \n",
    "        return (ability_type, effect, None)\n",
    "    \n",
    "    def tail_whip(self):\n",
    "        if self.level >= 5:\n",
    "            ability_type = None\n",
    "            self.tail_whip_pp = 30\n",
    "            power = 1\n",
    "            accuracy = 1\n",
    "            effect = None\n",
    "\n",
    "            return (ability_type, effect, accuracy * power * self.base_attack)\n",
    "\n",
    "        else:\n",
    "            raise IndexError('Move not available yet')\n",
    "        \n",
    "    def sweet_kiss(self):\n",
    "        if self.leve >= 10:\n",
    "            ability_type = 'Fairy'\n",
    "            self.sweet_kiss_pp = 10\n",
    "            power = None\n",
    "            accuracy = None\n",
    "            effect = ('Confusion', .75)\n",
    "            \n",
    "            return (ability_type, effect, None)\n",
    "        \n",
    "        else:\n",
    "            raise IndexError('Move not available yet')\n",
    "        \n",
    "    def nasty_plot(self):\n",
    "        if self.level >= 13:\n",
    "            ability_type = 'Dark'\n",
    "            self.nasty_plot_pp = 20\n",
    "            power = None\n",
    "            accuracy = None\n",
    "            effect = ('Decrease_sAttack', 1)\n",
    "            \n",
    "            return (ability_type, effect, None)\n",
    "        else:\n",
    "            raise IndexError('Move not available yet')\n",
    "\n",
    "    def thunder_wave(self):\n",
    "        if self.level >= 18:\n",
    "            ability_type = 'Electric'\n",
    "            self.thunder_wave_pp = 20\n",
    "            power = 40\n",
    "            accuracy = 0.9\n",
    "            effect = ('Paralyze', 1)\n",
    "\n",
    "            return(ability_type, effect, accuracy * power * self.base_sAttack)\n",
    "        \n",
    "        else:\n",
    "            raise IndexError('Move not available yet')"
   ]
  }
 ],
 "metadata": {
  "kernelspec": {
   "display_name": "Python 3",
   "language": "python",
   "name": "python3"
  },
  "language_info": {
   "codemirror_mode": {
    "name": "ipython",
    "version": 3
   },
   "file_extension": ".py",
   "mimetype": "text/x-python",
   "name": "python",
   "nbconvert_exporter": "python",
   "pygments_lexer": "ipython3",
   "version": "3.7.3"
  }
 },
 "nbformat": 4,
 "nbformat_minor": 4
}
