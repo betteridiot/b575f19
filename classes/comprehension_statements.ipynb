{
 "cells": [
  {
   "cell_type": "markdown",
   "metadata": {
    "slideshow": {
     "slide_type": "slide"
    }
   },
   "source": [
    "To get this notebook, just pull the class _GitHub_ repo"
   ]
  },
  {
   "cell_type": "markdown",
   "metadata": {},
   "source": [
    "## Teaching Objectives"
   ]
  },
  {
   "cell_type": "markdown",
   "metadata": {},
   "source": [
    "* Student will be able to visually and cognitively identify Python comprehension statements\n",
    "* Students will be able to do describe use cases for Python comprehension statements, both as a proponent and opponent\n",
    "* Students will be able to freely compose basic comprehension statements"
   ]
  },
  {
   "cell_type": "markdown",
   "metadata": {},
   "source": [
    "---\n",
    "## Think, pair, share\n",
    "1. Find somebody nearby and plan to work with them in step 4\n",
    "2. Take one (1) minute to read the code below"
   ]
  },
  {
   "cell_type": "markdown",
   "metadata": {},
   "source": [
    "```python\n",
    "def list2counter(list_to_count, default = 0):\n",
    "    out_dict = {}\n",
    "    for item in list_to_count:\n",
    "        if item not in out_dict:\n",
    "            out_dict[item] = default\n",
    "        else:\n",
    "            out_dict[item] += 1\n",
    "    return out_dict\n",
    "```"
   ]
  },
  {
   "cell_type": "markdown",
   "metadata": {},
   "source": [
    "3. Think to yourself about how you would describe the code (using regular words) in a single sentence _without_ using code\n",
    "4. You and your partner take two (2) minutes to describe what you are thinking\n",
    "    * Do not let your partner \"opt-out\"\n",
    "5. Submit your statements to [PollEverywhere](https://PollEv.com/discourses/4um2D9ihsEmNWjPJ6150L/respond)"
   ]
  },
  {
   "cell_type": "markdown",
   "metadata": {},
   "source": [
    "---"
   ]
  },
  {
   "cell_type": "markdown",
   "metadata": {
    "slideshow": {
     "slide_type": "slide"
    }
   },
   "source": [
    "# Python Comprehension Statements"
   ]
  },
  {
   "cell_type": "markdown",
   "metadata": {},
   "source": [
    "<img src=\"https://raw.githubusercontent.com/betteridiot/b575f19/master/assets/venn_diagram2.png\" width=550 />"
   ]
  },
  {
   "cell_type": "markdown",
   "metadata": {
    "hideCode": false,
    "hidePrompt": false
   },
   "source": [
    "As we *all* know, mathematicians and statisticians like to make simple things complicated. Instead of just saying `1+2=3`, we first have to prove that `+` is in fact addition. Then we have to ensure that our assumptions only apply to the select cases we expect our \"algorithm\" to be used. See, I am boring myself already."
   ]
  },
  {
   "cell_type": "markdown",
   "metadata": {
    "hideCode": false,
    "hidePrompt": false,
    "slideshow": {
     "slide_type": "slide"
    }
   },
   "source": [
    "### However, something useful came out of this banal minutiae&mdash;set notation:"
   ]
  },
  {
   "cell_type": "markdown",
   "metadata": {
    "hideCode": false,
    "hidePrompt": false,
    "slideshow": {
     "slide_type": "fragment"
    }
   },
   "source": [
    "This is something like:<br/>\n",
    "$V=(1,2,\\ \\ldots\\ ,n)$<br/> \n",
    "$S= \\{x^2:\\ x\\ in\\ {\\rm I\\!R}\\}$"
   ]
  },
  {
   "cell_type": "markdown",
   "metadata": {
    "hideCode": false,
    "hidePrompt": false,
    "slideshow": {
     "slide_type": "fragment"
    }
   },
   "source": [
    "While it looks like absolute garbage when you are about to take an exam...granted, I usually forget that `x` is a letter in the alphabet during exams, it has its uses."
   ]
  },
  {
   "cell_type": "markdown",
   "metadata": {
    "hideCode": false,
    "hidePrompt": false,
    "slideshow": {
     "slide_type": "subslide"
    }
   },
   "source": [
    "In Python, users tend to use ***'for loops'*** for iterate through our entire sample space. For example:"
   ]
  },
  {
   "cell_type": "code",
   "execution_count": 1,
   "metadata": {
    "hideCode": false,
    "hidePrompt": true,
    "slideshow": {
     "slide_type": "fragment"
    }
   },
   "outputs": [],
   "source": [
    "# Normal list append\n",
    "some_list = list(range(10))\n",
    "squares = []\n",
    "for number in some_list:\n",
    "    square = number ** 2\n",
    "    squares.append(square)"
   ]
  },
  {
   "cell_type": "code",
   "execution_count": 2,
   "metadata": {},
   "outputs": [
    {
     "data": {
      "text/plain": [
       "[0, 1, 4, 9, 16, 25, 36, 49, 64, 81]"
      ]
     },
     "execution_count": 2,
     "metadata": {},
     "output_type": "execute_result"
    }
   ],
   "source": [
    "squares"
   ]
  },
  {
   "cell_type": "markdown",
   "metadata": {},
   "source": [
    "Math also provides us something else that is particularly helpful when writing code: formulaic notation:\n",
    "$f(x) = \\sqrt{a^2 + b^2}$"
   ]
  },
  {
   "cell_type": "markdown",
   "metadata": {},
   "source": [
    "In Python, we tend to use **'functions'** to complete a task given a set of arguments. For example:"
   ]
  },
  {
   "cell_type": "code",
   "execution_count": 28,
   "metadata": {},
   "outputs": [],
   "source": [
    "# Basic Euclidean distance function\n",
    "def euclid(a, b):\n",
    "    radicand = a ** 2 + b ** 2\n",
    "    return radicand ** .5"
   ]
  },
  {
   "cell_type": "code",
   "execution_count": 29,
   "metadata": {},
   "outputs": [
    {
     "data": {
      "text/plain": [
       "5.0"
      ]
     },
     "execution_count": 29,
     "metadata": {},
     "output_type": "execute_result"
    }
   ],
   "source": [
    "# Use the function\n",
    "euclid(3, 4)"
   ]
  },
  {
   "cell_type": "markdown",
   "metadata": {},
   "source": [
    "---\n",
    "## The Python Continuum"
   ]
  },
  {
   "cell_type": "markdown",
   "metadata": {},
   "source": [
    "<img src=\"https://raw.githubusercontent.com/betteridiot/b575f19/master/assets/continuum.png\" width=550 />"
   ]
  },
  {
   "cell_type": "markdown",
   "metadata": {},
   "source": [
    "Think of the Euclidean distance formula again. In the simplest way, what happens _every time_ $a$ and $b$ are entered into it?"
   ]
  },
  {
   "cell_type": "markdown",
   "metadata": {},
   "source": [
    "### The simplest function\n",
    "This same concept can be applied to functions. We can think of functions as something that **always** produces a \"deliverable\" (or output)...in plain word, a function _should_ always produce something."
   ]
  },
  {
   "cell_type": "code",
   "execution_count": 6,
   "metadata": {},
   "outputs": [],
   "source": [
    "# Sanity check\n",
    "def foo():\n",
    "    pass"
   ]
  },
  {
   "cell_type": "code",
   "execution_count": 7,
   "metadata": {},
   "outputs": [],
   "source": [
    "# Show it in action\n",
    "a = foo()\n",
    "a"
   ]
  },
  {
   "cell_type": "code",
   "execution_count": 8,
   "metadata": {},
   "outputs": [
    {
     "name": "stdout",
     "output_type": "stream",
     "text": [
      "None <class 'NoneType'>\n"
     ]
    }
   ],
   "source": [
    "print(a, type(a))"
   ]
  },
  {
   "cell_type": "markdown",
   "metadata": {},
   "source": [
    "### The simplest control structure\n",
    "Now, what about our list append for-loop. Did it produce something?"
   ]
  },
  {
   "cell_type": "code",
   "execution_count": 9,
   "metadata": {},
   "outputs": [
    {
     "data": {
      "text/plain": [
       "'Hello'"
      ]
     },
     "execution_count": 9,
     "metadata": {},
     "output_type": "execute_result"
    }
   ],
   "source": [
    "# Jupyter at work\n",
    "'Hello'"
   ]
  },
  {
   "cell_type": "code",
   "execution_count": 10,
   "metadata": {},
   "outputs": [],
   "source": [
    "# Let's look at that again\n",
    "some_list = list(range(10))\n",
    "squares = []\n",
    "for number in some_list:\n",
    "    square = number ** 2\n",
    "    squares.append(square)"
   ]
  },
  {
   "cell_type": "markdown",
   "metadata": {},
   "source": [
    "Makes sense to say that the same thing applies `if`-`elif`-`else` statements as well, right?"
   ]
  },
  {
   "cell_type": "markdown",
   "metadata": {},
   "source": [
    "## Back to the Drawing Board\n",
    "![venns](https://www.onlinemathlearning.com/image-files/xset-operations-venn-diagrams.png.pagespeed.ic.0-uuOWttzd.png)"
   ]
  },
  {
   "cell_type": "markdown",
   "metadata": {},
   "source": [
    "Are you seeing the \"continuum\" now? Let's go back to the [Warm-up](#Think,-pair,-share)"
   ]
  },
  {
   "cell_type": "markdown",
   "metadata": {},
   "source": [
    "---\n",
    "# Pop quiz: How do you convert pseudocode into Python?"
   ]
  },
  {
   "cell_type": "markdown",
   "metadata": {
    "hideCode": false,
    "hidePrompt": false,
    "slideshow": {
     "slide_type": "subslide"
    }
   },
   "source": [
    "---\n",
    "## Ever hear of the <font color='red'>'Fizz Buzz'</font> interview question?<br/>\n",
    "\n",
    "1. `return` <font color='red'>'Fizz'</font> `if` the number is divisible by some number (usually 3)\n",
    "2. `return` <font color='red'>'Buzz'</font> `if` it is divisible by another number (usually 5)\n",
    "3. `return` <font color='red'>'Fizzbuzz'</font> `if` divisible by both\n",
    "4. `return` just the number `if` none of the above\n",
    "\n",
    "Keep this interview question in mind during the next three (3) classes"
   ]
  },
  {
   "cell_type": "markdown",
   "metadata": {},
   "source": [
    "---\n",
    "# Comprehension Syntax"
   ]
  },
  {
   "cell_type": "markdown",
   "metadata": {},
   "source": [
    "## Legend"
   ]
  },
  {
   "cell_type": "markdown",
   "metadata": {},
   "source": [
    "<img src=\"https://raw.githubusercontent.com/betteridiot/b575f19/master/assets/legendary.png\" width=320 />"
   ]
  },
  {
   "cell_type": "markdown",
   "metadata": {},
   "source": [
    "## Examples\n",
    "<img src=\"https://raw.githubusercontent.com/betteridiot/b575f19/master/assets/comprehensions.png\" width=650 />"
   ]
  },
  {
   "cell_type": "markdown",
   "metadata": {
    "hideCode": false,
    "hidePrompt": false,
    "slideshow": {
     "slide_type": "slide"
    }
   },
   "source": [
    "# Alternate syntax of a comprehensions"
   ]
  },
  {
   "cell_type": "markdown",
   "metadata": {
    "hideCode": false,
    "hidePrompt": false
   },
   "source": [
    "<center><img src=\"http://python-3-patterns-idioms-test.readthedocs.io/en/latest/_images/listComprehensions.gif\"/></center>"
   ]
  },
  {
   "cell_type": "markdown",
   "metadata": {},
   "source": [
    "---\n",
    "# The Comprehension Categories\n",
    "1. `list` comprehensions\n",
    "2. `dict`ionary comprehensions\n",
    "3. `set` comprehensions\n",
    "4. `tuple`? comprehensions"
   ]
  },
  {
   "cell_type": "markdown",
   "metadata": {},
   "source": [
    "### A primer on Codons"
   ]
  },
  {
   "cell_type": "markdown",
   "metadata": {},
   "source": [
    "<img src=\"https://cdn.kastatic.org/ka-perseus-images/1ade7bbd40ca8dbc7a55ddf4067935e42c347f35.png\" width=550 />"
   ]
  },
  {
   "cell_type": "markdown",
   "metadata": {},
   "source": [
    "<img src=\"https://www.researchgate.net/profile/Bart_Mesuere/publication/303767834/figure/fig8/AS:614374372831254@1523489673782/An-RNA-codon-table-showing-the-mapping-from-threeletter-RNA-codons-to-amino-acids-For.png\" width=350 />"
   ]
  },
  {
   "cell_type": "markdown",
   "metadata": {
    "hideCode": false,
    "hidePrompt": false,
    "slideshow": {
     "slide_type": "subslide"
    }
   },
   "source": [
    "List comprehensions are one of foundations that Python coders use when they want to do something simple that requires a for loop. However, list comprehensions involve most of the same rules that apply to regular for loops, thus making them capable of much more."
   ]
  },
  {
   "cell_type": "code",
   "execution_count": 11,
   "metadata": {},
   "outputs": [
    {
     "name": "stdout",
     "output_type": "stream",
     "text": [
      "['AAA', 'AAC', 'AAG', 'AAT', 'ACA', 'ACC', 'ACG', 'ACT', 'AGA', 'AGC']\n"
     ]
    }
   ],
   "source": [
    "# Codons: full\n",
    "nts = 'ACGT'\n",
    "\n",
    "codons = []\n",
    "for x in nts:\n",
    "    for y in nts:\n",
    "        for z in nts:\n",
    "            codons.append(x + y + z)\n",
    "print(codons[:10])"
   ]
  },
  {
   "cell_type": "code",
   "execution_count": 12,
   "metadata": {
    "scrolled": true
   },
   "outputs": [
    {
     "name": "stdout",
     "output_type": "stream",
     "text": [
      "The Zen of Python, by Tim Peters\n",
      "\n",
      "Beautiful is better than ugly.\n",
      "Explicit is better than implicit.\n",
      "Simple is better than complex.\n",
      "Complex is better than complicated.\n",
      "Flat is better than nested.\n",
      "Sparse is better than dense.\n",
      "Readability counts.\n",
      "Special cases aren't special enough to break the rules.\n",
      "Although practicality beats purity.\n",
      "Errors should never pass silently.\n",
      "Unless explicitly silenced.\n",
      "In the face of ambiguity, refuse the temptation to guess.\n",
      "There should be one-- and preferably only one --obvious way to do it.\n",
      "Although that way may not be obvious at first unless you're Dutch.\n",
      "Now is better than never.\n",
      "Although never is often better than *right* now.\n",
      "If the implementation is hard to explain, it's a bad idea.\n",
      "If the implementation is easy to explain, it may be a good idea.\n",
      "Namespaces are one honking great idea -- let's do more of those!\n"
     ]
    }
   ],
   "source": [
    "import this"
   ]
  },
  {
   "cell_type": "code",
   "execution_count": 13,
   "metadata": {},
   "outputs": [
    {
     "data": {
      "text/plain": [
       "['AAA', 'AAC', 'AAG', 'AAT', 'ACA', 'ACC', 'ACG', 'ACT', 'AGA', 'AGC']"
      ]
     },
     "execution_count": 13,
     "metadata": {},
     "output_type": "execute_result"
    }
   ],
   "source": [
    "# Codons: comp\n",
    "[x + y + z for x in nts for y in nts for z in nts][:10]"
   ]
  },
  {
   "cell_type": "code",
   "execution_count": 15,
   "metadata": {},
   "outputs": [
    {
     "data": {
      "text/plain": [
       "['AAA', 'AAC', 'AAG', 'AAT', 'ACA', 'ACC', 'ACG', 'ACT', 'AGA', 'AGC']"
      ]
     },
     "execution_count": 15,
     "metadata": {},
     "output_type": "execute_result"
    }
   ],
   "source": [
    "from itertools import product\n",
    "[x + y + z for x,y,z in product(nts, nts, nts)][:10]"
   ]
  },
  {
   "cell_type": "markdown",
   "metadata": {
    "hideCode": false,
    "hidePrompt": false,
    "slideshow": {
     "slide_type": "slide"
    }
   },
   "source": [
    "# But there is more!"
   ]
  },
  {
   "cell_type": "markdown",
   "metadata": {
    "hideCode": false,
    "hidePrompt": false
   },
   "source": [
    "Hopefully you have looked at the newest homework. You may have noticed that there is a **ton** of `split()`ing that needs to be done. Let's explore that concept a little here..."
   ]
  },
  {
   "cell_type": "code",
   "execution_count": 16,
   "metadata": {},
   "outputs": [
    {
     "name": "stdout",
     "output_type": "stream",
     "text": [
      "#,Name,Type 1,Type 2,Total,HP,Attack,Defense,Sp. Atk,Sp. Def,Speed,Generation,Legendary\n",
      "\n"
     ]
    }
   ],
   "source": [
    "# Let's look at the data first\n",
    "with open('../datasets/pokemon.csv') as poke:\n",
    "    print(poke.readline())"
   ]
  },
  {
   "cell_type": "markdown",
   "metadata": {},
   "source": [
    "Now, how would you get _just_ a list of names of the Pokemon in this dataset using a plain for-loop?"
   ]
  },
  {
   "cell_type": "code",
   "execution_count": 17,
   "metadata": {},
   "outputs": [],
   "source": [
    "a = 'abc'"
   ]
  },
  {
   "cell_type": "code",
   "execution_count": null,
   "metadata": {},
   "outputs": [],
   "source": [
    "a."
   ]
  },
  {
   "cell_type": "code",
   "execution_count": 18,
   "metadata": {
    "hideCode": false,
    "hidePrompt": true
   },
   "outputs": [
    {
     "data": {
      "text/plain": [
       "['Noibat',\n",
       " 'Noivern',\n",
       " 'Xerneas',\n",
       " 'Yveltal',\n",
       " 'Zygarde50% Forme',\n",
       " 'Diancie',\n",
       " 'DiancieMega Diancie',\n",
       " 'HoopaHoopa Confined',\n",
       " 'HoopaHoopa Unbound',\n",
       " 'Volcanion']"
      ]
     },
     "execution_count": 18,
     "metadata": {},
     "output_type": "execute_result"
    }
   ],
   "source": [
    "# First way: functionally (or standard for-loop)\n",
    "pokemon = []\n",
    "with open('../datasets/pokemon.csv') as poke:\n",
    "    for row in poke:\n",
    "        if not row.startswith('#'):\n",
    "            row = row.strip().split(',')\n",
    "            pokemon.append(row[1])\n",
    "pokemon[-10:]"
   ]
  },
  {
   "cell_type": "markdown",
   "metadata": {},
   "source": [
    "Let's do it together using a list comprehension"
   ]
  },
  {
   "cell_type": "code",
   "execution_count": 19,
   "metadata": {
    "hideCode": false,
    "hidePrompt": true,
    "slideshow": {
     "slide_type": "subslide"
    }
   },
   "outputs": [
    {
     "data": {
      "text/plain": [
       "['Noibat',\n",
       " 'Noivern',\n",
       " 'Xerneas',\n",
       " 'Yveltal',\n",
       " 'Zygarde50% Forme',\n",
       " 'Diancie',\n",
       " 'DiancieMega Diancie',\n",
       " 'HoopaHoopa Confined',\n",
       " 'HoopaHoopa Unbound',\n",
       " 'Volcanion']"
      ]
     },
     "execution_count": 19,
     "metadata": {},
     "output_type": "execute_result"
    }
   ],
   "source": [
    "# Second way: list comprehension\n",
    "[row.strip().split(',')[1] for row in open('../datasets/pokemon.csv') if not row.startswith('#')][-10:]"
   ]
  },
  {
   "cell_type": "markdown",
   "metadata": {
    "hideCode": false,
    "hidePrompt": false
   },
   "source": [
    "See how **easy** and **short** that is visually?"
   ]
  },
  {
   "cell_type": "markdown",
   "metadata": {},
   "source": [
    "---\n",
    "> &#9835; I wanna be the very best &#9835;</br>\n",
    "> &#9835; Like no one ever was &#9835;</br>\n",
    "> &#9835;To catch them is my real test &#9835;</br>\n",
    "> &#9835;To train them is my cause &#9835;"
   ]
  },
  {
   "cell_type": "markdown",
   "metadata": {},
   "source": [
    "Try to create a list of **legendary** type Pokemon only"
   ]
  },
  {
   "cell_type": "code",
   "execution_count": 22,
   "metadata": {
    "hideCode": false,
    "hidePrompt": true
   },
   "outputs": [
    {
     "data": {
      "text/plain": [
       "['KyuremBlack Kyurem',\n",
       " 'KyuremWhite Kyurem',\n",
       " 'Xerneas',\n",
       " 'Yveltal',\n",
       " 'Zygarde50% Forme',\n",
       " 'Diancie',\n",
       " 'DiancieMega Diancie',\n",
       " 'HoopaHoopa Confined',\n",
       " 'HoopaHoopa Unbound',\n",
       " 'Volcanion']"
      ]
     },
     "execution_count": 22,
     "metadata": {},
     "output_type": "execute_result"
    }
   ],
   "source": [
    "# Standard for-loop with predicate\n",
    "# First way: functionally (or standard for-loop)\n",
    "pokemon = []\n",
    "with open('../datasets/pokemon.csv') as poke:\n",
    "    for row in poke:\n",
    "        row = row.strip().split(',')\n",
    "        if not row[0] == '#' and row[-1] == \"True\":\n",
    "            pokemon.append(row[1])\n",
    "pokemon[-10:]"
   ]
  },
  {
   "cell_type": "code",
   "execution_count": null,
   "metadata": {},
   "outputs": [],
   "source": [
    "# Comp predicate\n"
   ]
  },
  {
   "cell_type": "markdown",
   "metadata": {},
   "source": [
    "---\n",
    "# Challenge\n",
    "Try doing <font color='red'>Fizz Buzz</font> on a single line"
   ]
  },
  {
   "cell_type": "code",
   "execution_count": null,
   "metadata": {},
   "outputs": [],
   "source": []
  }
 ],
 "metadata": {
  "kernelspec": {
   "display_name": "Python 3",
   "language": "python",
   "name": "python3"
  },
  "language_info": {
   "codemirror_mode": {
    "name": "ipython",
    "version": 3
   },
   "file_extension": ".py",
   "mimetype": "text/x-python",
   "name": "python",
   "nbconvert_exporter": "python",
   "pygments_lexer": "ipython3",
   "version": "3.7.3"
  }
 },
 "nbformat": 4,
 "nbformat_minor": 4
}
