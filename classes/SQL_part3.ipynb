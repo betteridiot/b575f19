{
 "cells": [
  {
   "cell_type": "markdown",
   "metadata": {},
   "source": [
    "## SQL - part 2"
   ]
  },
  {
   "cell_type": "code",
   "execution_count": null,
   "metadata": {},
   "outputs": [],
   "source": [
    "from sqlite3 import connect\n",
    "\n",
    "'''    \n",
    "    Establish a connection to the database.\n",
    "    This statement creates the file iat the given path if it does not exist.\n",
    "    The file was provided so the statement should just establish the connection.\n",
    "'''\n",
    "connection = connect('../datasets/org.Hs.eg.sqlite')\n",
    "cursor = connection.cursor()\n"
   ]
  },
  {
   "cell_type": "markdown",
   "metadata": {},
   "source": [
    "#### Major SQL commands: SELECT, INSERT, DELETE, UPDATE\n",
    "#### SELECT - Retrieves data from one or more tables and doesn’t change the data at all \n",
    "\n",
    "* SELECT  * (means all columns), or the comma separated names of the columns of data you wish to return\n",
    "    * Returns columns (left to right) in the order received. \n",
    "    * '*' selects ALL rows and ALL columns and returns them by column order and row_id\n",
    "* FROM is the table source or sources (comma separated)\n",
    "* WHERE (optional) is the predicate clause: conditions for the query\n",
    "    * Evaluates to True or False for each row\n",
    "    * This clause almost always includes Column-Value pairs.\n",
    "    * Omitting the Where clause returns ALL the records in that table.\n",
    "    * Note: the match is case sensitive\n",
    "* ORDER BY (optional) indicates a sort order for the output data \n",
    "    * default is row_id, which can be very non-intuitive  \n",
    "    * ASCending or DESCending can be appended to change the sort order.  (ASC is default)\n",
    "* GROUP BY (optional) groups by a column and creates summary data for a different column\n",
    "* HAVING (optional) allows restrictions on the rows selected\n",
    "    * a GROUP BY clause is required before HAVING\n",
    "* LIMIT (optional) reduces the number of rows retrieved to the number provided after this clause\n",
    "* In most SQL clients, the \";\" indicates the end of a statement and requests execution\n"
   ]
  },
  {
   "cell_type": "code",
   "execution_count": null,
   "metadata": {},
   "outputs": [],
   "source": [
    "def get_header(cursor):\n",
    "    '''\n",
    "    Makes a tab delimited header row from the cursor description.\n",
    "    Arguments:\n",
    "        cursor: a cursor after a select query\n",
    "    Returns:\n",
    "        string: A string consisting of the column names separated by tabs, no new line\n",
    "    '''\n",
    "    return '\\t'.join([row[0] for row in cursor.description])\n",
    "\n",
    "def get_results(cursor):\n",
    "    '''\n",
    "    Makes a tab delimited table from the cursor results.\n",
    "    Arguments:\n",
    "        cursor: a cursor after a select query\n",
    "    Returns:\n",
    "        string: A string consisting of the column names separated by tabs, no new line\n",
    "    ''' \n",
    "    res = list()\n",
    "    for row in cursor.fetchall():        \n",
    "        res.append('\\t'.join(list(map(str,row))))\n",
    "    return \"\\n\".join(res)\n"
   ]
  },
  {
   "cell_type": "code",
   "execution_count": null,
   "metadata": {},
   "outputs": [],
   "source": [
    "# In every SQLite database, there is a special table: sqlite_master\n",
    "# sqlite_master -  describes the contents of the database\n",
    "\n",
    "sql = '''\n",
    "SELECT type, name \n",
    "FROM sqlite_master \n",
    "WHERE type = \"table\";\n",
    "'''\n",
    "cursor.execute(sql)\n",
    "print(get_header(cursor))\n",
    "print(get_results(cursor))"
   ]
  },
  {
   "cell_type": "markdown",
   "metadata": {},
   "source": [
    "#### A `PRIMARY KEY` is a very important concept to understand.  \n",
    "* It is the designation for a column or a set of columns from a table.\n",
    "* It is recommended to be a serial value and not something related to the business needs of the data in the table.\n",
    "\n",
    "* A primary key is used to uniquely identify a row of data; combined with a column name, uniquely locates a data entry\n",
    "* A primary key by definition must be `UNIQUE` and `NOT NULL` \n",
    "* The primary key of a table, should be a (sequential) non-repeating and not null value  \n",
    "* Primary keys are generally identified at time of table creation  \n",
    "* A common method for generating a primary key, is to set the datatype to `INTEGER` and declare `AUTOINCREMENT` which will function when data is inserted into the table\n",
    "* Primary keys can be a composite of 2 or more columns that uniquely identify the data in the table\n",
    "\n"
   ]
  },
  {
   "cell_type": "markdown",
   "metadata": {},
   "source": [
    "#### A `FOREIGN KEY` is a column(s) that points to the `PRIMARY KEY` of another table \n",
    "\n",
    "* The purpose of the foreign key is to ensure referential integrity of the data. \n",
    "In other words, only values that are supposed to appear in the database are permitted.<br>\n",
    "Only the values that exist in the `PRIMARY KEY` column are allowed to be present in the FOREIGN KEY column.\n",
    "\n",
    "They are also the underpinning of how tables are joined and relationships portrayed in the database\n"
   ]
  },
  {
   "cell_type": "markdown",
   "metadata": {},
   "source": [
    "#### JOIN tables\n",
    "\n",
    "* Multiple tables contain different data that we want to retrieve from a single query\n",
    "* In order to assemble data as part of a query, a JOIN between tables is needed\n",
    "* This is a very common practice, since it’s rare for all the data you want to be in a single table\n",
    "\n",
    "\n",
    "* INNER JOIN - return only those rows where there is matching content in BOTH tables (is the default when JOIN is used)\n",
    "* OUTER JOIN - returns all rows from both tables even if one of the tables is blank\n",
    "* SELF JOIN - can be used to join a table to itself (through aliasing), to compare data internal to the table\n",
    "\n",
    "```sql\n",
    "SELECT ... FROM table1 [INNER] JOIN table2 ON conditional_expression\n",
    "```\n"
   ]
  },
  {
   "cell_type": "code",
   "execution_count": null,
   "metadata": {},
   "outputs": [],
   "source": [
    "sql = '''\n",
    "SELECT symbol,go_id, evidence\n",
    "FROM gene_info AS gi\n",
    "INNER JOIN go_bp AS go\n",
    "ON gi._id == go._id\n",
    "WHERE evidence = \"ND\"\n",
    "LIMIT 5;'''\n",
    "cursor.execute(sql)\n",
    "print(get_header(cursor))\n",
    "print(get_results(cursor))"
   ]
  },
  {
   "cell_type": "code",
   "execution_count": null,
   "metadata": {},
   "outputs": [],
   "source": [
    "# gene information for gene with the max number of associated go terms\n",
    "sql = '''\n",
    "SELECT gi.symbol, go_term_no\n",
    "FROM gene_info AS gi\n",
    "INNER JOIN \n",
    "(SELECT _id, count(go_id) AS go_term_no\n",
    "FROM go_bp\n",
    "GROUP BY _id) AS go\n",
    "ON gi._id == go._id\n",
    "WHERE go_term_no IN \n",
    "(SELECT max(go_term_no) FROM\n",
    "(SELECT _id, count(go_id) AS go_term_no\n",
    "FROM go_bp\n",
    "GROUP BY _id));\n",
    "'''\n",
    "cursor.execute(sql)\n",
    "print(get_header(cursor))\n",
    "print(get_results(cursor))"
   ]
  },
  {
   "cell_type": "markdown",
   "metadata": {},
   "source": [
    "#### See the create table statement"
   ]
  },
  {
   "cell_type": "code",
   "execution_count": null,
   "metadata": {},
   "outputs": [],
   "source": [
    "# sql column in the sqlite_master table\n",
    "\n",
    "sql = '''\n",
    "SELECT sql\n",
    "FROM sqlite_master \n",
    "WHERE type= \"table\" and name == \"go_bp\";\n",
    "'''\n",
    "cursor.execute(sql)\n",
    "print(get_header(cursor))\n",
    "print(get_results(cursor))"
   ]
  },
  {
   "cell_type": "markdown",
   "metadata": {},
   "source": [
    "#### Guidelines for database design:\n",
    "\n",
    "* Normalization is the process of creating or re-arranging data relationships so that it will be easy to store and retrieve data efficiently.  Data is normalized to achieve the following goals: \n",
    "    * Eliminate data redundancies and save space \n",
    "    * Make it easier to change data \n",
    "    * Simplify the enforcement of referential integrity constraints \n",
    "    * Produce a design that is a 'good' representation of the real world (one that is intuitively easy to understand and a good base for further growth)\n",
    "\n",
    "    * Make it easier to change data by avoiding to provide multiple values separated by commas in a column\n",
    "    * All columns in a table should depend on the primary key, all extra related information should be in other tables linked by foreign keys\n",
    "\n",
    "https://support.microsoft.com/en-us/help/283878/description-of-the-database-normalization-basics"
   ]
  },
  {
   "cell_type": "markdown",
   "metadata": {},
   "source": [
    "### CREATE TABLE  - statement\n",
    "https://www.sqlitetutorial.net/sqlite-create-table/\n",
    "\n",
    "```sql\n",
    "CREATE TABLE [IF NOT EXISTS] [schema_name].table_name (\n",
    "    column_1 data_type PRIMARY KEY,\n",
    "    column_2 data_type NOT NULL,\n",
    "    column_3 data_type DEFAULT 0,\n",
    "    table_constraints\n",
    ") [WITHOUT ROWID];\n",
    "```\n",
    "\n",
    "In this syntax:\n",
    "\n",
    "* First, specify the name of the table that you want to create after the CREATE TABLE keywords. The name of the table cannot start with sqlite_ because it is reserved for the internal use of SQLite.\n",
    "* Second, use `IF NOT EXISTS` option to create a new table if it does not exist. Attempting to create a table that already exists without using the IF NOT EXISTS option will result in an error.\n",
    "* Third, optionally specify the schema_name to which the new table belongs. The schema can be the main database, temp database or any attached database.\n",
    "* Fourth, specify the column list of the table. Each column has a name, data type, and the column constraint. SQLite supports `PRIMARY KEY, UNIQUE, NOT NULL`, and `CHECK` column constraints.\n",
    "* Fifth, specify the table constraints such as PRIMARY KEY, FOREIGN KEY, UNIQUE, and CHECK constraints.\n",
    "* Finally, optionally use the `WITHOUT ROWID` option. By default, a row in a table has an implicit column, which is referred to as the rowid, oid or _rowid_ column. The rowid column stores a 64-bit signed integer key that uniquely identifies the row inside the table. If you don’t want SQLite creates the rowid column, you specify the WITHOUT ROWID option. A table that contains the rowid column is known as a rowid table. Note that the WITHOUT ROWID option is only available in SQLite 3.8.2 or later."
   ]
  },
  {
   "cell_type": "markdown",
   "metadata": {},
   "source": [
    "https://www.sqlite.org/syntaxdiagrams.html#create-table-stmt\n",
    "\n",
    "<img src = \"https://www.sqlite.org/images/syntax/create-table-stmt.gif\" width=\"800\"/>"
   ]
  },
  {
   "cell_type": "markdown",
   "metadata": {},
   "source": [
    "Each value stored in an SQLite database (or manipulated by the database engine) has one of the following storage classes:\n",
    "https://www.sqlite.org/datatype3.html\n",
    "* `NULL`. The value is a NULL value.\n",
    "* `INTEGER`. The value is a signed integer, stored in 1, 2, 3, 4, 6, or 8 bytes depending on the magnitude of the value.\n",
    "* `REAL`. The value is a floating point value, stored as an 8-byte IEEE floating point number.\n",
    "* `TEXT`. The value is a text string, stored using the database encoding (UTF-8, UTF-16BE or UTF-16LE).\n",
    "* `BLOB`. The value is a blob of data, stored exactly as it was input."
   ]
  },
  {
   "cell_type": "markdown",
   "metadata": {},
   "source": [
    "The `sqlite_master` has the following create statement: \n",
    "```sql\n",
    "CREATE TABLE sqlite_master ( type TEXT, name TEXT, tbl_name TEXT, rootpage INTEGER, sql TEXT );\n",
    "```"
   ]
  },
  {
   "cell_type": "markdown",
   "metadata": {},
   "source": [
    "#### Create the table `gene` with the columns: `gene_id`, `gene_symbol`. `gene_name` "
   ]
  },
  {
   "cell_type": "markdown",
   "metadata": {},
   "source": [
    "##### The `connection` object methods can be used to save or revert/reset the changes after a command that makes changes to the database\n",
    "##### `COMMIT` - save the changes \n",
    "##### `ROLLBACK` - revert the changes \n"
   ]
  },
  {
   "cell_type": "code",
   "execution_count": null,
   "metadata": {},
   "outputs": [],
   "source": [
    "sql='''\n",
    "CREATE TABLE IF NOT EXISTS go_bp_ALT (\n",
    "      gene_go_id INTEGER PRIMARY KEY AUTOINCREMENT,\n",
    "      gene_id INTEGER NOT NULL,                     -- REFERENCES  genes _id \n",
    "      go_id CHAR(10) NOT NULL,                      -- GO ID\n",
    "      evidence CHAR(30) NOT NULL,                   -- GO evidence information\n",
    "      FOREIGN KEY (gene_id) REFERENCES  genes  (_id)\n",
    "    );\n",
    "'''\n",
    "try:\n",
    "    cursor.execute(sql)\n",
    "except connection.DatabaseError:\n",
    "    print(\"Creating the go_bp_ALT table resulted in a database error!\")\n",
    "    connection.rollback()\n",
    "    raise\n",
    "else:\n",
    "    connection.commit()\n",
    "finally:\n",
    "    print(\"done!\")\n",
    "    \n",
    "    "
   ]
  },
  {
   "cell_type": "markdown",
   "metadata": {},
   "source": [
    "##### Similar error handling, as seen above, can be when executing any statement that changes the database."
   ]
  },
  {
   "cell_type": "markdown",
   "metadata": {},
   "source": [
    "##### Check if the new table appears in the `sqlite_master` table "
   ]
  },
  {
   "cell_type": "code",
   "execution_count": null,
   "metadata": {},
   "outputs": [],
   "source": [
    "sql = '''\n",
    "SELECT name, sql\n",
    "FROM sqlite_master \n",
    "WHERE name LIKE \"go_bp%\"\n",
    "LIMIT 4;\n",
    "'''\n",
    "cursor.execute(sql)\n",
    "print(cursor.fetchall())"
   ]
  },
  {
   "cell_type": "markdown",
   "metadata": {},
   "source": [
    "  \n",
    "<br><br> \n",
    "The `sqlite_sequence` table is created and initialized automatically whenever a regular table is created if it has a column with the `AUTOINCREMENT` option set.<br>\n",
    "https://www.sqlite.org/autoinc.html\n"
   ]
  },
  {
   "cell_type": "markdown",
   "metadata": {},
   "source": [
    "##### Check if the new table appears in the `sqlite_master` table "
   ]
  },
  {
   "cell_type": "markdown",
   "metadata": {},
   "source": [
    "### INDEXING\n",
    "\n",
    "Indexes are lookup table, like the index of a book.\n",
    "They are usually created for columns that have unique/ or less redundant values and provide a way to quicky search \n",
    "the values.<br>\n",
    "Indexing creates a copy of the indexed columns together with a link to the location of the additional information.<br> \n",
    "The index data is stored in a data structure that allows for fast sorting. <br>\n",
    "E.g.: balanced-tree - every leaf is at most n nodes away from the root) that allows for fast sorting. <br>\n",
    "All queries (statements) regarding an indexed table are applied to the index\n",
    "\n",
    "\n",
    "* One important function in Relational Databases is to be able to create indexes on columns in tables  \n",
    "* These indexes are pre-calculated and stored in the database \n",
    "* Indexes should be created on columns that are used in queries and joins\n",
    "    * columns that appear in conditions (WHERE, JOIN ... ON) \n",
    "* They will rapidly speed up query return rate and improve query performance\n",
    "\n",
    "To create an index use the following command:\n",
    "\n",
    "```sql\n",
    "CREATE INDEX indexName ON tableName (columnName)\n",
    "```"
   ]
  },
  {
   "cell_type": "code",
   "execution_count": null,
   "metadata": {},
   "outputs": [],
   "source": [
    "sql = '''\n",
    "CREATE INDEX gene_go_idx \n",
    "ON go_bp_ALT (gene_go_id)\n",
    "'''\n",
    "cursor.execute(sql)\n",
    "connection.commit()\n"
   ]
  },
  {
   "cell_type": "markdown",
   "metadata": {},
   "source": [
    "##### Check if the new index appears in the `sqlite_master` table "
   ]
  },
  {
   "cell_type": "code",
   "execution_count": null,
   "metadata": {},
   "outputs": [],
   "source": [
    "sql = '''\n",
    "SELECT name, sql\n",
    "FROM sqlite_master \n",
    "WHERE type= \"index\";\n",
    "'''\n",
    "cursor.execute(sql)\n",
    "print(get_header(cursor))\n",
    "print(get_results(cursor))"
   ]
  },
  {
   "cell_type": "markdown",
   "metadata": {},
   "source": [
    "#### Remove the index"
   ]
  },
  {
   "cell_type": "code",
   "execution_count": null,
   "metadata": {},
   "outputs": [],
   "source": [
    "sql = '''\n",
    "DROP INDEX gene_go_idx \n",
    "'''\n",
    "cursor.execute(sql)\n",
    "connection.commit()\n"
   ]
  },
  {
   "cell_type": "markdown",
   "metadata": {},
   "source": [
    "##### Check if the index was removed from the `sqlite_master` table "
   ]
  },
  {
   "cell_type": "code",
   "execution_count": null,
   "metadata": {},
   "outputs": [],
   "source": [
    "sql = '''\n",
    "SELECT name, sql\n",
    "FROM sqlite_master \n",
    "WHERE type= \"index\";\n",
    "'''\n",
    "cursor.execute(sql)\n",
    "print(get_header(cursor))\n",
    "print(get_results(cursor))"
   ]
  },
  {
   "cell_type": "markdown",
   "metadata": {},
   "source": [
    "### INSERT - statement\n",
    "\n",
    "Makes changes to the database table<br>\n",
    "Adds new data to a table (if the constraints are met)\n",
    "Constraint examples: \n",
    "* For one designated column or a group of columns that are designated as Primary Key the values are unique\n",
    "* The value inserted in a column that has a Foreign Key constraint should exist in the column that it refers to\n",
    "\n",
    "```sql\n",
    "INSERT INTO <tablename> (<column1>, <column2>, <column3>) VALUES (value1, value2, value3);\n",
    "```\n",
    "\n",
    "##### One simple INSERT command adds 1 row of data at a time into an existing table  \n",
    "\n",
    "##### Connection object allows us to:\n",
    "* ##### COMMIT - save the changes \n",
    "* ##### ROLLBACK - reverts/discards the changes"
   ]
  },
  {
   "cell_type": "markdown",
   "metadata": {},
   "source": [
    "<br>\n",
    "\n",
    "##### Let's see what is in the table (it should be nothing):"
   ]
  },
  {
   "cell_type": "code",
   "execution_count": null,
   "metadata": {},
   "outputs": [],
   "source": [
    "sql = '''\n",
    "SELECT *\n",
    "FROM go_bp_ALT;\n",
    "'''\n",
    "cursor.execute(sql)\n",
    "print(get_header(cursor))\n",
    "print(get_results(cursor))"
   ]
  },
  {
   "cell_type": "markdown",
   "metadata": {},
   "source": [
    "<br>\n",
    "\n",
    "##### Let's try an insert:\n",
    "```sql\n",
    "INSERT INTO <tablename> (<column1>, <column2>, <column3>) VALUES (value1, value2, value3);\n",
    "```"
   ]
  },
  {
   "cell_type": "code",
   "execution_count": null,
   "metadata": {},
   "outputs": [],
   "source": [
    "values_list = [1234,\"GO:1234\",\"CM_EV\"]\n",
    "\n",
    "sql = '''\n",
    "INSERT INTO go_bp_ALT (gene_id, go_id, evidence) \n",
    "VALUES (?,?,?);\n",
    "'''\n",
    "cursor.execute(sql,values_list)\n",
    "connection.commit()"
   ]
  },
  {
   "cell_type": "code",
   "execution_count": null,
   "metadata": {},
   "outputs": [],
   "source": [
    "# This command retrieves the identifier of the last row from the most current query\n",
    "# The gene_go_id\n",
    "\n",
    "id_value = cursor.lastrowid\n",
    "id_value"
   ]
  },
  {
   "cell_type": "markdown",
   "metadata": {},
   "source": [
    "<br>\n",
    "\n",
    "\n",
    "##### We have a row in the table!!! And the gene_go_id was automatically generated."
   ]
  },
  {
   "cell_type": "code",
   "execution_count": null,
   "metadata": {},
   "outputs": [],
   "source": [
    "sql = '''\n",
    "SELECT *\n",
    "FROM go_bp_ALT ;\n",
    "'''\n",
    "cursor.execute(sql)\n",
    "print(get_header(cursor))\n",
    "print(get_results(cursor))"
   ]
  },
  {
   "cell_type": "markdown",
   "metadata": {},
   "source": [
    "#### You can have a Python \"table\" structure (list of lists) of insert values and get them all inserted in one command, each sublist having the correct number of values.\n"
   ]
  },
  {
   "cell_type": "code",
   "execution_count": null,
   "metadata": {},
   "outputs": [],
   "source": [
    "values_tbl = [[1235,\"GO:1235\",\"CM_EV\"], [1236,\"GO:1236\",\"CM_EV\"], [1236,\"GO:1237\",\"CM_EV\"]]\n",
    "\n",
    "sql = '''\n",
    "INSERT INTO go_bp_ALT (gene_id, go_id, evidence) \n",
    "VALUES (?,?,?);\n",
    "'''\n",
    "cursor.executemany(sql,values_tbl)\n",
    "connection.commit()\n"
   ]
  },
  {
   "cell_type": "code",
   "execution_count": null,
   "metadata": {},
   "outputs": [],
   "source": [
    "sql = '''\n",
    "SELECT *\n",
    "FROM go_bp_ALT ;\n",
    "'''\n",
    "cursor.execute(sql)\n",
    "print(get_header(cursor))\n",
    "print(get_results(cursor))"
   ]
  },
  {
   "cell_type": "code",
   "execution_count": null,
   "metadata": {},
   "outputs": [],
   "source": [
    "go_tbl = [[\"GO:1238\",\"ND\"], [\"GO:1239\",\"ND\"], [\"GO:1240\",\"IDE\"]]\n",
    "gene_id = 4\n",
    "for go_elem in go_tbl:\n",
    "    go_elem.insert(0,gene_id) \n",
    "\n",
    "sql = '''\n",
    "INSERT INTO go_bp_ALT (gene_id, go_id, evidence) \n",
    "VALUES (?,?,?);\n",
    "'''\n",
    "cursor.executemany(sql,go_tbl)\n",
    "connection.commit()"
   ]
  },
  {
   "cell_type": "code",
   "execution_count": null,
   "metadata": {},
   "outputs": [],
   "source": [
    "sql = '''\n",
    "SELECT *\n",
    "FROM go_bp_ALT ;\n",
    "'''\n",
    "cursor.execute(sql)\n",
    "print(get_header(cursor))\n",
    "print(get_results(cursor))"
   ]
  },
  {
   "cell_type": "markdown",
   "metadata": {},
   "source": [
    "#### UPDATE - statement - changes the table rows\n",
    "\n"
   ]
  },
  {
   "cell_type": "markdown",
   "metadata": {},
   "source": [
    "Modifies data (already in a table)  in all rows matching the WHERE clause \n",
    "\n",
    "```sql\n",
    "UPDATE table_name \n",
    "SET column1 = value1, column2 = value2...., columnN = valueN\n",
    "WHERE [condition];\n",
    "```\n",
    "\n",
    "Update is generally a single row command, but use of the where clause can cause data to be updated in multiple rows <br>\n",
    "(whether you intended to or not !!!!)\n",
    "\n",
    "The following statement updates the evidence for all entries for all genes associated with the 2 biological processses "
   ]
  },
  {
   "cell_type": "markdown",
   "metadata": {},
   "source": [
    "#### DELETE - statement - deletes table rows\n",
    "\n",
    "* MAKES CHANGES TO THE DATA\n",
    "* Row level deletion – can’t delete less than this. \n",
    "\n",
    "```sql\n",
    "DELETE FROM <tablename> WHERE <column> = <value>\n",
    "```\n",
    "\n",
    "* The WHERE predicate is the same as for the SELECT statement, that is, it determines which rows will be deleted  \n",
    "\n"
   ]
  },
  {
   "cell_type": "code",
   "execution_count": null,
   "metadata": {},
   "outputs": [],
   "source": [
    "sql = '''\n",
    "DELETE FROM go_bp_ALT \n",
    "WHERE go_id IN (\"GO:1234\",\"GO:1236\");\n",
    "'''\n",
    "cursor.execute(sql)\n",
    "connection.commit()\n"
   ]
  },
  {
   "cell_type": "code",
   "execution_count": null,
   "metadata": {},
   "outputs": [],
   "source": [
    "sql = '''\n",
    "SELECT *\n",
    "FROM go_bp_ALT ;\n",
    "'''\n",
    "cursor.execute(sql)\n",
    "print(get_header(cursor))\n",
    "print(get_results(cursor))"
   ]
  },
  {
   "cell_type": "markdown",
   "metadata": {},
   "source": [
    "```sql\n",
    "DELETE FROM <tablename>; \n",
    "```\n",
    "\n",
    "* This would delete all rows of data from a table.\n",
    "* Preserves table structure (table still exists)\n",
    "* Optimized for speed in SQLite, no row-by-row execution.\n",
    "* EXISTS <table_name> still evaluates to True\n"
   ]
  },
  {
   "cell_type": "code",
   "execution_count": null,
   "metadata": {},
   "outputs": [],
   "source": [
    "sql = '''\n",
    "DELETE FROM go_bp_ALT;\n",
    "'''\n",
    "cursor.execute(sql)\n",
    "connection.commit()\n"
   ]
  },
  {
   "cell_type": "code",
   "execution_count": null,
   "metadata": {},
   "outputs": [],
   "source": [
    "sql = '''\n",
    "SELECT *\n",
    "FROM go_bp_ALT ;\n",
    "'''\n",
    "cursor.execute(sql)\n",
    "print(get_header(cursor))\n",
    "print(get_results(cursor))"
   ]
  },
  {
   "cell_type": "markdown",
   "metadata": {},
   "source": [
    "<br>\n",
    "\n",
    "#### `DROP TABLE` - statement - removes a table (permanently)"
   ]
  },
  {
   "cell_type": "code",
   "execution_count": null,
   "metadata": {},
   "outputs": [],
   "source": [
    "sql = '''\n",
    "DROP TABLE IF EXISTS go_bp_ALT;\n",
    "'''\n",
    "cursor.execute(sql)\n",
    "connection.commit()"
   ]
  },
  {
   "cell_type": "code",
   "execution_count": null,
   "metadata": {},
   "outputs": [],
   "source": [
    "sql = '''\n",
    "SELECT name AS \"TABLE NAME\"\n",
    "FROM sqlite_master \n",
    "WHERE name LIKE \"go_bp%\";\n",
    "'''\n",
    "cursor.execute(sql)\n",
    "print(get_header(cursor))\n",
    "print(get_results(cursor))"
   ]
  },
  {
   "cell_type": "markdown",
   "metadata": {},
   "source": [
    "#### VIEW in a database\n",
    "\n",
    "* A view is a virtual table which can be created from a query on existing tables\n",
    "* Views are created to give a more human readable version of the normalized data / tables\n",
    "* http://www.sqlitetutorial.net/sqlite-create-view/\n",
    "* An SQLite view is read only"
   ]
  },
  {
   "cell_type": "markdown",
   "metadata": {},
   "source": [
    "```sql\n",
    "CREATE [TEMP] VIEW [IF NOT EXISTS] view_name(column-name-list) AS    \n",
    "select-statement;\n",
    "```"
   ]
  },
  {
   "cell_type": "code",
   "execution_count": null,
   "metadata": {},
   "outputs": [],
   "source": [
    "# gene go information for easy access\n",
    "sql = '''\n",
    "CREATE VIEW IF NOT EXISTS gene_go_info (symbol, go_id, evidence) AS\n",
    "SELECT symbol, go_id, evidence\n",
    "FROM gene_info AS gi\n",
    "INNER JOIN go_bp AS go\n",
    "ON gi._id == go._id\n",
    "WHERE evidence IN (\"EXP\",\"IDA\") ;\n",
    "'''\n",
    "cursor.execute(sql)\n",
    "connection.commit()"
   ]
  },
  {
   "cell_type": "code",
   "execution_count": null,
   "metadata": {},
   "outputs": [],
   "source": [
    "# gene go information \n",
    "sql = '''\n",
    "SELECT *\n",
    "FROM gene_go_info\n",
    "LIMIT 10;\n",
    "'''\n",
    "cursor.execute(sql)\n",
    "print(get_header(cursor))\n",
    "print(get_results(cursor))"
   ]
  },
  {
   "cell_type": "markdown",
   "metadata": {},
   "source": [
    "```sql\n",
    "DROP VIEW [IF EXISTS] view_name;\n",
    "```"
   ]
  },
  {
   "cell_type": "code",
   "execution_count": null,
   "metadata": {},
   "outputs": [],
   "source": [
    "# gene go information for easy access\n",
    "sql = '''\n",
    "DROP VIEW IF EXISTS gene_go_info;\n",
    "'''\n",
    "cursor.execute(sql)\n",
    "connection.commit()"
   ]
  },
  {
   "cell_type": "code",
   "execution_count": null,
   "metadata": {},
   "outputs": [],
   "source": [
    "# And close()\n",
    "\n",
    "cursor.close()\n",
    "connection.close() "
   ]
  },
  {
   "cell_type": "markdown",
   "metadata": {},
   "source": [
    "#### To remove the database, delete the .sqlite file."
   ]
  },
  {
   "cell_type": "code",
   "execution_count": null,
   "metadata": {},
   "outputs": [],
   "source": []
  }
 ],
 "metadata": {
  "kernelspec": {
   "display_name": "Python 3",
   "language": "python",
   "name": "python3"
  },
  "language_info": {
   "codemirror_mode": {
    "name": "ipython",
    "version": 3
   },
   "file_extension": ".py",
   "mimetype": "text/x-python",
   "name": "python",
   "nbconvert_exporter": "python",
   "pygments_lexer": "ipython3",
   "version": "3.7.3"
  }
 },
 "nbformat": 4,
 "nbformat_minor": 2
}
