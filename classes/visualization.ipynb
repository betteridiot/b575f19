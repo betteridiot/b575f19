{
 "cells": [
  {
   "cell_type": "markdown",
   "metadata": {},
   "source": [
    "### Data Visualization"
   ]
  },
  {
   "cell_type": "markdown",
   "metadata": {},
   "source": [
    "#### `matplotlib` - from the documentation:\n",
    "https://matplotlib.org/3.1.1/tutorials/introductory/pyplot.html\n",
    "\n",
    "`matplotlib.pyplot` is a collection of command style functions that make matplotlib work like MATLAB. <br>\n",
    "Each pyplot function makes some change to a figure: e.g., creates a figure, creates a plotting area in a figure, plots some lines in a plotting area, decorates the plot with labels, etc.\n",
    "\n",
    "In `matplotlib.pyplot` various states are preserved across function calls, so that it keeps track of things like the current figure and plotting area, and the plotting functions are directed to the current axes.<br>\n",
    "\"axes\" in most places in the documentation refers to the axes part of a figure and not the strict mathematical term for more than one axis)."
   ]
  },
  {
   "cell_type": "code",
   "execution_count": null,
   "metadata": {},
   "outputs": [],
   "source": [
    "%matplotlib inline\n",
    "import matplotlib.pyplot as plt"
   ]
  },
  {
   "cell_type": "markdown",
   "metadata": {},
   "source": [
    "Call signatures::\n",
    "```\n",
    "    plot([x], y, [fmt], data=None, **kwargs)\n",
    "    plot([x], y, [fmt], [x2], y2, [fmt2], ..., **kwargs)\n",
    "```"
   ]
  },
  {
   "cell_type": "markdown",
   "metadata": {},
   "source": [
    "Quick plot"
   ]
  },
  {
   "cell_type": "markdown",
   "metadata": {},
   "source": [
    "The main usage of `plt` is the `plot()` and `show()` functions"
   ]
  },
  {
   "cell_type": "code",
   "execution_count": null,
   "metadata": {},
   "outputs": [],
   "source": [
    "plt.plot()\n",
    "plt.show()"
   ]
  },
  {
   "cell_type": "markdown",
   "metadata": {},
   "source": [
    "List"
   ]
  },
  {
   "cell_type": "code",
   "execution_count": null,
   "metadata": {},
   "outputs": [],
   "source": [
    "plt.plot([8, 24, 27, 42])\n",
    "plt.ylabel('numbers')\n",
    "plt.show()"
   ]
  },
  {
   "cell_type": "code",
   "execution_count": null,
   "metadata": {},
   "outputs": [],
   "source": [
    "# Plot the two lists, add axes labels\n",
    "x=[4,5,6,7]\n",
    "y=[2,5,1,7]\n",
    "\n"
   ]
  },
  {
   "cell_type": "markdown",
   "metadata": {},
   "source": [
    "`matplotlib` can use *format strings* to quickly declare the type of plots you want. Here are *some* of those formats:\n",
    "\n",
    "|**Character**|**Description**|\n",
    "|:-----------:|:--------------|\n",
    "|'--'|Dashed line|\n",
    "|':'|Dotted line|\n",
    "|'o'|Circle marker|\n",
    "|'^'|Upwards triangle marker|\n",
    "|'b'|Blue|\n",
    "|'c'|Cyan|\n",
    "|'g'|Green|"
   ]
  },
  {
   "cell_type": "code",
   "execution_count": null,
   "metadata": {},
   "outputs": [],
   "source": [
    "plt.plot([3, 4, 9, 20], 'gs')\n",
    "plt.axis([-1, 4, 0, 22])\n",
    "plt.show()"
   ]
  },
  {
   "cell_type": "code",
   "execution_count": null,
   "metadata": {},
   "outputs": [],
   "source": [
    "plt.plot([3, 4, 9, 20], 'b^--', linewidth=2, markersize=12)\n",
    "plt.show()"
   ]
  },
  {
   "cell_type": "code",
   "execution_count": null,
   "metadata": {},
   "outputs": [],
   "source": [
    "plt.plot([3, 4, 9, 20], color='blue', marker='^', linestyle='dashed', linewidth=2, markersize=12)\n",
    "plt.show()"
   ]
  },
  {
   "cell_type": "code",
   "execution_count": null,
   "metadata": {},
   "outputs": [],
   "source": [
    "# Plot a list with 10 numbers with a magenta dotted line and circles for points.\n",
    "\n"
   ]
  },
  {
   "cell_type": "code",
   "execution_count": null,
   "metadata": {},
   "outputs": [],
   "source": [
    "import numpy as np\n",
    "\n",
    "# evenly sampled time \n",
    "time = np.arange(0, 7, 0.3)\n",
    "# gene expression\n",
    "ge = np.arange(1, 8, 0.3)\n",
    "\n",
    "# red dashes, blue squares and green triangles\n",
    "plt.plot(time, ge, 'r--', time, ge**2, 'bs', time, ge**3, 'g^')\n",
    "plt.show()"
   ]
  },
  {
   "cell_type": "markdown",
   "metadata": {},
   "source": [
    "linestyle or ls\t[ '-' | '--' | '-.' | ':' | "
   ]
  },
  {
   "cell_type": "code",
   "execution_count": null,
   "metadata": {},
   "outputs": [],
   "source": [
    "lines = plt.plot([1, 2, 3])\n",
    "plt.setp(lines)"
   ]
  },
  {
   "cell_type": "code",
   "execution_count": null,
   "metadata": {},
   "outputs": [],
   "source": [
    "names = ['A', 'B', 'C', 'D']\n",
    "values = [7, 20, 33, 44]\n",
    "values1 = np.random.rand(100)\n",
    "\n",
    "plt.figure(figsize=(9, 3))\n",
    "\n",
    "plt.subplot(131)\n",
    "plt.bar(names, values)\n",
    "plt.subplot(132)\n",
    "plt.scatter(names, values)\n",
    "plt.subplot(133)\n",
    "plt.hist(values1)\n",
    "plt.suptitle('Categorical Plotting')\n",
    "plt.show()"
   ]
  },
  {
   "cell_type": "code",
   "execution_count": null,
   "metadata": {},
   "outputs": [],
   "source": [
    "import pandas as pd"
   ]
  },
  {
   "cell_type": "code",
   "execution_count": null,
   "metadata": {},
   "outputs": [],
   "source": [
    "df_iris = pd.read_csv('https://raw.githubusercontent.com/uiuc-cse/data-fa14/gh-pages/data/iris.csv')\n",
    "df_iris.head()"
   ]
  },
  {
   "cell_type": "code",
   "execution_count": null,
   "metadata": {},
   "outputs": [],
   "source": [
    "x1 = df_iris.petal_length\n",
    "y1 = df_iris.petal_width\n",
    "\n",
    "x2 = df_iris.sepal_length\n",
    "y2 = df_iris.sepal_width\n",
    "\n",
    "plt.plot(x1, y1, 'g^', x2, y2, 'bs')\n",
    "plt.show()"
   ]
  },
  {
   "cell_type": "markdown",
   "metadata": {},
   "source": [
    "#### Histogram"
   ]
  },
  {
   "cell_type": "code",
   "execution_count": null,
   "metadata": {},
   "outputs": [],
   "source": [
    "help(plt.hist)"
   ]
  },
  {
   "cell_type": "code",
   "execution_count": null,
   "metadata": {},
   "outputs": [],
   "source": [
    "n, bins, patches = plt.hist(df_iris.petal_length, bins=20,facecolor='#8303A2', alpha=0.8, rwidth=.8, align='mid')\n",
    "\n",
    "# Add a title\n",
    "plt.title('Iris dataset petal length')\n",
    "\n",
    "# Add y axis label\n",
    "plt.ylabel('number of plants')"
   ]
  },
  {
   "cell_type": "markdown",
   "metadata": {},
   "source": [
    "#### Boxplot"
   ]
  },
  {
   "cell_type": "code",
   "execution_count": null,
   "metadata": {},
   "outputs": [],
   "source": [
    "help(plt.boxplot)"
   ]
  },
  {
   "cell_type": "code",
   "execution_count": null,
   "metadata": {},
   "outputs": [],
   "source": [
    "plt.boxplot(df_iris.petal_length)\n",
    "\n",
    "# Add a title\n",
    "plt.title('Iris dataset petal length')\n",
    "\n",
    "# Add y axis label\n",
    "plt.ylabel('petal length')"
   ]
  },
  {
   "cell_type": "markdown",
   "metadata": {},
   "source": [
    "The biggest issue with `matplotlib` isn't its lack of power...it is that it is too much power. With great power, comes great responsibility. When you are quickly exploring data, you don't want to have to fiddle around with axis limits, colors, figure sizes, etc. Yes, you *can* make good figures with `matplotlib`, but you probably won't."
   ]
  },
  {
   "cell_type": "markdown",
   "metadata": {},
   "source": [
    "https://python-graph-gallery.com/matplotlib/"
   ]
  },
  {
   "cell_type": "markdown",
   "metadata": {},
   "source": [
    "Pandas works off of `matplotlib` by default. You can easily start visualizing dataframs and series just by a simple command."
   ]
  },
  {
   "cell_type": "markdown",
   "metadata": {},
   "source": [
    "#### Using pandas `.plot()`"
   ]
  },
  {
   "cell_type": "markdown",
   "metadata": {},
   "source": [
    "Pandas abstracts some of those initial issues with data visualization. However, it is still a `matplotlib` plot</br></br>\n",
    "Every plot that is returned from `pandas` is subject to `matplotlib` modification."
   ]
  },
  {
   "cell_type": "code",
   "execution_count": null,
   "metadata": {},
   "outputs": [],
   "source": [
    "df_iris.plot.box()\n",
    "plt.show()"
   ]
  },
  {
   "cell_type": "code",
   "execution_count": null,
   "metadata": {},
   "outputs": [],
   "source": [
    "# Plot the histogram of the petal lengths\n",
    "# Plot the histograms of all 4 numerical characteristics in a plot\n",
    "\n",
    "\n"
   ]
  },
  {
   "cell_type": "code",
   "execution_count": null,
   "metadata": {},
   "outputs": [],
   "source": [
    "df_iris.groupby(\"species\")['petal_length'].mean().plot(kind='bar')\n",
    "plt.show()"
   ]
  },
  {
   "cell_type": "code",
   "execution_count": null,
   "metadata": {},
   "outputs": [],
   "source": [
    "df_iris.plot(x='petal_length', y='petal_width', kind = \"scatter\")\n",
    "plt.savefig('output.png')"
   ]
  },
  {
   "cell_type": "code",
   "execution_count": null,
   "metadata": {},
   "outputs": [],
   "source": [
    "plt.savefig('output.png')"
   ]
  },
  {
   "cell_type": "markdown",
   "metadata": {},
   "source": [
    "https://github.com/pandas-dev/pandas/blob/v0.25.0/pandas/plotting/_core.py#L504-L1533"
   ]
  },
  {
   "cell_type": "markdown",
   "metadata": {},
   "source": [
    "#### Multiple Plots"
   ]
  },
  {
   "cell_type": "code",
   "execution_count": null,
   "metadata": {},
   "outputs": [],
   "source": [
    "df_iris.petal_length.plot(kind='density')\n",
    "df_iris.sepal_length.plot(kind='density')\n",
    "df_iris.petal_width.plot(kind='density')"
   ]
  },
  {
   "cell_type": "markdown",
   "metadata": {},
   "source": [
    "`matplotlib` allows users to define the regions of their plotting canvas. If the user intends to create a canvas with multiple plots, they would use the `subplot()` function. The `subplot` function sets the number of rows and columns the canvas will have **AND** sets the current index of where the next subplot will be rendered."
   ]
  },
  {
   "cell_type": "code",
   "execution_count": null,
   "metadata": {},
   "outputs": [],
   "source": [
    "plt.figure(1)\n",
    "# Plot all three columns from df in different subplots\n",
    "# Rows first index (top-left)\n",
    "plt.subplot(3, 1, 1)\n",
    "df_iris.petal_length.plot(kind='density')\n",
    "plt.subplot(3, 1, 2)\n",
    "df_iris.sepal_length.plot(kind='density')\n",
    "plt.subplot(3, 1, 3)\n",
    "df_iris.petal_width.plot(kind='density')\n",
    "# Some plot configuration\n",
    "plt.subplots_adjust(top=.92, bottom=.08, left=.1, right=.95, hspace=.25, wspace=.35)\n",
    "plt.show()"
   ]
  },
  {
   "cell_type": "code",
   "execution_count": null,
   "metadata": {},
   "outputs": [],
   "source": [
    "# Temporary styles\n",
    "with plt.style.context(('ggplot')):\n",
    "    plt.figure(1)\n",
    "\n",
    "    # Plot all three columns from df in different subplots\n",
    "    # Rows first index (top-left)\n",
    "    plt.subplot(3, 1, 1)\n",
    "    df_iris.petal_length.plot(kind='density')\n",
    "    plt.subplot(3, 1, 2)\n",
    "    df_iris.sepal_length.plot(kind='density')\n",
    "    plt.subplot(3, 1, 3)\n",
    "    df_iris.petal_width.plot(kind='density')\n",
    "    # Some plot configuration\n",
    "    plt.subplots_adjust(top=.92, bottom=.08, left=.1, right=.95, hspace=.25, wspace=.35)\n",
    "    plt.show()"
   ]
  },
  {
   "cell_type": "code",
   "execution_count": null,
   "metadata": {},
   "outputs": [],
   "source": [
    "# Plot the histograms of the petal length and width and sepal length and width \n",
    "# Display them on the columns of a figure with 2X2 subplots\n",
    "# color them red, green, blue and yellow, respectivelly  \n",
    "\n"
   ]
  },
  {
   "cell_type": "code",
   "execution_count": null,
   "metadata": {},
   "outputs": [],
   "source": []
  },
  {
   "cell_type": "markdown",
   "metadata": {},
   "source": [
    "### `seaborn` - dataset-oriented plotting"
   ]
  },
  {
   "cell_type": "markdown",
   "metadata": {},
   "source": [
    "Seaborn is a library that specializes in making *prettier* `matplotlib` plots of statistical data. <br>\n",
    "It is built on top of matplotlib and closely integrated with pandas data structures.\n",
    "\n",
    "https://seaborn.pydata.org/introduction.html<br>\n",
    "https://python-graph-gallery.com/seaborn/"
   ]
  },
  {
   "cell_type": "code",
   "execution_count": null,
   "metadata": {},
   "outputs": [],
   "source": [
    "import seaborn as sns"
   ]
  },
  {
   "cell_type": "markdown",
   "metadata": {},
   "source": [
    "`seaborn` lets users *style* their plotting environment."
   ]
  },
  {
   "cell_type": "code",
   "execution_count": null,
   "metadata": {},
   "outputs": [],
   "source": [
    "sns.set(style='whitegrid')"
   ]
  },
  {
   "cell_type": "markdown",
   "metadata": {},
   "source": [
    "However, you can always use `matplotlib`'s `plt.style`"
   ]
  },
  {
   "cell_type": "code",
   "execution_count": null,
   "metadata": {},
   "outputs": [],
   "source": [
    "#dir(sns)"
   ]
  },
  {
   "cell_type": "code",
   "execution_count": null,
   "metadata": {},
   "outputs": [],
   "source": [
    "sns.scatterplot(x='petal_length',y='petal_width',data=df_iris)\n",
    "plt.show()"
   ]
  },
  {
   "cell_type": "code",
   "execution_count": null,
   "metadata": {},
   "outputs": [],
   "source": [
    "sns.scatterplot(x='petal_length',y='petal_width', hue = \"species\",data=df_iris)\n",
    "plt.show()"
   ]
  },
  {
   "cell_type": "markdown",
   "metadata": {},
   "source": [
    "#### Violin plot"
   ]
  },
  {
   "cell_type": "markdown",
   "metadata": {},
   "source": [
    "Fancier box plot that gets rid of the need for 'jitter' to show the inherent distribution of the data points"
   ]
  },
  {
   "cell_type": "code",
   "execution_count": null,
   "metadata": {},
   "outputs": [],
   "source": [
    "columns = ['petal_length', 'petal_width', 'sepal_length']\n",
    "\n",
    "fig, axes = plt.subplots(figsize=(10, 10))\n",
    "sns.violinplot(data=df_iris.loc[:,columns], ax=axes)\n",
    "axes.set_ylabel('number')\n",
    "axes.set_xlabel('columns', )\n",
    "plt.show()"
   ]
  },
  {
   "cell_type": "markdown",
   "metadata": {},
   "source": [
    "#### Distplot"
   ]
  },
  {
   "cell_type": "code",
   "execution_count": null,
   "metadata": {},
   "outputs": [],
   "source": [
    "sns.set(style='darkgrid', palette='muted')\n",
    "\n",
    "# 1 row, 3 columns\n",
    "f, axes = plt.subplots(4,1, figsize=(10,10), sharex=True)\n",
    "sns.despine(left=True)\n",
    "\n",
    "# Regular displot\n",
    "sns.distplot(df_iris.petal_length, ax=axes[0])\n",
    "\n",
    "# Change the color\n",
    "sns.distplot(df_iris.petal_width, kde=False, ax=axes[1], color='orange')\n",
    "\n",
    "# Show the Kernel density estimate\n",
    "sns.distplot(df_iris.sepal_width, hist=False, kde_kws={'shade':True}, ax=axes[2], color='purple')\n",
    "\n",
    "# Show the rug\n",
    "sns.distplot(df_iris.sepal_length, hist=False, rug=True, ax=axes[3], color='green')"
   ]
  },
  {
   "cell_type": "markdown",
   "metadata": {},
   "source": [
    "#### FacetGrid"
   ]
  },
  {
   "cell_type": "code",
   "execution_count": null,
   "metadata": {},
   "outputs": [],
   "source": [
    "sns.set()\n",
    "columns = ['species', 'petal_length', 'petal_width']\n",
    "facet_column = 'species'\n",
    "g = sns.FacetGrid(df_iris.loc[:,columns], col=facet_column, hue=facet_column, col_wrap=5)\n",
    "g.map(plt.scatter, 'petal_length', 'petal_width')"
   ]
  },
  {
   "cell_type": "code",
   "execution_count": null,
   "metadata": {},
   "outputs": [],
   "source": [
    "sns.relplot(x=\"petal_length\", y=\"petal_width\", col=\"species\",\n",
    "            hue=\"species\", style=\"species\", size=\"species\",\n",
    "            data=df_iris)\n",
    "plt.show()"
   ]
  },
  {
   "cell_type": "markdown",
   "metadata": {},
   "source": [
    "https://jakevdp.github.io/PythonDataScienceHandbook/04.14-visualization-with-seaborn.html"
   ]
  },
  {
   "cell_type": "markdown",
   "metadata": {},
   "source": [
    "### `plotnine` - R ggplot2 in python"
   ]
  },
  {
   "cell_type": "markdown",
   "metadata": {},
   "source": [
    "plotnine is an implementation of a grammar of graphics in Python, it is based on ggplot2. The grammar allows users to compose plots by explicitly mapping data to the visual objects that make up the plot.\n",
    "\n",
    "Plotting with a grammar is powerful, it makes custom (and otherwise complex) plots are easy to think about and then create, while the simple plots remain simple.\n",
    "\n"
   ]
  },
  {
   "cell_type": "code",
   "execution_count": null,
   "metadata": {},
   "outputs": [],
   "source": [
    "!pip install plotnine"
   ]
  },
  {
   "cell_type": "markdown",
   "metadata": {},
   "source": [
    "https://plotnine.readthedocs.io/en/stable/"
   ]
  },
  {
   "cell_type": "code",
   "execution_count": null,
   "metadata": {},
   "outputs": [],
   "source": [
    "from plotnine import *"
   ]
  },
  {
   "cell_type": "code",
   "execution_count": null,
   "metadata": {},
   "outputs": [],
   "source": [
    "ggplot(data=df_iris) + aes(x=\"petal_length\", y = \"petal_width\") + geom_point()"
   ]
  },
  {
   "cell_type": "code",
   "execution_count": null,
   "metadata": {},
   "outputs": [],
   "source": [
    "# add transparency - to avoid over plotting\n",
    "ggplot(data=df_iris) + aes(x=\"petal_length\", y = \"petal_width\") + geom_point(alpha=0.7)"
   ]
  },
  {
   "cell_type": "code",
   "execution_count": null,
   "metadata": {},
   "outputs": [],
   "source": [
    "# change point size \n",
    "ggplot(data=df_iris) + aes(x=\"petal_length\", y = \"petal_width\") + geom_point(size = 0.7, alpha=0.7)"
   ]
  },
  {
   "cell_type": "code",
   "execution_count": null,
   "metadata": {},
   "outputs": [],
   "source": [
    "# more parameters \n",
    "ggplot(data=df_iris) + aes(x=\"petal_length\", y = \"petal_width\") + geom_point() + scale_x_log10() + xlab(\"Petal Length\")"
   ]
  },
  {
   "cell_type": "code",
   "execution_count": null,
   "metadata": {},
   "outputs": [],
   "source": [
    "n = \"3\"\n",
    "ft = \"length and width\"\n",
    "title = 'species : %s, petal : %s' % (n,ft)\n",
    "\n",
    "ggplot(data=df_iris) +aes(x='petal_length',y='petal_width',color=\"species\") + geom_point(size=0.7,alpha=0.7) + facet_wrap('~species',nrow=3) + theme(figure_size=(9,5)) + ggtitle(title)\n"
   ]
  },
  {
   "cell_type": "code",
   "execution_count": null,
   "metadata": {},
   "outputs": [],
   "source": [
    "p = ggplot(data=df_iris) + aes(x='petal_length') + geom_histogram(binwidth=1,color='black',fill='grey')\n",
    "p"
   ]
  },
  {
   "cell_type": "code",
   "execution_count": null,
   "metadata": {},
   "outputs": [],
   "source": [
    "ggsave(plot=p, filename='hist_plot_with_plotnine.png')"
   ]
  },
  {
   "cell_type": "markdown",
   "metadata": {},
   "source": [
    "http://cmdlinetips.com/2018/05/plotnine-a-python-library-to-use-ggplot2-in-python/ <br>\n",
    "https://www.rstudio.com/wp-content/uploads/2015/03/ggplot2-cheatsheet.pdf"
   ]
  },
  {
   "cell_type": "markdown",
   "metadata": {},
   "source": [
    "<img src = \"https://www.rstudio.com/wp-content/uploads/2015/03/ggplot2-cheatsheet.pdf\" width = \"1000\"/>"
   ]
  },
  {
   "cell_type": "markdown",
   "metadata": {},
   "source": [
    "Use ggplot to plot the sepal_length in boxplots separated by species, add new axes labels and make the y axis values log10.\n",
    "\n",
    "* Write a function that takes as a parameter a line of the dataframe and if the species is \n",
    "** setosa it returns the petal_length\n",
    "** versicolor it returns the petal_width\n",
    "** virginica it returns the sepal_length\n",
    "\n",
    "Apply this function to every line in the dataset in a for loop and save the result in an array\n",
    "Use ggplot to make a histogram of the values"
   ]
  },
  {
   "cell_type": "code",
   "execution_count": null,
   "metadata": {},
   "outputs": [],
   "source": []
  },
  {
   "cell_type": "code",
   "execution_count": null,
   "metadata": {},
   "outputs": [],
   "source": []
  }
 ],
 "metadata": {
  "kernelspec": {
   "display_name": "Python 3",
   "language": "python",
   "name": "python3"
  },
  "language_info": {
   "codemirror_mode": {
    "name": "ipython",
    "version": 3
   },
   "file_extension": ".py",
   "mimetype": "text/x-python",
   "name": "python",
   "nbconvert_exporter": "python",
   "pygments_lexer": "ipython3",
   "version": "3.7.3"
  }
 },
 "nbformat": 4,
 "nbformat_minor": 2
}
